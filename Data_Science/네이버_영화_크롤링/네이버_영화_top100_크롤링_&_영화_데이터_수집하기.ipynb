{
  "nbformat": 4,
  "nbformat_minor": 0,
  "metadata": {
    "colab": {
      "name": "네이버 영화 top100 크롤링 & 영화  데이터 수집하기.ipynb",
      "provenance": [],
      "collapsed_sections": []
    },
    "kernelspec": {
      "name": "python3",
      "display_name": "Python 3"
    },
    "language_info": {
      "name": "python"
    }
  },
  "cells": [
    {
      "cell_type": "markdown",
      "metadata": {
        "id": "C2hsJ2BnjWoT"
      },
      "source": [
        "네이버 영화 top 100 크롤링 순서\n",
        "1. 네이버 영화 페이지별 링크 수집\n",
        "2. 수집된 영화 링크에 접속하여 영화정보 크롤링\n",
        "3. 데이터 분석에 필요한 csv파일로 저장"
      ]
    },
    {
      "cell_type": "markdown",
      "metadata": {
        "id": "tqh9teEMnPvz"
      },
      "source": [
        "실시간 top100 시각화</br>\n",
        "일간 top100 시각화</br>\n",
        "주간 top100 시각화</br>\n",
        "월간 top100 시각화"
      ]
    },
    {
      "cell_type": "code",
      "metadata": {
        "colab": {
          "base_uri": "https://localhost:8080/"
        },
        "id": "uQ1WLAyukSZb",
        "outputId": "49d076cc-c17e-453e-e4c1-292ddc7f17e3"
      },
      "source": [
        "# 링크 수집을 위한 라이브러리 설치\n",
        "!pip install selenium"
      ],
      "execution_count": 3,
      "outputs": [
        {
          "output_type": "stream",
          "text": [
            "Collecting selenium\n",
            "\u001b[?25l  Downloading https://files.pythonhosted.org/packages/80/d6/4294f0b4bce4de0abf13e17190289f9d0613b0a44e5dd6a7f5ca98459853/selenium-3.141.0-py2.py3-none-any.whl (904kB)\n",
            "\u001b[K     |████████████████████████████████| 911kB 6.7MB/s \n",
            "\u001b[?25hRequirement already satisfied: urllib3 in /usr/local/lib/python3.7/dist-packages (from selenium) (1.24.3)\n",
            "Installing collected packages: selenium\n",
            "Successfully installed selenium-3.141.0\n"
          ],
          "name": "stdout"
        }
      ]
    },
    {
      "cell_type": "code",
      "metadata": {
        "id": "0PkyGa71nuQ9"
      },
      "source": [
        "from bs4 import BeautifulSoup\n",
        "import requests\n",
        "from selenium import  webdriver as wd\n",
        "from selenium.webdriver.common.keys import Keys\n",
        "import time\n",
        "import re\n",
        "import pandas as pd\n"
      ],
      "execution_count": 4,
      "outputs": []
    },
    {
      "cell_type": "code",
      "metadata": {
        "colab": {
          "base_uri": "https://localhost:8080/"
        },
        "id": "v_f9JnfnoHW0",
        "outputId": "3382525f-1149-4036-a1be-6303edda558e"
      },
      "source": [
        "# 웹드라이버 설치로 오류 방지할 수 있음\n",
        "# install chromium, its driver, and selenium\n",
        "!apt-get update\n",
        "!apt install chromium-chromedriver\n",
        "!cp /usr/lib/chromium-browser/chromedriver /usr/bin\n",
        "!pip install selenium\n",
        "# set options to be headless, ..\n",
        "from selenium import webdriver\n",
        "options = webdriver.ChromeOptions()\n",
        "options.add_argument('--headless')\n",
        "options.add_argument('--no-sandbox')\n",
        "options.add_argument('--disable-dev-shm-usage')\n",
        "\n",
        "driver = webdriver.Chrome('chromedriver',options=options)\n"
      ],
      "execution_count": 5,
      "outputs": [
        {
          "output_type": "stream",
          "text": [
            "Get:1 http://security.ubuntu.com/ubuntu bionic-security InRelease [88.7 kB]\n",
            "Hit:2 https://cloud.r-project.org/bin/linux/ubuntu bionic-cran40/ InRelease\n",
            "Ign:3 https://developer.download.nvidia.com/compute/cuda/repos/ubuntu1804/x86_64  InRelease\n",
            "Hit:4 http://archive.ubuntu.com/ubuntu bionic InRelease\n",
            "Hit:5 http://ppa.launchpad.net/c2d4u.team/c2d4u4.0+/ubuntu bionic InRelease\n",
            "Ign:6 https://developer.download.nvidia.com/compute/machine-learning/repos/ubuntu1804/x86_64  InRelease\n",
            "Get:7 https://developer.download.nvidia.com/compute/cuda/repos/ubuntu1804/x86_64  Release [697 B]\n",
            "Hit:8 https://developer.download.nvidia.com/compute/machine-learning/repos/ubuntu1804/x86_64  Release\n",
            "Get:9 https://developer.download.nvidia.com/compute/cuda/repos/ubuntu1804/x86_64  Release.gpg [836 B]\n",
            "Get:10 http://archive.ubuntu.com/ubuntu bionic-updates InRelease [88.7 kB]\n",
            "Hit:11 http://ppa.launchpad.net/cran/libgit2/ubuntu bionic InRelease\n",
            "Get:12 http://security.ubuntu.com/ubuntu bionic-security/main amd64 Packages [2,219 kB]\n",
            "Get:13 http://ppa.launchpad.net/deadsnakes/ppa/ubuntu bionic InRelease [15.9 kB]\n",
            "Get:14 http://archive.ubuntu.com/ubuntu bionic-backports InRelease [74.6 kB]\n",
            "Get:15 http://security.ubuntu.com/ubuntu bionic-security/restricted amd64 Packages [473 kB]\n",
            "Get:16 http://security.ubuntu.com/ubuntu bionic-security/universe amd64 Packages [1,418 kB]\n",
            "Get:17 http://ppa.launchpad.net/graphics-drivers/ppa/ubuntu bionic InRelease [21.3 kB]\n",
            "Ign:19 https://developer.download.nvidia.com/compute/cuda/repos/ubuntu1804/x86_64  Packages\n",
            "Get:19 https://developer.download.nvidia.com/compute/cuda/repos/ubuntu1804/x86_64  Packages [599 kB]\n",
            "Get:20 http://archive.ubuntu.com/ubuntu bionic-updates/main amd64 Packages [2,652 kB]\n",
            "Get:21 http://ppa.launchpad.net/deadsnakes/ppa/ubuntu bionic/main amd64 Packages [40.9 kB]\n",
            "Get:22 http://archive.ubuntu.com/ubuntu bionic-updates/restricted amd64 Packages [505 kB]\n",
            "Get:23 http://archive.ubuntu.com/ubuntu bionic-updates/universe amd64 Packages [2,188 kB]\n",
            "Get:24 http://ppa.launchpad.net/graphics-drivers/ppa/ubuntu bionic/main amd64 Packages [41.5 kB]\n",
            "Fetched 10.4 MB in 3s (3,174 kB/s)\n",
            "Reading package lists... Done\n",
            "Reading package lists... Done\n",
            "Building dependency tree       \n",
            "Reading state information... Done\n",
            "The following additional packages will be installed:\n",
            "  chromium-browser chromium-browser-l10n chromium-codecs-ffmpeg-extra\n",
            "Suggested packages:\n",
            "  webaccounts-chromium-extension unity-chromium-extension\n",
            "The following NEW packages will be installed:\n",
            "  chromium-browser chromium-browser-l10n chromium-chromedriver\n",
            "  chromium-codecs-ffmpeg-extra\n",
            "0 upgraded, 4 newly installed, 0 to remove and 70 not upgraded.\n",
            "Need to get 86.0 MB of archives.\n",
            "After this operation, 298 MB of additional disk space will be used.\n",
            "Get:1 http://archive.ubuntu.com/ubuntu bionic-updates/universe amd64 chromium-codecs-ffmpeg-extra amd64 91.0.4472.101-0ubuntu0.18.04.1 [1,124 kB]\n",
            "Get:2 http://archive.ubuntu.com/ubuntu bionic-updates/universe amd64 chromium-browser amd64 91.0.4472.101-0ubuntu0.18.04.1 [76.1 MB]\n",
            "Get:3 http://archive.ubuntu.com/ubuntu bionic-updates/universe amd64 chromium-browser-l10n all 91.0.4472.101-0ubuntu0.18.04.1 [3,937 kB]\n",
            "Get:4 http://archive.ubuntu.com/ubuntu bionic-updates/universe amd64 chromium-chromedriver amd64 91.0.4472.101-0ubuntu0.18.04.1 [4,837 kB]\n",
            "Fetched 86.0 MB in 4s (23.5 MB/s)\n",
            "Selecting previously unselected package chromium-codecs-ffmpeg-extra.\n",
            "(Reading database ... 160772 files and directories currently installed.)\n",
            "Preparing to unpack .../chromium-codecs-ffmpeg-extra_91.0.4472.101-0ubuntu0.18.04.1_amd64.deb ...\n",
            "Unpacking chromium-codecs-ffmpeg-extra (91.0.4472.101-0ubuntu0.18.04.1) ...\n",
            "Selecting previously unselected package chromium-browser.\n",
            "Preparing to unpack .../chromium-browser_91.0.4472.101-0ubuntu0.18.04.1_amd64.deb ...\n",
            "Unpacking chromium-browser (91.0.4472.101-0ubuntu0.18.04.1) ...\n",
            "Selecting previously unselected package chromium-browser-l10n.\n",
            "Preparing to unpack .../chromium-browser-l10n_91.0.4472.101-0ubuntu0.18.04.1_all.deb ...\n",
            "Unpacking chromium-browser-l10n (91.0.4472.101-0ubuntu0.18.04.1) ...\n",
            "Selecting previously unselected package chromium-chromedriver.\n",
            "Preparing to unpack .../chromium-chromedriver_91.0.4472.101-0ubuntu0.18.04.1_amd64.deb ...\n",
            "Unpacking chromium-chromedriver (91.0.4472.101-0ubuntu0.18.04.1) ...\n",
            "Setting up chromium-codecs-ffmpeg-extra (91.0.4472.101-0ubuntu0.18.04.1) ...\n",
            "Setting up chromium-browser (91.0.4472.101-0ubuntu0.18.04.1) ...\n",
            "update-alternatives: using /usr/bin/chromium-browser to provide /usr/bin/x-www-browser (x-www-browser) in auto mode\n",
            "update-alternatives: using /usr/bin/chromium-browser to provide /usr/bin/gnome-www-browser (gnome-www-browser) in auto mode\n",
            "Setting up chromium-chromedriver (91.0.4472.101-0ubuntu0.18.04.1) ...\n",
            "Setting up chromium-browser-l10n (91.0.4472.101-0ubuntu0.18.04.1) ...\n",
            "Processing triggers for man-db (2.8.3-2ubuntu0.1) ...\n",
            "Processing triggers for hicolor-icon-theme (0.17-2) ...\n",
            "Processing triggers for mime-support (3.60ubuntu1) ...\n",
            "Processing triggers for libc-bin (2.27-3ubuntu1.2) ...\n",
            "/sbin/ldconfig.real: /usr/local/lib/python3.7/dist-packages/ideep4py/lib/libmkldnn.so.0 is not a symbolic link\n",
            "\n",
            "cp: '/usr/lib/chromium-browser/chromedriver' and '/usr/bin/chromedriver' are the same file\n",
            "Requirement already satisfied: selenium in /usr/local/lib/python3.7/dist-packages (3.141.0)\n",
            "Requirement already satisfied: urllib3 in /usr/local/lib/python3.7/dist-packages (from selenium) (1.24.3)\n"
          ],
          "name": "stdout"
        }
      ]
    },
    {
      "cell_type": "markdown",
      "metadata": {
        "id": "4bDwieySrzoV"
      },
      "source": [
        "분석할 데이터 모으기(크롤링)\n",
        "* 네이버 영화 top100 페이지 별 링크 수집"
      ]
    },
    {
      "cell_type": "code",
      "metadata": {
        "id": "ou-fQOk9obdL"
      },
      "source": [
        "# https://serieson.naver.com/movie/top100List.nhn?&rankingTypeCode=PC_R&page= 실시간\n",
        "# https://serieson.naver.com/movie/top100List.nhn?&rankingTypeCode=PC_D&page= 일간\n",
        "# https://serieson.naver.com/movie/top100List.nhn?&rankingTypeCode=PC_W&page= 주간\n",
        "# https://serieson.naver.com/movie/top100List.nhn?&rankingTypeCode=PC_M&page= 월간\n",
        "\n",
        "def getPageLinksWantRange(startPageNo, LastPageNo) :\n",
        "  links = [] # 100개의 영화 링크를 수집할 리스트 변수 선언\n",
        "  \n",
        "  for pageNo in range(startPageNo - 1, LastPageNo) :\n",
        "    # 실시간 top100 영화 링크 수집\n",
        "    url = 'https://serieson.naver.com/movie/top100List.nhn?&rankingTypeCode=PC_M&page=' + str(pageNo + 1)\n",
        "\n",
        "    req = requests.get(url) # 페이지로 접속하기 // 페이지 소스를 싹 가져옴\n",
        "    soup = BeautifulSoup(req.text, 'lxml') # 가져온 html을 파싱을 하기 위한 객체를 생성함\n",
        "    movielinks = soup.select('div.lst_thum_wrap ul li a[href]') #<div class=\"lst_thum_wrap\"> -> <ul> -> <li> -> <a href =\"\">\n",
        "\n",
        "\n",
        "    for movielink in movielinks:\n",
        "      link = str(movielink.get('href'))\n",
        "      links.append('http://series.naver.com' + link) # 접속할 수 있는 전체 링크 형태로 변환해서 append함\n",
        "\n",
        "  return links\n",
        "\n",
        "\n",
        "\n"
      ],
      "execution_count": 20,
      "outputs": []
    },
    {
      "cell_type": "code",
      "metadata": {
        "colab": {
          "base_uri": "https://localhost:8080/"
        },
        "id": "RFxDitJ6QpXc",
        "outputId": "a406e7ba-81e6-492e-c9e1-b0a1002376c2"
      },
      "source": [
        "a = getPageLinksWantRange(1, 5)\n",
        "print(a)"
      ],
      "execution_count": 21,
      "outputs": [
        {
          "output_type": "stream",
          "text": [
            "['http://series.naver.com/movie/detail.nhn?productNo=6119777', 'http://series.naver.com/movie/detail.nhn?productNo=6176165', 'http://series.naver.com/movie/detail.nhn?productNo=6158879', 'http://series.naver.com/movie/detail.nhn?productNo=6098871', 'http://series.naver.com/movie/detail.nhn?productNo=6023769', 'http://series.naver.com/movie/detail.nhn?productNo=6139377', 'http://series.naver.com/movie/detail.nhn?productNo=6139375', 'http://series.naver.com/movie/detail.nhn?productNo=6119778', 'http://series.naver.com/movie/detail.nhn?productNo=4356726', 'http://series.naver.com/movie/detail.nhn?productNo=6176518', 'http://series.naver.com/movie/detail.nhn?productNo=3293948', 'http://series.naver.com/movie/detail.nhn?productNo=6039515', 'http://series.naver.com/movie/detail.nhn?productNo=6176542', 'http://series.naver.com/movie/detail.nhn?productNo=1965132', 'http://series.naver.com/movie/detail.nhn?productNo=1808511', 'http://series.naver.com/movie/detail.nhn?productNo=6176166', 'http://series.naver.com/movie/detail.nhn?productNo=2747742', 'http://series.naver.com/movie/detail.nhn?productNo=4475562', 'http://series.naver.com/movie/detail.nhn?productNo=5751044', 'http://series.naver.com/movie/detail.nhn?productNo=5843892', 'http://series.naver.com/movie/detail.nhn?productNo=2822635', 'http://series.naver.com/movie/detail.nhn?productNo=6176543', 'http://series.naver.com/movie/detail.nhn?productNo=5607754', 'http://series.naver.com/movie/detail.nhn?productNo=1729987', 'http://series.naver.com/movie/detail.nhn?productNo=4579842', 'http://series.naver.com/movie/detail.nhn?productNo=2790610', 'http://series.naver.com/movie/detail.nhn?productNo=1373317', 'http://series.naver.com/movie/detail.nhn?productNo=552985', 'http://series.naver.com/movie/detail.nhn?productNo=6189997', 'http://series.naver.com/movie/detail.nhn?productNo=5009512', 'http://series.naver.com/movie/detail.nhn?productNo=4465876', 'http://series.naver.com/movie/detail.nhn?productNo=1781025', 'http://series.naver.com/movie/detail.nhn?productNo=4508244', 'http://series.naver.com/movie/detail.nhn?productNo=6147667', 'http://series.naver.com/movie/detail.nhn?productNo=1049059', 'http://series.naver.com/movie/detail.nhn?productNo=1126516', 'http://series.naver.com/movie/detail.nhn?productNo=2968150', 'http://series.naver.com/movie/detail.nhn?productNo=3400212', 'http://series.naver.com/movie/detail.nhn?productNo=2166247', 'http://series.naver.com/movie/detail.nhn?productNo=977821', 'http://series.naver.com/movie/detail.nhn?productNo=6189996', 'http://series.naver.com/movie/detail.nhn?productNo=3318482', 'http://series.naver.com/movie/detail.nhn?productNo=6143439', 'http://series.naver.com/movie/detail.nhn?productNo=6139376', 'http://series.naver.com/movie/detail.nhn?productNo=3100069', 'http://series.naver.com/movie/detail.nhn?productNo=2441904', 'http://series.naver.com/movie/detail.nhn?productNo=1537164', 'http://series.naver.com/movie/detail.nhn?productNo=4695510', 'http://series.naver.com/movie/detail.nhn?productNo=585441', 'http://series.naver.com/movie/detail.nhn?productNo=3448644', 'http://series.naver.com/movie/detail.nhn?productNo=2787777', 'http://series.naver.com/movie/detail.nhn?productNo=3744353', 'http://series.naver.com/movie/detail.nhn?productNo=1775085', 'http://series.naver.com/movie/detail.nhn?productNo=3532815', 'http://series.naver.com/movie/detail.nhn?productNo=5778853', 'http://series.naver.com/movie/detail.nhn?productNo=3593762', 'http://series.naver.com/movie/detail.nhn?productNo=1798015', 'http://series.naver.com/movie/detail.nhn?productNo=3843473', 'http://series.naver.com/movie/detail.nhn?productNo=977825', 'http://series.naver.com/movie/detail.nhn?productNo=3241116', 'http://series.naver.com/movie/detail.nhn?productNo=6112492', 'http://series.naver.com/movie/detail.nhn?productNo=5110441', 'http://series.naver.com/movie/detail.nhn?productNo=5156470', 'http://series.naver.com/movie/detail.nhn?productNo=2686058', 'http://series.naver.com/movie/detail.nhn?productNo=1798013', 'http://series.naver.com/movie/detail.nhn?productNo=6158864', 'http://series.naver.com/movie/detail.nhn?productNo=2909332', 'http://series.naver.com/movie/detail.nhn?productNo=412868', 'http://series.naver.com/movie/detail.nhn?productNo=6210977', 'http://series.naver.com/movie/detail.nhn?productNo=3946722', 'http://series.naver.com/movie/detail.nhn?productNo=6225301', 'http://series.naver.com/movie/detail.nhn?productNo=5482161', 'http://series.naver.com/movie/detail.nhn?productNo=1849600', 'http://series.naver.com/movie/detail.nhn?productNo=2284790', 'http://series.naver.com/movie/detail.nhn?productNo=4406203', 'http://series.naver.com/movie/detail.nhn?productNo=3478547', 'http://series.naver.com/movie/detail.nhn?productNo=5023130', 'http://series.naver.com/movie/detail.nhn?productNo=4581368', 'http://series.naver.com/movie/detail.nhn?productNo=4021296', 'http://series.naver.com/movie/detail.nhn?productNo=1405968', 'http://series.naver.com/movie/detail.nhn?productNo=2133611', 'http://series.naver.com/movie/detail.nhn?productNo=4821120', 'http://series.naver.com/movie/detail.nhn?productNo=2015025', 'http://series.naver.com/movie/detail.nhn?productNo=1605628', 'http://series.naver.com/movie/detail.nhn?productNo=2118078', 'http://series.naver.com/movie/detail.nhn?productNo=3241117', 'http://series.naver.com/movie/detail.nhn?productNo=6063434', 'http://series.naver.com/movie/detail.nhn?productNo=6147086', 'http://series.naver.com/movie/detail.nhn?productNo=5404435', 'http://series.naver.com/movie/detail.nhn?productNo=1787179', 'http://series.naver.com/movie/detail.nhn?productNo=3262026', 'http://series.naver.com/movie/detail.nhn?productNo=3285301', 'http://series.naver.com/movie/detail.nhn?productNo=442567', 'http://series.naver.com/movie/detail.nhn?productNo=3239240', 'http://series.naver.com/movie/detail.nhn?productNo=2956707', 'http://series.naver.com/movie/detail.nhn?productNo=4821119', 'http://series.naver.com/movie/detail.nhn?productNo=1402314', 'http://series.naver.com/movie/detail.nhn?productNo=475495', 'http://series.naver.com/movie/detail.nhn?productNo=412869', 'http://series.naver.com/movie/detail.nhn?productNo=5991457']\n"
          ],
          "name": "stdout"
        }
      ]
    },
    {
      "cell_type": "markdown",
      "metadata": {
        "id": "Zd-kozoWyij8"
      },
      "source": [
        "네이버 영화제목, 평점, 장르, 줄거리 크롤링"
      ]
    },
    {
      "cell_type": "code",
      "metadata": {
        "id": "QPXKd8cVym3E"
      },
      "source": [
        "def getMovieDataFromNaverSeries(links):\n",
        "  title_infos = [] # 제목\n",
        "  content_infos = [] # 줄거리\n",
        "  genre_infos = [] # 장르\n",
        "  score_infos = [] # 평점\n",
        "  date_infos = [] # 개봉일\n",
        "\n",
        "  url2 = 'https://www.naver.com'\n",
        "\n",
        "  driver = webdriver.Chrome('chromedriver', options=options)\n",
        "  driver.get(url2)\n",
        "  time.sleep(3.0) # 3초 sleep\n",
        "\n",
        "  driver.find_element_by_css_selector('body').send_keys(Keys.CONTROL + 't')\n",
        "\n",
        "  for link in links:\n",
        "    print(link + '수집 중...........')\n",
        "    driver.switch_to.window(driver.window_handles[-1]) # 새 창 활성화\n",
        "    time.sleep(0.1)\n",
        "    driver.get(link)\n",
        "    time.sleep(0.1)\n",
        "    driver.switch_to.window(driver.window_handles[0])\n",
        "    time.sleep(3.0)\n",
        "\n",
        "    html_source = driver.page_source # req.text 같은 동작\n",
        "    html_soup = BeautifulSoup(html_source, 'lxml')\n",
        "\n",
        "    # 청소년 관람불가 영화 크롤링을 할 경우 - 인증 - 수집에서 제외함\n",
        "    flag = html_soup.text[0:10]\n",
        "\n",
        "    newflag = ''.join(flag)\n",
        "    newflag = newflag.replace('\\n', '')\n",
        "\n",
        "    if newflag == '네이버' :\n",
        "      time.sleep(1.0)\n",
        "\n",
        "      # 평점 수집\n",
        "      score = driver.find_element_by_css_selector('div.score_area > em')\n",
        "      score = float(score.text)\n",
        "      score = int(score) # 정수형으로 변경하기\n",
        "      score_infos.append(score)\n",
        "      print(score)\n",
        "\n",
        "      # 장르 수집\n",
        "      genre = driver.find_element_by_css_selector('li.info_lst > ul > li:nth-child(4)').get_attribute('textContent')\n",
        "      genre = genre.replace('장르', '')\n",
        "      genre = genre.replace('\\n', '')\n",
        "      genre = genre.replace('\\t', '')\n",
        "      genre_infos.append(genre)\n",
        "\n",
        "      # 제목, 줄거리\n",
        "\n",
        "      try:\n",
        "        movieInfoUrl =  driver.find_element_by_css_selector('li.info_lst > ul > li:nth-child(7) > a').get_attribute('href')\n",
        "      except:\n",
        "        movieInfoUrl =  driver.find_element_by_css_selector('li.info_lst > ul > li:nth-child(6) > a').get_attribute('href')\n",
        "\n",
        "      # 영화 상세보기 페이지로 이동함\n",
        "      movie_req = requests.get(movieInfoUrl)\n",
        "\n",
        "\n",
        "      # 제목 수집\n",
        "      movie_soup = BeautifulSoup(movie_req.text, 'lxml')\n",
        "      title = movie_soup.head.find('meta', {'property' : 'og:title'}).get('content')\n",
        "      title_infos.append(title)\n",
        "\n",
        "      # 줄거리 수집\n",
        "      contents_texts = movie_soup.select('div.story_area > p.con_tx')\n",
        "\n",
        "      if len(contents_texts) == 0:\n",
        "        content_infos.append('줄거리 오류')\n",
        "\n",
        "      else:\n",
        "        for contents in contents_texts :\n",
        "          # 줄거리 데이터 클렌징 작업\n",
        "          temp = contents.text\n",
        "          temp = temp.replace('\\r', '') # 줄바꿈 제거\n",
        "          temp = temp.replace('\\xa0', '') # 공백 제거\n",
        "          content_infos.append(temp)\n",
        "\n",
        "    elif newflag == '':\n",
        "      print('청불 영화로 데이터를 수집하지 않습니다.')\n",
        "\n",
        "  print('수집을 완료합니다..........')\n",
        "  print(len(score_infos), len(genre_infos), len(content_infos))\n",
        "  driver.close()\n",
        "\n",
        "  movie_dic = {'제목' : title_infos, '평점' : score_infos, '장르' : genre_infos, '줄거리' : content_infos}\n",
        "\n",
        "    # 딕셔너리 -> DataFrame\n",
        "  movie_df = pd.DataFrame(movie_dic)\n",
        "\n",
        "    # 수집된 정보 중에 중복 데이터 삭제\n",
        "  movie_df2 = movie_df.drop_duplicates('줄거리', keep = 'first')\n",
        "\n",
        "  return movie_df2 \n",
        "\n",
        "\n",
        "      \n"
      ],
      "execution_count": 22,
      "outputs": []
    },
    {
      "cell_type": "markdown",
      "metadata": {
        "id": "mIhrfMv0KmAQ"
      },
      "source": [
        "CSV 파일로 저장"
      ]
    },
    {
      "cell_type": "code",
      "metadata": {
        "id": "W44-7aMlFTob"
      },
      "source": [
        "def dftoCsv(movie_df, num):\n",
        "  try:\n",
        "    movie_df.to_csv(('movie_my_data_' + str(num) + '.csv'),\n",
        "                    sep=',' , na_rep='NaN', encoding='euc-kr')\n",
        "  except:\n",
        "    print('Error')"
      ],
      "execution_count": 23,
      "outputs": []
    },
    {
      "cell_type": "markdown",
      "metadata": {
        "id": "1J4TllauLbMn"
      },
      "source": [
        "크롤링 실행"
      ]
    },
    {
      "cell_type": "code",
      "metadata": {
        "colab": {
          "base_uri": "https://localhost:8080/"
        },
        "id": "lQShv6BALcQA",
        "outputId": "032bd135-f39a-4968-a633-60ee5d9639d8"
      },
      "source": [
        "# 1. 크롤링할 링크 수집하기\n",
        "\n",
        "links = getPageLinksWantRange(1, 5)\n",
        "\n",
        "# 2. 영화 상세 정보 수집하기\n",
        "movie_df2 = getMovieDataFromNaverSeries(links)\n",
        "\n",
        "# 3. csv 파일 저장\n",
        "dftoCsv(movie_df2, len(movie_df2))"
      ],
      "execution_count": 24,
      "outputs": [
        {
          "output_type": "stream",
          "text": [
            "http://series.naver.com/movie/detail.nhn?productNo=6119777수집 중...........\n",
            "7\n",
            "http://series.naver.com/movie/detail.nhn?productNo=6176165수집 중...........\n",
            "8\n",
            "http://series.naver.com/movie/detail.nhn?productNo=6158879수집 중...........\n",
            "9\n",
            "http://series.naver.com/movie/detail.nhn?productNo=6098871수집 중...........\n",
            "9\n",
            "http://series.naver.com/movie/detail.nhn?productNo=6023769수집 중...........\n",
            "9\n",
            "http://series.naver.com/movie/detail.nhn?productNo=6139377수집 중...........\n",
            "8\n",
            "http://series.naver.com/movie/detail.nhn?productNo=6139375수집 중...........\n",
            "9\n",
            "http://series.naver.com/movie/detail.nhn?productNo=6119778수집 중...........\n",
            "7\n",
            "http://series.naver.com/movie/detail.nhn?productNo=4356726수집 중...........\n",
            "9\n",
            "http://series.naver.com/movie/detail.nhn?productNo=6176518수집 중...........\n",
            "청불 영화로 데이터를 수집하지 않습니다.\n",
            "http://series.naver.com/movie/detail.nhn?productNo=3293948수집 중...........\n",
            "청불 영화로 데이터를 수집하지 않습니다.\n",
            "http://series.naver.com/movie/detail.nhn?productNo=6039515수집 중...........\n",
            "0\n",
            "http://series.naver.com/movie/detail.nhn?productNo=6176542수집 중...........\n",
            "8\n",
            "http://series.naver.com/movie/detail.nhn?productNo=1965132수집 중...........\n",
            "청불 영화로 데이터를 수집하지 않습니다.\n",
            "http://series.naver.com/movie/detail.nhn?productNo=1808511수집 중...........\n",
            "9\n",
            "http://series.naver.com/movie/detail.nhn?productNo=6176166수집 중...........\n",
            "8\n",
            "http://series.naver.com/movie/detail.nhn?productNo=2747742수집 중...........\n",
            "8\n",
            "http://series.naver.com/movie/detail.nhn?productNo=4475562수집 중...........\n",
            "7\n",
            "http://series.naver.com/movie/detail.nhn?productNo=5751044수집 중...........\n",
            "8\n",
            "http://series.naver.com/movie/detail.nhn?productNo=5843892수집 중...........\n",
            "8\n",
            "http://series.naver.com/movie/detail.nhn?productNo=2822635수집 중...........\n",
            "청불 영화로 데이터를 수집하지 않습니다.\n",
            "http://series.naver.com/movie/detail.nhn?productNo=6176543수집 중...........\n",
            "8\n",
            "http://series.naver.com/movie/detail.nhn?productNo=5607754수집 중...........\n",
            "8\n",
            "http://series.naver.com/movie/detail.nhn?productNo=1729987수집 중...........\n",
            "청불 영화로 데이터를 수집하지 않습니다.\n",
            "http://series.naver.com/movie/detail.nhn?productNo=4579842수집 중...........\n",
            "8\n",
            "http://series.naver.com/movie/detail.nhn?productNo=2790610수집 중...........\n",
            "8\n",
            "http://series.naver.com/movie/detail.nhn?productNo=1373317수집 중...........\n",
            "청불 영화로 데이터를 수집하지 않습니다.\n",
            "http://series.naver.com/movie/detail.nhn?productNo=552985수집 중...........\n",
            "청불 영화로 데이터를 수집하지 않습니다.\n",
            "http://series.naver.com/movie/detail.nhn?productNo=6189997수집 중...........\n",
            "7\n",
            "http://series.naver.com/movie/detail.nhn?productNo=5009512수집 중...........\n",
            "8\n",
            "http://series.naver.com/movie/detail.nhn?productNo=4465876수집 중...........\n",
            "7\n",
            "http://series.naver.com/movie/detail.nhn?productNo=1781025수집 중...........\n",
            "9\n",
            "http://series.naver.com/movie/detail.nhn?productNo=4508244수집 중...........\n",
            "9\n",
            "http://series.naver.com/movie/detail.nhn?productNo=6147667수집 중...........\n",
            "8\n",
            "http://series.naver.com/movie/detail.nhn?productNo=1049059수집 중...........\n",
            "8\n",
            "http://series.naver.com/movie/detail.nhn?productNo=1126516수집 중...........\n",
            "8\n",
            "http://series.naver.com/movie/detail.nhn?productNo=2968150수집 중...........\n",
            "청불 영화로 데이터를 수집하지 않습니다.\n",
            "http://series.naver.com/movie/detail.nhn?productNo=3400212수집 중...........\n",
            "7\n",
            "http://series.naver.com/movie/detail.nhn?productNo=2166247수집 중...........\n",
            "청불 영화로 데이터를 수집하지 않습니다.\n",
            "http://series.naver.com/movie/detail.nhn?productNo=977821수집 중...........\n",
            "8\n",
            "http://series.naver.com/movie/detail.nhn?productNo=6189996수집 중...........\n",
            "7\n",
            "http://series.naver.com/movie/detail.nhn?productNo=3318482수집 중...........\n",
            "청불 영화로 데이터를 수집하지 않습니다.\n",
            "http://series.naver.com/movie/detail.nhn?productNo=6143439수집 중...........\n",
            "9\n",
            "http://series.naver.com/movie/detail.nhn?productNo=6139376수집 중...........\n",
            "9\n",
            "http://series.naver.com/movie/detail.nhn?productNo=3100069수집 중...........\n",
            "9\n",
            "http://series.naver.com/movie/detail.nhn?productNo=2441904수집 중...........\n",
            "8\n",
            "http://series.naver.com/movie/detail.nhn?productNo=1537164수집 중...........\n",
            "청불 영화로 데이터를 수집하지 않습니다.\n",
            "http://series.naver.com/movie/detail.nhn?productNo=4695510수집 중...........\n",
            "청불 영화로 데이터를 수집하지 않습니다.\n",
            "http://series.naver.com/movie/detail.nhn?productNo=585441수집 중...........\n",
            "9\n",
            "http://series.naver.com/movie/detail.nhn?productNo=3448644수집 중...........\n",
            "8\n",
            "http://series.naver.com/movie/detail.nhn?productNo=2787777수집 중...........\n",
            "청불 영화로 데이터를 수집하지 않습니다.\n",
            "http://series.naver.com/movie/detail.nhn?productNo=3744353수집 중...........\n",
            "9\n",
            "http://series.naver.com/movie/detail.nhn?productNo=1775085수집 중...........\n",
            "청불 영화로 데이터를 수집하지 않습니다.\n",
            "http://series.naver.com/movie/detail.nhn?productNo=3532815수집 중...........\n",
            "8\n",
            "http://series.naver.com/movie/detail.nhn?productNo=5778853수집 중...........\n",
            "7\n",
            "http://series.naver.com/movie/detail.nhn?productNo=3593762수집 중...........\n",
            "8\n",
            "http://series.naver.com/movie/detail.nhn?productNo=1798015수집 중...........\n",
            "7\n",
            "http://series.naver.com/movie/detail.nhn?productNo=3843473수집 중...........\n",
            "7\n",
            "http://series.naver.com/movie/detail.nhn?productNo=977825수집 중...........\n",
            "8\n",
            "http://series.naver.com/movie/detail.nhn?productNo=3241116수집 중...........\n",
            "9\n",
            "http://series.naver.com/movie/detail.nhn?productNo=6112492수집 중...........\n",
            "0\n",
            "http://series.naver.com/movie/detail.nhn?productNo=5110441수집 중...........\n",
            "청불 영화로 데이터를 수집하지 않습니다.\n",
            "http://series.naver.com/movie/detail.nhn?productNo=5156470수집 중...........\n",
            "8\n",
            "http://series.naver.com/movie/detail.nhn?productNo=2686058수집 중...........\n",
            "청불 영화로 데이터를 수집하지 않습니다.\n",
            "http://series.naver.com/movie/detail.nhn?productNo=1798013수집 중...........\n",
            "8\n",
            "http://series.naver.com/movie/detail.nhn?productNo=6158864수집 중...........\n",
            "0\n",
            "http://series.naver.com/movie/detail.nhn?productNo=2909332수집 중...........\n",
            "8\n",
            "http://series.naver.com/movie/detail.nhn?productNo=412868수집 중...........\n",
            "9\n",
            "http://series.naver.com/movie/detail.nhn?productNo=6210977수집 중...........\n",
            "9\n",
            "http://series.naver.com/movie/detail.nhn?productNo=3946722수집 중...........\n",
            "청불 영화로 데이터를 수집하지 않습니다.\n",
            "http://series.naver.com/movie/detail.nhn?productNo=6225301수집 중...........\n",
            "6\n",
            "http://series.naver.com/movie/detail.nhn?productNo=5482161수집 중...........\n",
            "7\n",
            "http://series.naver.com/movie/detail.nhn?productNo=1849600수집 중...........\n",
            "청불 영화로 데이터를 수집하지 않습니다.\n",
            "http://series.naver.com/movie/detail.nhn?productNo=2284790수집 중...........\n",
            "8\n",
            "http://series.naver.com/movie/detail.nhn?productNo=4406203수집 중...........\n",
            "청불 영화로 데이터를 수집하지 않습니다.\n",
            "http://series.naver.com/movie/detail.nhn?productNo=3478547수집 중...........\n",
            "9\n",
            "http://series.naver.com/movie/detail.nhn?productNo=5023130수집 중...........\n",
            "청불 영화로 데이터를 수집하지 않습니다.\n",
            "http://series.naver.com/movie/detail.nhn?productNo=4581368수집 중...........\n",
            "청불 영화로 데이터를 수집하지 않습니다.\n",
            "http://series.naver.com/movie/detail.nhn?productNo=4021296수집 중...........\n",
            "9\n",
            "http://series.naver.com/movie/detail.nhn?productNo=1405968수집 중...........\n",
            "청불 영화로 데이터를 수집하지 않습니다.\n",
            "http://series.naver.com/movie/detail.nhn?productNo=2133611수집 중...........\n",
            "8\n",
            "http://series.naver.com/movie/detail.nhn?productNo=4821120수집 중...........\n",
            "8\n",
            "http://series.naver.com/movie/detail.nhn?productNo=2015025수집 중...........\n",
            "9\n",
            "http://series.naver.com/movie/detail.nhn?productNo=1605628수집 중...........\n",
            "8\n",
            "http://series.naver.com/movie/detail.nhn?productNo=2118078수집 중...........\n",
            "4\n",
            "http://series.naver.com/movie/detail.nhn?productNo=3241117수집 중...........\n",
            "9\n",
            "http://series.naver.com/movie/detail.nhn?productNo=6063434수집 중...........\n",
            "7\n",
            "http://series.naver.com/movie/detail.nhn?productNo=6147086수집 중...........\n",
            "8\n",
            "http://series.naver.com/movie/detail.nhn?productNo=5404435수집 중...........\n",
            "9\n",
            "http://series.naver.com/movie/detail.nhn?productNo=1787179수집 중...........\n",
            "9\n",
            "http://series.naver.com/movie/detail.nhn?productNo=3262026수집 중...........\n",
            "9\n",
            "http://series.naver.com/movie/detail.nhn?productNo=3285301수집 중...........\n",
            "7\n",
            "http://series.naver.com/movie/detail.nhn?productNo=442567수집 중...........\n",
            "6\n",
            "http://series.naver.com/movie/detail.nhn?productNo=3239240수집 중...........\n",
            "9\n",
            "http://series.naver.com/movie/detail.nhn?productNo=2956707수집 중...........\n",
            "청불 영화로 데이터를 수집하지 않습니다.\n",
            "http://series.naver.com/movie/detail.nhn?productNo=4821119수집 중...........\n",
            "8\n",
            "http://series.naver.com/movie/detail.nhn?productNo=1402314수집 중...........\n",
            "9\n",
            "http://series.naver.com/movie/detail.nhn?productNo=475495수집 중...........\n",
            "8\n",
            "http://series.naver.com/movie/detail.nhn?productNo=412869수집 중...........\n",
            "8\n",
            "http://series.naver.com/movie/detail.nhn?productNo=5991457수집 중...........\n",
            "5\n",
            "수집을 완료합니다..........\n",
            "77 77 77\n"
          ],
          "name": "stdout"
        }
      ]
    },
    {
      "cell_type": "code",
      "metadata": {
        "id": "KpTZsj2a4SO7"
      },
      "source": [
        ""
      ],
      "execution_count": null,
      "outputs": []
    }
  ]
}