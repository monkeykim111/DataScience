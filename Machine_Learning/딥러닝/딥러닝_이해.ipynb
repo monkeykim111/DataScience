{
 "metadata": {
  "language_info": {
   "codemirror_mode": {
    "name": "ipython",
    "version": 3
   },
   "file_extension": ".py",
   "mimetype": "text/x-python",
   "name": "python",
   "nbconvert_exporter": "python",
   "pygments_lexer": "ipython3",
   "version": "3.8.10"
  },
  "orig_nbformat": 4,
  "kernelspec": {
   "name": "python3",
   "display_name": "Python 3.8.10 64-bit ('Hongik_Bigdata': conda)"
  },
  "interpreter": {
   "hash": "896e62d530b143cb98895d800d73741d47857b791f29dee60fa6256477ac3a98"
  }
 },
 "nbformat": 4,
 "nbformat_minor": 2,
 "cells": [
  {
   "cell_type": "code",
   "execution_count": 9,
   "metadata": {},
   "outputs": [],
   "source": [
    "import pandas as pd\n",
    "import numpy as np\n",
    "import tensorflow as tf\n",
    "import matplotlib.pyplot as plt\n",
    "%matplotlib inline\n",
    "\n",
    "import seaborn as sns\n",
    "sns.set(style='darkgrid')"
   ]
  },
  {
   "cell_type": "code",
   "execution_count": 10,
   "metadata": {},
   "outputs": [
    {
     "output_type": "execute_result",
     "data": {
      "text/plain": [
       "   price  maint doors persons lug_capacity safety output\n",
       "0  vhigh  vhigh     2       2        small    low  unacc\n",
       "1  vhigh  vhigh     2       2        small    med  unacc\n",
       "2  vhigh  vhigh     2       2        small   high  unacc\n",
       "3  vhigh  vhigh     2       2          med    low  unacc\n",
       "4  vhigh  vhigh     2       2          med    med  unacc"
      ],
      "text/html": "<div>\n<style scoped>\n    .dataframe tbody tr th:only-of-type {\n        vertical-align: middle;\n    }\n\n    .dataframe tbody tr th {\n        vertical-align: top;\n    }\n\n    .dataframe thead th {\n        text-align: right;\n    }\n</style>\n<table border=\"1\" class=\"dataframe\">\n  <thead>\n    <tr style=\"text-align: right;\">\n      <th></th>\n      <th>price</th>\n      <th>maint</th>\n      <th>doors</th>\n      <th>persons</th>\n      <th>lug_capacity</th>\n      <th>safety</th>\n      <th>output</th>\n    </tr>\n  </thead>\n  <tbody>\n    <tr>\n      <th>0</th>\n      <td>vhigh</td>\n      <td>vhigh</td>\n      <td>2</td>\n      <td>2</td>\n      <td>small</td>\n      <td>low</td>\n      <td>unacc</td>\n    </tr>\n    <tr>\n      <th>1</th>\n      <td>vhigh</td>\n      <td>vhigh</td>\n      <td>2</td>\n      <td>2</td>\n      <td>small</td>\n      <td>med</td>\n      <td>unacc</td>\n    </tr>\n    <tr>\n      <th>2</th>\n      <td>vhigh</td>\n      <td>vhigh</td>\n      <td>2</td>\n      <td>2</td>\n      <td>small</td>\n      <td>high</td>\n      <td>unacc</td>\n    </tr>\n    <tr>\n      <th>3</th>\n      <td>vhigh</td>\n      <td>vhigh</td>\n      <td>2</td>\n      <td>2</td>\n      <td>med</td>\n      <td>low</td>\n      <td>unacc</td>\n    </tr>\n    <tr>\n      <th>4</th>\n      <td>vhigh</td>\n      <td>vhigh</td>\n      <td>2</td>\n      <td>2</td>\n      <td>med</td>\n      <td>med</td>\n      <td>unacc</td>\n    </tr>\n  </tbody>\n</table>\n</div>"
     },
     "metadata": {},
     "execution_count": 10
    }
   ],
   "source": [
    "cols = ['price', 'maint', 'doors', 'persons', 'lug_capacity', 'safety', 'output']\n",
    "cars = pd.read_csv('C:\\works\\hong_big\\car_evaluation.csv', names=cols, header=None)\n",
    "cars.head()"
   ]
  },
  {
   "cell_type": "code",
   "execution_count": 11,
   "metadata": {},
   "outputs": [
    {
     "output_type": "execute_result",
     "data": {
      "text/plain": [
       "<AxesSubplot:ylabel='output'>"
      ]
     },
     "metadata": {},
     "execution_count": 11
    },
    {
     "output_type": "display_data",
     "data": {
      "text/plain": "<Figure size 576x432 with 1 Axes>",
      "image/svg+xml": "<?xml version=\"1.0\" encoding=\"utf-8\" standalone=\"no\"?>\r\n<!DOCTYPE svg PUBLIC \"-//W3C//DTD SVG 1.1//EN\"\r\n  \"http://www.w3.org/Graphics/SVG/1.1/DTD/svg11.dtd\">\r\n<svg height=\"340.56pt\" version=\"1.1\" viewBox=\"0 0 371.409715 340.56\" width=\"371.409715pt\" xmlns=\"http://www.w3.org/2000/svg\" xmlns:xlink=\"http://www.w3.org/1999/xlink\">\r\n <metadata>\r\n  <rdf:RDF xmlns:cc=\"http://creativecommons.org/ns#\" xmlns:dc=\"http://purl.org/dc/elements/1.1/\" xmlns:rdf=\"http://www.w3.org/1999/02/22-rdf-syntax-ns#\">\r\n   <cc:Work>\r\n    <dc:type rdf:resource=\"http://purl.org/dc/dcmitype/StillImage\"/>\r\n    <dc:date>2021-07-13T16:52:40.179913</dc:date>\r\n    <dc:format>image/svg+xml</dc:format>\r\n    <dc:creator>\r\n     <cc:Agent>\r\n      <dc:title>Matplotlib v3.4.2, https://matplotlib.org/</dc:title>\r\n     </cc:Agent>\r\n    </dc:creator>\r\n   </cc:Work>\r\n  </rdf:RDF>\r\n </metadata>\r\n <defs>\r\n  <style type=\"text/css\">*{stroke-linecap:butt;stroke-linejoin:round;}</style>\r\n </defs>\r\n <g id=\"figure_1\">\r\n  <g id=\"patch_1\">\r\n   <path d=\"M 0 340.56 \r\nL 371.409715 340.56 \r\nL 371.409715 0 \r\nL 0 0 \r\nz\r\n\" style=\"fill:#ffffff;\"/>\r\n  </g>\r\n  <g id=\"axes_1\">\r\n   <g id=\"matplotlib.axis_1\"/>\r\n   <g id=\"matplotlib.axis_2\">\r\n    <g id=\"text_1\">\r\n     <!-- output -->\r\n     <g style=\"fill:#262626;\" transform=\"translate(15.789375 186.96)rotate(-90)scale(0.12 -0.12)\">\r\n      <defs>\r\n       <path d=\"M 213 1659 \r\nQ 213 2581 725 3025 \r\nQ 1153 3394 1769 3394 \r\nQ 2453 3394 2887 2945 \r\nQ 3322 2497 3322 1706 \r\nQ 3322 1066 3130 698 \r\nQ 2938 331 2570 128 \r\nQ 2203 -75 1769 -75 \r\nQ 1072 -75 642 372 \r\nQ 213 819 213 1659 \r\nz\r\nM 791 1659 \r\nQ 791 1022 1069 705 \r\nQ 1347 388 1769 388 \r\nQ 2188 388 2466 706 \r\nQ 2744 1025 2744 1678 \r\nQ 2744 2294 2464 2611 \r\nQ 2184 2928 1769 2928 \r\nQ 1347 2928 1069 2612 \r\nQ 791 2297 791 1659 \r\nz\r\n\" id=\"ArialMT-6f\" transform=\"scale(0.015625)\"/>\r\n       <path d=\"M 2597 0 \r\nL 2597 488 \r\nQ 2209 -75 1544 -75 \r\nQ 1250 -75 995 37 \r\nQ 741 150 617 320 \r\nQ 494 491 444 738 \r\nQ 409 903 409 1263 \r\nL 409 3319 \r\nL 972 3319 \r\nL 972 1478 \r\nQ 972 1038 1006 884 \r\nQ 1059 663 1231 536 \r\nQ 1403 409 1656 409 \r\nQ 1909 409 2131 539 \r\nQ 2353 669 2445 892 \r\nQ 2538 1116 2538 1541 \r\nL 2538 3319 \r\nL 3100 3319 \r\nL 3100 0 \r\nL 2597 0 \r\nz\r\n\" id=\"ArialMT-75\" transform=\"scale(0.015625)\"/>\r\n       <path d=\"M 1650 503 \r\nL 1731 6 \r\nQ 1494 -44 1306 -44 \r\nQ 1000 -44 831 53 \r\nQ 663 150 594 308 \r\nQ 525 466 525 972 \r\nL 525 2881 \r\nL 113 2881 \r\nL 113 3319 \r\nL 525 3319 \r\nL 525 4141 \r\nL 1084 4478 \r\nL 1084 3319 \r\nL 1650 3319 \r\nL 1650 2881 \r\nL 1084 2881 \r\nL 1084 941 \r\nQ 1084 700 1114 631 \r\nQ 1144 563 1211 522 \r\nQ 1278 481 1403 481 \r\nQ 1497 481 1650 503 \r\nz\r\n\" id=\"ArialMT-74\" transform=\"scale(0.015625)\"/>\r\n       <path d=\"M 422 -1272 \r\nL 422 3319 \r\nL 934 3319 \r\nL 934 2888 \r\nQ 1116 3141 1344 3267 \r\nQ 1572 3394 1897 3394 \r\nQ 2322 3394 2647 3175 \r\nQ 2972 2956 3137 2557 \r\nQ 3303 2159 3303 1684 \r\nQ 3303 1175 3120 767 \r\nQ 2938 359 2589 142 \r\nQ 2241 -75 1856 -75 \r\nQ 1575 -75 1351 44 \r\nQ 1128 163 984 344 \r\nL 984 -1272 \r\nL 422 -1272 \r\nz\r\nM 931 1641 \r\nQ 931 1000 1190 694 \r\nQ 1450 388 1819 388 \r\nQ 2194 388 2461 705 \r\nQ 2728 1022 2728 1688 \r\nQ 2728 2322 2467 2637 \r\nQ 2206 2953 1844 2953 \r\nQ 1484 2953 1207 2617 \r\nQ 931 2281 931 1641 \r\nz\r\n\" id=\"ArialMT-70\" transform=\"scale(0.015625)\"/>\r\n      </defs>\r\n      <use xlink:href=\"#ArialMT-6f\"/>\r\n      <use x=\"55.615234\" xlink:href=\"#ArialMT-75\"/>\r\n      <use x=\"111.230469\" xlink:href=\"#ArialMT-74\"/>\r\n      <use x=\"139.013672\" xlink:href=\"#ArialMT-70\"/>\r\n      <use x=\"194.628906\" xlink:href=\"#ArialMT-75\"/>\r\n      <use x=\"250.244141\" xlink:href=\"#ArialMT-74\"/>\r\n     </g>\r\n    </g>\r\n   </g>\r\n   <g id=\"patch_2\">\r\n    <path d=\"M 311.880297 165.00541 \r\nC 311.880297 140.939059 305.221113 117.335585 292.642748 96.817934 \r\nC 280.064384 76.300283 262.050688 59.657702 240.60344 48.739605 \r\nC 219.156193 37.821509 195.100399 33.04788 171.10927 34.94919 \r\nC 147.118141 36.8505 124.114537 45.353612 104.654742 59.513614 \r\nC 85.194948 73.673617 70.027519 92.94582 60.837941 115.188592 \r\nC 51.648364 137.431365 48.790131 161.7891 52.580866 185.555033 \r\nC 56.371601 209.320966 66.665486 231.5809 82.318609 249.86119 \r\nC 97.971731 268.14148 118.381968 281.738944 141.28122 289.142556 \r\nL 181.416297 165.00541 \r\nL 311.880297 165.00541 \r\nz\r\n\" style=\"fill:#add8e6;stroke:#ffffff;stroke-linejoin:miter;\"/>\r\n   </g>\r\n   <g id=\"patch_3\">\r\n    <path d=\"M 147.571726 300.461791 \r\nC 176.749755 309.895409 208.339891 308.74625 236.75537 297.217545 \r\nC 265.17085 285.688841 288.631633 264.502786 302.988644 237.406168 \r\nL 187.706803 176.324645 \r\nL 147.571726 300.461791 \r\nz\r\n\" style=\"fill:#90ee90;stroke:#ffffff;stroke-linejoin:miter;\"/>\r\n   </g>\r\n   <g id=\"patch_4\">\r\n    <path d=\"M 306.63713 233.670415 \r\nC 309.192102 228.848305 311.442004 223.870633 313.373572 218.766745 \r\nC 315.30514 213.662856 316.914571 208.442799 318.192379 203.137345 \r\nL 191.355289 172.588893 \r\nL 306.63713 233.670415 \r\nz\r\n\" style=\"fill:#ffa500;stroke:#ffffff;stroke-linejoin:miter;\"/>\r\n   </g>\r\n   <g id=\"patch_5\">\r\n    <path d=\"M 318.56917 201.597527 \r\nC 319.772857 196.59982 320.68011 191.535335 321.28618 186.430571 \r\nC 321.892251 181.325806 322.19608 176.18968 322.19608 171.049063 \r\nL 191.73208 171.049075 \r\nL 318.56917 201.597527 \r\nz\r\n\" style=\"fill:#ffc0cb;stroke:#ffffff;stroke-linejoin:miter;\"/>\r\n   </g>\r\n   <g id=\"text_2\">\r\n    <!-- unacc -->\r\n    <g style=\"fill:#262626;\" transform=\"translate(67.627493 51.808107)scale(0.11 -0.11)\">\r\n     <defs>\r\n      <path d=\"M 422 0 \r\nL 422 3319 \r\nL 928 3319 \r\nL 928 2847 \r\nQ 1294 3394 1984 3394 \r\nQ 2284 3394 2536 3286 \r\nQ 2788 3178 2913 3003 \r\nQ 3038 2828 3088 2588 \r\nQ 3119 2431 3119 2041 \r\nL 3119 0 \r\nL 2556 0 \r\nL 2556 2019 \r\nQ 2556 2363 2490 2533 \r\nQ 2425 2703 2258 2804 \r\nQ 2091 2906 1866 2906 \r\nQ 1506 2906 1245 2678 \r\nQ 984 2450 984 1813 \r\nL 984 0 \r\nL 422 0 \r\nz\r\n\" id=\"ArialMT-6e\" transform=\"scale(0.015625)\"/>\r\n      <path d=\"M 2588 409 \r\nQ 2275 144 1986 34 \r\nQ 1697 -75 1366 -75 \r\nQ 819 -75 525 192 \r\nQ 231 459 231 875 \r\nQ 231 1119 342 1320 \r\nQ 453 1522 633 1644 \r\nQ 813 1766 1038 1828 \r\nQ 1203 1872 1538 1913 \r\nQ 2219 1994 2541 2106 \r\nQ 2544 2222 2544 2253 \r\nQ 2544 2597 2384 2738 \r\nQ 2169 2928 1744 2928 \r\nQ 1347 2928 1158 2789 \r\nQ 969 2650 878 2297 \r\nL 328 2372 \r\nQ 403 2725 575 2942 \r\nQ 747 3159 1072 3276 \r\nQ 1397 3394 1825 3394 \r\nQ 2250 3394 2515 3294 \r\nQ 2781 3194 2906 3042 \r\nQ 3031 2891 3081 2659 \r\nQ 3109 2516 3109 2141 \r\nL 3109 1391 \r\nQ 3109 606 3145 398 \r\nQ 3181 191 3288 0 \r\nL 2700 0 \r\nQ 2613 175 2588 409 \r\nz\r\nM 2541 1666 \r\nQ 2234 1541 1622 1453 \r\nQ 1275 1403 1131 1340 \r\nQ 988 1278 909 1158 \r\nQ 831 1038 831 891 \r\nQ 831 666 1001 516 \r\nQ 1172 366 1500 366 \r\nQ 1825 366 2078 508 \r\nQ 2331 650 2450 897 \r\nQ 2541 1088 2541 1459 \r\nL 2541 1666 \r\nz\r\n\" id=\"ArialMT-61\" transform=\"scale(0.015625)\"/>\r\n      <path d=\"M 2588 1216 \r\nL 3141 1144 \r\nQ 3050 572 2676 248 \r\nQ 2303 -75 1759 -75 \r\nQ 1078 -75 664 370 \r\nQ 250 816 250 1647 \r\nQ 250 2184 428 2587 \r\nQ 606 2991 970 3192 \r\nQ 1334 3394 1763 3394 \r\nQ 2303 3394 2647 3120 \r\nQ 2991 2847 3088 2344 \r\nL 2541 2259 \r\nQ 2463 2594 2264 2762 \r\nQ 2066 2931 1784 2931 \r\nQ 1359 2931 1093 2626 \r\nQ 828 2322 828 1663 \r\nQ 828 994 1084 691 \r\nQ 1341 388 1753 388 \r\nQ 2084 388 2306 591 \r\nQ 2528 794 2588 1216 \r\nz\r\n\" id=\"ArialMT-63\" transform=\"scale(0.015625)\"/>\r\n     </defs>\r\n     <use xlink:href=\"#ArialMT-75\"/>\r\n     <use x=\"55.615234\" xlink:href=\"#ArialMT-6e\"/>\r\n     <use x=\"111.230469\" xlink:href=\"#ArialMT-61\"/>\r\n     <use x=\"166.845703\" xlink:href=\"#ArialMT-63\"/>\r\n     <use x=\"216.845703\" xlink:href=\"#ArialMT-63\"/>\r\n    </g>\r\n   </g>\r\n   <g id=\"text_3\">\r\n    <!-- 70.02315% -->\r\n    <g style=\"fill:#262626;\" transform=\"translate(105.001239 104.81252)scale(0.12 -0.12)\">\r\n     <defs>\r\n      <path d=\"M 303 3981 \r\nL 303 4522 \r\nL 3269 4522 \r\nL 3269 4084 \r\nQ 2831 3619 2401 2847 \r\nQ 1972 2075 1738 1259 \r\nQ 1569 684 1522 0 \r\nL 944 0 \r\nQ 953 541 1156 1306 \r\nQ 1359 2072 1739 2783 \r\nQ 2119 3494 2547 3981 \r\nL 303 3981 \r\nz\r\n\" id=\"ArialMT-37\" transform=\"scale(0.015625)\"/>\r\n      <path d=\"M 266 2259 \r\nQ 266 3072 433 3567 \r\nQ 600 4063 929 4331 \r\nQ 1259 4600 1759 4600 \r\nQ 2128 4600 2406 4451 \r\nQ 2684 4303 2865 4023 \r\nQ 3047 3744 3150 3342 \r\nQ 3253 2941 3253 2259 \r\nQ 3253 1453 3087 958 \r\nQ 2922 463 2592 192 \r\nQ 2263 -78 1759 -78 \r\nQ 1097 -78 719 397 \r\nQ 266 969 266 2259 \r\nz\r\nM 844 2259 \r\nQ 844 1131 1108 757 \r\nQ 1372 384 1759 384 \r\nQ 2147 384 2411 759 \r\nQ 2675 1134 2675 2259 \r\nQ 2675 3391 2411 3762 \r\nQ 2147 4134 1753 4134 \r\nQ 1366 4134 1134 3806 \r\nQ 844 3388 844 2259 \r\nz\r\n\" id=\"ArialMT-30\" transform=\"scale(0.015625)\"/>\r\n      <path d=\"M 581 0 \r\nL 581 641 \r\nL 1222 641 \r\nL 1222 0 \r\nL 581 0 \r\nz\r\n\" id=\"ArialMT-2e\" transform=\"scale(0.015625)\"/>\r\n      <path d=\"M 3222 541 \r\nL 3222 0 \r\nL 194 0 \r\nQ 188 203 259 391 \r\nQ 375 700 629 1000 \r\nQ 884 1300 1366 1694 \r\nQ 2113 2306 2375 2664 \r\nQ 2638 3022 2638 3341 \r\nQ 2638 3675 2398 3904 \r\nQ 2159 4134 1775 4134 \r\nQ 1369 4134 1125 3890 \r\nQ 881 3647 878 3216 \r\nL 300 3275 \r\nQ 359 3922 746 4261 \r\nQ 1134 4600 1788 4600 \r\nQ 2447 4600 2831 4234 \r\nQ 3216 3869 3216 3328 \r\nQ 3216 3053 3103 2787 \r\nQ 2991 2522 2730 2228 \r\nQ 2469 1934 1863 1422 \r\nQ 1356 997 1212 845 \r\nQ 1069 694 975 541 \r\nL 3222 541 \r\nz\r\n\" id=\"ArialMT-32\" transform=\"scale(0.015625)\"/>\r\n      <path d=\"M 269 1209 \r\nL 831 1284 \r\nQ 928 806 1161 595 \r\nQ 1394 384 1728 384 \r\nQ 2125 384 2398 659 \r\nQ 2672 934 2672 1341 \r\nQ 2672 1728 2419 1979 \r\nQ 2166 2231 1775 2231 \r\nQ 1616 2231 1378 2169 \r\nL 1441 2663 \r\nQ 1497 2656 1531 2656 \r\nQ 1891 2656 2178 2843 \r\nQ 2466 3031 2466 3422 \r\nQ 2466 3731 2256 3934 \r\nQ 2047 4138 1716 4138 \r\nQ 1388 4138 1169 3931 \r\nQ 950 3725 888 3313 \r\nL 325 3413 \r\nQ 428 3978 793 4289 \r\nQ 1159 4600 1703 4600 \r\nQ 2078 4600 2393 4439 \r\nQ 2709 4278 2876 4000 \r\nQ 3044 3722 3044 3409 \r\nQ 3044 3113 2884 2869 \r\nQ 2725 2625 2413 2481 \r\nQ 2819 2388 3044 2092 \r\nQ 3269 1797 3269 1353 \r\nQ 3269 753 2831 336 \r\nQ 2394 -81 1725 -81 \r\nQ 1122 -81 723 278 \r\nQ 325 638 269 1209 \r\nz\r\n\" id=\"ArialMT-33\" transform=\"scale(0.015625)\"/>\r\n      <path d=\"M 2384 0 \r\nL 1822 0 \r\nL 1822 3584 \r\nQ 1619 3391 1289 3197 \r\nQ 959 3003 697 2906 \r\nL 697 3450 \r\nQ 1169 3672 1522 3987 \r\nQ 1875 4303 2022 4600 \r\nL 2384 4600 \r\nL 2384 0 \r\nz\r\n\" id=\"ArialMT-31\" transform=\"scale(0.015625)\"/>\r\n      <path d=\"M 266 1200 \r\nL 856 1250 \r\nQ 922 819 1161 601 \r\nQ 1400 384 1738 384 \r\nQ 2144 384 2425 690 \r\nQ 2706 997 2706 1503 \r\nQ 2706 1984 2436 2262 \r\nQ 2166 2541 1728 2541 \r\nQ 1456 2541 1237 2417 \r\nQ 1019 2294 894 2097 \r\nL 366 2166 \r\nL 809 4519 \r\nL 3088 4519 \r\nL 3088 3981 \r\nL 1259 3981 \r\nL 1013 2750 \r\nQ 1425 3038 1878 3038 \r\nQ 2478 3038 2890 2622 \r\nQ 3303 2206 3303 1553 \r\nQ 3303 931 2941 478 \r\nQ 2500 -78 1738 -78 \r\nQ 1113 -78 717 272 \r\nQ 322 622 266 1200 \r\nz\r\n\" id=\"ArialMT-35\" transform=\"scale(0.015625)\"/>\r\n      <path d=\"M 372 3481 \r\nQ 372 3972 619 4315 \r\nQ 866 4659 1334 4659 \r\nQ 1766 4659 2048 4351 \r\nQ 2331 4044 2331 3447 \r\nQ 2331 2866 2045 2552 \r\nQ 1759 2238 1341 2238 \r\nQ 925 2238 648 2547 \r\nQ 372 2856 372 3481 \r\nz\r\nM 1350 4272 \r\nQ 1141 4272 1002 4090 \r\nQ 863 3909 863 3425 \r\nQ 863 2984 1003 2804 \r\nQ 1144 2625 1350 2625 \r\nQ 1563 2625 1702 2806 \r\nQ 1841 2988 1841 3469 \r\nQ 1841 3913 1700 4092 \r\nQ 1559 4272 1350 4272 \r\nz\r\nM 1353 -169 \r\nL 3859 4659 \r\nL 4316 4659 \r\nL 1819 -169 \r\nL 1353 -169 \r\nz\r\nM 3334 1075 \r\nQ 3334 1569 3581 1911 \r\nQ 3828 2253 4300 2253 \r\nQ 4731 2253 5014 1945 \r\nQ 5297 1638 5297 1041 \r\nQ 5297 459 5011 145 \r\nQ 4725 -169 4303 -169 \r\nQ 3888 -169 3611 142 \r\nQ 3334 453 3334 1075 \r\nz\r\nM 4316 1866 \r\nQ 4103 1866 3964 1684 \r\nQ 3825 1503 3825 1019 \r\nQ 3825 581 3965 400 \r\nQ 4106 219 4313 219 \r\nQ 4528 219 4667 400 \r\nQ 4806 581 4806 1063 \r\nQ 4806 1506 4665 1686 \r\nQ 4525 1866 4316 1866 \r\nz\r\n\" id=\"ArialMT-25\" transform=\"scale(0.015625)\"/>\r\n     </defs>\r\n     <use xlink:href=\"#ArialMT-37\"/>\r\n     <use x=\"55.615234\" xlink:href=\"#ArialMT-30\"/>\r\n     <use x=\"111.230469\" xlink:href=\"#ArialMT-2e\"/>\r\n     <use x=\"139.013672\" xlink:href=\"#ArialMT-30\"/>\r\n     <use x=\"194.628906\" xlink:href=\"#ArialMT-32\"/>\r\n     <use x=\"250.244141\" xlink:href=\"#ArialMT-33\"/>\r\n     <use x=\"305.859375\" xlink:href=\"#ArialMT-31\"/>\r\n     <use x=\"361.474609\" xlink:href=\"#ArialMT-35\"/>\r\n     <use x=\"417.089844\" xlink:href=\"#ArialMT-25\"/>\r\n    </g>\r\n   </g>\r\n   <g id=\"text_4\">\r\n    <!-- acc -->\r\n    <g style=\"fill:#262626;\" transform=\"translate(241.660227 312.150507)scale(0.11 -0.11)\">\r\n     <use xlink:href=\"#ArialMT-61\"/>\r\n     <use x=\"55.615234\" xlink:href=\"#ArialMT-63\"/>\r\n     <use x=\"105.615234\" xlink:href=\"#ArialMT-63\"/>\r\n    </g>\r\n   </g>\r\n   <g id=\"text_5\">\r\n    <!-- 22.22222% -->\r\n    <g style=\"fill:#262626;\" transform=\"translate(186.777819 251.962573)scale(0.12 -0.12)\">\r\n     <use xlink:href=\"#ArialMT-32\"/>\r\n     <use x=\"55.615234\" xlink:href=\"#ArialMT-32\"/>\r\n     <use x=\"111.230469\" xlink:href=\"#ArialMT-2e\"/>\r\n     <use x=\"139.013672\" xlink:href=\"#ArialMT-32\"/>\r\n     <use x=\"194.628906\" xlink:href=\"#ArialMT-32\"/>\r\n     <use x=\"250.244141\" xlink:href=\"#ArialMT-32\"/>\r\n     <use x=\"305.859375\" xlink:href=\"#ArialMT-32\"/>\r\n     <use x=\"361.474609\" xlink:href=\"#ArialMT-32\"/>\r\n     <use x=\"417.089844\" xlink:href=\"#ArialMT-25\"/>\r\n    </g>\r\n   </g>\r\n   <g id=\"text_6\">\r\n    <!-- good -->\r\n    <g style=\"fill:#262626;\" transform=\"translate(325.5754 226.163749)scale(0.11 -0.11)\">\r\n     <defs>\r\n      <path d=\"M 319 -275 \r\nL 866 -356 \r\nQ 900 -609 1056 -725 \r\nQ 1266 -881 1628 -881 \r\nQ 2019 -881 2231 -725 \r\nQ 2444 -569 2519 -288 \r\nQ 2563 -116 2559 434 \r\nQ 2191 0 1641 0 \r\nQ 956 0 581 494 \r\nQ 206 988 206 1678 \r\nQ 206 2153 378 2554 \r\nQ 550 2956 876 3175 \r\nQ 1203 3394 1644 3394 \r\nQ 2231 3394 2613 2919 \r\nL 2613 3319 \r\nL 3131 3319 \r\nL 3131 450 \r\nQ 3131 -325 2973 -648 \r\nQ 2816 -972 2473 -1159 \r\nQ 2131 -1347 1631 -1347 \r\nQ 1038 -1347 672 -1080 \r\nQ 306 -813 319 -275 \r\nz\r\nM 784 1719 \r\nQ 784 1066 1043 766 \r\nQ 1303 466 1694 466 \r\nQ 2081 466 2343 764 \r\nQ 2606 1063 2606 1700 \r\nQ 2606 2309 2336 2618 \r\nQ 2066 2928 1684 2928 \r\nQ 1309 2928 1046 2623 \r\nQ 784 2319 784 1719 \r\nz\r\n\" id=\"ArialMT-67\" transform=\"scale(0.015625)\"/>\r\n      <path d=\"M 2575 0 \r\nL 2575 419 \r\nQ 2259 -75 1647 -75 \r\nQ 1250 -75 917 144 \r\nQ 584 363 401 755 \r\nQ 219 1147 219 1656 \r\nQ 219 2153 384 2558 \r\nQ 550 2963 881 3178 \r\nQ 1213 3394 1622 3394 \r\nQ 1922 3394 2156 3267 \r\nQ 2391 3141 2538 2938 \r\nL 2538 4581 \r\nL 3097 4581 \r\nL 3097 0 \r\nL 2575 0 \r\nz\r\nM 797 1656 \r\nQ 797 1019 1065 703 \r\nQ 1334 388 1700 388 \r\nQ 2069 388 2326 689 \r\nQ 2584 991 2584 1609 \r\nQ 2584 2291 2321 2609 \r\nQ 2059 2928 1675 2928 \r\nQ 1300 2928 1048 2622 \r\nQ 797 2316 797 1656 \r\nz\r\n\" id=\"ArialMT-64\" transform=\"scale(0.015625)\"/>\r\n     </defs>\r\n     <use xlink:href=\"#ArialMT-67\"/>\r\n     <use x=\"55.615234\" xlink:href=\"#ArialMT-6f\"/>\r\n     <use x=\"111.230469\" xlink:href=\"#ArialMT-6f\"/>\r\n     <use x=\"166.845703\" xlink:href=\"#ArialMT-64\"/>\r\n    </g>\r\n   </g>\r\n   <g id=\"text_7\">\r\n    <!-- 3.99306% -->\r\n    <g style=\"fill:#262626;\" transform=\"translate(237.544696 203.397791)scale(0.12 -0.12)\">\r\n     <defs>\r\n      <path d=\"M 350 1059 \r\nL 891 1109 \r\nQ 959 728 1153 556 \r\nQ 1347 384 1650 384 \r\nQ 1909 384 2104 503 \r\nQ 2300 622 2425 820 \r\nQ 2550 1019 2634 1356 \r\nQ 2719 1694 2719 2044 \r\nQ 2719 2081 2716 2156 \r\nQ 2547 1888 2255 1720 \r\nQ 1963 1553 1622 1553 \r\nQ 1053 1553 659 1965 \r\nQ 266 2378 266 3053 \r\nQ 266 3750 677 4175 \r\nQ 1088 4600 1706 4600 \r\nQ 2153 4600 2523 4359 \r\nQ 2894 4119 3086 3673 \r\nQ 3278 3228 3278 2384 \r\nQ 3278 1506 3087 986 \r\nQ 2897 466 2520 194 \r\nQ 2144 -78 1638 -78 \r\nQ 1100 -78 759 220 \r\nQ 419 519 350 1059 \r\nz\r\nM 2653 3081 \r\nQ 2653 3566 2395 3850 \r\nQ 2138 4134 1775 4134 \r\nQ 1400 4134 1122 3828 \r\nQ 844 3522 844 3034 \r\nQ 844 2597 1108 2323 \r\nQ 1372 2050 1759 2050 \r\nQ 2150 2050 2401 2323 \r\nQ 2653 2597 2653 3081 \r\nz\r\n\" id=\"ArialMT-39\" transform=\"scale(0.015625)\"/>\r\n      <path d=\"M 3184 3459 \r\nL 2625 3416 \r\nQ 2550 3747 2413 3897 \r\nQ 2184 4138 1850 4138 \r\nQ 1581 4138 1378 3988 \r\nQ 1113 3794 959 3422 \r\nQ 806 3050 800 2363 \r\nQ 1003 2672 1297 2822 \r\nQ 1591 2972 1913 2972 \r\nQ 2475 2972 2870 2558 \r\nQ 3266 2144 3266 1488 \r\nQ 3266 1056 3080 686 \r\nQ 2894 316 2569 119 \r\nQ 2244 -78 1831 -78 \r\nQ 1128 -78 684 439 \r\nQ 241 956 241 2144 \r\nQ 241 3472 731 4075 \r\nQ 1159 4600 1884 4600 \r\nQ 2425 4600 2770 4297 \r\nQ 3116 3994 3184 3459 \r\nz\r\nM 888 1484 \r\nQ 888 1194 1011 928 \r\nQ 1134 663 1356 523 \r\nQ 1578 384 1822 384 \r\nQ 2178 384 2434 671 \r\nQ 2691 959 2691 1453 \r\nQ 2691 1928 2437 2201 \r\nQ 2184 2475 1800 2475 \r\nQ 1419 2475 1153 2201 \r\nQ 888 1928 888 1484 \r\nz\r\n\" id=\"ArialMT-36\" transform=\"scale(0.015625)\"/>\r\n     </defs>\r\n     <use xlink:href=\"#ArialMT-33\"/>\r\n     <use x=\"55.615234\" xlink:href=\"#ArialMT-2e\"/>\r\n     <use x=\"83.398438\" xlink:href=\"#ArialMT-39\"/>\r\n     <use x=\"139.013672\" xlink:href=\"#ArialMT-39\"/>\r\n     <use x=\"194.628906\" xlink:href=\"#ArialMT-33\"/>\r\n     <use x=\"250.244141\" xlink:href=\"#ArialMT-30\"/>\r\n     <use x=\"305.859375\" xlink:href=\"#ArialMT-36\"/>\r\n     <use x=\"361.474609\" xlink:href=\"#ArialMT-25\"/>\r\n    </g>\r\n   </g>\r\n   <g id=\"text_8\">\r\n    <!-- vgood -->\r\n    <g style=\"fill:#262626;\" transform=\"translate(334.24159 190.747939)scale(0.11 -0.11)\">\r\n     <defs>\r\n      <path d=\"M 1344 0 \r\nL 81 3319 \r\nL 675 3319 \r\nL 1388 1331 \r\nQ 1503 1009 1600 663 \r\nQ 1675 925 1809 1294 \r\nL 2547 3319 \r\nL 3125 3319 \r\nL 1869 0 \r\nL 1344 0 \r\nz\r\n\" id=\"ArialMT-76\" transform=\"scale(0.015625)\"/>\r\n     </defs>\r\n     <use xlink:href=\"#ArialMT-76\"/>\r\n     <use x=\"50\" xlink:href=\"#ArialMT-67\"/>\r\n     <use x=\"105.615234\" xlink:href=\"#ArialMT-6f\"/>\r\n     <use x=\"161.230469\" xlink:href=\"#ArialMT-6f\"/>\r\n     <use x=\"216.845703\" xlink:href=\"#ArialMT-64\"/>\r\n    </g>\r\n   </g>\r\n   <g id=\"text_9\">\r\n    <!-- 3.76157% -->\r\n    <g style=\"fill:#262626;\" transform=\"translate(242.442978 183.38016)scale(0.12 -0.12)\">\r\n     <use xlink:href=\"#ArialMT-33\"/>\r\n     <use x=\"55.615234\" xlink:href=\"#ArialMT-2e\"/>\r\n     <use x=\"83.398438\" xlink:href=\"#ArialMT-37\"/>\r\n     <use x=\"139.013672\" xlink:href=\"#ArialMT-36\"/>\r\n     <use x=\"194.628906\" xlink:href=\"#ArialMT-31\"/>\r\n     <use x=\"250.244141\" xlink:href=\"#ArialMT-35\"/>\r\n     <use x=\"305.859375\" xlink:href=\"#ArialMT-37\"/>\r\n     <use x=\"361.474609\" xlink:href=\"#ArialMT-25\"/>\r\n    </g>\r\n   </g>\r\n  </g>\r\n </g>\r\n</svg>\r\n",
      "image/png": "[encoded data removed]"
     },
     "metadata": {}
    }
   ],
   "source": [
    "plot_size = plt.rcParams['figure.figsize']\n",
    "plot_size[0] = 8\n",
    "plot_size[1] = 6\n",
    "plt.rcParams['figure.figsize'] = plot_size\n",
    "cars.output.value_counts().plot(kind='pie', autopct='%0.05f%%', colors=['lightblue', 'lightgreen', 'orange', 'pink'], explode=(0.05, 0.05, 0.05, 0.05))"
   ]
  },
  {
   "cell_type": "code",
   "execution_count": 12,
   "metadata": {},
   "outputs": [
    {
     "output_type": "execute_result",
     "data": {
      "text/plain": [
       "   price_high  price_low  price_med  price_vhigh  maint_high  maint_low  \\\n",
       "0           0          0          0            1           0          0   \n",
       "1           0          0          0            1           0          0   \n",
       "2           0          0          0            1           0          0   \n",
       "3           0          0          0            1           0          0   \n",
       "4           0          0          0            1           0          0   \n",
       "\n",
       "   maint_med  maint_vhigh  lug_capacity_big  lug_capacity_med  \\\n",
       "0          0            1                 0                 0   \n",
       "1          0            1                 0                 0   \n",
       "2          0            1                 0                 0   \n",
       "3          0            1                 0                 1   \n",
       "4          0            1                 0                 1   \n",
       "\n",
       "   lug_capacity_small  condition_acc  condition_good  condition_unacc  \\\n",
       "0                   1              0               0                1   \n",
       "1                   1              0               0                1   \n",
       "2                   1              0               0                1   \n",
       "3                   0              0               0                1   \n",
       "4                   0              0               0                1   \n",
       "\n",
       "   condition_vgood  condition_acc  condition_good  condition_unacc  \\\n",
       "0                0              0               0                1   \n",
       "1                0              0               0                1   \n",
       "2                0              0               0                1   \n",
       "3                0              0               0                1   \n",
       "4                0              0               0                1   \n",
       "\n",
       "   condition_vgood  \n",
       "0                0  \n",
       "1                0  \n",
       "2                0  \n",
       "3                0  \n",
       "4                0  "
      ],
      "text/html": "<div>\n<style scoped>\n    .dataframe tbody tr th:only-of-type {\n        vertical-align: middle;\n    }\n\n    .dataframe tbody tr th {\n        vertical-align: top;\n    }\n\n    .dataframe thead th {\n        text-align: right;\n    }\n</style>\n<table border=\"1\" class=\"dataframe\">\n  <thead>\n    <tr style=\"text-align: right;\">\n      <th></th>\n      <th>price_high</th>\n      <th>price_low</th>\n      <th>price_med</th>\n      <th>price_vhigh</th>\n      <th>maint_high</th>\n      <th>maint_low</th>\n      <th>maint_med</th>\n      <th>maint_vhigh</th>\n      <th>lug_capacity_big</th>\n      <th>lug_capacity_med</th>\n      <th>lug_capacity_small</th>\n      <th>condition_acc</th>\n      <th>condition_good</th>\n      <th>condition_unacc</th>\n      <th>condition_vgood</th>\n      <th>condition_acc</th>\n      <th>condition_good</th>\n      <th>condition_unacc</th>\n      <th>condition_vgood</th>\n    </tr>\n  </thead>\n  <tbody>\n    <tr>\n      <th>0</th>\n      <td>0</td>\n      <td>0</td>\n      <td>0</td>\n      <td>1</td>\n      <td>0</td>\n      <td>0</td>\n      <td>0</td>\n      <td>1</td>\n      <td>0</td>\n      <td>0</td>\n      <td>1</td>\n      <td>0</td>\n      <td>0</td>\n      <td>1</td>\n      <td>0</td>\n      <td>0</td>\n      <td>0</td>\n      <td>1</td>\n      <td>0</td>\n    </tr>\n    <tr>\n      <th>1</th>\n      <td>0</td>\n      <td>0</td>\n      <td>0</td>\n      <td>1</td>\n      <td>0</td>\n      <td>0</td>\n      <td>0</td>\n      <td>1</td>\n      <td>0</td>\n      <td>0</td>\n      <td>1</td>\n      <td>0</td>\n      <td>0</td>\n      <td>1</td>\n      <td>0</td>\n      <td>0</td>\n      <td>0</td>\n      <td>1</td>\n      <td>0</td>\n    </tr>\n    <tr>\n      <th>2</th>\n      <td>0</td>\n      <td>0</td>\n      <td>0</td>\n      <td>1</td>\n      <td>0</td>\n      <td>0</td>\n      <td>0</td>\n      <td>1</td>\n      <td>0</td>\n      <td>0</td>\n      <td>1</td>\n      <td>0</td>\n      <td>0</td>\n      <td>1</td>\n      <td>0</td>\n      <td>0</td>\n      <td>0</td>\n      <td>1</td>\n      <td>0</td>\n    </tr>\n    <tr>\n      <th>3</th>\n      <td>0</td>\n      <td>0</td>\n      <td>0</td>\n      <td>1</td>\n      <td>0</td>\n      <td>0</td>\n      <td>0</td>\n      <td>1</td>\n      <td>0</td>\n      <td>1</td>\n      <td>0</td>\n      <td>0</td>\n      <td>0</td>\n      <td>1</td>\n      <td>0</td>\n      <td>0</td>\n      <td>0</td>\n      <td>1</td>\n      <td>0</td>\n    </tr>\n    <tr>\n      <th>4</th>\n      <td>0</td>\n      <td>0</td>\n      <td>0</td>\n      <td>1</td>\n      <td>0</td>\n      <td>0</td>\n      <td>0</td>\n      <td>1</td>\n      <td>0</td>\n      <td>1</td>\n      <td>0</td>\n      <td>0</td>\n      <td>0</td>\n      <td>1</td>\n      <td>0</td>\n      <td>0</td>\n      <td>0</td>\n      <td>1</td>\n      <td>0</td>\n    </tr>\n  </tbody>\n</table>\n</div>"
     },
     "metadata": {},
     "execution_count": 12
    }
   ],
   "source": [
    "price = pd.get_dummies(cars.price, prefix='price')\n",
    "price.head()\n",
    "\n",
    "maint = pd.get_dummies(cars.maint, prefix='maint')\n",
    "maint.head()\n",
    "\n",
    "lug_capacity = pd.get_dummies(cars.lug_capacity, prefix='lug_capacity')\n",
    "lug_capacity.head()\n",
    "\n",
    "safety = pd.get_dummies(cars.output, prefix='condition')\n",
    "safety.head()\n",
    "\n",
    "labels = pd.get_dummies(cars.output, prefix='condition')\n",
    "labels.head()\n",
    "\n",
    "X = pd.concat([price, maint, lug_capacity, safety, labels], axis=1)\n",
    "y = labels.values\n",
    "# 레이블을 넘파이 배열로 변환\n",
    "\n",
    "# get_dummies는 가변수로 만들어주는 메소드이다.\n",
    "# 가변수로 만들어준다는 의미는 문자를 숫자 0, 1로 바꾸어주는 것으로 0은 없음, 1은 있음을 의미한다.\n",
    "# 이때 get_dummies는 문자열 특성만 인코딩 되며 숫자 특성은 바뀌지 않는다.\n",
    "# 여섯 개의 열을 병합하기 위해 concat() 메소드를 사용함\n",
    "# concat() 메소드는 선택된 범위 여러 개 또는 텍스트 여러 개를 하나의 문자열로 결합함\n",
    "X.head()"
   ]
  },
  {
   "cell_type": "code",
   "execution_count": 13,
   "metadata": {},
   "outputs": [
    {
     "output_type": "stream",
     "name": "stdout",
     "text": [
      "<class 'pandas.core.frame.DataFrame'>\nInt64Index: 1382 entries, 107 to 1126\nData columns (total 19 columns):\n #   Column              Non-Null Count  Dtype\n---  ------              --------------  -----\n 0   price_high          1382 non-null   uint8\n 1   price_low           1382 non-null   uint8\n 2   price_med           1382 non-null   uint8\n 3   price_vhigh         1382 non-null   uint8\n 4   maint_high          1382 non-null   uint8\n 5   maint_low           1382 non-null   uint8\n 6   maint_med           1382 non-null   uint8\n 7   maint_vhigh         1382 non-null   uint8\n 8   lug_capacity_big    1382 non-null   uint8\n 9   lug_capacity_med    1382 non-null   uint8\n 10  lug_capacity_small  1382 non-null   uint8\n 11  condition_acc       1382 non-null   uint8\n 12  condition_good      1382 non-null   uint8\n 13  condition_unacc     1382 non-null   uint8\n 14  condition_vgood     1382 non-null   uint8\n 15  condition_acc       1382 non-null   uint8\n 16  condition_good      1382 non-null   uint8\n 17  condition_unacc     1382 non-null   uint8\n 18  condition_vgood     1382 non-null   uint8\ndtypes: uint8(19)\nmemory usage: 36.4 KB\n"
     ]
    }
   ],
   "source": [
    "from sklearn.model_selection import train_test_split\n",
    "X_train, X_test, y_train, y_test = train_test_split(X, y, test_size = 0.20, random_state = 42)\n",
    "\n",
    "# train_test_split은 데이터 셋을 훈련용과 테스트용으로 분리하는 메소드임\n",
    "X_train.info()\n"
   ]
  },
  {
   "cell_type": "code",
   "execution_count": 14,
   "metadata": {},
   "outputs": [],
   "source": [
    "# df_train, df_test = train_test_split(df, test_size=0.4, random_state=0)\n",
    "# X_train, X_test, y_train, y_test = train_test_split(X, y, test_size= 0.5)\n",
    "# X_train.info()\n",
    "\n",
    "# test size : 테스트 셋의 비율을 나타낸다.\n",
    "# random state : 데이터 셋을 섞을 때 해당 값을 참조하여 섞는다. 하이퍼파라미터 튜닝을 할 때 이 값을 고정해 두어야 매번 데이터 셋이 변경되는 것을 방지할 수 있다."
   ]
  },
  {
   "cell_type": "code",
   "execution_count": 15,
   "metadata": {},
   "outputs": [],
   "source": [
    "import math\n",
    "\n",
    "def sigmoid(x, deff=False):\n",
    "  if deff:\n",
    "    return sigmoid(x)*(1-sigmoid(x))\n",
    "  else:\n",
    "    return 1 / (1 + math.exp(-x))\n"
   ]
  },
  {
   "cell_type": "code",
   "execution_count": 16,
   "metadata": {},
   "outputs": [
    {
     "output_type": "stream",
     "name": "stdout",
     "text": [
      "Model: \"functional_1\"\n",
      "_________________________________________________________________\n",
      "Layer (type)                 Output Shape              Param #   \n",
      "=================================================================\n",
      "input_1 (InputLayer)         [(None, 19)]              0         \n",
      "_________________________________________________________________\n",
      "dense (Dense)                (None, 15)                300       \n",
      "_________________________________________________________________\n",
      "dense_1 (Dense)              (None, 10)                160       \n",
      "_________________________________________________________________\n",
      "dense_2 (Dense)              (None, 4)                 44        \n",
      "=================================================================\n",
      "Total params: 504\n",
      "Trainable params: 504\n",
      "Non-trainable params: 0\n",
      "_________________________________________________________________\n"
     ]
    }
   ],
   "source": [
    "# 모델 생성\n",
    "\n",
    "from tensorflow.keras.layers import Input, Dense, Activation, Dropout\n",
    "# 케라스 API를 이용하여 input, activation, drop 클래스를 호출\n",
    "\n",
    "from tensorflow.keras.models import Model\n",
    "# 케라스 API를 이용하여 Model 클래스 호출\n",
    "\n",
    "input_layer = Input(shape = (X.shape[1],))\n",
    "\n",
    "dense_layer_1 = Dense(15, activation='relu')(input_layer)\n",
    "dense_layer_2 = Dense(10, activation='relu')(dense_layer_1)\n",
    "output = Dense(y.shape[1], activation='softmax')(dense_layer_2)\n",
    "\n",
    "model = Model(inputs = input_layer, outputs=output)\n",
    "\n",
    "model.compile(loss='categorical_crossentropy', optimizer='adam', metrics=['acc'])\n",
    "\n",
    "model.summary()\n",
    "\n",
    "\n",
    "# model.summary() 결과에서 확인할 수 있는 것처럼 모델은 밀집층(혹은 완전연결층이라고 함)이 총 세 개로 구성되어 있음\n",
    "# 처음 두 개는 각각 relu 활성화 함수를 사용하는 노드 15개와 노드 10개로 구성되어 있음\n",
    "# 손실 함수로 categorical_crossentropy를 사용하며, 옵티마이저는 adam을 사용함\n",
    "# 참고) sparse_categorical_crossentropy와 categorical_crossentropy 모두 다중 분류에 대한 손실 함수로 사용함\n",
    "# categorical_crossentropy의 출력 값은 원-핫 인코딩된 결과가 출력되지만, sparse_categorical_crossentropy는 정수 형태(원-핫 인코딩하지 않은 정수형태)로 출력됨\n"
   ]
  },
  {
   "cell_type": "code",
   "execution_count": 17,
   "metadata": {},
   "outputs": [
    {
     "output_type": "stream",
     "name": "stdout",
     "text": [
      "Epoch 1/50\n",
      "139/139 [==============================] - 1s 6ms/step - loss: 0.8355 - acc: 0.7538 - val_loss: 0.5209 - val_acc: 0.8231\n",
      "Epoch 2/50\n",
      "139/139 [==============================] - 1s 6ms/step - loss: 0.2532 - acc: 0.9620 - val_loss: 0.1635 - val_acc: 0.9711\n",
      "Epoch 3/50\n",
      "139/139 [==============================] - 1s 6ms/step - loss: 0.0790 - acc: 0.9928 - val_loss: 0.0605 - val_acc: 1.0000\n",
      "Epoch 4/50\n",
      "139/139 [==============================] - 1s 4ms/step - loss: 0.0305 - acc: 1.0000 - val_loss: 0.0258 - val_acc: 1.0000\n",
      "Epoch 5/50\n",
      "139/139 [==============================] - 0s 3ms/step - loss: 0.0138 - acc: 1.0000 - val_loss: 0.0132 - val_acc: 1.0000\n",
      "Epoch 6/50\n",
      "139/139 [==============================] - 1s 5ms/step - loss: 0.0077 - acc: 1.0000 - val_loss: 0.0079 - val_acc: 1.0000\n",
      "Epoch 7/50\n",
      "139/139 [==============================] - 1s 5ms/step - loss: 0.0049 - acc: 1.0000 - val_loss: 0.0052 - val_acc: 1.0000\n",
      "Epoch 8/50\n",
      "139/139 [==============================] - 1s 4ms/step - loss: 0.0033 - acc: 1.0000 - val_loss: 0.0036 - val_acc: 1.0000\n",
      "Epoch 9/50\n",
      "139/139 [==============================] - 0s 2ms/step - loss: 0.0024 - acc: 1.0000 - val_loss: 0.0027 - val_acc: 1.0000\n",
      "Epoch 10/50\n",
      "139/139 [==============================] - 0s 1ms/step - loss: 0.0018 - acc: 1.0000 - val_loss: 0.0020 - val_acc: 1.0000\n",
      "Epoch 11/50\n",
      "139/139 [==============================] - 0s 1ms/step - loss: 0.0014 - acc: 1.0000 - val_loss: 0.0016 - val_acc: 1.0000\n",
      "Epoch 12/50\n",
      "139/139 [==============================] - 0s 2ms/step - loss: 0.0011 - acc: 1.0000 - val_loss: 0.0013 - val_acc: 1.0000\n",
      "Epoch 13/50\n",
      "139/139 [==============================] - 0s 2ms/step - loss: 8.8018e-04 - acc: 1.0000 - val_loss: 0.0011 - val_acc: 1.0000\n",
      "Epoch 14/50\n",
      "139/139 [==============================] - 1s 4ms/step - loss: 7.2414e-04 - acc: 1.0000 - val_loss: 8.7718e-04 - val_acc: 1.0000\n",
      "Epoch 15/50\n",
      "139/139 [==============================] - 0s 3ms/step - loss: 6.0364e-04 - acc: 1.0000 - val_loss: 7.3425e-04 - val_acc: 1.0000\n",
      "Epoch 16/50\n",
      "139/139 [==============================] - 0s 3ms/step - loss: 5.0877e-04 - acc: 1.0000 - val_loss: 6.2414e-04 - val_acc: 1.0000\n",
      "Epoch 17/50\n",
      "139/139 [==============================] - 0s 2ms/step - loss: 4.3319e-04 - acc: 1.0000 - val_loss: 5.3642e-04 - val_acc: 1.0000\n",
      "Epoch 18/50\n",
      "139/139 [==============================] - 0s 1ms/step - loss: 3.7038e-04 - acc: 1.0000 - val_loss: 4.5771e-04 - val_acc: 1.0000\n",
      "Epoch 19/50\n",
      "139/139 [==============================] - 0s 1ms/step - loss: 3.2012e-04 - acc: 1.0000 - val_loss: 3.9662e-04 - val_acc: 1.0000\n",
      "Epoch 20/50\n",
      "139/139 [==============================] - 0s 1ms/step - loss: 2.7845e-04 - acc: 1.0000 - val_loss: 3.4697e-04 - val_acc: 1.0000\n",
      "Epoch 21/50\n",
      "139/139 [==============================] - 0s 1ms/step - loss: 2.4356e-04 - acc: 1.0000 - val_loss: 3.0368e-04 - val_acc: 1.0000\n",
      "Epoch 22/50\n",
      "139/139 [==============================] - 0s 2ms/step - loss: 2.1419e-04 - acc: 1.0000 - val_loss: 2.6780e-04 - val_acc: 1.0000\n",
      "Epoch 23/50\n",
      "139/139 [==============================] - 0s 3ms/step - loss: 1.8904e-04 - acc: 1.0000 - val_loss: 2.3655e-04 - val_acc: 1.0000\n",
      "Epoch 24/50\n",
      "139/139 [==============================] - 0s 1ms/step - loss: 1.6769e-04 - acc: 1.0000 - val_loss: 2.1026e-04 - val_acc: 1.0000\n",
      "Epoch 25/50\n",
      "139/139 [==============================] - 0s 1ms/step - loss: 1.4890e-04 - acc: 1.0000 - val_loss: 1.8721e-04 - val_acc: 1.0000\n",
      "Epoch 26/50\n",
      "139/139 [==============================] - 0s 1ms/step - loss: 1.3277e-04 - acc: 1.0000 - val_loss: 1.6762e-04 - val_acc: 1.0000\n",
      "Epoch 27/50\n",
      "139/139 [==============================] - 0s 1ms/step - loss: 1.1811e-04 - acc: 1.0000 - val_loss: 1.4780e-04 - val_acc: 1.0000\n",
      "Epoch 28/50\n",
      "139/139 [==============================] - 0s 1ms/step - loss: 1.0584e-04 - acc: 1.0000 - val_loss: 1.3305e-04 - val_acc: 1.0000\n",
      "Epoch 29/50\n",
      "139/139 [==============================] - 0s 1ms/step - loss: 9.5061e-05 - acc: 1.0000 - val_loss: 1.1972e-04 - val_acc: 1.0000\n",
      "Epoch 30/50\n",
      "139/139 [==============================] - 0s 1ms/step - loss: 8.5669e-05 - acc: 1.0000 - val_loss: 1.0794e-04 - val_acc: 1.0000\n",
      "Epoch 31/50\n",
      "139/139 [==============================] - 0s 1ms/step - loss: 7.7275e-05 - acc: 1.0000 - val_loss: 9.7614e-05 - val_acc: 1.0000\n",
      "Epoch 32/50\n",
      "139/139 [==============================] - 0s 1ms/step - loss: 6.9888e-05 - acc: 1.0000 - val_loss: 8.8702e-05 - val_acc: 1.0000\n",
      "Epoch 33/50\n",
      "139/139 [==============================] - 0s 1ms/step - loss: 6.3302e-05 - acc: 1.0000 - val_loss: 8.0118e-05 - val_acc: 1.0000\n",
      "Epoch 34/50\n",
      "139/139 [==============================] - 0s 1ms/step - loss: 5.7317e-05 - acc: 1.0000 - val_loss: 7.2805e-05 - val_acc: 1.0000\n",
      "Epoch 35/50\n",
      "139/139 [==============================] - 0s 1ms/step - loss: 5.2045e-05 - acc: 1.0000 - val_loss: 6.6129e-05 - val_acc: 1.0000\n",
      "Epoch 36/50\n",
      "139/139 [==============================] - 0s 2ms/step - loss: 4.7346e-05 - acc: 1.0000 - val_loss: 6.0036e-05 - val_acc: 1.0000\n",
      "Epoch 37/50\n",
      "139/139 [==============================] - 0s 1ms/step - loss: 4.3058e-05 - acc: 1.0000 - val_loss: 5.4814e-05 - val_acc: 1.0000\n",
      "Epoch 38/50\n",
      "139/139 [==============================] - 0s 1ms/step - loss: 3.9224e-05 - acc: 1.0000 - val_loss: 4.9900e-05 - val_acc: 1.0000\n",
      "Epoch 39/50\n",
      "139/139 [==============================] - 0s 1ms/step - loss: 3.5769e-05 - acc: 1.0000 - val_loss: 4.5388e-05 - val_acc: 1.0000\n",
      "Epoch 40/50\n",
      "139/139 [==============================] - 0s 1ms/step - loss: 3.2642e-05 - acc: 1.0000 - val_loss: 4.1519e-05 - val_acc: 1.0000\n",
      "Epoch 41/50\n",
      "139/139 [==============================] - 0s 1ms/step - loss: 2.9840e-05 - acc: 1.0000 - val_loss: 3.7956e-05 - val_acc: 1.0000\n",
      "Epoch 42/50\n",
      "139/139 [==============================] - 0s 1ms/step - loss: 2.7296e-05 - acc: 1.0000 - val_loss: 3.4672e-05 - val_acc: 1.0000\n",
      "Epoch 43/50\n",
      "139/139 [==============================] - 0s 1ms/step - loss: 2.4980e-05 - acc: 1.0000 - val_loss: 3.1742e-05 - val_acc: 1.0000\n",
      "Epoch 44/50\n",
      "139/139 [==============================] - 0s 1ms/step - loss: 2.2877e-05 - acc: 1.0000 - val_loss: 2.9059e-05 - val_acc: 1.0000\n",
      "Epoch 45/50\n",
      "139/139 [==============================] - 0s 1ms/step - loss: 2.0951e-05 - acc: 1.0000 - val_loss: 2.6666e-05 - val_acc: 1.0000\n",
      "Epoch 46/50\n",
      "139/139 [==============================] - 0s 1ms/step - loss: 1.9215e-05 - acc: 1.0000 - val_loss: 2.4458e-05 - val_acc: 1.0000\n",
      "Epoch 47/50\n",
      "139/139 [==============================] - 0s 1ms/step - loss: 1.7623e-05 - acc: 1.0000 - val_loss: 2.2389e-05 - val_acc: 1.0000\n",
      "Epoch 48/50\n",
      "139/139 [==============================] - 0s 1ms/step - loss: 1.6175e-05 - acc: 1.0000 - val_loss: 2.0528e-05 - val_acc: 1.0000\n",
      "Epoch 49/50\n",
      "139/139 [==============================] - 0s 2ms/step - loss: 1.4845e-05 - acc: 1.0000 - val_loss: 1.8863e-05 - val_acc: 1.0000\n",
      "Epoch 50/50\n",
      "139/139 [==============================] - 0s 1ms/step - loss: 1.3641e-05 - acc: 1.0000 - val_loss: 1.7364e-05 - val_acc: 1.0000\n"
     ]
    }
   ],
   "source": [
    "# 모델 훈련\n",
    "\n",
    "history = model.fit(X_train, y_train, batch_size=8, epochs=50, verbose=1, validation_split=0.2)\n",
    "\n",
    "\n",
    "# batch는 모델 가중치를 한 번 업데이트 시킬 때 사용되는 데이터의 묶음임\n",
    "# 예를 들어 train data가 총 1000개 일 때, batch size가 20이라면 데이터 20개마다 모델 가중치를 업데이트한다.\n",
    "# 즉 가중치가 총 50번 업데이트 되기 때문에 하나의 데이터 셋을 배치 50개로 나누어 훈련을 진행한다고 이해하면 됨\n",
    "# 예를 들어 에포크가 10이고 batch size가 20이면 가중치를 50번 업데이트하는 것을 총 10번 반복한다는 뜻임\n",
    "# 각 데이터가 총 열 번씩 사용되고 결과적으로 가중치가 총 500번 업데이트 된다고 이해하면 됨"
   ]
  },
  {
   "cell_type": "code",
   "execution_count": 18,
   "metadata": {},
   "outputs": [
    {
     "output_type": "stream",
     "name": "stdout",
     "text": [
      "11/11 [==============================] - 0s 2ms/step - loss: 1.8807e-05 - acc: 1.0000\n",
      "Test Score:  1.880702984635718e-05\n",
      "Test Accuracy:  1.0\n"
     ]
    }
   ],
   "source": [
    "# 모델 평가\n",
    "\n",
    "score = model.evaluate(X_test, y_test, verbose=1)\n",
    "print('Test Score: ', score[0])\n",
    "print('Test Accuracy: ', score[1])\n",
    "\n",
    "# 성능 평가 지표로 정확도(accuracy), 재현율(recall), 정밀도(precision), F1-스코어가 있음 "
   ]
  },
  {
   "cell_type": "code",
   "execution_count": 19,
   "metadata": {},
   "outputs": [
    {
     "output_type": "execute_result",
     "data": {
      "text/plain": [
       "'\\n정확도(Accuracy)\\n- 전체 예측 건수에서 정답을 맞힌 건수의 비율\\n- 이때 맞힌 정답이 긍정이든 부정이든 상관없음\\n- 실제로 정답이 1이라고 할때  모델도 1로 예측한 비율\\n- 처음부터 데이터가 1일 확률이 적을 때 사용하면 좋음\\n\\n정밀도(Precision))\\n- 모델이 1이라고 예측한 것 중에서 실제로 정답이 1인 비율\\n\\nF1-스코어\\n- 일반적으로 precision(정밀도)와 recall(재현율)은 트레이드 오프 관계\\n- precision(정밀도)가 높으면 recall(재현율)이 낮고, recall(재현율)이 좋으면 precision(정밀도)가 낮다. (반의 상관관계)\\n- precision(정밀도)와 recall(재현율)의 조화평균을 이용한 것이 F1 스코어 평가임\\n'"
      ]
     },
     "metadata": {},
     "execution_count": 19
    }
   ],
   "source": [
    "'''\n",
    "정확도(Accuracy)\n",
    "- 전체 예측 건수에서 정답을 맞힌 건수의 비율\n",
    "- 이때 맞힌 정답이 긍정이든 부정이든 상관없음\n",
    "- 실제로 정답이 1이라고 할때  모델도 1로 예측한 비율\n",
    "- 처음부터 데이터가 1일 확률이 적을 때 사용하면 좋음\n",
    "\n",
    "정밀도(Precision))\n",
    "- 모델이 1이라고 예측한 것 중에서 실제로 정답이 1인 비율\n",
    "\n",
    "F1-스코어\n",
    "- 일반적으로 precision(정밀도)와 recall(재현율)은 트레이드 오프 관계\n",
    "- precision(정밀도)가 높으면 recall(재현율)이 낮고, recall(재현율)이 좋으면 precision(정밀도)가 낮다. (반의 상관관계)\n",
    "- precision(정밀도)와 recall(재현율)의 조화평균을 이용한 것이 F1 스코어 평가임\n",
    "'''\n",
    "\n",
    "\n"
   ]
  },
  {
   "cell_type": "code",
   "execution_count": null,
   "metadata": {},
   "outputs": [],
   "source": []
  }
 ]
}