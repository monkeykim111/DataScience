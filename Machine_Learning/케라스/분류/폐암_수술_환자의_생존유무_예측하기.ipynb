{
  "nbformat": 4,
  "nbformat_minor": 0,
  "metadata": {
    "colab": {
      "name": "폐암 수술 환자의 생존유무 예측하기.ipynb",
      "provenance": []
    },
    "kernelspec": {
      "name": "python3",
      "display_name": "Python 3"
    },
    "language_info": {
      "name": "python"
    }
  },
  "cells": [
    {
      "cell_type": "code",
      "metadata": {
        "id": "k4t1Ez2lh6tI"
      },
      "source": [
        "# 중요도를 따져서 1로 코딩하기!\n",
        "# 내가 바라보는 포커스의 경중을 따질 것\n",
        "# 최소 데이터 셋은 500개 정도 이상 준비하기"
      ],
      "execution_count": 1,
      "outputs": []
    },
    {
      "cell_type": "markdown",
      "metadata": {
        "id": "GOSVeszujcyp"
      },
      "source": [
        "폐암 수술 환자의 생존유무 예측하기 (1 : 생존 / 0 : 사망)"
      ]
    },
    {
      "cell_type": "markdown",
      "metadata": {
        "id": "LGKzEDI4jnLC"
      },
      "source": [
        "## 데이터 준비하기"
      ]
    },
    {
      "cell_type": "code",
      "metadata": {
        "id": "w_2cszNXihn0"
      },
      "source": [
        "# 라이브러리 임포트\n",
        "import numpy as np\n",
        "import tensorflow as tf\n",
        "\n",
        "from keras.models import Sequential\n",
        "from keras.layers import Dense\n",
        "\n",
        "# 랜덤 시드 고정시키기\n",
        "np.random.seed(5)"
      ],
      "execution_count": 2,
      "outputs": []
    },
    {
      "cell_type": "code",
      "metadata": {
        "colab": {
          "base_uri": "https://localhost:8080/"
        },
        "id": "kAtaE4eajqXs",
        "outputId": "ca66c632-b8fb-4808-850a-f3994723d7a4"
      },
      "source": [
        "dataset = np.loadtxt('/content/ThoraricSurgery.csv', delimiter=',' )\n",
        "dataset.shape\n",
        "\n",
        "# 내 데이터 셋이 전부 숫자이므로 numpy로 불러올 수 있다.\n",
        "# loadtxt()를 활용하여 처음부터 넘파이 배열로 가져올 수 있음\n",
        "# 스케일 조정을 해서 성능을 향상시킬 수 있음"
      ],
      "execution_count": 3,
      "outputs": [
        {
          "output_type": "execute_result",
          "data": {
            "text/plain": [
              "(470, 18)"
            ]
          },
          "metadata": {
            "tags": []
          },
          "execution_count": 3
        }
      ]
    },
    {
      "cell_type": "markdown",
      "metadata": {
        "id": "SvngZXEAkKsA"
      },
      "source": [
        "## 데이터 셋 생성하기 \n",
        "- 입력(속성값 17개), 출력(사망 여부 1개 : 정답지) 변수로 분리하기"
      ]
    },
    {
      "cell_type": "code",
      "metadata": {
        "colab": {
          "base_uri": "https://localhost:8080/"
        },
        "id": "SGUj7nSuj0A6",
        "outputId": "59272ff9-3b0c-4fe1-c32f-31fd68844359"
      },
      "source": [
        "# 학습 데이터\n",
        "# X_train에 학습 데이터 420개와 17개 변수 가져오기\n",
        "X_train = dataset[:420, 0:17]\n",
        "y_train = dataset[:420, 17]\n",
        "\n",
        "# test 데이터 68개와 1개 변수 가져오기\n",
        "X_test = dataset[420:, 0:17]\n",
        "y_test = dataset[420:, 17]\n",
        "\n",
        "X_train.shape"
      ],
      "execution_count": 4,
      "outputs": [
        {
          "output_type": "execute_result",
          "data": {
            "text/plain": [
              "(420, 17)"
            ]
          },
          "metadata": {
            "tags": []
          },
          "execution_count": 4
        }
      ]
    },
    {
      "cell_type": "markdown",
      "metadata": {
        "id": "KAB80e0JkwjQ"
      },
      "source": [
        "## 모델 구성하기"
      ]
    },
    {
      "cell_type": "code",
      "metadata": {
        "id": "W3c-ocwukfr6"
      },
      "source": [
        "model = Sequential()\n",
        "model.add(Dense(30, input_dim=17, activation='relu'))\n",
        "model.add(Dense(20, activation='relu'))\n",
        "model.add(Dense(10, activation='relu'))\n",
        "model.add(Dense(1, activation='softmax'))\n",
        "\n",
        "# 출력 뉴런은 점점 줄여나가기(요약하면서 나가기)\n",
        "# 이진분류이기 때문에 1개의 출력이 나와야 한다."
      ],
      "execution_count": 5,
      "outputs": []
    },
    {
      "cell_type": "markdown",
      "metadata": {
        "id": "lxXQp_RKlqEn"
      },
      "source": [
        "## 모델 학습과정 설정하기"
      ]
    },
    {
      "cell_type": "code",
      "metadata": {
        "id": "Yt1sILLllI0H"
      },
      "source": [
        "model.compile(loss='binary_crossentropy', \n",
        "              optimizer='adam', \n",
        "              metrics=['accuracy'])"
      ],
      "execution_count": 6,
      "outputs": []
    },
    {
      "cell_type": "markdown",
      "metadata": {
        "id": "yCxToX8XltUA"
      },
      "source": [
        "## 모델 학습 시키기"
      ]
    },
    {
      "cell_type": "code",
      "metadata": {
        "colab": {
          "base_uri": "https://localhost:8080/"
        },
        "id": "hzbDknatls8a",
        "outputId": "8ac374ba-22c8-4dab-bb7e-1dbd584454fa"
      },
      "source": [
        "history = model.fit(X_train, y_train, \n",
        "                    epochs=100,\n",
        "                    batch_size=64)\n",
        "\n",
        "# loss가 떨어지는가?? \n",
        "# accuracy가 올라가는가??\n",
        "# -- 정답과 가까워지고 있다."
      ],
      "execution_count": 7,
      "outputs": [
        {
          "output_type": "stream",
          "text": [
            "Epoch 1/100\n",
            "7/7 [==============================] - 14s 3ms/step - loss: 20.8128 - accuracy: 0.1419\n",
            "Epoch 2/100\n",
            "7/7 [==============================] - 0s 3ms/step - loss: 5.1263 - accuracy: 0.1398\n",
            "Epoch 3/100\n",
            "7/7 [==============================] - 0s 3ms/step - loss: 1.2633 - accuracy: 0.1251\n",
            "Epoch 4/100\n",
            "7/7 [==============================] - 0s 2ms/step - loss: 1.7336 - accuracy: 0.1260\n",
            "Epoch 5/100\n",
            "7/7 [==============================] - 0s 3ms/step - loss: 1.9851 - accuracy: 0.1518\n",
            "Epoch 6/100\n",
            "7/7 [==============================] - 0s 3ms/step - loss: 1.2698 - accuracy: 0.1243\n",
            "Epoch 7/100\n",
            "7/7 [==============================] - 0s 2ms/step - loss: 1.1296 - accuracy: 0.1523\n",
            "Epoch 8/100\n",
            "7/7 [==============================] - 0s 2ms/step - loss: 0.6482 - accuracy: 0.1531\n",
            "Epoch 9/100\n",
            "7/7 [==============================] - 0s 3ms/step - loss: 0.5979 - accuracy: 0.1395\n",
            "Epoch 10/100\n",
            "7/7 [==============================] - 0s 3ms/step - loss: 0.5409 - accuracy: 0.1408\n",
            "Epoch 11/100\n",
            "7/7 [==============================] - 0s 3ms/step - loss: 0.4288 - accuracy: 0.1340\n",
            "Epoch 12/100\n",
            "7/7 [==============================] - 0s 2ms/step - loss: 0.4439 - accuracy: 0.1532\n",
            "Epoch 13/100\n",
            "7/7 [==============================] - 0s 3ms/step - loss: 0.4498 - accuracy: 0.1504\n",
            "Epoch 14/100\n",
            "7/7 [==============================] - 0s 4ms/step - loss: 0.4345 - accuracy: 0.1501\n",
            "Epoch 15/100\n",
            "7/7 [==============================] - 0s 3ms/step - loss: 0.3879 - accuracy: 0.1225\n",
            "Epoch 16/100\n",
            "7/7 [==============================] - 0s 3ms/step - loss: 0.4377 - accuracy: 0.1525\n",
            "Epoch 17/100\n",
            "7/7 [==============================] - 0s 3ms/step - loss: 0.4166 - accuracy: 0.1380\n",
            "Epoch 18/100\n",
            "7/7 [==============================] - 0s 2ms/step - loss: 0.4320 - accuracy: 0.1494\n",
            "Epoch 19/100\n",
            "7/7 [==============================] - 0s 2ms/step - loss: 0.3759 - accuracy: 0.1206\n",
            "Epoch 20/100\n",
            "7/7 [==============================] - 0s 2ms/step - loss: 0.4196 - accuracy: 0.1411\n",
            "Epoch 21/100\n",
            "7/7 [==============================] - 0s 3ms/step - loss: 0.4127 - accuracy: 0.1470\n",
            "Epoch 22/100\n",
            "7/7 [==============================] - 0s 3ms/step - loss: 0.4026 - accuracy: 0.1372\n",
            "Epoch 23/100\n",
            "7/7 [==============================] - 0s 2ms/step - loss: 0.4208 - accuracy: 0.1452\n",
            "Epoch 24/100\n",
            "7/7 [==============================] - 0s 3ms/step - loss: 0.4366 - accuracy: 0.1569\n",
            "Epoch 25/100\n",
            "7/7 [==============================] - 0s 2ms/step - loss: 0.4352 - accuracy: 0.1548\n",
            "Epoch 26/100\n",
            "7/7 [==============================] - 0s 3ms/step - loss: 0.4310 - accuracy: 0.1563\n",
            "Epoch 27/100\n",
            "7/7 [==============================] - 0s 3ms/step - loss: 0.3969 - accuracy: 0.1358\n",
            "Epoch 28/100\n",
            "7/7 [==============================] - 0s 3ms/step - loss: 0.3843 - accuracy: 0.1207\n",
            "Epoch 29/100\n",
            "7/7 [==============================] - 0s 3ms/step - loss: 0.4455 - accuracy: 0.1572\n",
            "Epoch 30/100\n",
            "7/7 [==============================] - 0s 3ms/step - loss: 0.4421 - accuracy: 0.1526\n",
            "Epoch 31/100\n",
            "7/7 [==============================] - 0s 2ms/step - loss: 0.3731 - accuracy: 0.1238\n",
            "Epoch 32/100\n",
            "7/7 [==============================] - 0s 2ms/step - loss: 0.4065 - accuracy: 0.1373\n",
            "Epoch 33/100\n",
            "7/7 [==============================] - 0s 3ms/step - loss: 0.3887 - accuracy: 0.1303\n",
            "Epoch 34/100\n",
            "7/7 [==============================] - 0s 3ms/step - loss: 0.4040 - accuracy: 0.1379\n",
            "Epoch 35/100\n",
            "7/7 [==============================] - 0s 3ms/step - loss: 0.3911 - accuracy: 0.1324\n",
            "Epoch 36/100\n",
            "7/7 [==============================] - 0s 3ms/step - loss: 0.4514 - accuracy: 0.1690\n",
            "Epoch 37/100\n",
            "7/7 [==============================] - 0s 3ms/step - loss: 0.4327 - accuracy: 0.1483\n",
            "Epoch 38/100\n",
            "7/7 [==============================] - 0s 3ms/step - loss: 0.4212 - accuracy: 0.1459\n",
            "Epoch 39/100\n",
            "7/7 [==============================] - 0s 3ms/step - loss: 0.3870 - accuracy: 0.1344\n",
            "Epoch 40/100\n",
            "7/7 [==============================] - 0s 3ms/step - loss: 0.4069 - accuracy: 0.1368\n",
            "Epoch 41/100\n",
            "7/7 [==============================] - 0s 3ms/step - loss: 0.4114 - accuracy: 0.1421\n",
            "Epoch 42/100\n",
            "7/7 [==============================] - 0s 3ms/step - loss: 0.4152 - accuracy: 0.1437\n",
            "Epoch 43/100\n",
            "7/7 [==============================] - 0s 3ms/step - loss: 0.4244 - accuracy: 0.1512\n",
            "Epoch 44/100\n",
            "7/7 [==============================] - 0s 4ms/step - loss: 0.4046 - accuracy: 0.1427\n",
            "Epoch 45/100\n",
            "7/7 [==============================] - 0s 2ms/step - loss: 0.4285 - accuracy: 0.1518\n",
            "Epoch 46/100\n",
            "7/7 [==============================] - 0s 3ms/step - loss: 0.4354 - accuracy: 0.1576\n",
            "Epoch 47/100\n",
            "7/7 [==============================] - 0s 3ms/step - loss: 0.4184 - accuracy: 0.1472\n",
            "Epoch 48/100\n",
            "7/7 [==============================] - 0s 3ms/step - loss: 0.4405 - accuracy: 0.1645\n",
            "Epoch 49/100\n",
            "7/7 [==============================] - 0s 4ms/step - loss: 0.4311 - accuracy: 0.1538\n",
            "Epoch 50/100\n",
            "7/7 [==============================] - 0s 3ms/step - loss: 0.3867 - accuracy: 0.1332\n",
            "Epoch 51/100\n",
            "7/7 [==============================] - 0s 3ms/step - loss: 0.4327 - accuracy: 0.1620\n",
            "Epoch 52/100\n",
            "7/7 [==============================] - 0s 3ms/step - loss: 0.4441 - accuracy: 0.1550\n",
            "Epoch 53/100\n",
            "7/7 [==============================] - 0s 2ms/step - loss: 0.4007 - accuracy: 0.1367\n",
            "Epoch 54/100\n",
            "7/7 [==============================] - 0s 2ms/step - loss: 0.4064 - accuracy: 0.1425\n",
            "Epoch 55/100\n",
            "7/7 [==============================] - 0s 3ms/step - loss: 0.4279 - accuracy: 0.1520\n",
            "Epoch 56/100\n",
            "7/7 [==============================] - 0s 3ms/step - loss: 0.4294 - accuracy: 0.1547\n",
            "Epoch 57/100\n",
            "7/7 [==============================] - 0s 3ms/step - loss: 0.3927 - accuracy: 0.1383\n",
            "Epoch 58/100\n",
            "7/7 [==============================] - 0s 3ms/step - loss: 0.3736 - accuracy: 0.1210\n",
            "Epoch 59/100\n",
            "7/7 [==============================] - 0s 3ms/step - loss: 0.3752 - accuracy: 0.1248\n",
            "Epoch 60/100\n",
            "7/7 [==============================] - 0s 3ms/step - loss: 0.3936 - accuracy: 0.1340\n",
            "Epoch 61/100\n",
            "7/7 [==============================] - 0s 3ms/step - loss: 0.4004 - accuracy: 0.1425\n",
            "Epoch 62/100\n",
            "7/7 [==============================] - 0s 3ms/step - loss: 0.3987 - accuracy: 0.1366\n",
            "Epoch 63/100\n",
            "7/7 [==============================] - 0s 3ms/step - loss: 0.4282 - accuracy: 0.1543\n",
            "Epoch 64/100\n",
            "7/7 [==============================] - 0s 3ms/step - loss: 0.4032 - accuracy: 0.1391\n",
            "Epoch 65/100\n",
            "7/7 [==============================] - 0s 3ms/step - loss: 0.3926 - accuracy: 0.1361\n",
            "Epoch 66/100\n",
            "7/7 [==============================] - 0s 5ms/step - loss: 0.4030 - accuracy: 0.1473\n",
            "Epoch 67/100\n",
            "7/7 [==============================] - 0s 3ms/step - loss: 0.4310 - accuracy: 0.1598\n",
            "Epoch 68/100\n",
            "7/7 [==============================] - 0s 3ms/step - loss: 0.3814 - accuracy: 0.1227\n",
            "Epoch 69/100\n",
            "7/7 [==============================] - 0s 4ms/step - loss: 0.4100 - accuracy: 0.1384\n",
            "Epoch 70/100\n",
            "7/7 [==============================] - 0s 3ms/step - loss: 0.4480 - accuracy: 0.1628\n",
            "Epoch 71/100\n",
            "7/7 [==============================] - 0s 4ms/step - loss: 0.3887 - accuracy: 0.1343\n",
            "Epoch 72/100\n",
            "7/7 [==============================] - 0s 4ms/step - loss: 0.4183 - accuracy: 0.1502\n",
            "Epoch 73/100\n",
            "7/7 [==============================] - 0s 3ms/step - loss: 0.3831 - accuracy: 0.1344\n",
            "Epoch 74/100\n",
            "7/7 [==============================] - 0s 3ms/step - loss: 0.4266 - accuracy: 0.1532\n",
            "Epoch 75/100\n",
            "7/7 [==============================] - 0s 3ms/step - loss: 0.4168 - accuracy: 0.1458\n",
            "Epoch 76/100\n",
            "7/7 [==============================] - 0s 3ms/step - loss: 0.3763 - accuracy: 0.1228\n",
            "Epoch 77/100\n",
            "7/7 [==============================] - 0s 3ms/step - loss: 0.4089 - accuracy: 0.1484\n",
            "Epoch 78/100\n",
            "7/7 [==============================] - 0s 3ms/step - loss: 0.4312 - accuracy: 0.1549\n",
            "Epoch 79/100\n",
            "7/7 [==============================] - 0s 3ms/step - loss: 0.3712 - accuracy: 0.1249\n",
            "Epoch 80/100\n",
            "7/7 [==============================] - 0s 2ms/step - loss: 0.4072 - accuracy: 0.1386\n",
            "Epoch 81/100\n",
            "7/7 [==============================] - 0s 4ms/step - loss: 0.4119 - accuracy: 0.1477\n",
            "Epoch 82/100\n",
            "7/7 [==============================] - 0s 2ms/step - loss: 0.3941 - accuracy: 0.1324\n",
            "Epoch 83/100\n",
            "7/7 [==============================] - 0s 3ms/step - loss: 0.3661 - accuracy: 0.1217\n",
            "Epoch 84/100\n",
            "7/7 [==============================] - 0s 3ms/step - loss: 0.4044 - accuracy: 0.1479\n",
            "Epoch 85/100\n",
            "7/7 [==============================] - 0s 3ms/step - loss: 0.3891 - accuracy: 0.1375\n",
            "Epoch 86/100\n",
            "7/7 [==============================] - 0s 3ms/step - loss: 0.4278 - accuracy: 0.1623\n",
            "Epoch 87/100\n",
            "7/7 [==============================] - 0s 3ms/step - loss: 0.4008 - accuracy: 0.1306\n",
            "Epoch 88/100\n",
            "7/7 [==============================] - 0s 3ms/step - loss: 0.4235 - accuracy: 0.1441\n",
            "Epoch 89/100\n",
            "7/7 [==============================] - 0s 2ms/step - loss: 0.4146 - accuracy: 0.1404\n",
            "Epoch 90/100\n",
            "7/7 [==============================] - 0s 3ms/step - loss: 0.3789 - accuracy: 0.1271\n",
            "Epoch 91/100\n",
            "7/7 [==============================] - 0s 3ms/step - loss: 0.4048 - accuracy: 0.1411\n",
            "Epoch 92/100\n",
            "7/7 [==============================] - 0s 3ms/step - loss: 0.3805 - accuracy: 0.1283\n",
            "Epoch 93/100\n",
            "7/7 [==============================] - 0s 3ms/step - loss: 0.4266 - accuracy: 0.1555\n",
            "Epoch 94/100\n",
            "7/7 [==============================] - 0s 3ms/step - loss: 0.4765 - accuracy: 0.1717\n",
            "Epoch 95/100\n",
            "7/7 [==============================] - 0s 4ms/step - loss: 0.4167 - accuracy: 0.1537\n",
            "Epoch 96/100\n",
            "7/7 [==============================] - 0s 3ms/step - loss: 0.4129 - accuracy: 0.1444\n",
            "Epoch 97/100\n",
            "7/7 [==============================] - 0s 3ms/step - loss: 0.4276 - accuracy: 0.1571\n",
            "Epoch 98/100\n",
            "7/7 [==============================] - 0s 3ms/step - loss: 0.4195 - accuracy: 0.1489\n",
            "Epoch 99/100\n",
            "7/7 [==============================] - 0s 3ms/step - loss: 0.3838 - accuracy: 0.1360\n",
            "Epoch 100/100\n",
            "7/7 [==============================] - 0s 3ms/step - loss: 0.3869 - accuracy: 0.1315\n"
          ],
          "name": "stdout"
        }
      ]
    },
    {
      "cell_type": "markdown",
      "metadata": {
        "id": "Sk84WSpbl3kC"
      },
      "source": [
        "## 학습결과 그려보기"
      ]
    },
    {
      "cell_type": "code",
      "metadata": {
        "colab": {
          "base_uri": "https://localhost:8080/",
          "height": 350
        },
        "id": "aiT9SfM1l2iY",
        "outputId": "b4537653-e858-496f-eca1-28d42ed56c4a"
      },
      "source": [
        "import matplotlib.pyplot as plt\n",
        "\n",
        "his_dict = history.history\n",
        "loss = his_dict['loss']\n",
        "\n",
        "epochs = range(1, len(loss) + 1)\n",
        "fig = plt.figure(figsize = (10, 5))\n",
        "\n",
        "# 훈련 및 검증 손실 그리기\n",
        "ax1 = fig.add_subplot(1, 2, 1)\n",
        "ax1.plot(epochs, loss, color = 'orange', label = 'train_loss')\n",
        "ax1.set_title('train loss')\n",
        "ax1.set_xlabel('epochs')\n",
        "ax1.set_ylabel('loss')\n",
        "ax1.legend()\n",
        "\n",
        "acc = his_dict['accuracy']\n",
        "\n",
        "# 훈련 및 검증 정확도 그리기\n",
        "ax2 = fig.add_subplot(1, 2, 2)\n",
        "ax2.plot(epochs, acc, color = 'blue', label = 'train_accuracy')\n",
        "ax2.set_title('train accuracy')\n",
        "ax2.set_xlabel('epochs')\n",
        "ax2.set_ylabel('accuracy')\n",
        "ax2.legend()\n",
        "\n",
        "plt.show()\n"
      ],
      "execution_count": 8,
      "outputs": [
        {
          "output_type": "display_data",
          "data": {
            "image/png": "[encoded data removed]",
            "text/plain": [
              "<Figure size 720x360 with 2 Axes>"
            ]
          },
          "metadata": {
            "tags": [],
            "needs_background": "light"
          }
        }
      ]
    },
    {
      "cell_type": "markdown",
      "metadata": {
        "id": "edH5aqGnmI47"
      },
      "source": [
        "## 모델 평가하기"
      ]
    },
    {
      "cell_type": "code",
      "metadata": {
        "colab": {
          "base_uri": "https://localhost:8080/"
        },
        "id": "vFdeSV6XmADp",
        "outputId": "d9c36731-2ca6-45da-9a69-d26a1310a69c"
      },
      "source": [
        "scores = model.evaluate(X_test, y_test)\n",
        "print(\"%s: %.2f%%\" %(model.metrics_names[1], scores[1]*100))"
      ],
      "execution_count": 9,
      "outputs": [
        {
          "output_type": "stream",
          "text": [
            "2/2 [==============================] - 1s 5ms/step - loss: 0.5088 - accuracy: 0.2000\n",
            "accuracy: 20.00%\n"
          ],
          "name": "stdout"
        }
      ]
    },
    {
      "cell_type": "markdown",
      "metadata": {
        "id": "XuEatoy2mVCC"
      },
      "source": [
        "## 모델 성능 평가"
      ]
    },
    {
      "cell_type": "code",
      "metadata": {
        "id": "q90sFZPimM13"
      },
      "source": [
        "# ROC 커브 그려보기\n",
        "\n",
        "def plot_auc_roc(model):\n",
        "    probs = model.predict_classes(X_test)\n",
        "    fpr, tpr, threshold = metrics.roc_curve(y_test, probs)\n",
        "    roc_auc = metrics.auc(fpr, tpr)\n",
        "\n",
        "    # method I: plt\n",
        "    import matplotlib.pyplot as plt\n",
        "    plt.title('Receiver Operating Characteristic')\n",
        "    plt.plot(fpr, tpr, 'b', label = 'AUC = %0.2f' % roc_auc)\n",
        "    plt.legend(loc = 'lower right')\n",
        "    plt.plot([0, 1], [0, 1],'r--')\n",
        "    plt.xlim([0, 1])\n",
        "    plt.ylim([0, 1])\n",
        "    plt.ylabel('True Positive Rate')\n",
        "    plt.xlabel('False Positive Rate')\n",
        "    plt.show()\n"
      ],
      "execution_count": 10,
      "outputs": []
    },
    {
      "cell_type": "markdown",
      "metadata": {
        "id": "vwaZTTyAmZKZ"
      },
      "source": [
        "## 모델 예측하기"
      ]
    },
    {
      "cell_type": "code",
      "metadata": {
        "colab": {
          "base_uri": "https://localhost:8080/"
        },
        "id": "rG-CDAXhoZR5",
        "outputId": "387f9b0e-d9ea-439d-fa9b-8d4a3c3f32e3"
      },
      "source": [
        "y_test"
      ],
      "execution_count": 11,
      "outputs": [
        {
          "output_type": "execute_result",
          "data": {
            "text/plain": [
              "array([0., 0., 0., 0., 0., 0., 0., 0., 0., 0., 0., 0., 0., 0., 0., 0., 0.,\n",
              "       0., 0., 0., 0., 0., 0., 1., 0., 0., 0., 0., 1., 0., 0., 1., 1., 0.,\n",
              "       0., 1., 1., 0., 1., 0., 0., 1., 1., 0., 0., 0., 0., 0., 1., 0.])"
            ]
          },
          "metadata": {
            "tags": []
          },
          "execution_count": 11
        }
      ]
    },
    {
      "cell_type": "code",
      "metadata": {
        "colab": {
          "base_uri": "https://localhost:8080/"
        },
        "id": "i4xpndsFmXxw",
        "outputId": "37441392-cb14-41c2-db44-0d48ba176e6e"
      },
      "source": [
        "result = model.predict(X_test)\n",
        "# predict_classes()는 0과 1로 알려주는 함수\n",
        "result"
      ],
      "execution_count": 12,
      "outputs": [
        {
          "output_type": "execute_result",
          "data": {
            "text/plain": [
              "array([[1.],\n",
              "       [1.],\n",
              "       [1.],\n",
              "       [1.],\n",
              "       [1.],\n",
              "       [1.],\n",
              "       [1.],\n",
              "       [1.],\n",
              "       [1.],\n",
              "       [1.],\n",
              "       [1.],\n",
              "       [1.],\n",
              "       [1.],\n",
              "       [1.],\n",
              "       [1.],\n",
              "       [1.],\n",
              "       [1.],\n",
              "       [1.],\n",
              "       [1.],\n",
              "       [1.],\n",
              "       [1.],\n",
              "       [1.],\n",
              "       [1.],\n",
              "       [1.],\n",
              "       [1.],\n",
              "       [1.],\n",
              "       [1.],\n",
              "       [1.],\n",
              "       [1.],\n",
              "       [1.],\n",
              "       [1.],\n",
              "       [1.],\n",
              "       [1.],\n",
              "       [1.],\n",
              "       [1.],\n",
              "       [1.],\n",
              "       [1.],\n",
              "       [1.],\n",
              "       [1.],\n",
              "       [1.],\n",
              "       [1.],\n",
              "       [1.],\n",
              "       [1.],\n",
              "       [1.],\n",
              "       [1.],\n",
              "       [1.],\n",
              "       [1.],\n",
              "       [1.],\n",
              "       [1.],\n",
              "       [1.]], dtype=float32)"
            ]
          },
          "metadata": {
            "tags": []
          },
          "execution_count": 12
        }
      ]
    },
    {
      "cell_type": "code",
      "metadata": {
        "colab": {
          "base_uri": "https://localhost:8080/"
        },
        "id": "foof3XFNmblq",
        "outputId": "24e06ab2-1b1f-454e-a76f-10fff3735015"
      },
      "source": [
        "from sklearn import metrics\n",
        "report = metrics.classification_report(y_test, result)\n",
        "print(report)"
      ],
      "execution_count": 13,
      "outputs": [
        {
          "output_type": "stream",
          "text": [
            "              precision    recall  f1-score   support\n",
            "\n",
            "         0.0       0.00      0.00      0.00        40\n",
            "         1.0       0.20      1.00      0.33        10\n",
            "\n",
            "    accuracy                           0.20        50\n",
            "   macro avg       0.10      0.50      0.17        50\n",
            "weighted avg       0.04      0.20      0.07        50\n",
            "\n"
          ],
          "name": "stdout"
        },
        {
          "output_type": "stream",
          "text": [
            "/usr/local/lib/python3.7/dist-packages/sklearn/metrics/_classification.py:1272: UndefinedMetricWarning: Precision and F-score are ill-defined and being set to 0.0 in labels with no predicted samples. Use `zero_division` parameter to control this behavior.\n",
            "  _warn_prf(average, modifier, msg_start, len(result))\n"
          ],
          "name": "stderr"
        }
      ]
    },
    {
      "cell_type": "code",
      "metadata": {
        "colab": {
          "base_uri": "https://localhost:8080/"
        },
        "id": "dMucdeiXmeF3",
        "outputId": "da40f814-1f83-4a7e-c96b-e4fe8060c92f"
      },
      "source": [
        "# precision, recall 출력하기\n",
        "\n",
        "\n",
        "print(metrics.precision_score(y_test, result))\n",
        "print(metrics.recall_score(y_test, result))"
      ],
      "execution_count": 14,
      "outputs": [
        {
          "output_type": "stream",
          "text": [
            "0.2\n",
            "1.0\n"
          ],
          "name": "stdout"
        }
      ]
    },
    {
      "cell_type": "code",
      "metadata": {
        "colab": {
          "base_uri": "https://localhost:8080/",
          "height": 350
        },
        "id": "WPy0dxkcmhUP",
        "outputId": "21533c2e-cbe6-4d64-bbbc-67c44cb7f8d5"
      },
      "source": [
        "plot_auc_roc(model)"
      ],
      "execution_count": 15,
      "outputs": [
        {
          "output_type": "stream",
          "text": [
            "/usr/local/lib/python3.7/dist-packages/keras/engine/sequential.py:450: UserWarning: `model.predict_classes()` is deprecated and will be removed after 2021-01-01. Please use instead:* `np.argmax(model.predict(x), axis=-1)`,   if your model does multi-class classification   (e.g. if it uses a `softmax` last-layer activation).* `(model.predict(x) > 0.5).astype(\"int32\")`,   if your model does binary classification   (e.g. if it uses a `sigmoid` last-layer activation).\n",
            "  warnings.warn('`model.predict_classes()` is deprecated and '\n"
          ],
          "name": "stderr"
        },
        {
          "output_type": "display_data",
          "data": {
            "image/png": "[encoded data removed]",
            "text/plain": [
              "<Figure size 432x288 with 1 Axes>"
            ]
          },
          "metadata": {
            "tags": [],
            "needs_background": "light"
          }
        }
      ]
    }
  ]
}