{
  "nbformat": 4,
  "nbformat_minor": 0,
  "metadata": {
    "colab": {
      "name": "[다중분류]MNIST 손글씨 0 ~ 9까지 예측하기.ipynb",
      "provenance": []
    },
    "kernelspec": {
      "name": "python3",
      "display_name": "Python 3"
    },
    "language_info": {
      "name": "python"
    }
  },
  "cells": [
    {
      "cell_type": "markdown",
      "metadata": {
        "id": "Z_GBb3Dj_ymO"
      },
      "source": [
        "0부터 9까지 숫자를 예측하는 다중 분류 문제"
      ]
    },
    {
      "cell_type": "markdown",
      "metadata": {
        "id": "g5uU1W2E_2ZE"
      },
      "source": [
        "데이터 준비하기"
      ]
    },
    {
      "cell_type": "code",
      "metadata": {
        "colab": {
          "base_uri": "https://localhost:8080/"
        },
        "id": "yAtk5BIE-6tT",
        "outputId": "ec1a33ab-a770-42c8-edcb-91e79f317172"
      },
      "source": [
        "from tensorflow.keras.datasets.mnist import load_data\n",
        "\n",
        "# 텐서플로우 저장소에서 데이터를 다운받습니다.\n",
        "(x_train, y_train), (x_test, y_test) = load_data(path='mnist.npz')\n",
        "# 애초에 분리돼서 받아진다."
      ],
      "execution_count": 1,
      "outputs": [
        {
          "output_type": "stream",
          "text": [
            "Downloading data from https://storage.googleapis.com/tensorflow/tf-keras-datasets/mnist.npz\n",
            "11493376/11490434 [==============================] - 0s 0us/step\n"
          ],
          "name": "stdout"
        }
      ]
    },
    {
      "cell_type": "markdown",
      "metadata": {
        "id": "v_jsKfaLABrL"
      },
      "source": [
        "데이터 형태 확인하기"
      ]
    },
    {
      "cell_type": "code",
      "metadata": {
        "colab": {
          "base_uri": "https://localhost:8080/"
        },
        "id": "aMN9XGvQ_958",
        "outputId": "0c51e456-7a28-4340-92e8-d239dde04fb6"
      },
      "source": [
        "# 훈련 데이터\n",
        "print(x_train.shape, y_train.shape)\n",
        "\n",
        "print(y_train)\n",
        "\n",
        "# 테스트 데이터\n",
        "print(x_test.shape, y_test.shape)\n",
        "\n",
        "print(y_test)"
      ],
      "execution_count": 4,
      "outputs": [
        {
          "output_type": "stream",
          "text": [
            "(60000, 28, 28) (60000,)\n",
            "[5 0 4 ... 5 6 8]\n",
            "(10000, 28, 28) (10000,)\n",
            "[7 2 1 ... 4 5 6]\n"
          ],
          "name": "stdout"
        }
      ]
    },
    {
      "cell_type": "code",
      "metadata": {
        "colab": {
          "base_uri": "https://localhost:8080/"
        },
        "id": "1QaNQAIeAV-A",
        "outputId": "0ef4e20b-19f8-4597-d772-796be7a892e0"
      },
      "source": [
        "print(x_train[1])"
      ],
      "execution_count": 20,
      "outputs": [
        {
          "output_type": "stream",
          "text": [
            "[0.         0.         0.         0.         0.         0.\n",
            " 0.         0.         0.         0.         0.         0.\n",
            " 0.         0.         0.         0.         0.         0.\n",
            " 0.         0.         0.         0.         0.         0.\n",
            " 0.         0.         0.         0.         0.         0.\n",
            " 0.         0.         0.         0.         0.         0.\n",
            " 0.         0.         0.         0.         0.         0.\n",
            " 0.         0.         0.         0.         0.         0.\n",
            " 0.         0.         0.         0.         0.         0.\n",
            " 0.         0.         0.         0.         0.         0.\n",
            " 0.         0.         0.         0.         0.         0.\n",
            " 0.         0.         0.         0.         0.         0.\n",
            " 0.         0.         0.         0.         0.         0.\n",
            " 0.         0.         0.         0.         0.         0.\n",
            " 0.         0.         0.         0.         0.         0.\n",
            " 0.         0.         0.         0.         0.         0.\n",
            " 0.         0.         0.         0.         0.         0.\n",
            " 0.         0.         0.         0.         0.         0.\n",
            " 0.         0.         0.         0.         0.         0.\n",
            " 0.         0.         0.         0.         0.         0.\n",
            " 0.         0.         0.         0.         0.         0.\n",
            " 0.         0.         0.         0.         0.         0.\n",
            " 0.         0.         0.         0.         0.         0.\n",
            " 0.         0.         0.         0.         0.         0.\n",
            " 0.         0.         0.         0.         0.         0.\n",
            " 0.         0.         0.         0.         0.         0.\n",
            " 0.         0.         0.         0.         0.         0.\n",
            " 0.         0.         0.         0.         0.         0.\n",
            " 0.         0.         0.         0.         0.         0.\n",
            " 0.         0.         0.         0.         0.         0.\n",
            " 0.         0.         0.         0.         0.         0.\n",
            " 0.         0.         0.         0.         0.         0.\n",
            " 0.         0.         0.         0.         0.         0.\n",
            " 0.         0.         0.         0.21568627 0.49019608 0.68235294\n",
            " 1.         0.56078431 0.3372549  0.39215686 0.74901961 0.86666667\n",
            " 1.         0.64313725 0.49019608 0.49019608 0.18823529 0.\n",
            " 0.         0.         0.         0.         0.         0.\n",
            " 0.         0.         0.         0.         0.         0.71372549\n",
            " 0.97254902 0.98039216 0.99215686 0.99215686 0.99215686 0.99215686\n",
            " 0.98823529 0.98823529 0.99215686 0.99215686 0.99215686 0.99215686\n",
            " 0.99215686 0.99215686 0.98039216 0.97254902 0.68235294 0.21176471\n",
            " 0.         0.         0.         0.         0.         0.\n",
            " 0.         0.         0.         1.         0.99215686 0.99215686\n",
            " 0.99215686 0.99215686 0.99215686 0.99215686 0.99215686 0.99215686\n",
            " 0.99215686 0.99215686 0.99215686 0.99215686 0.99215686 0.99215686\n",
            " 0.99215686 0.99215686 0.99215686 0.67843137 0.         0.\n",
            " 0.         0.         0.         0.         0.         0.\n",
            " 0.         0.78823529 0.99215686 0.99215686 0.99215686 0.83529412\n",
            " 0.58431373 0.58431373 0.58431373 0.58431373 0.58431373 0.58431373\n",
            " 0.58431373 0.58431373 0.58431373 0.84705882 0.99215686 0.99215686\n",
            " 0.99215686 0.97647059 0.2        0.         0.         0.\n",
            " 0.         0.         0.         0.         0.         0.05098039\n",
            " 0.09803922 0.09803922 0.09803922 0.0627451  0.         0.\n",
            " 0.         0.         0.         0.         0.         0.\n",
            " 0.         0.06666667 0.65098039 0.99215686 0.99215686 0.99215686\n",
            " 0.48235294 0.         0.         0.         0.         0.\n",
            " 0.         0.         0.         0.         0.         0.\n",
            " 0.         0.         0.         0.         0.         0.\n",
            " 0.         0.         0.         0.         0.         0.\n",
            " 0.61176471 0.99215686 0.99215686 0.99215686 0.48235294 0.\n",
            " 0.         0.         0.         0.         0.         0.\n",
            " 0.         0.         0.         0.         0.         0.\n",
            " 0.         0.         0.         0.         0.         0.\n",
            " 0.         0.         0.         0.10980392 0.9372549  0.99215686\n",
            " 0.99215686 0.98431373 0.32156863 0.         0.         0.\n",
            " 0.         0.         0.         0.         0.         0.\n",
            " 0.         0.         0.         0.         0.         0.\n",
            " 0.         0.         0.         0.         0.         0.\n",
            " 0.05098039 0.65882353 0.99215686 0.99215686 0.99215686 0.80784314\n",
            " 0.         0.         0.         0.         0.         0.\n",
            " 0.         0.         0.         0.         0.         0.\n",
            " 0.         0.         0.         0.         0.         0.\n",
            " 0.         0.         0.         0.05098039 0.65490196 0.99215686\n",
            " 0.99215686 0.99215686 0.97647059 0.32941176 0.         0.\n",
            " 0.         0.         0.         0.         0.         0.\n",
            " 0.         0.         0.         0.         0.         0.\n",
            " 0.         0.         0.         0.         0.         0.\n",
            " 0.         0.57254902 0.99215686 0.99215686 0.99215686 0.97254902\n",
            " 0.43921569 0.         0.         0.         0.         0.\n",
            " 0.         0.         0.         0.         0.         0.\n",
            " 0.         0.         0.         0.         0.         0.\n",
            " 0.         0.         0.         0.05490196 0.3372549  0.91764706\n",
            " 0.99215686 0.99215686 0.96862745 0.44313725 0.         0.\n",
            " 0.         0.         0.         0.         0.         0.\n",
            " 0.         0.         0.         0.         0.         0.\n",
            " 0.         0.         0.         0.         0.         0.\n",
            " 0.         0.3372549  0.99215686 0.99215686 0.99215686 0.99215686\n",
            " 0.78431373 0.         0.         0.         0.         0.\n",
            " 0.         0.         0.         0.         0.         0.\n",
            " 0.         0.         0.         0.         0.         0.\n",
            " 0.         0.         0.         0.         0.53333333 0.91764706\n",
            " 0.99215686 0.99215686 0.99215686 0.81176471 0.11764706 0.\n",
            " 0.         0.         0.         0.         0.         0.\n",
            " 0.         0.         0.         0.         0.         0.\n",
            " 0.         0.         0.         0.         0.         0.\n",
            " 0.05098039 0.30196078 0.91764706 0.99215686 0.99215686 0.99215686\n",
            " 0.81176471 0.11764706 0.         0.         0.         0.\n",
            " 0.         0.         0.         0.         0.         0.\n",
            " 0.         0.         0.         0.         0.         0.\n",
            " 0.         0.         0.         0.         0.30980392 0.99215686\n",
            " 0.99215686 0.99215686 0.99215686 0.81176471 0.11764706 0.\n",
            " 0.         0.         0.         0.         0.         0.\n",
            " 0.         0.         0.         0.         0.         0.\n",
            " 0.         0.         0.         0.         0.         0.\n",
            " 0.         0.2627451  0.72941176 0.99215686 0.99215686 0.99215686\n",
            " 0.81176471 0.11764706 0.         0.         0.         0.\n",
            " 0.         0.         0.         0.         0.         0.\n",
            " 0.         0.         0.         0.         0.         0.\n",
            " 0.         0.         0.         0.         0.         0.84313725\n",
            " 0.99215686 0.99215686 0.99215686 0.85490196 0.11372549 0.\n",
            " 0.         0.         0.         0.         0.         0.\n",
            " 0.         0.         0.         0.         0.         0.\n",
            " 0.         0.         0.         0.         0.         0.\n",
            " 0.         0.         0.20392157 0.92941176 0.99215686 0.99215686\n",
            " 0.99215686 0.4745098  0.         0.         0.         0.\n",
            " 0.         0.         0.         0.         0.         0.\n",
            " 0.         0.         0.         0.         0.         0.\n",
            " 0.         0.         0.         0.         0.         0.\n",
            " 0.16470588 0.91372549 0.99215686 0.99215686 0.83921569 0.11764706\n",
            " 0.         0.         0.         0.         0.         0.\n",
            " 0.         0.         0.         0.         0.         0.\n",
            " 0.         0.         0.         0.         0.         0.\n",
            " 0.         0.         0.         0.         0.         0.58039216\n",
            " 0.99215686 0.84705882 0.10980392 0.         0.         0.\n",
            " 0.         0.         0.         0.         0.         0.\n",
            " 0.         0.         0.         0.         0.         0.\n",
            " 0.         0.         0.         0.         0.         0.\n",
            " 0.         0.         0.         0.         0.         0.\n",
            " 0.         0.         0.         0.         0.         0.\n",
            " 0.         0.         0.         0.         0.         0.\n",
            " 0.         0.         0.         0.        ]\n"
          ],
          "name": "stdout"
        }
      ]
    },
    {
      "cell_type": "markdown",
      "metadata": {
        "id": "Gkxls4vdA5aU"
      },
      "source": [
        "데이터 그려보기"
      ]
    },
    {
      "cell_type": "code",
      "metadata": {
        "colab": {
          "base_uri": "https://localhost:8080/",
          "height": 298
        },
        "id": "fcM4n0rrAied",
        "outputId": "015e4a06-0b98-42a2-8de4-a52add947711"
      },
      "source": [
        "import matplotlib.pyplot as plt\n",
        "import numpy as np\n",
        "\n",
        "idx = 2\n",
        "img = x_train[idx, :]\n",
        "label = y_train[idx]\n",
        "plt.figure()\n",
        "plt.imshow(img)\n",
        "plt.title('%d-th data, label is %d' % (idx,label))\n"
      ],
      "execution_count": 8,
      "outputs": [
        {
          "output_type": "execute_result",
          "data": {
            "text/plain": [
              "Text(0.5, 1.0, '2-th data, label is 4')"
            ]
          },
          "metadata": {
            "tags": []
          },
          "execution_count": 8
        },
        {
          "output_type": "display_data",
          "data": {
            "image/png": "[encoded data removed]",
            "text/plain": [
              "<Figure size 432x288 with 1 Axes>"
            ]
          },
          "metadata": {
            "tags": [],
            "needs_background": "light"
          }
        }
      ]
    },
    {
      "cell_type": "markdown",
      "metadata": {
        "id": "NzTA5OHZBdse"
      },
      "source": [
        "검증 데이터 만들기"
      ]
    },
    {
      "cell_type": "code",
      "metadata": {
        "id": "uc9hdqYZA8PV"
      },
      "source": [
        "from sklearn.model_selection import train_test_split\n",
        "\n",
        "#검증 데이터 = 쪽지시험\n",
        "\n",
        "# 훈련 검증 데이터를 7:3 비율로 분리하기\n",
        "x_train, x_val, y_train, y_val = train_test_split(x_train,\n",
        "                                                  y_train,\n",
        "                                                  test_size = 0.3,\n",
        "                                                  random_state =777)"
      ],
      "execution_count": 9,
      "outputs": []
    },
    {
      "cell_type": "code",
      "metadata": {
        "colab": {
          "base_uri": "https://localhost:8080/"
        },
        "id": "-3IrIgk_B9Cu",
        "outputId": "c0cd7332-94e7-48da-c5f6-9768a32416fc"
      },
      "source": [
        "print(f'훈련 데이터 : {x_train.shape} 레이블 {y_train.shape}')\n",
        "print(f'검증 데이터 : {x_val.shape} 레이블 {y_val.shape}')"
      ],
      "execution_count": 10,
      "outputs": [
        {
          "output_type": "stream",
          "text": [
            "훈련 데이터 : (42000, 28, 28) 레이블 (42000,)\n",
            "검증 데이터 : (18000, 28, 28) 레이블 (18000,)\n"
          ],
          "name": "stdout"
        }
      ]
    },
    {
      "cell_type": "markdown",
      "metadata": {
        "id": "U7ArD7YtCQsG"
      },
      "source": [
        "모델 입력을 위한 훈련 데이터(손글씨 이미지) 전처리"
      ]
    },
    {
      "cell_type": "markdown",
      "metadata": {
        "id": "4eHIUxU1Cb7F"
      },
      "source": [
        "1) 2차원 배열을 1차원 배열로 바꿔줘야 한다.(28 * 28 = 784)"
      ]
    },
    {
      "cell_type": "code",
      "metadata": {
        "colab": {
          "base_uri": "https://localhost:8080/"
        },
        "id": "dBCOAs2BCPyc",
        "outputId": "15f6958a-a4e8-43bc-e827-771f03289feb"
      },
      "source": [
        "# 모델의 입력으로 사용하기 위한 전처리 과정을 진행하기\n",
        "\n",
        "num_x_train = x_train.shape[0] # 42000\n",
        "num_x_train\n",
        "\n",
        "num_x_val = x_val.shape[0] # 18000\n",
        "num_x_val\n",
        "\n",
        "num_x_test = x_test.shape[0] # 10000\n",
        "num_x_test"
      ],
      "execution_count": 14,
      "outputs": [
        {
          "output_type": "execute_result",
          "data": {
            "text/plain": [
              "10000"
            ]
          },
          "metadata": {
            "tags": []
          },
          "execution_count": 14
        }
      ]
    },
    {
      "cell_type": "code",
      "metadata": {
        "colab": {
          "base_uri": "https://localhost:8080/"
        },
        "id": "4RropVLyC7bV",
        "outputId": "6cb1741e-457e-45fe-a8c7-610969894d77"
      },
      "source": [
        "# 2차원 배열을 1차원 배열로 변경하기(28 * 28 = 784)\n",
        "\n",
        "x_train = (x_train.reshape((num_x_train, 28 * 28)))\n",
        "x_val = (x_val.reshape((num_x_val, 28 * 28)))\n",
        "x_test = (x_test.reshape((num_x_test, 28 * 28)))\n",
        "\n",
        "print(x_train.shape) # 모델 입력을 위해 데이터를 784의 1차원으로 변경함\n",
        "print(x_val.shape)\n",
        "print(x_test.shape)"
      ],
      "execution_count": 17,
      "outputs": [
        {
          "output_type": "stream",
          "text": [
            "(42000, 784)\n",
            "(18000, 784)\n",
            "(10000, 784)\n"
          ],
          "name": "stdout"
        }
      ]
    },
    {
      "cell_type": "code",
      "metadata": {
        "id": "IeA4h2pLDXi4"
      },
      "source": [
        "# 신경망은 스케일에 매우 민감함!\n",
        "\n",
        "# Nomalization(minmax) 모든 컬럼들의 구간이 모두 동일할 때 사용한다.이미지나 픽셀에서 사용\n",
        "# Standardization: feature들의 값이 들쑥날쑥할 때 사용함 \n",
        "# Robury Nomalization"
      ],
      "execution_count": 18,
      "outputs": []
    },
    {
      "cell_type": "code",
      "metadata": {
        "colab": {
          "base_uri": "https://localhost:8080/"
        },
        "id": "7OZhx0mHFeZ0",
        "outputId": "b3f008ff-271d-4f78-f7dd-b3891bff6a4c"
      },
      "source": [
        "# 데이터 스케일링 0 ~ 255를 0 ~ 1사이의 값으로 바꿔주는 작업을 한다. MinMax 알고리즘을 사용한다.\n",
        "\n",
        "x_train = x_train / 255\n",
        "x_val = x_val / 255\n",
        "x_test = x_test / 255\n",
        "\n",
        "print(x_train[0])\n"
      ],
      "execution_count": 19,
      "outputs": [
        {
          "output_type": "stream",
          "text": [
            "[0.         0.         0.         0.         0.         0.\n",
            " 0.         0.         0.         0.         0.         0.\n",
            " 0.         0.         0.         0.         0.         0.\n",
            " 0.         0.         0.         0.         0.         0.\n",
            " 0.         0.         0.         0.         0.         0.\n",
            " 0.         0.         0.         0.         0.         0.\n",
            " 0.         0.         0.         0.         0.         0.\n",
            " 0.         0.         0.         0.         0.         0.\n",
            " 0.         0.         0.         0.         0.         0.\n",
            " 0.         0.         0.         0.         0.         0.\n",
            " 0.         0.         0.         0.         0.         0.\n",
            " 0.         0.         0.         0.         0.         0.\n",
            " 0.         0.         0.         0.         0.         0.\n",
            " 0.         0.         0.         0.         0.         0.\n",
            " 0.         0.         0.         0.         0.         0.\n",
            " 0.         0.         0.         0.         0.         0.\n",
            " 0.         0.09803922 0.49411765 0.81568627 0.99607843 0.88627451\n",
            " 0.04705882 0.         0.         0.         0.         0.\n",
            " 0.         0.         0.         0.         0.         0.\n",
            " 0.         0.         0.         0.         0.         0.\n",
            " 0.         0.         0.         0.         0.05882353 0.82745098\n",
            " 0.99607843 0.99215686 0.99215686 0.99215686 0.4        0.\n",
            " 0.         0.         0.         0.         0.         0.\n",
            " 0.         0.         0.         0.         0.         0.\n",
            " 0.         0.         0.         0.         0.         0.\n",
            " 0.         0.         0.54901961 0.99215686 0.99607843 0.99215686\n",
            " 0.99215686 0.99215686 0.7254902  0.         0.         0.\n",
            " 0.         0.         0.         0.         0.         0.\n",
            " 0.         0.         0.         0.         0.         0.\n",
            " 0.         0.         0.         0.         0.         0.\n",
            " 0.7372549  0.99215686 0.99607843 0.99215686 0.99215686 0.99215686\n",
            " 0.80784314 0.         0.         0.         0.         0.\n",
            " 0.         0.         0.         0.         0.         0.\n",
            " 0.         0.         0.         0.         0.         0.\n",
            " 0.         0.         0.         0.         0.25490196 0.94509804\n",
            " 0.99607843 0.85490196 0.99215686 0.99215686 0.67058824 0.\n",
            " 0.         0.         0.         0.         0.         0.\n",
            " 0.         0.         0.         0.         0.         0.\n",
            " 0.         0.         0.         0.         0.         0.\n",
            " 0.         0.         0.         0.1372549  0.18431373 0.33333333\n",
            " 0.99215686 0.99215686 0.64313725 0.         0.         0.\n",
            " 0.         0.         0.         0.         0.         0.\n",
            " 0.         0.         0.         0.         0.         0.\n",
            " 0.         0.         0.         0.         0.         0.\n",
            " 0.         0.         0.         0.51372549 0.99215686 0.99215686\n",
            " 0.18039216 0.         0.         0.         0.         0.\n",
            " 0.         0.         0.         0.         0.         0.\n",
            " 0.         0.         0.         0.         0.         0.\n",
            " 0.         0.         0.         0.         0.         0.\n",
            " 0.23921569 0.93333333 0.99215686 0.70588235 0.00392157 0.\n",
            " 0.         0.         0.         0.         0.         0.\n",
            " 0.         0.         0.         0.         0.         0.\n",
            " 0.         0.         0.         0.         0.         0.\n",
            " 0.         0.         0.         0.         0.66666667 0.99215686\n",
            " 0.99215686 0.51764706 0.         0.         0.         0.\n",
            " 0.         0.         0.         0.         0.         0.\n",
            " 0.         0.         0.         0.         0.         0.\n",
            " 0.         0.         0.         0.         0.         0.\n",
            " 0.         0.41176471 0.99607843 0.99215686 0.69019608 0.08627451\n",
            " 0.         0.         0.         0.         0.         0.\n",
            " 0.         0.         0.         0.         0.         0.\n",
            " 0.         0.         0.         0.         0.         0.\n",
            " 0.         0.         0.         0.         0.44313725 0.99607843\n",
            " 1.         0.66666667 0.08235294 0.         0.         0.\n",
            " 0.         0.         0.         0.         0.         0.\n",
            " 0.         0.         0.         0.         0.         0.\n",
            " 0.         0.         0.         0.         0.         0.\n",
            " 0.         0.44705882 0.97647059 0.99215686 0.80392157 0.09411765\n",
            " 0.         0.         0.         0.         0.         0.\n",
            " 0.         0.         0.         0.         0.         0.\n",
            " 0.         0.         0.         0.         0.         0.00784314\n",
            " 0.34117647 0.77254902 0.77254902 0.74509804 0.6627451  0.98431373\n",
            " 0.99215686 0.82745098 0.08235294 0.         0.         0.\n",
            " 0.         0.         0.         0.01176471 0.31372549 0.01176471\n",
            " 0.         0.         0.         0.         0.         0.\n",
            " 0.         0.         0.         0.50196078 0.99215686 0.99215686\n",
            " 0.99215686 0.99215686 0.99215686 0.99215686 0.80784314 0.08627451\n",
            " 0.         0.         0.         0.         0.         0.\n",
            " 0.         0.57647059 0.91764706 0.08627451 0.         0.\n",
            " 0.         0.         0.         0.         0.         0.\n",
            " 0.21568627 0.94509804 0.99215686 0.99215686 0.99215686 0.99215686\n",
            " 0.99215686 0.99215686 0.7372549  0.05098039 0.         0.\n",
            " 0.         0.         0.         0.01568627 0.56470588 0.98823529\n",
            " 0.81176471 0.         0.         0.         0.         0.\n",
            " 0.         0.         0.         0.         0.59607843 0.99215686\n",
            " 0.99215686 0.99215686 0.99215686 0.98431373 0.78039216 0.98823529\n",
            " 0.99215686 0.71764706 0.02745098 0.         0.         0.\n",
            " 0.         0.26666667 0.99215686 0.99215686 0.21176471 0.\n",
            " 0.         0.         0.         0.         0.         0.\n",
            " 0.         0.         0.07843137 0.52941176 0.99215686 0.99215686\n",
            " 0.61176471 0.27058824 0.         0.83529412 0.99215686 0.99215686\n",
            " 0.81176471 0.3254902  0.         0.         0.38039216 0.9372549\n",
            " 0.99215686 0.91764706 0.09803922 0.         0.         0.\n",
            " 0.         0.         0.         0.         0.         0.\n",
            " 0.         0.00784314 0.03529412 0.03529412 0.00392157 0.\n",
            " 0.         0.10588235 0.82352941 0.99215686 0.99607843 0.98431373\n",
            " 0.95686275 0.95686275 0.98823529 0.99215686 0.99215686 0.05882353\n",
            " 0.         0.         0.         0.         0.         0.\n",
            " 0.         0.         0.         0.         0.         0.\n",
            " 0.         0.         0.         0.         0.         0.\n",
            " 0.07058824 0.69019608 0.99607843 0.99215686 0.99215686 0.99215686\n",
            " 0.99215686 0.95686275 0.39215686 0.00784314 0.         0.\n",
            " 0.         0.         0.         0.         0.         0.\n",
            " 0.         0.         0.         0.         0.         0.\n",
            " 0.         0.         0.         0.         0.         0.\n",
            " 0.49019608 0.62352941 0.62352941 0.75686275 0.55294118 0.23921569\n",
            " 0.         0.         0.         0.         0.         0.\n",
            " 0.         0.         0.         0.         0.         0.\n",
            " 0.         0.         0.         0.         0.         0.\n",
            " 0.         0.         0.         0.         0.         0.\n",
            " 0.         0.         0.         0.         0.         0.\n",
            " 0.         0.         0.         0.         0.         0.\n",
            " 0.         0.         0.         0.         0.         0.\n",
            " 0.         0.         0.         0.         0.         0.\n",
            " 0.         0.         0.         0.         0.         0.\n",
            " 0.         0.         0.         0.         0.         0.\n",
            " 0.         0.         0.         0.         0.         0.\n",
            " 0.         0.         0.         0.         0.         0.\n",
            " 0.         0.         0.         0.         0.         0.\n",
            " 0.         0.         0.         0.         0.         0.\n",
            " 0.         0.         0.         0.         0.         0.\n",
            " 0.         0.         0.         0.         0.         0.\n",
            " 0.         0.         0.         0.         0.         0.\n",
            " 0.         0.         0.         0.         0.         0.\n",
            " 0.         0.         0.         0.         0.         0.\n",
            " 0.         0.         0.         0.         0.         0.\n",
            " 0.         0.         0.         0.         0.         0.\n",
            " 0.         0.         0.         0.         0.         0.\n",
            " 0.         0.         0.         0.         0.         0.\n",
            " 0.         0.         0.         0.         0.         0.\n",
            " 0.         0.         0.         0.        ]\n"
          ],
          "name": "stdout"
        }
      ]
    },
    {
      "cell_type": "markdown",
      "metadata": {
        "id": "gfSQ3vuGGajL"
      },
      "source": [
        "모델 입력을 위한 레이블(정잡) 전처리"
      ]
    },
    {
      "cell_type": "code",
      "metadata": {
        "colab": {
          "base_uri": "https://localhost:8080/"
        },
        "id": "fNkTIF69G2sL",
        "outputId": "e7242499-f417-4533-a203-d0c5e57d45a8"
      },
      "source": [
        "# 비교\n",
        "y_train"
      ],
      "execution_count": 21,
      "outputs": [
        {
          "output_type": "execute_result",
          "data": {
            "text/plain": [
              "array([2, 7, 6, ..., 3, 4, 5], dtype=uint8)"
            ]
          },
          "metadata": {
            "tags": []
          },
          "execution_count": 21
        }
      ]
    },
    {
      "cell_type": "code",
      "metadata": {
        "id": "dUGfcODpF3kD"
      },
      "source": [
        "from tensorflow.keras.utils import to_categorical\n",
        "# 알아서 범주형으로 만들어줌\n",
        "# 각 데이터의 레이블 0 ~ 9 숫자 값을 범주형 형태로 변경해준다.\n",
        "\n",
        "y_train = to_categorical(y_train)\n",
        "y_val = to_categorical(y_val)\n",
        "y_test = to_categorical(y_test)"
      ],
      "execution_count": 23,
      "outputs": []
    },
    {
      "cell_type": "code",
      "metadata": {
        "colab": {
          "base_uri": "https://localhost:8080/"
        },
        "id": "sbBQwERtG_Af",
        "outputId": "4c61c57d-2d55-4bf6-d2a5-e90c8230ab73"
      },
      "source": [
        "y_train\n",
        "# 다중분류 비교할 때 꼭 이렇게 사용한다. / 위치정보가 숫자값이 된다. "
      ],
      "execution_count": 24,
      "outputs": [
        {
          "output_type": "execute_result",
          "data": {
            "text/plain": [
              "array([[0., 0., 1., ..., 0., 0., 0.],\n",
              "       [0., 0., 0., ..., 1., 0., 0.],\n",
              "       [0., 0., 0., ..., 0., 0., 0.],\n",
              "       ...,\n",
              "       [0., 0., 0., ..., 0., 0., 0.],\n",
              "       [0., 0., 0., ..., 0., 0., 0.],\n",
              "       [0., 0., 0., ..., 0., 0., 0.]], dtype=float32)"
            ]
          },
          "metadata": {
            "tags": []
          },
          "execution_count": 24
        }
      ]
    },
    {
      "cell_type": "markdown",
      "metadata": {
        "id": "CFu2Kf_BHr5Z"
      },
      "source": [
        "모델 구성하기"
      ]
    },
    {
      "cell_type": "code",
      "metadata": {
        "id": "whX0rrqRHIvb"
      },
      "source": [
        "# 다중분류에서는 softmax를 사용한다.\n",
        "from keras.models import Sequential\n",
        "from keras.layers import Dense\n",
        "\n",
        "model = Sequential()\n",
        "model.add(Dense(64, activation='relu', input_shape=(784,)))\n",
        "model.add(Dense(32, activation='relu'))\n",
        "model.add(Dense(10, activation='softmax'))\n",
        "\n",
        "# softmax 는 도합이 1이되게 만든다. 다중분류에서는 softmax를 쓰게 되어 있다.\n"
      ],
      "execution_count": 27,
      "outputs": []
    },
    {
      "cell_type": "markdown",
      "metadata": {
        "id": "7O6LWKcWJAAE"
      },
      "source": [
        "모델 설정하기"
      ]
    },
    {
      "cell_type": "code",
      "metadata": {
        "id": "NL49LCCXH3dC"
      },
      "source": [
        "model.compile(loss='categorical_crossentropy', \n",
        "              optimizer='adam', \n",
        "              metrics=['accuracy'])"
      ],
      "execution_count": 28,
      "outputs": []
    },
    {
      "cell_type": "markdown",
      "metadata": {
        "id": "S_H2F_rbJdnA"
      },
      "source": [
        "모델 학습시키기"
      ]
    },
    {
      "cell_type": "code",
      "metadata": {
        "colab": {
          "base_uri": "https://localhost:8080/"
        },
        "id": "J1CX48QcJaR4",
        "outputId": "40d8f7b7-7bec-4bbd-b0d2-a5b678b428a5"
      },
      "source": [
        "history = model.fit(x_train, y_train, \n",
        "                    epochs=30,\n",
        "                    batch_size=128,\n",
        "                    validation_data = (x_val, y_val))\n"
      ],
      "execution_count": 30,
      "outputs": [
        {
          "output_type": "stream",
          "text": [
            "Epoch 1/30\n",
            "329/329 [==============================] - 16s 6ms/step - loss: 0.8851 - accuracy: 0.7422 - val_loss: 0.2383 - val_accuracy: 0.9329\n",
            "Epoch 2/30\n",
            "329/329 [==============================] - 1s 4ms/step - loss: 0.2140 - accuracy: 0.9392 - val_loss: 0.1805 - val_accuracy: 0.9476\n",
            "Epoch 3/30\n",
            "329/329 [==============================] - 1s 4ms/step - loss: 0.1534 - accuracy: 0.9547 - val_loss: 0.1531 - val_accuracy: 0.9562\n",
            "Epoch 4/30\n",
            "329/329 [==============================] - 1s 4ms/step - loss: 0.1233 - accuracy: 0.9642 - val_loss: 0.1391 - val_accuracy: 0.9605\n",
            "Epoch 5/30\n",
            "329/329 [==============================] - 1s 4ms/step - loss: 0.1031 - accuracy: 0.9693 - val_loss: 0.1345 - val_accuracy: 0.9607\n",
            "Epoch 6/30\n",
            "329/329 [==============================] - 1s 4ms/step - loss: 0.0861 - accuracy: 0.9747 - val_loss: 0.1336 - val_accuracy: 0.9594\n",
            "Epoch 7/30\n",
            "329/329 [==============================] - 1s 4ms/step - loss: 0.0809 - accuracy: 0.9759 - val_loss: 0.1197 - val_accuracy: 0.9657\n",
            "Epoch 8/30\n",
            "329/329 [==============================] - 1s 4ms/step - loss: 0.0632 - accuracy: 0.9823 - val_loss: 0.1154 - val_accuracy: 0.9659\n",
            "Epoch 9/30\n",
            "329/329 [==============================] - 1s 4ms/step - loss: 0.0568 - accuracy: 0.9837 - val_loss: 0.1137 - val_accuracy: 0.9677\n",
            "Epoch 10/30\n",
            "329/329 [==============================] - 1s 4ms/step - loss: 0.0488 - accuracy: 0.9863 - val_loss: 0.1132 - val_accuracy: 0.9664\n",
            "Epoch 11/30\n",
            "329/329 [==============================] - 1s 4ms/step - loss: 0.0420 - accuracy: 0.9873 - val_loss: 0.1179 - val_accuracy: 0.9660\n",
            "Epoch 12/30\n",
            "329/329 [==============================] - 1s 4ms/step - loss: 0.0373 - accuracy: 0.9897 - val_loss: 0.1140 - val_accuracy: 0.9676\n",
            "Epoch 13/30\n",
            "329/329 [==============================] - 1s 4ms/step - loss: 0.0340 - accuracy: 0.9909 - val_loss: 0.1123 - val_accuracy: 0.9687\n",
            "Epoch 14/30\n",
            "329/329 [==============================] - 1s 4ms/step - loss: 0.0289 - accuracy: 0.9916 - val_loss: 0.1213 - val_accuracy: 0.9674\n",
            "Epoch 15/30\n",
            "329/329 [==============================] - 1s 3ms/step - loss: 0.0273 - accuracy: 0.9930 - val_loss: 0.1203 - val_accuracy: 0.9683\n",
            "Epoch 16/30\n",
            "329/329 [==============================] - 1s 4ms/step - loss: 0.0220 - accuracy: 0.9943 - val_loss: 0.1302 - val_accuracy: 0.9660\n",
            "Epoch 17/30\n",
            "329/329 [==============================] - 1s 4ms/step - loss: 0.0198 - accuracy: 0.9943 - val_loss: 0.1217 - val_accuracy: 0.9679\n",
            "Epoch 18/30\n",
            "329/329 [==============================] - 1s 4ms/step - loss: 0.0191 - accuracy: 0.9947 - val_loss: 0.1219 - val_accuracy: 0.9690\n",
            "Epoch 19/30\n",
            "329/329 [==============================] - 1s 4ms/step - loss: 0.0142 - accuracy: 0.9968 - val_loss: 0.1315 - val_accuracy: 0.9672\n",
            "Epoch 20/30\n",
            "329/329 [==============================] - 1s 4ms/step - loss: 0.0142 - accuracy: 0.9964 - val_loss: 0.1301 - val_accuracy: 0.9688\n",
            "Epoch 21/30\n",
            "329/329 [==============================] - 1s 4ms/step - loss: 0.0126 - accuracy: 0.9968 - val_loss: 0.1322 - val_accuracy: 0.9689\n",
            "Epoch 22/30\n",
            "329/329 [==============================] - 1s 4ms/step - loss: 0.0096 - accuracy: 0.9979 - val_loss: 0.1303 - val_accuracy: 0.9694\n",
            "Epoch 23/30\n",
            "329/329 [==============================] - 1s 4ms/step - loss: 0.0093 - accuracy: 0.9977 - val_loss: 0.1420 - val_accuracy: 0.9677\n",
            "Epoch 24/30\n",
            "329/329 [==============================] - 1s 4ms/step - loss: 0.0085 - accuracy: 0.9979 - val_loss: 0.1471 - val_accuracy: 0.9662\n",
            "Epoch 25/30\n",
            "329/329 [==============================] - 1s 4ms/step - loss: 0.0087 - accuracy: 0.9977 - val_loss: 0.1498 - val_accuracy: 0.9664\n",
            "Epoch 26/30\n",
            "329/329 [==============================] - 1s 4ms/step - loss: 0.0232 - accuracy: 0.9928 - val_loss: 0.1488 - val_accuracy: 0.9679\n",
            "Epoch 27/30\n",
            "329/329 [==============================] - 1s 4ms/step - loss: 0.0054 - accuracy: 0.9994 - val_loss: 0.1572 - val_accuracy: 0.9674\n",
            "Epoch 28/30\n",
            "329/329 [==============================] - 1s 4ms/step - loss: 0.0051 - accuracy: 0.9989 - val_loss: 0.1454 - val_accuracy: 0.9701\n",
            "Epoch 29/30\n",
            "329/329 [==============================] - 1s 4ms/step - loss: 0.0029 - accuracy: 0.9998 - val_loss: 0.1459 - val_accuracy: 0.9704\n",
            "Epoch 30/30\n",
            "329/329 [==============================] - 1s 4ms/step - loss: 0.0045 - accuracy: 0.9990 - val_loss: 0.1766 - val_accuracy: 0.9649\n"
          ],
          "name": "stdout"
        }
      ]
    },
    {
      "cell_type": "markdown",
      "metadata": {
        "id": "xvNhjQ5-KTxS"
      },
      "source": [
        "학습결과 그리기"
      ]
    },
    {
      "cell_type": "code",
      "metadata": {
        "colab": {
          "base_uri": "https://localhost:8080/",
          "height": 350
        },
        "id": "bzfSZUEkJrFo",
        "outputId": "9c9f4542-5ef7-460e-de97-cb383c41b924"
      },
      "source": [
        "import matplotlib.pyplot as plt\n",
        "\n",
        "his_dict = history.history\n",
        "loss = his_dict['loss']\n",
        "val_loss = his_dict['val_loss'] # 검증 데이터가 있는 경우 ‘val_’ 수식어가 붙습니다.\n",
        "\n",
        "epochs = range(1, len(loss) + 1)\n",
        "fig = plt.figure(figsize = (10, 5))\n",
        "\n",
        "# 훈련 및 검증 손실 그리기\n",
        "ax1 = fig.add_subplot(1, 2, 1)\n",
        "ax1.plot(epochs, loss, color = 'blue', label = 'train_loss')\n",
        "ax1.plot(epochs, val_loss, color = 'orange', label = 'val_loss')\n",
        "ax1.set_title('train and val loss')\n",
        "ax1.set_xlabel('epochs')\n",
        "ax1.set_ylabel('loss')\n",
        "ax1.legend()\n",
        "\n",
        "acc = his_dict['accuracy']\n",
        "val_acc = his_dict['val_accuracy']\n",
        "\n",
        "# 훈련 및 검증 정확도 그리기\n",
        "ax2 = fig.add_subplot(1, 2, 2)\n",
        "ax2.plot(epochs, acc, color = 'blue', label = 'train_acc')\n",
        "ax2.plot(epochs, val_acc, color = 'orange', label = 'val_acc')\n",
        "ax2.set_title('train and val acc')\n",
        "ax2.set_xlabel('epochs')\n",
        "ax2.set_ylabel('loss')\n",
        "ax2.legend()\n",
        "\n",
        "plt.show()\n",
        "\n",
        "# train 정확도와 val 정확도가 만나는 시점이 가장 좋은 spot이다.\n",
        "# 만약 이 격차가 벌어진다면 overfitting 된다고 볼 수 있다."
      ],
      "execution_count": 31,
      "outputs": [
        {
          "output_type": "display_data",
          "data": {
            "image/png": "[encoded data removed]",
            "text/plain": [
              "<Figure size 720x360 with 2 Axes>"
            ]
          },
          "metadata": {
            "tags": [],
            "needs_background": "light"
          }
        }
      ]
    },
    {
      "cell_type": "markdown",
      "metadata": {
        "id": "U10VQpPVK_HI"
      },
      "source": [
        "모델 평가하기"
      ]
    },
    {
      "cell_type": "code",
      "metadata": {
        "colab": {
          "base_uri": "https://localhost:8080/"
        },
        "id": "Dpm_ZkFcKaFZ",
        "outputId": "a55e6274-72ad-4d3d-a1a7-3ef6ebdcc77f"
      },
      "source": [
        "scores = model.evaluate(x_test, y_test)\n",
        "print(\"%s: %.2f%%\" %(model.metrics_names[1], scores[1]*100))"
      ],
      "execution_count": 34,
      "outputs": [
        {
          "output_type": "stream",
          "text": [
            "313/313 [==============================] - 0s 1ms/step - loss: 0.1585 - accuracy: 0.9678\n",
            "accuracy: 96.78%\n"
          ],
          "name": "stdout"
        }
      ]
    },
    {
      "cell_type": "markdown",
      "metadata": {
        "id": "iZu1jemiLQ9I"
      },
      "source": [
        "예측값 그려서 확인해보기"
      ]
    },
    {
      "cell_type": "code",
      "metadata": {
        "colab": {
          "base_uri": "https://localhost:8080/"
        },
        "id": "_bT6N4doLDtA",
        "outputId": "b40672e4-5d7e-4a54-ffbe-26bd5e12ed48"
      },
      "source": [
        "import numpy as np\n",
        "np.set_printoptions(suppress=True)\n",
        "\n",
        "results = model.predict(x_test)\n",
        "print(results.shape)\n",
        "np.set_printoptions(precision=7) # numpy 소수점 제한\n",
        "print(f'각 클래스에 속할 확률 : \\n{results[0]}')\n"
      ],
      "execution_count": 35,
      "outputs": [
        {
          "output_type": "stream",
          "text": [
            "(10000, 10)\n",
            "각 클래스에 속할 확률 : \n",
            "[0.        0.        0.        0.0000052 0.        0.        0.\n",
            " 0.9999946 0.        0.0000002]\n"
          ],
          "name": "stdout"
        }
      ]
    },
    {
      "cell_type": "code",
      "metadata": {
        "colab": {
          "base_uri": "https://localhost:8080/",
          "height": 281
        },
        "id": "JYIBLFtXLWrA",
        "outputId": "24a2254f-242f-4758-d23f-fe8551e77d91"
      },
      "source": [
        "import matplotlib.pyplot as plt\n",
        "\n",
        "arg_results = np.argmax(results, axis = -1) # 가장 큰 값의 인덱스를 가져옵니다.(0.9999946)\n",
        "plt.imshow(x_test[0].reshape(28, 28))\n",
        "plt.title('Predicted value of the first image : ' + str(arg_results[0]))\n",
        "plt.show()\n"
      ],
      "execution_count": 36,
      "outputs": [
        {
          "output_type": "display_data",
          "data": {
            "image/png": "[encoded data removed]",
            "text/plain": [
              "<Figure size 432x288 with 1 Axes>"
            ]
          },
          "metadata": {
            "tags": [],
            "needs_background": "light"
          }
        }
      ]
    },
    {
      "cell_type": "markdown",
      "metadata": {
        "id": "jEeupjSQLuRz"
      },
      "source": [
        "모델 평가 방법 1 - 혼동 행렬"
      ]
    },
    {
      "cell_type": "code",
      "metadata": {
        "colab": {
          "base_uri": "https://localhost:8080/",
          "height": 442
        },
        "id": "KKXI3-vZLbN4",
        "outputId": "fb648685-11b1-4dd2-f3a4-37f3b29dc427"
      },
      "source": [
        "# sklearn.metrics 모듈은 여러가지 평가 지표에 관한 기능을 제공합니다.\n",
        "from sklearn.metrics import classification_report, confusion_matrix\n",
        "import matplotlib.pyplot as plt\n",
        "import seaborn as sns\n",
        "\n",
        "# 혼동 행렬을 만듭니다.\n",
        "plt.figure(figsize = (7, 7))\n",
        "cm = confusion_matrix(np.argmax(y_test, axis = -1), np.argmax(results, axis = -1))\n",
        "sns.heatmap(cm, annot = True, fmt = 'd',cmap = 'Blues')\n",
        "plt.xlabel('predicted label')\n",
        "plt.ylabel('true label')\n",
        "plt.show()\n",
        "\n",
        "# 색이 진할수록 정확도가 높아진다.\n",
        "# 예측에 많이 틀리는 것을 찾을 수 있다.\n"
      ],
      "execution_count": 37,
      "outputs": [
        {
          "output_type": "display_data",
          "data": {
            "image/png": "[encoded data removed]",
            "text/plain": [
              "<Figure size 504x504 with 2 Axes>"
            ]
          },
          "metadata": {
            "tags": [],
            "needs_background": "light"
          }
        }
      ]
    },
    {
      "cell_type": "markdown",
      "metadata": {
        "id": "_fmulTboMbbP"
      },
      "source": [
        "모델 평가 방법 2 - 분류 보고서"
      ]
    },
    {
      "cell_type": "code",
      "metadata": {
        "colab": {
          "base_uri": "https://localhost:8080/"
        },
        "id": "gC13SJUlL0pg",
        "outputId": "47690a01-74b5-45e2-d606-7cb80a36508e"
      },
      "source": [
        "print('\\n', classification_report(np.argmax(y_test, axis = -1), np.argmax(results, axis = -1)))\n",
        "\n",
        "# recall 값이 가장 떨어지는 8값의 글씨를 보완해서 학습을 시키자\n"
      ],
      "execution_count": 38,
      "outputs": [
        {
          "output_type": "stream",
          "text": [
            "\n",
            "               precision    recall  f1-score   support\n",
            "\n",
            "           0       0.98      0.98      0.98       980\n",
            "           1       0.99      0.98      0.99      1135\n",
            "           2       0.97      0.97      0.97      1032\n",
            "           3       0.95      0.97      0.96      1010\n",
            "           4       0.95      0.97      0.96       982\n",
            "           5       0.96      0.97      0.96       892\n",
            "           6       0.96      0.99      0.97       958\n",
            "           7       0.97      0.96      0.97      1028\n",
            "           8       0.98      0.92      0.95       974\n",
            "           9       0.96      0.96      0.96      1009\n",
            "\n",
            "    accuracy                           0.97     10000\n",
            "   macro avg       0.97      0.97      0.97     10000\n",
            "weighted avg       0.97      0.97      0.97     10000\n",
            "\n"
          ],
          "name": "stdout"
        }
      ]
    },
    {
      "cell_type": "code",
      "metadata": {
        "id": "x_uT-OZAMfHp"
      },
      "source": [
        ""
      ],
      "execution_count": null,
      "outputs": []
    }
  ]
}