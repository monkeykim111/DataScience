{
  "nbformat": 4,
  "nbformat_minor": 0,
  "metadata": {
    "colab": {
      "name": "[회귀]1970년대 보스턴 지역의 주택 가격 예측.ipynb",
      "provenance": []
    },
    "kernelspec": {
      "name": "python3",
      "display_name": "Python 3"
    },
    "language_info": {
      "name": "python"
    }
  },
  "cells": [
    {
      "cell_type": "markdown",
      "metadata": {
        "id": "KvP5vYSSiymf"
      },
      "source": [
        "1970년대 보스턴 지역의 주택가격 예측 -> 회귀"
      ]
    },
    {
      "cell_type": "markdown",
      "metadata": {
        "id": "ea4S36Nei3g-"
      },
      "source": [
        "데이터 준비하기"
      ]
    },
    {
      "cell_type": "code",
      "metadata": {
        "id": "yRVDrZ1EhoCD"
      },
      "source": [
        "from tensorflow.keras.datasets.boston_housing import load_data\n",
        "\n",
        "# 텐서플로우 저장소에서 데이터를 다운받습니다.\n",
        "(x_train, y_train), (x_test, y_test) = load_data(path = 'boston_housing.npz',\n",
        "                                                 test_split=0.2,\n",
        "                                                 seed=777)\n"
      ],
      "execution_count": 1,
      "outputs": []
    },
    {
      "cell_type": "markdown",
      "metadata": {
        "id": "-KrUQ3TzjKUB"
      },
      "source": [
        "데이터 형태 확인하기"
      ]
    },
    {
      "cell_type": "code",
      "metadata": {
        "colab": {
          "base_uri": "https://localhost:8080/"
        },
        "id": "DpfTb7IcjJD9",
        "outputId": "9f996319-c73a-457b-8fc2-985d80ea9dc8"
      },
      "source": [
        "# 훈련 데이터\n",
        "print(x_train.shape, y_train.shape)\n",
        "\n",
        "# 테스트 데이터\n",
        "print(x_test.shape, y_test.shape)"
      ],
      "execution_count": 2,
      "outputs": [
        {
          "output_type": "stream",
          "text": [
            "(404, 13) (404,)\n",
            "(102, 13) (102,)\n"
          ],
          "name": "stdout"
        }
      ]
    },
    {
      "cell_type": "markdown",
      "metadata": {
        "id": "ooFwdZ8dkKCM"
      },
      "source": [
        "데이터 전처리 및 검증 데이터 셋 만들기"
      ]
    },
    {
      "cell_type": "code",
      "metadata": {
        "colab": {
          "base_uri": "https://localhost:8080/"
        },
        "id": "k2hijeTpjSkn",
        "outputId": "0f9c63f5-723a-4f21-e7c1-f63d6952d8dc"
      },
      "source": [
        "import numpy as np\n",
        "np.set_printoptions(suppress=True)\n",
        "\n",
        "print(x_train[0])\n",
        "\n",
        "# 스케일링\n",
        "# 각각의 데이터의 크기가 제각각으로 차이가 크므로 표준편차(Standardization)를 이용해 나눠주어 그 차이를 줄여준다.\n"
      ],
      "execution_count": 3,
      "outputs": [
        {
          "output_type": "stream",
          "text": [
            "[  0.25199   0.       10.59      0.        0.489     5.783    72.7\n",
            "   4.3549    4.      277.       18.6     389.43     18.06   ]\n"
          ],
          "name": "stdout"
        }
      ]
    },
    {
      "cell_type": "code",
      "metadata": {
        "colab": {
          "base_uri": "https://localhost:8080/"
        },
        "id": "a92dz-IWkYfG",
        "outputId": "39401bbb-450e-4b5d-d873-e4e942e3add2"
      },
      "source": [
        "# 데이터 전처리 -> 표준화 하기(std)\n",
        "\n",
        "mean = np.mean(x_train, axis=0)\n",
        "std = np.std(x_train, axis=0)\n",
        "\n",
        "# 데이터(훈련, 테스트 데이터 모두) - 평균 / 표준편차(Standardization)\n",
        "x_train = (x_train - mean) / std\n",
        "x_test = (x_test - mean) / std\n",
        "\n",
        "print(x_train[0])\n"
      ],
      "execution_count": 4,
      "outputs": [
        {
          "output_type": "stream",
          "text": [
            "[-0.40102395 -0.48033655 -0.12089418 -0.28828791 -0.58254176 -0.68137272\n",
            "  0.11117586  0.26484408 -0.65187119 -0.80249043  0.0756568   0.37366783\n",
            "  0.69211835]\n"
          ],
          "name": "stdout"
        }
      ]
    },
    {
      "cell_type": "code",
      "metadata": {
        "id": "I3BRv0GEk754"
      },
      "source": [
        "# 검증 데이터 셋 만들기\n",
        "\n",
        "from sklearn.model_selection import train_test_split\n",
        "\n",
        "# 훈련 검증 데이터를 7:3 비율로 분리하기\n",
        "x_train, x_val, y_train, y_val = train_test_split(x_train,\n",
        "                                                  y_train,\n",
        "                                                  test_size = 0.33,\n",
        "                                                  random_state =777)"
      ],
      "execution_count": 5,
      "outputs": []
    },
    {
      "cell_type": "code",
      "metadata": {
        "colab": {
          "base_uri": "https://localhost:8080/"
        },
        "id": "jVrvKGYclOZ9",
        "outputId": "d4b416c5-4ed1-437d-863e-26901b6e131c"
      },
      "source": [
        "print(x_train.shape, x_val.shape)"
      ],
      "execution_count": 6,
      "outputs": [
        {
          "output_type": "stream",
          "text": [
            "(270, 13) (134, 13)\n"
          ],
          "name": "stdout"
        }
      ]
    },
    {
      "cell_type": "markdown",
      "metadata": {
        "id": "yGvZmnUBmHgI"
      },
      "source": [
        "모델 구성하기"
      ]
    },
    {
      "cell_type": "code",
      "metadata": {
        "id": "ar8ba4mQlStt"
      },
      "source": [
        "from keras.models import Sequential\n",
        "from keras.layers import Dense\n",
        "\n",
        "model = Sequential()\n",
        "model.add(Dense(64, activation='relu', input_shape=(13,)))\n",
        "model.add(Dense(32, activation='relu'))\n",
        "model.add(Dense(1, activation='linear'))\n"
      ],
      "execution_count": 7,
      "outputs": []
    },
    {
      "cell_type": "markdown",
      "metadata": {
        "id": "lF8Dmojem5hb"
      },
      "source": [
        "모델 설정하기"
      ]
    },
    {
      "cell_type": "code",
      "metadata": {
        "id": "CwjndQXFmKgF"
      },
      "source": [
        "model.compile(optimizer='adam', loss='mse', metrics = ['mae', 'mse'])\n",
        "\n",
        "# mse 는 제곱을 했으므로 집값을 알 수 없지만 \n",
        "# mae 는 절대값을 씌운 것이기 때문에 집값을 알 수 있다."
      ],
      "execution_count": 8,
      "outputs": []
    },
    {
      "cell_type": "markdown",
      "metadata": {
        "id": "Si8_ps6WnZZ8"
      },
      "source": [
        "모델 학습하기"
      ]
    },
    {
      "cell_type": "code",
      "metadata": {
        "colab": {
          "base_uri": "https://localhost:8080/"
        },
        "id": "zm21DMd1nJ1M",
        "outputId": "8f3820a7-16c6-4e77-baed-f867d107be2c"
      },
      "source": [
        "history = model.fit(x_train,\n",
        "                    y_train,\n",
        "                    epochs = 300,\n",
        "                    validation_data = (x_val, y_val))\n"
      ],
      "execution_count": 9,
      "outputs": [
        {
          "output_type": "stream",
          "text": [
            "Epoch 1/300\n",
            "9/9 [==============================] - 14s 66ms/step - loss: 520.2639 - mae: 21.3178 - mse: 520.2639 - val_loss: 603.2297 - val_mae: 22.3615 - val_mse: 603.2297\n",
            "Epoch 2/300\n",
            "9/9 [==============================] - 0s 7ms/step - loss: 518.7179 - mae: 21.2336 - mse: 518.7179 - val_loss: 569.0281 - val_mae: 21.6190 - val_mse: 569.0281\n",
            "Epoch 3/300\n",
            "9/9 [==============================] - 0s 7ms/step - loss: 502.7700 - mae: 20.6773 - mse: 502.7700 - val_loss: 531.1813 - val_mae: 20.7785 - val_mse: 531.1813\n",
            "Epoch 4/300\n",
            "9/9 [==============================] - 0s 7ms/step - loss: 460.9290 - mae: 19.6032 - mse: 460.9290 - val_loss: 488.1256 - val_mae: 19.7826 - val_mse: 488.1256\n",
            "Epoch 5/300\n",
            "9/9 [==============================] - 0s 5ms/step - loss: 412.2425 - mae: 18.4547 - mse: 412.2425 - val_loss: 437.8576 - val_mae: 18.5547 - val_mse: 437.8576\n",
            "Epoch 6/300\n",
            "9/9 [==============================] - 0s 7ms/step - loss: 378.3434 - mae: 17.6687 - mse: 378.3434 - val_loss: 379.5286 - val_mae: 17.0395 - val_mse: 379.5286\n",
            "Epoch 7/300\n",
            "9/9 [==============================] - 0s 4ms/step - loss: 337.3343 - mae: 16.4430 - mse: 337.3343 - val_loss: 313.8560 - val_mae: 15.2326 - val_mse: 313.8560\n",
            "Epoch 8/300\n",
            "9/9 [==============================] - 0s 5ms/step - loss: 254.2482 - mae: 14.0570 - mse: 254.2482 - val_loss: 247.0840 - val_mae: 13.2170 - val_mse: 247.0840\n",
            "Epoch 9/300\n",
            "9/9 [==============================] - 0s 4ms/step - loss: 193.8849 - mae: 12.2482 - mse: 193.8849 - val_loss: 182.8441 - val_mae: 10.9797 - val_mse: 182.8441\n",
            "Epoch 10/300\n",
            "9/9 [==============================] - 0s 4ms/step - loss: 128.9017 - mae: 9.6328 - mse: 128.9017 - val_loss: 130.7030 - val_mae: 8.8444 - val_mse: 130.7030\n",
            "Epoch 11/300\n",
            "9/9 [==============================] - 0s 5ms/step - loss: 97.4103 - mae: 7.9293 - mse: 97.4103 - val_loss: 95.0621 - val_mae: 7.2806 - val_mse: 95.0621\n",
            "Epoch 12/300\n",
            "9/9 [==============================] - 0s 5ms/step - loss: 66.3642 - mae: 6.2812 - mse: 66.3642 - val_loss: 75.0884 - val_mae: 6.4262 - val_mse: 75.0884\n",
            "Epoch 13/300\n",
            "9/9 [==============================] - 0s 5ms/step - loss: 45.7979 - mae: 5.2364 - mse: 45.7979 - val_loss: 63.4080 - val_mae: 5.8695 - val_mse: 63.4080\n",
            "Epoch 14/300\n",
            "9/9 [==============================] - 0s 7ms/step - loss: 39.7934 - mae: 4.9168 - mse: 39.7934 - val_loss: 54.8919 - val_mae: 5.4151 - val_mse: 54.8919\n",
            "Epoch 15/300\n",
            "9/9 [==============================] - 0s 7ms/step - loss: 41.8881 - mae: 4.8476 - mse: 41.8881 - val_loss: 48.4471 - val_mae: 5.0452 - val_mse: 48.4471\n",
            "Epoch 16/300\n",
            "9/9 [==============================] - 0s 5ms/step - loss: 33.5510 - mae: 4.3049 - mse: 33.5510 - val_loss: 44.0050 - val_mae: 4.7763 - val_mse: 44.0050\n",
            "Epoch 17/300\n",
            "9/9 [==============================] - 0s 5ms/step - loss: 24.9574 - mae: 3.8818 - mse: 24.9574 - val_loss: 40.9935 - val_mae: 4.5728 - val_mse: 40.9935\n",
            "Epoch 18/300\n",
            "9/9 [==============================] - 0s 5ms/step - loss: 33.9618 - mae: 4.0143 - mse: 33.9618 - val_loss: 38.2882 - val_mae: 4.4268 - val_mse: 38.2882\n",
            "Epoch 19/300\n",
            "9/9 [==============================] - 0s 5ms/step - loss: 21.5756 - mae: 3.5084 - mse: 21.5756 - val_loss: 36.3859 - val_mae: 4.3082 - val_mse: 36.3859\n",
            "Epoch 20/300\n",
            "9/9 [==============================] - 0s 5ms/step - loss: 21.9328 - mae: 3.5111 - mse: 21.9328 - val_loss: 34.6221 - val_mae: 4.1866 - val_mse: 34.6221\n",
            "Epoch 21/300\n",
            "9/9 [==============================] - 0s 5ms/step - loss: 24.4996 - mae: 3.3617 - mse: 24.4996 - val_loss: 33.3592 - val_mae: 4.0985 - val_mse: 33.3592\n",
            "Epoch 22/300\n",
            "9/9 [==============================] - 0s 7ms/step - loss: 17.1137 - mae: 3.1880 - mse: 17.1137 - val_loss: 32.3781 - val_mae: 4.0170 - val_mse: 32.3781\n",
            "Epoch 23/300\n",
            "9/9 [==============================] - 0s 5ms/step - loss: 22.4592 - mae: 3.4514 - mse: 22.4592 - val_loss: 31.4207 - val_mae: 3.9852 - val_mse: 31.4207\n",
            "Epoch 24/300\n",
            "9/9 [==============================] - 0s 5ms/step - loss: 21.9199 - mae: 3.3206 - mse: 21.9199 - val_loss: 30.6787 - val_mae: 3.9409 - val_mse: 30.6787\n",
            "Epoch 25/300\n",
            "9/9 [==============================] - 0s 5ms/step - loss: 18.3453 - mae: 3.1207 - mse: 18.3453 - val_loss: 30.0169 - val_mae: 3.8871 - val_mse: 30.0169\n",
            "Epoch 26/300\n",
            "9/9 [==============================] - 0s 5ms/step - loss: 29.4822 - mae: 3.5980 - mse: 29.4822 - val_loss: 29.3487 - val_mae: 3.8430 - val_mse: 29.3487\n",
            "Epoch 27/300\n",
            "9/9 [==============================] - 0s 6ms/step - loss: 16.2464 - mae: 2.9490 - mse: 16.2464 - val_loss: 28.9414 - val_mae: 3.7872 - val_mse: 28.9414\n",
            "Epoch 28/300\n",
            "9/9 [==============================] - 0s 5ms/step - loss: 16.6493 - mae: 3.0244 - mse: 16.6493 - val_loss: 28.7385 - val_mae: 3.7574 - val_mse: 28.7385\n",
            "Epoch 29/300\n",
            "9/9 [==============================] - 0s 5ms/step - loss: 23.1923 - mae: 3.1532 - mse: 23.1923 - val_loss: 28.4203 - val_mae: 3.7302 - val_mse: 28.4203\n",
            "Epoch 30/300\n",
            "9/9 [==============================] - 0s 6ms/step - loss: 17.5219 - mae: 3.0048 - mse: 17.5219 - val_loss: 27.6568 - val_mae: 3.6753 - val_mse: 27.6568\n",
            "Epoch 31/300\n",
            "9/9 [==============================] - 0s 8ms/step - loss: 13.8303 - mae: 2.6620 - mse: 13.8303 - val_loss: 27.2890 - val_mae: 3.6536 - val_mse: 27.2890\n",
            "Epoch 32/300\n",
            "9/9 [==============================] - 0s 7ms/step - loss: 20.8088 - mae: 3.1037 - mse: 20.8088 - val_loss: 26.8038 - val_mae: 3.6444 - val_mse: 26.8038\n",
            "Epoch 33/300\n",
            "9/9 [==============================] - 0s 6ms/step - loss: 16.5285 - mae: 2.8215 - mse: 16.5285 - val_loss: 26.3070 - val_mae: 3.5924 - val_mse: 26.3070\n",
            "Epoch 34/300\n",
            "9/9 [==============================] - 0s 7ms/step - loss: 15.9530 - mae: 2.8850 - mse: 15.9530 - val_loss: 25.8468 - val_mae: 3.5672 - val_mse: 25.8468\n",
            "Epoch 35/300\n",
            "9/9 [==============================] - 0s 5ms/step - loss: 14.7626 - mae: 2.7240 - mse: 14.7626 - val_loss: 25.3305 - val_mae: 3.5394 - val_mse: 25.3305\n",
            "Epoch 36/300\n",
            "9/9 [==============================] - 0s 5ms/step - loss: 15.6784 - mae: 2.9377 - mse: 15.6784 - val_loss: 25.4098 - val_mae: 3.5265 - val_mse: 25.4098\n",
            "Epoch 37/300\n",
            "9/9 [==============================] - 0s 7ms/step - loss: 16.6969 - mae: 2.8865 - mse: 16.6969 - val_loss: 25.1325 - val_mae: 3.4912 - val_mse: 25.1325\n",
            "Epoch 38/300\n",
            "9/9 [==============================] - 0s 5ms/step - loss: 16.4071 - mae: 2.9677 - mse: 16.4071 - val_loss: 24.9837 - val_mae: 3.4727 - val_mse: 24.9837\n",
            "Epoch 39/300\n",
            "9/9 [==============================] - 0s 5ms/step - loss: 16.7002 - mae: 2.8055 - mse: 16.7002 - val_loss: 24.2407 - val_mae: 3.4251 - val_mse: 24.2407\n",
            "Epoch 40/300\n",
            "9/9 [==============================] - 0s 5ms/step - loss: 14.2070 - mae: 2.7428 - mse: 14.2070 - val_loss: 23.9127 - val_mae: 3.3882 - val_mse: 23.9127\n",
            "Epoch 41/300\n",
            "9/9 [==============================] - 0s 6ms/step - loss: 14.8103 - mae: 2.6818 - mse: 14.8103 - val_loss: 23.9682 - val_mae: 3.3704 - val_mse: 23.9682\n",
            "Epoch 42/300\n",
            "9/9 [==============================] - 0s 5ms/step - loss: 18.8463 - mae: 2.7547 - mse: 18.8463 - val_loss: 23.5060 - val_mae: 3.3727 - val_mse: 23.5060\n",
            "Epoch 43/300\n",
            "9/9 [==============================] - 0s 7ms/step - loss: 12.3212 - mae: 2.5593 - mse: 12.3212 - val_loss: 23.0114 - val_mae: 3.3324 - val_mse: 23.0114\n",
            "Epoch 44/300\n",
            "9/9 [==============================] - 0s 5ms/step - loss: 15.0781 - mae: 2.7251 - mse: 15.0781 - val_loss: 23.0997 - val_mae: 3.3062 - val_mse: 23.0997\n",
            "Epoch 45/300\n",
            "9/9 [==============================] - 0s 5ms/step - loss: 15.8113 - mae: 2.6604 - mse: 15.8113 - val_loss: 22.8341 - val_mae: 3.2812 - val_mse: 22.8341\n",
            "Epoch 46/300\n",
            "9/9 [==============================] - 0s 7ms/step - loss: 20.6858 - mae: 2.9816 - mse: 20.6858 - val_loss: 22.3938 - val_mae: 3.2657 - val_mse: 22.3938\n",
            "Epoch 47/300\n",
            "9/9 [==============================] - 0s 5ms/step - loss: 15.0445 - mae: 2.5787 - mse: 15.0445 - val_loss: 22.3155 - val_mae: 3.2396 - val_mse: 22.3155\n",
            "Epoch 48/300\n",
            "9/9 [==============================] - 0s 5ms/step - loss: 13.7270 - mae: 2.5586 - mse: 13.7270 - val_loss: 22.0032 - val_mae: 3.2193 - val_mse: 22.0032\n",
            "Epoch 49/300\n",
            "9/9 [==============================] - 0s 5ms/step - loss: 11.4563 - mae: 2.4086 - mse: 11.4563 - val_loss: 21.8138 - val_mae: 3.1996 - val_mse: 21.8138\n",
            "Epoch 50/300\n",
            "9/9 [==============================] - 0s 7ms/step - loss: 13.9701 - mae: 2.5197 - mse: 13.9701 - val_loss: 21.2832 - val_mae: 3.1812 - val_mse: 21.2832\n",
            "Epoch 51/300\n",
            "9/9 [==============================] - 0s 5ms/step - loss: 13.8414 - mae: 2.6329 - mse: 13.8414 - val_loss: 21.4443 - val_mae: 3.1976 - val_mse: 21.4443\n",
            "Epoch 52/300\n",
            "9/9 [==============================] - 0s 6ms/step - loss: 14.2732 - mae: 2.5532 - mse: 14.2732 - val_loss: 21.0449 - val_mae: 3.1668 - val_mse: 21.0449\n",
            "Epoch 53/300\n",
            "9/9 [==============================] - 0s 6ms/step - loss: 11.4533 - mae: 2.3850 - mse: 11.4533 - val_loss: 21.2440 - val_mae: 3.1364 - val_mse: 21.2440\n",
            "Epoch 54/300\n",
            "9/9 [==============================] - 0s 5ms/step - loss: 17.2809 - mae: 2.5978 - mse: 17.2809 - val_loss: 21.2022 - val_mae: 3.1499 - val_mse: 21.2022\n",
            "Epoch 55/300\n",
            "9/9 [==============================] - 0s 5ms/step - loss: 10.9017 - mae: 2.3245 - mse: 10.9017 - val_loss: 20.7480 - val_mae: 3.0883 - val_mse: 20.7480\n",
            "Epoch 56/300\n",
            "9/9 [==============================] - 0s 7ms/step - loss: 11.3231 - mae: 2.2972 - mse: 11.3231 - val_loss: 20.3752 - val_mae: 3.0902 - val_mse: 20.3752\n",
            "Epoch 57/300\n",
            "9/9 [==============================] - 0s 7ms/step - loss: 12.6437 - mae: 2.3791 - mse: 12.6437 - val_loss: 20.2522 - val_mae: 3.0761 - val_mse: 20.2522\n",
            "Epoch 58/300\n",
            "9/9 [==============================] - 0s 5ms/step - loss: 13.3668 - mae: 2.4732 - mse: 13.3668 - val_loss: 19.9860 - val_mae: 3.0485 - val_mse: 19.9860\n",
            "Epoch 59/300\n",
            "9/9 [==============================] - 0s 6ms/step - loss: 11.2897 - mae: 2.4012 - mse: 11.2897 - val_loss: 19.9785 - val_mae: 3.0462 - val_mse: 19.9785\n",
            "Epoch 60/300\n",
            "9/9 [==============================] - 0s 5ms/step - loss: 12.8284 - mae: 2.3649 - mse: 12.8284 - val_loss: 19.9608 - val_mae: 3.0479 - val_mse: 19.9608\n",
            "Epoch 61/300\n",
            "9/9 [==============================] - 0s 5ms/step - loss: 11.9893 - mae: 2.3119 - mse: 11.9893 - val_loss: 20.1305 - val_mae: 3.0416 - val_mse: 20.1305\n",
            "Epoch 62/300\n",
            "9/9 [==============================] - 0s 4ms/step - loss: 10.3992 - mae: 2.2437 - mse: 10.3992 - val_loss: 19.8535 - val_mae: 3.0139 - val_mse: 19.8535\n",
            "Epoch 63/300\n",
            "9/9 [==============================] - 0s 7ms/step - loss: 9.5929 - mae: 2.2132 - mse: 9.5929 - val_loss: 19.5351 - val_mae: 2.9775 - val_mse: 19.5351\n",
            "Epoch 64/300\n",
            "9/9 [==============================] - 0s 5ms/step - loss: 11.9942 - mae: 2.3679 - mse: 11.9942 - val_loss: 19.2309 - val_mae: 2.9843 - val_mse: 19.2309\n",
            "Epoch 65/300\n",
            "9/9 [==============================] - 0s 7ms/step - loss: 11.6117 - mae: 2.2933 - mse: 11.6117 - val_loss: 18.9828 - val_mae: 2.9755 - val_mse: 18.9828\n",
            "Epoch 66/300\n",
            "9/9 [==============================] - 0s 5ms/step - loss: 11.5035 - mae: 2.3072 - mse: 11.5035 - val_loss: 18.8265 - val_mae: 2.9659 - val_mse: 18.8265\n",
            "Epoch 67/300\n",
            "9/9 [==============================] - 0s 5ms/step - loss: 11.7784 - mae: 2.3659 - mse: 11.7784 - val_loss: 18.9736 - val_mae: 2.9587 - val_mse: 18.9736\n",
            "Epoch 68/300\n",
            "9/9 [==============================] - 0s 7ms/step - loss: 10.1534 - mae: 2.2827 - mse: 10.1534 - val_loss: 19.0514 - val_mae: 2.9788 - val_mse: 19.0514\n",
            "Epoch 69/300\n",
            "9/9 [==============================] - 0s 7ms/step - loss: 8.7475 - mae: 2.1524 - mse: 8.7475 - val_loss: 18.6243 - val_mae: 2.9413 - val_mse: 18.6243\n",
            "Epoch 70/300\n",
            "9/9 [==============================] - 0s 5ms/step - loss: 14.5961 - mae: 2.4074 - mse: 14.5961 - val_loss: 18.4151 - val_mae: 2.9204 - val_mse: 18.4151\n",
            "Epoch 71/300\n",
            "9/9 [==============================] - 0s 8ms/step - loss: 11.1165 - mae: 2.2818 - mse: 11.1165 - val_loss: 18.6530 - val_mae: 2.9213 - val_mse: 18.6530\n",
            "Epoch 72/300\n",
            "9/9 [==============================] - 0s 4ms/step - loss: 12.8649 - mae: 2.2958 - mse: 12.8649 - val_loss: 18.4463 - val_mae: 2.9278 - val_mse: 18.4463\n",
            "Epoch 73/300\n",
            "9/9 [==============================] - 0s 5ms/step - loss: 9.7109 - mae: 2.1619 - mse: 9.7109 - val_loss: 18.1961 - val_mae: 2.9121 - val_mse: 18.1961\n",
            "Epoch 74/300\n",
            "9/9 [==============================] - 0s 5ms/step - loss: 9.2258 - mae: 2.1527 - mse: 9.2258 - val_loss: 17.8516 - val_mae: 2.8681 - val_mse: 17.8516\n",
            "Epoch 75/300\n",
            "9/9 [==============================] - 0s 5ms/step - loss: 10.7882 - mae: 2.2260 - mse: 10.7882 - val_loss: 18.0760 - val_mae: 2.9027 - val_mse: 18.0760\n",
            "Epoch 76/300\n",
            "9/9 [==============================] - 0s 5ms/step - loss: 10.0196 - mae: 2.2061 - mse: 10.0196 - val_loss: 18.2689 - val_mae: 2.9533 - val_mse: 18.2689\n",
            "Epoch 77/300\n",
            "9/9 [==============================] - 0s 5ms/step - loss: 10.5580 - mae: 2.1880 - mse: 10.5580 - val_loss: 17.9481 - val_mae: 2.8990 - val_mse: 17.9481\n",
            "Epoch 78/300\n",
            "9/9 [==============================] - 0s 5ms/step - loss: 11.5529 - mae: 2.2595 - mse: 11.5529 - val_loss: 17.5022 - val_mae: 2.8257 - val_mse: 17.5022\n",
            "Epoch 79/300\n",
            "9/9 [==============================] - 0s 6ms/step - loss: 11.4563 - mae: 2.2932 - mse: 11.4563 - val_loss: 17.5038 - val_mae: 2.8360 - val_mse: 17.5038\n",
            "Epoch 80/300\n",
            "9/9 [==============================] - 0s 5ms/step - loss: 8.5404 - mae: 2.0793 - mse: 8.5404 - val_loss: 17.6594 - val_mae: 2.8658 - val_mse: 17.6594\n",
            "Epoch 81/300\n",
            "9/9 [==============================] - 0s 5ms/step - loss: 10.2298 - mae: 2.2567 - mse: 10.2298 - val_loss: 17.7536 - val_mae: 2.9077 - val_mse: 17.7536\n",
            "Epoch 82/300\n",
            "9/9 [==============================] - 0s 6ms/step - loss: 9.9182 - mae: 2.2177 - mse: 9.9182 - val_loss: 17.2069 - val_mae: 2.8530 - val_mse: 17.2069\n",
            "Epoch 83/300\n",
            "9/9 [==============================] - 0s 5ms/step - loss: 8.4257 - mae: 2.1053 - mse: 8.4257 - val_loss: 17.3718 - val_mae: 2.8573 - val_mse: 17.3718\n",
            "Epoch 84/300\n",
            "9/9 [==============================] - 0s 5ms/step - loss: 10.0535 - mae: 2.1862 - mse: 10.0535 - val_loss: 16.9094 - val_mae: 2.8348 - val_mse: 16.9094\n",
            "Epoch 85/300\n",
            "9/9 [==============================] - 0s 5ms/step - loss: 13.1032 - mae: 2.3421 - mse: 13.1032 - val_loss: 16.9820 - val_mae: 2.8517 - val_mse: 16.9820\n",
            "Epoch 86/300\n",
            "9/9 [==============================] - 0s 4ms/step - loss: 12.3126 - mae: 2.2078 - mse: 12.3126 - val_loss: 17.0753 - val_mae: 2.8478 - val_mse: 17.0753\n",
            "Epoch 87/300\n",
            "9/9 [==============================] - 0s 4ms/step - loss: 9.7521 - mae: 2.1757 - mse: 9.7521 - val_loss: 17.2958 - val_mae: 2.8793 - val_mse: 17.2958\n",
            "Epoch 88/300\n",
            "9/9 [==============================] - 0s 4ms/step - loss: 9.3657 - mae: 2.1185 - mse: 9.3657 - val_loss: 16.9640 - val_mae: 2.8618 - val_mse: 16.9640\n",
            "Epoch 89/300\n",
            "9/9 [==============================] - 0s 5ms/step - loss: 9.4820 - mae: 2.1881 - mse: 9.4820 - val_loss: 16.5823 - val_mae: 2.7983 - val_mse: 16.5823\n",
            "Epoch 90/300\n",
            "9/9 [==============================] - 0s 5ms/step - loss: 8.7210 - mae: 2.0470 - mse: 8.7210 - val_loss: 16.7861 - val_mae: 2.8338 - val_mse: 16.7861\n",
            "Epoch 91/300\n",
            "9/9 [==============================] - 0s 5ms/step - loss: 7.9493 - mae: 2.0345 - mse: 7.9493 - val_loss: 17.1228 - val_mae: 2.8715 - val_mse: 17.1228\n",
            "Epoch 92/300\n",
            "9/9 [==============================] - 0s 5ms/step - loss: 11.3087 - mae: 2.1109 - mse: 11.3087 - val_loss: 16.4733 - val_mae: 2.8297 - val_mse: 16.4733\n",
            "Epoch 93/300\n",
            "9/9 [==============================] - 0s 7ms/step - loss: 10.6978 - mae: 2.1753 - mse: 10.6978 - val_loss: 16.2724 - val_mae: 2.8064 - val_mse: 16.2724\n",
            "Epoch 94/300\n",
            "9/9 [==============================] - 0s 6ms/step - loss: 10.4612 - mae: 2.1460 - mse: 10.4612 - val_loss: 16.2445 - val_mae: 2.7898 - val_mse: 16.2445\n",
            "Epoch 95/300\n",
            "9/9 [==============================] - 0s 4ms/step - loss: 10.3228 - mae: 2.2320 - mse: 10.3228 - val_loss: 16.6366 - val_mae: 2.8425 - val_mse: 16.6366\n",
            "Epoch 96/300\n",
            "9/9 [==============================] - 0s 4ms/step - loss: 8.7736 - mae: 2.0796 - mse: 8.7736 - val_loss: 16.8308 - val_mae: 2.8435 - val_mse: 16.8308\n",
            "Epoch 97/300\n",
            "9/9 [==============================] - 0s 5ms/step - loss: 11.4941 - mae: 2.2196 - mse: 11.4941 - val_loss: 16.5457 - val_mae: 2.8101 - val_mse: 16.5457\n",
            "Epoch 98/300\n",
            "9/9 [==============================] - 0s 6ms/step - loss: 7.8835 - mae: 1.9883 - mse: 7.8835 - val_loss: 16.2300 - val_mae: 2.7856 - val_mse: 16.2300\n",
            "Epoch 99/300\n",
            "9/9 [==============================] - 0s 5ms/step - loss: 9.5735 - mae: 2.0959 - mse: 9.5735 - val_loss: 16.0537 - val_mae: 2.7831 - val_mse: 16.0537\n",
            "Epoch 100/300\n",
            "9/9 [==============================] - 0s 5ms/step - loss: 11.2074 - mae: 2.1623 - mse: 11.2074 - val_loss: 15.9765 - val_mae: 2.7887 - val_mse: 15.9765\n",
            "Epoch 101/300\n",
            "9/9 [==============================] - 0s 4ms/step - loss: 11.9632 - mae: 2.3345 - mse: 11.9632 - val_loss: 16.1096 - val_mae: 2.7881 - val_mse: 16.1096\n",
            "Epoch 102/300\n",
            "9/9 [==============================] - 0s 5ms/step - loss: 9.7492 - mae: 2.0510 - mse: 9.7492 - val_loss: 16.1131 - val_mae: 2.8002 - val_mse: 16.1131\n",
            "Epoch 103/300\n",
            "9/9 [==============================] - 0s 7ms/step - loss: 10.3404 - mae: 2.1211 - mse: 10.3404 - val_loss: 15.6911 - val_mae: 2.7831 - val_mse: 15.6911\n",
            "Epoch 104/300\n",
            "9/9 [==============================] - 0s 6ms/step - loss: 11.9632 - mae: 2.2717 - mse: 11.9632 - val_loss: 15.7326 - val_mae: 2.7557 - val_mse: 15.7326\n",
            "Epoch 105/300\n",
            "9/9 [==============================] - 0s 5ms/step - loss: 7.8072 - mae: 2.0429 - mse: 7.8072 - val_loss: 15.8313 - val_mae: 2.7750 - val_mse: 15.8313\n",
            "Epoch 106/300\n",
            "9/9 [==============================] - 0s 5ms/step - loss: 13.2728 - mae: 2.3337 - mse: 13.2728 - val_loss: 16.0642 - val_mae: 2.7933 - val_mse: 16.0642\n",
            "Epoch 107/300\n",
            "9/9 [==============================] - 0s 5ms/step - loss: 7.8914 - mae: 1.9963 - mse: 7.8914 - val_loss: 15.7463 - val_mae: 2.7382 - val_mse: 15.7463\n",
            "Epoch 108/300\n",
            "9/9 [==============================] - 0s 7ms/step - loss: 8.5829 - mae: 1.9518 - mse: 8.5829 - val_loss: 15.4591 - val_mae: 2.7333 - val_mse: 15.4591\n",
            "Epoch 109/300\n",
            "9/9 [==============================] - 0s 5ms/step - loss: 8.9516 - mae: 2.0256 - mse: 8.9516 - val_loss: 15.4271 - val_mae: 2.7565 - val_mse: 15.4271\n",
            "Epoch 110/300\n",
            "9/9 [==============================] - 0s 6ms/step - loss: 8.3058 - mae: 2.1003 - mse: 8.3058 - val_loss: 16.1097 - val_mae: 2.7916 - val_mse: 16.1097\n",
            "Epoch 111/300\n",
            "9/9 [==============================] - 0s 5ms/step - loss: 8.0965 - mae: 2.0370 - mse: 8.0965 - val_loss: 15.5901 - val_mae: 2.7618 - val_mse: 15.5901\n",
            "Epoch 112/300\n",
            "9/9 [==============================] - 0s 5ms/step - loss: 7.9963 - mae: 2.0276 - mse: 7.9963 - val_loss: 15.2984 - val_mae: 2.7280 - val_mse: 15.2984\n",
            "Epoch 113/300\n",
            "9/9 [==============================] - 0s 5ms/step - loss: 7.9906 - mae: 1.8990 - mse: 7.9906 - val_loss: 15.2969 - val_mae: 2.7415 - val_mse: 15.2969\n",
            "Epoch 114/300\n",
            "9/9 [==============================] - 0s 4ms/step - loss: 9.2715 - mae: 2.0878 - mse: 9.2715 - val_loss: 15.5705 - val_mae: 2.7639 - val_mse: 15.5705\n",
            "Epoch 115/300\n",
            "9/9 [==============================] - 0s 4ms/step - loss: 9.2509 - mae: 2.1294 - mse: 9.2509 - val_loss: 15.6206 - val_mae: 2.7727 - val_mse: 15.6206\n",
            "Epoch 116/300\n",
            "9/9 [==============================] - 0s 4ms/step - loss: 7.8209 - mae: 2.0571 - mse: 7.8209 - val_loss: 15.1565 - val_mae: 2.7130 - val_mse: 15.1565\n",
            "Epoch 117/300\n",
            "9/9 [==============================] - 0s 5ms/step - loss: 9.3861 - mae: 2.1477 - mse: 9.3861 - val_loss: 15.1571 - val_mae: 2.7568 - val_mse: 15.1571\n",
            "Epoch 118/300\n",
            "9/9 [==============================] - 0s 5ms/step - loss: 8.0184 - mae: 1.9220 - mse: 8.0184 - val_loss: 14.9828 - val_mae: 2.7356 - val_mse: 14.9828\n",
            "Epoch 119/300\n",
            "9/9 [==============================] - 0s 5ms/step - loss: 9.2382 - mae: 2.1010 - mse: 9.2382 - val_loss: 14.8739 - val_mae: 2.7191 - val_mse: 14.8739\n",
            "Epoch 120/300\n",
            "9/9 [==============================] - 0s 4ms/step - loss: 9.6476 - mae: 2.1008 - mse: 9.6476 - val_loss: 14.9718 - val_mae: 2.7194 - val_mse: 14.9718\n",
            "Epoch 121/300\n",
            "9/9 [==============================] - 0s 5ms/step - loss: 9.0771 - mae: 2.1366 - mse: 9.0771 - val_loss: 14.8413 - val_mae: 2.7148 - val_mse: 14.8413\n",
            "Epoch 122/300\n",
            "9/9 [==============================] - 0s 4ms/step - loss: 7.4620 - mae: 1.9744 - mse: 7.4620 - val_loss: 14.9150 - val_mae: 2.7157 - val_mse: 14.9150\n",
            "Epoch 123/300\n",
            "9/9 [==============================] - 0s 6ms/step - loss: 5.8342 - mae: 1.8021 - mse: 5.8342 - val_loss: 14.6376 - val_mae: 2.6775 - val_mse: 14.6376\n",
            "Epoch 124/300\n",
            "9/9 [==============================] - 0s 7ms/step - loss: 7.5920 - mae: 1.9938 - mse: 7.5920 - val_loss: 14.7175 - val_mae: 2.7287 - val_mse: 14.7175\n",
            "Epoch 125/300\n",
            "9/9 [==============================] - 0s 4ms/step - loss: 7.1668 - mae: 1.8852 - mse: 7.1668 - val_loss: 14.8565 - val_mae: 2.7321 - val_mse: 14.8565\n",
            "Epoch 126/300\n",
            "9/9 [==============================] - 0s 7ms/step - loss: 6.8775 - mae: 1.9096 - mse: 6.8775 - val_loss: 14.9479 - val_mae: 2.7257 - val_mse: 14.9479\n",
            "Epoch 127/300\n",
            "9/9 [==============================] - 0s 5ms/step - loss: 8.1608 - mae: 2.0586 - mse: 8.1608 - val_loss: 14.2710 - val_mae: 2.6509 - val_mse: 14.2710\n",
            "Epoch 128/300\n",
            "9/9 [==============================] - 0s 7ms/step - loss: 7.8221 - mae: 1.9807 - mse: 7.8221 - val_loss: 14.3993 - val_mae: 2.7022 - val_mse: 14.3993\n",
            "Epoch 129/300\n",
            "9/9 [==============================] - 0s 5ms/step - loss: 7.6556 - mae: 1.9807 - mse: 7.6556 - val_loss: 14.5614 - val_mae: 2.7182 - val_mse: 14.5614\n",
            "Epoch 130/300\n",
            "9/9 [==============================] - 0s 6ms/step - loss: 9.4248 - mae: 2.1148 - mse: 9.4248 - val_loss: 14.4699 - val_mae: 2.6751 - val_mse: 14.4699\n",
            "Epoch 131/300\n",
            "9/9 [==============================] - 0s 7ms/step - loss: 8.5359 - mae: 2.0038 - mse: 8.5359 - val_loss: 14.4825 - val_mae: 2.6855 - val_mse: 14.4825\n",
            "Epoch 132/300\n",
            "9/9 [==============================] - 0s 5ms/step - loss: 7.2621 - mae: 1.9449 - mse: 7.2621 - val_loss: 14.5780 - val_mae: 2.7069 - val_mse: 14.5780\n",
            "Epoch 133/300\n",
            "9/9 [==============================] - 0s 5ms/step - loss: 7.0704 - mae: 1.9585 - mse: 7.0704 - val_loss: 14.4201 - val_mae: 2.6843 - val_mse: 14.4201\n",
            "Epoch 134/300\n",
            "9/9 [==============================] - 0s 5ms/step - loss: 7.7998 - mae: 1.9832 - mse: 7.7998 - val_loss: 14.2384 - val_mae: 2.6668 - val_mse: 14.2384\n",
            "Epoch 135/300\n",
            "9/9 [==============================] - 0s 8ms/step - loss: 8.1681 - mae: 2.0626 - mse: 8.1681 - val_loss: 14.2358 - val_mae: 2.6547 - val_mse: 14.2358\n",
            "Epoch 136/300\n",
            "9/9 [==============================] - 0s 6ms/step - loss: 7.9354 - mae: 1.9193 - mse: 7.9354 - val_loss: 14.3169 - val_mae: 2.6669 - val_mse: 14.3169\n",
            "Epoch 137/300\n",
            "9/9 [==============================] - 0s 5ms/step - loss: 7.1342 - mae: 1.9286 - mse: 7.1342 - val_loss: 14.3405 - val_mae: 2.6777 - val_mse: 14.3405\n",
            "Epoch 138/300\n",
            "9/9 [==============================] - 0s 7ms/step - loss: 7.1823 - mae: 1.9378 - mse: 7.1823 - val_loss: 14.2333 - val_mae: 2.6499 - val_mse: 14.2333\n",
            "Epoch 139/300\n",
            "9/9 [==============================] - 0s 6ms/step - loss: 7.4696 - mae: 1.9623 - mse: 7.4696 - val_loss: 14.3976 - val_mae: 2.6982 - val_mse: 14.3976\n",
            "Epoch 140/300\n",
            "9/9 [==============================] - 0s 5ms/step - loss: 6.1150 - mae: 1.8065 - mse: 6.1150 - val_loss: 14.2650 - val_mae: 2.6667 - val_mse: 14.2650\n",
            "Epoch 141/300\n",
            "9/9 [==============================] - 0s 5ms/step - loss: 6.7067 - mae: 1.9327 - mse: 6.7067 - val_loss: 14.0179 - val_mae: 2.6363 - val_mse: 14.0179\n",
            "Epoch 142/300\n",
            "9/9 [==============================] - 0s 5ms/step - loss: 9.0136 - mae: 1.9653 - mse: 9.0136 - val_loss: 14.2856 - val_mae: 2.6917 - val_mse: 14.2856\n",
            "Epoch 143/300\n",
            "9/9 [==============================] - 0s 5ms/step - loss: 6.6839 - mae: 1.8880 - mse: 6.6839 - val_loss: 13.8691 - val_mae: 2.6348 - val_mse: 13.8691\n",
            "Epoch 144/300\n",
            "9/9 [==============================] - 0s 5ms/step - loss: 6.9591 - mae: 2.0038 - mse: 6.9591 - val_loss: 14.1100 - val_mae: 2.6617 - val_mse: 14.1100\n",
            "Epoch 145/300\n",
            "9/9 [==============================] - 0s 7ms/step - loss: 8.0107 - mae: 2.0548 - mse: 8.0107 - val_loss: 14.1025 - val_mae: 2.6746 - val_mse: 14.1025\n",
            "Epoch 146/300\n",
            "9/9 [==============================] - 0s 6ms/step - loss: 8.7873 - mae: 1.9201 - mse: 8.7873 - val_loss: 13.7295 - val_mae: 2.6307 - val_mse: 13.7295\n",
            "Epoch 147/300\n",
            "9/9 [==============================] - 0s 5ms/step - loss: 8.0332 - mae: 1.9235 - mse: 8.0332 - val_loss: 13.6815 - val_mae: 2.6161 - val_mse: 13.6815\n",
            "Epoch 148/300\n",
            "9/9 [==============================] - 0s 5ms/step - loss: 6.7362 - mae: 1.8342 - mse: 6.7362 - val_loss: 13.7420 - val_mae: 2.6380 - val_mse: 13.7420\n",
            "Epoch 149/300\n",
            "9/9 [==============================] - 0s 5ms/step - loss: 6.8522 - mae: 1.8693 - mse: 6.8522 - val_loss: 13.9331 - val_mae: 2.6545 - val_mse: 13.9331\n",
            "Epoch 150/300\n",
            "9/9 [==============================] - 0s 7ms/step - loss: 6.7906 - mae: 1.8390 - mse: 6.7906 - val_loss: 13.5747 - val_mae: 2.6038 - val_mse: 13.5747\n",
            "Epoch 151/300\n",
            "9/9 [==============================] - 0s 5ms/step - loss: 7.3476 - mae: 1.9377 - mse: 7.3476 - val_loss: 13.6799 - val_mae: 2.6233 - val_mse: 13.6799\n",
            "Epoch 152/300\n",
            "9/9 [==============================] - 0s 6ms/step - loss: 7.4848 - mae: 1.9552 - mse: 7.4848 - val_loss: 13.4323 - val_mae: 2.6013 - val_mse: 13.4323\n",
            "Epoch 153/300\n",
            "9/9 [==============================] - 0s 5ms/step - loss: 5.9853 - mae: 1.8064 - mse: 5.9853 - val_loss: 13.5901 - val_mae: 2.6178 - val_mse: 13.5901\n",
            "Epoch 154/300\n",
            "9/9 [==============================] - 0s 7ms/step - loss: 7.3177 - mae: 1.9668 - mse: 7.3177 - val_loss: 13.4186 - val_mae: 2.6042 - val_mse: 13.4186\n",
            "Epoch 155/300\n",
            "9/9 [==============================] - 0s 5ms/step - loss: 8.8176 - mae: 1.9679 - mse: 8.8176 - val_loss: 13.0136 - val_mae: 2.5728 - val_mse: 13.0136\n",
            "Epoch 156/300\n",
            "9/9 [==============================] - 0s 5ms/step - loss: 6.6938 - mae: 1.9530 - mse: 6.6938 - val_loss: 13.3073 - val_mae: 2.6039 - val_mse: 13.3073\n",
            "Epoch 157/300\n",
            "9/9 [==============================] - 0s 6ms/step - loss: 8.7118 - mae: 2.0731 - mse: 8.7118 - val_loss: 13.3908 - val_mae: 2.6061 - val_mse: 13.3908\n",
            "Epoch 158/300\n",
            "9/9 [==============================] - 0s 4ms/step - loss: 8.0518 - mae: 1.9468 - mse: 8.0518 - val_loss: 13.4393 - val_mae: 2.6017 - val_mse: 13.4393\n",
            "Epoch 159/300\n",
            "9/9 [==============================] - 0s 6ms/step - loss: 5.7347 - mae: 1.7770 - mse: 5.7347 - val_loss: 13.4388 - val_mae: 2.6159 - val_mse: 13.4388\n",
            "Epoch 160/300\n",
            "9/9 [==============================] - 0s 5ms/step - loss: 6.4259 - mae: 1.8684 - mse: 6.4259 - val_loss: 13.4235 - val_mae: 2.6232 - val_mse: 13.4235\n",
            "Epoch 161/300\n",
            "9/9 [==============================] - 0s 5ms/step - loss: 6.1407 - mae: 1.8728 - mse: 6.1407 - val_loss: 12.8929 - val_mae: 2.5418 - val_mse: 12.8929\n",
            "Epoch 162/300\n",
            "9/9 [==============================] - 0s 6ms/step - loss: 5.4187 - mae: 1.7367 - mse: 5.4187 - val_loss: 13.1316 - val_mae: 2.5702 - val_mse: 13.1316\n",
            "Epoch 163/300\n",
            "9/9 [==============================] - 0s 5ms/step - loss: 6.8378 - mae: 1.8612 - mse: 6.8378 - val_loss: 13.4504 - val_mae: 2.6291 - val_mse: 13.4504\n",
            "Epoch 164/300\n",
            "9/9 [==============================] - 0s 5ms/step - loss: 9.2202 - mae: 1.9686 - mse: 9.2202 - val_loss: 13.0291 - val_mae: 2.5786 - val_mse: 13.0291\n",
            "Epoch 165/300\n",
            "9/9 [==============================] - 0s 5ms/step - loss: 6.7929 - mae: 1.9193 - mse: 6.7929 - val_loss: 13.1910 - val_mae: 2.5737 - val_mse: 13.1910\n",
            "Epoch 166/300\n",
            "9/9 [==============================] - 0s 5ms/step - loss: 5.8173 - mae: 1.8088 - mse: 5.8173 - val_loss: 13.1592 - val_mae: 2.5968 - val_mse: 13.1592\n",
            "Epoch 167/300\n",
            "9/9 [==============================] - 0s 5ms/step - loss: 6.7436 - mae: 1.7923 - mse: 6.7436 - val_loss: 12.7656 - val_mae: 2.5531 - val_mse: 12.7656\n",
            "Epoch 168/300\n",
            "9/9 [==============================] - 0s 6ms/step - loss: 7.3411 - mae: 1.9999 - mse: 7.3411 - val_loss: 13.0153 - val_mae: 2.5836 - val_mse: 13.0153\n",
            "Epoch 169/300\n",
            "9/9 [==============================] - 0s 6ms/step - loss: 7.2750 - mae: 1.8576 - mse: 7.2750 - val_loss: 13.0512 - val_mae: 2.5965 - val_mse: 13.0512\n",
            "Epoch 170/300\n",
            "9/9 [==============================] - 0s 4ms/step - loss: 5.7932 - mae: 1.7733 - mse: 5.7932 - val_loss: 13.0082 - val_mae: 2.5759 - val_mse: 13.0082\n",
            "Epoch 171/300\n",
            "9/9 [==============================] - 0s 5ms/step - loss: 7.5357 - mae: 1.9465 - mse: 7.5357 - val_loss: 12.9395 - val_mae: 2.5724 - val_mse: 12.9395\n",
            "Epoch 172/300\n",
            "9/9 [==============================] - 0s 5ms/step - loss: 8.0255 - mae: 1.8681 - mse: 8.0255 - val_loss: 13.0617 - val_mae: 2.5781 - val_mse: 13.0617\n",
            "Epoch 173/300\n",
            "9/9 [==============================] - 0s 8ms/step - loss: 7.4939 - mae: 1.8897 - mse: 7.4939 - val_loss: 12.7111 - val_mae: 2.5556 - val_mse: 12.7111\n",
            "Epoch 174/300\n",
            "9/9 [==============================] - 0s 5ms/step - loss: 4.7839 - mae: 1.6323 - mse: 4.7839 - val_loss: 12.8537 - val_mae: 2.5630 - val_mse: 12.8537\n",
            "Epoch 175/300\n",
            "9/9 [==============================] - 0s 5ms/step - loss: 5.7103 - mae: 1.7647 - mse: 5.7103 - val_loss: 12.8795 - val_mae: 2.5775 - val_mse: 12.8795\n",
            "Epoch 176/300\n",
            "9/9 [==============================] - 0s 5ms/step - loss: 8.3526 - mae: 2.0332 - mse: 8.3526 - val_loss: 12.5981 - val_mae: 2.5581 - val_mse: 12.5981\n",
            "Epoch 177/300\n",
            "9/9 [==============================] - 0s 6ms/step - loss: 8.0457 - mae: 1.9841 - mse: 8.0457 - val_loss: 12.4328 - val_mae: 2.5226 - val_mse: 12.4328\n",
            "Epoch 178/300\n",
            "9/9 [==============================] - 0s 6ms/step - loss: 5.9942 - mae: 1.7819 - mse: 5.9942 - val_loss: 12.6767 - val_mae: 2.5533 - val_mse: 12.6767\n",
            "Epoch 179/300\n",
            "9/9 [==============================] - 0s 7ms/step - loss: 6.8606 - mae: 1.9181 - mse: 6.8606 - val_loss: 12.3712 - val_mae: 2.5181 - val_mse: 12.3712\n",
            "Epoch 180/300\n",
            "9/9 [==============================] - 0s 5ms/step - loss: 6.7645 - mae: 1.8661 - mse: 6.7645 - val_loss: 13.2067 - val_mae: 2.6138 - val_mse: 13.2067\n",
            "Epoch 181/300\n",
            "9/9 [==============================] - 0s 6ms/step - loss: 6.4905 - mae: 1.8789 - mse: 6.4905 - val_loss: 12.2885 - val_mae: 2.5143 - val_mse: 12.2885\n",
            "Epoch 182/300\n",
            "9/9 [==============================] - 0s 5ms/step - loss: 6.8482 - mae: 1.8307 - mse: 6.8482 - val_loss: 12.5926 - val_mae: 2.5498 - val_mse: 12.5926\n",
            "Epoch 183/300\n",
            "9/9 [==============================] - 0s 5ms/step - loss: 6.8773 - mae: 1.9300 - mse: 6.8773 - val_loss: 12.5129 - val_mae: 2.5181 - val_mse: 12.5129\n",
            "Epoch 184/300\n",
            "9/9 [==============================] - 0s 5ms/step - loss: 6.4303 - mae: 1.8793 - mse: 6.4303 - val_loss: 12.3491 - val_mae: 2.5116 - val_mse: 12.3491\n",
            "Epoch 185/300\n",
            "9/9 [==============================] - 0s 7ms/step - loss: 5.7192 - mae: 1.7912 - mse: 5.7192 - val_loss: 12.3176 - val_mae: 2.5341 - val_mse: 12.3176\n",
            "Epoch 186/300\n",
            "9/9 [==============================] - 0s 5ms/step - loss: 6.0599 - mae: 1.8066 - mse: 6.0599 - val_loss: 12.4726 - val_mae: 2.5483 - val_mse: 12.4726\n",
            "Epoch 187/300\n",
            "9/9 [==============================] - 0s 7ms/step - loss: 6.3781 - mae: 1.8611 - mse: 6.3781 - val_loss: 12.3046 - val_mae: 2.5114 - val_mse: 12.3046\n",
            "Epoch 188/300\n",
            "9/9 [==============================] - 0s 5ms/step - loss: 6.0342 - mae: 1.8102 - mse: 6.0342 - val_loss: 12.3120 - val_mae: 2.5273 - val_mse: 12.3120\n",
            "Epoch 189/300\n",
            "9/9 [==============================] - 0s 6ms/step - loss: 6.0883 - mae: 1.7509 - mse: 6.0883 - val_loss: 12.2774 - val_mae: 2.5350 - val_mse: 12.2774\n",
            "Epoch 190/300\n",
            "9/9 [==============================] - 0s 4ms/step - loss: 8.1562 - mae: 1.9058 - mse: 8.1562 - val_loss: 12.1249 - val_mae: 2.4980 - val_mse: 12.1249\n",
            "Epoch 191/300\n",
            "9/9 [==============================] - 0s 5ms/step - loss: 6.7614 - mae: 1.8229 - mse: 6.7614 - val_loss: 11.9167 - val_mae: 2.4879 - val_mse: 11.9167\n",
            "Epoch 192/300\n",
            "9/9 [==============================] - 0s 5ms/step - loss: 6.4746 - mae: 1.8825 - mse: 6.4746 - val_loss: 12.2073 - val_mae: 2.5071 - val_mse: 12.2073\n",
            "Epoch 193/300\n",
            "9/9 [==============================] - 0s 5ms/step - loss: 6.4184 - mae: 1.8680 - mse: 6.4184 - val_loss: 12.1464 - val_mae: 2.5018 - val_mse: 12.1464\n",
            "Epoch 194/300\n",
            "9/9 [==============================] - 0s 7ms/step - loss: 6.0680 - mae: 1.7782 - mse: 6.0680 - val_loss: 11.9840 - val_mae: 2.4922 - val_mse: 11.9840\n",
            "Epoch 195/300\n",
            "9/9 [==============================] - 0s 7ms/step - loss: 5.5945 - mae: 1.7238 - mse: 5.5945 - val_loss: 12.2195 - val_mae: 2.5236 - val_mse: 12.2195\n",
            "Epoch 196/300\n",
            "9/9 [==============================] - 0s 4ms/step - loss: 5.8929 - mae: 1.8447 - mse: 5.8929 - val_loss: 12.0964 - val_mae: 2.5072 - val_mse: 12.0964\n",
            "Epoch 197/300\n",
            "9/9 [==============================] - 0s 7ms/step - loss: 5.9843 - mae: 1.7758 - mse: 5.9843 - val_loss: 12.0763 - val_mae: 2.5229 - val_mse: 12.0763\n",
            "Epoch 198/300\n",
            "9/9 [==============================] - 0s 7ms/step - loss: 5.8100 - mae: 1.7290 - mse: 5.8100 - val_loss: 11.9783 - val_mae: 2.4957 - val_mse: 11.9783\n",
            "Epoch 199/300\n",
            "9/9 [==============================] - 0s 4ms/step - loss: 4.9739 - mae: 1.6381 - mse: 4.9739 - val_loss: 12.0678 - val_mae: 2.5015 - val_mse: 12.0678\n",
            "Epoch 200/300\n",
            "9/9 [==============================] - 0s 7ms/step - loss: 6.2624 - mae: 1.7994 - mse: 6.2624 - val_loss: 11.8286 - val_mae: 2.4741 - val_mse: 11.8286\n",
            "Epoch 201/300\n",
            "9/9 [==============================] - 0s 6ms/step - loss: 4.9065 - mae: 1.6878 - mse: 4.9065 - val_loss: 11.6735 - val_mae: 2.4574 - val_mse: 11.6735\n",
            "Epoch 202/300\n",
            "9/9 [==============================] - 0s 5ms/step - loss: 6.1052 - mae: 1.8281 - mse: 6.1052 - val_loss: 11.9253 - val_mae: 2.5265 - val_mse: 11.9253\n",
            "Epoch 203/300\n",
            "9/9 [==============================] - 0s 6ms/step - loss: 6.3257 - mae: 1.7803 - mse: 6.3257 - val_loss: 11.5720 - val_mae: 2.4530 - val_mse: 11.5720\n",
            "Epoch 204/300\n",
            "9/9 [==============================] - 0s 6ms/step - loss: 7.3078 - mae: 1.8207 - mse: 7.3078 - val_loss: 11.5824 - val_mae: 2.4447 - val_mse: 11.5824\n",
            "Epoch 205/300\n",
            "9/9 [==============================] - 0s 7ms/step - loss: 6.1577 - mae: 1.8451 - mse: 6.1577 - val_loss: 11.8717 - val_mae: 2.4860 - val_mse: 11.8717\n",
            "Epoch 206/300\n",
            "9/9 [==============================] - 0s 7ms/step - loss: 4.6394 - mae: 1.5599 - mse: 4.6394 - val_loss: 11.9106 - val_mae: 2.4963 - val_mse: 11.9106\n",
            "Epoch 207/300\n",
            "9/9 [==============================] - 0s 5ms/step - loss: 5.5184 - mae: 1.7256 - mse: 5.5184 - val_loss: 11.5636 - val_mae: 2.4549 - val_mse: 11.5636\n",
            "Epoch 208/300\n",
            "9/9 [==============================] - 0s 7ms/step - loss: 6.4221 - mae: 1.7822 - mse: 6.4221 - val_loss: 11.7345 - val_mae: 2.4744 - val_mse: 11.7345\n",
            "Epoch 209/300\n",
            "9/9 [==============================] - 0s 7ms/step - loss: 6.1079 - mae: 1.7427 - mse: 6.1079 - val_loss: 11.7140 - val_mae: 2.4748 - val_mse: 11.7140\n",
            "Epoch 210/300\n",
            "9/9 [==============================] - 0s 6ms/step - loss: 7.2379 - mae: 1.8160 - mse: 7.2379 - val_loss: 11.5324 - val_mae: 2.4519 - val_mse: 11.5324\n",
            "Epoch 211/300\n",
            "9/9 [==============================] - 0s 5ms/step - loss: 6.9725 - mae: 1.7621 - mse: 6.9725 - val_loss: 11.8486 - val_mae: 2.4879 - val_mse: 11.8486\n",
            "Epoch 212/300\n",
            "9/9 [==============================] - 0s 4ms/step - loss: 5.2323 - mae: 1.6082 - mse: 5.2323 - val_loss: 11.4391 - val_mae: 2.4313 - val_mse: 11.4391\n",
            "Epoch 213/300\n",
            "9/9 [==============================] - 0s 5ms/step - loss: 4.1588 - mae: 1.5471 - mse: 4.1588 - val_loss: 11.4740 - val_mae: 2.4383 - val_mse: 11.4740\n",
            "Epoch 214/300\n",
            "9/9 [==============================] - 0s 7ms/step - loss: 5.4180 - mae: 1.6952 - mse: 5.4180 - val_loss: 11.7868 - val_mae: 2.5000 - val_mse: 11.7868\n",
            "Epoch 215/300\n",
            "9/9 [==============================] - 0s 4ms/step - loss: 5.8790 - mae: 1.8180 - mse: 5.8790 - val_loss: 11.4511 - val_mae: 2.4342 - val_mse: 11.4511\n",
            "Epoch 216/300\n",
            "9/9 [==============================] - 0s 5ms/step - loss: 5.2451 - mae: 1.7196 - mse: 5.2451 - val_loss: 11.5960 - val_mae: 2.4693 - val_mse: 11.5960\n",
            "Epoch 217/300\n",
            "9/9 [==============================] - 0s 5ms/step - loss: 5.4368 - mae: 1.7570 - mse: 5.4368 - val_loss: 11.6025 - val_mae: 2.4557 - val_mse: 11.6025\n",
            "Epoch 218/300\n",
            "9/9 [==============================] - 0s 4ms/step - loss: 5.3313 - mae: 1.7222 - mse: 5.3313 - val_loss: 11.6059 - val_mae: 2.4664 - val_mse: 11.6059\n",
            "Epoch 219/300\n",
            "9/9 [==============================] - 0s 6ms/step - loss: 5.6736 - mae: 1.7058 - mse: 5.6736 - val_loss: 11.4887 - val_mae: 2.4594 - val_mse: 11.4887\n",
            "Epoch 220/300\n",
            "9/9 [==============================] - 0s 5ms/step - loss: 4.4130 - mae: 1.5943 - mse: 4.4130 - val_loss: 11.4521 - val_mae: 2.4323 - val_mse: 11.4521\n",
            "Epoch 221/300\n",
            "9/9 [==============================] - 0s 8ms/step - loss: 6.8152 - mae: 1.7654 - mse: 6.8152 - val_loss: 11.3558 - val_mae: 2.4363 - val_mse: 11.3558\n",
            "Epoch 222/300\n",
            "9/9 [==============================] - 0s 4ms/step - loss: 5.4556 - mae: 1.6664 - mse: 5.4556 - val_loss: 11.3799 - val_mae: 2.4487 - val_mse: 11.3799\n",
            "Epoch 223/300\n",
            "9/9 [==============================] - 0s 4ms/step - loss: 6.5154 - mae: 1.7810 - mse: 6.5154 - val_loss: 11.2682 - val_mae: 2.4139 - val_mse: 11.2682\n",
            "Epoch 224/300\n",
            "9/9 [==============================] - 0s 6ms/step - loss: 5.2502 - mae: 1.6274 - mse: 5.2502 - val_loss: 11.4077 - val_mae: 2.4248 - val_mse: 11.4077\n",
            "Epoch 225/300\n",
            "9/9 [==============================] - 0s 5ms/step - loss: 6.1152 - mae: 1.6540 - mse: 6.1152 - val_loss: 11.1067 - val_mae: 2.4172 - val_mse: 11.1067\n",
            "Epoch 226/300\n",
            "9/9 [==============================] - 0s 6ms/step - loss: 5.0866 - mae: 1.6105 - mse: 5.0866 - val_loss: 11.3066 - val_mae: 2.4265 - val_mse: 11.3066\n",
            "Epoch 227/300\n",
            "9/9 [==============================] - 0s 6ms/step - loss: 5.6753 - mae: 1.7084 - mse: 5.6753 - val_loss: 11.2809 - val_mae: 2.4291 - val_mse: 11.2809\n",
            "Epoch 228/300\n",
            "9/9 [==============================] - 0s 5ms/step - loss: 4.7359 - mae: 1.5927 - mse: 4.7359 - val_loss: 11.3013 - val_mae: 2.4128 - val_mse: 11.3013\n",
            "Epoch 229/300\n",
            "9/9 [==============================] - 0s 5ms/step - loss: 5.2650 - mae: 1.6504 - mse: 5.2650 - val_loss: 11.2429 - val_mae: 2.4429 - val_mse: 11.2429\n",
            "Epoch 230/300\n",
            "9/9 [==============================] - 0s 5ms/step - loss: 5.5655 - mae: 1.6953 - mse: 5.5655 - val_loss: 11.1305 - val_mae: 2.4140 - val_mse: 11.1305\n",
            "Epoch 231/300\n",
            "9/9 [==============================] - 0s 5ms/step - loss: 4.7001 - mae: 1.5933 - mse: 4.7001 - val_loss: 10.8787 - val_mae: 2.3842 - val_mse: 10.8787\n",
            "Epoch 232/300\n",
            "9/9 [==============================] - 0s 5ms/step - loss: 4.9413 - mae: 1.6263 - mse: 4.9413 - val_loss: 11.0744 - val_mae: 2.4077 - val_mse: 11.0744\n",
            "Epoch 233/300\n",
            "9/9 [==============================] - 0s 6ms/step - loss: 4.3523 - mae: 1.5816 - mse: 4.3523 - val_loss: 11.1022 - val_mae: 2.4028 - val_mse: 11.1022\n",
            "Epoch 234/300\n",
            "9/9 [==============================] - 0s 6ms/step - loss: 4.6624 - mae: 1.6202 - mse: 4.6624 - val_loss: 10.9814 - val_mae: 2.4134 - val_mse: 10.9814\n",
            "Epoch 235/300\n",
            "9/9 [==============================] - 0s 6ms/step - loss: 5.0795 - mae: 1.6414 - mse: 5.0795 - val_loss: 11.0726 - val_mae: 2.4167 - val_mse: 11.0726\n",
            "Epoch 236/300\n",
            "9/9 [==============================] - 0s 7ms/step - loss: 4.5278 - mae: 1.6587 - mse: 4.5278 - val_loss: 11.0839 - val_mae: 2.3875 - val_mse: 11.0839\n",
            "Epoch 237/300\n",
            "9/9 [==============================] - 0s 5ms/step - loss: 4.2395 - mae: 1.5626 - mse: 4.2395 - val_loss: 11.4004 - val_mae: 2.4724 - val_mse: 11.4004\n",
            "Epoch 238/300\n",
            "9/9 [==============================] - 0s 4ms/step - loss: 4.9502 - mae: 1.6400 - mse: 4.9502 - val_loss: 11.2712 - val_mae: 2.4440 - val_mse: 11.2712\n",
            "Epoch 239/300\n",
            "9/9 [==============================] - 0s 7ms/step - loss: 4.7672 - mae: 1.6335 - mse: 4.7672 - val_loss: 10.9295 - val_mae: 2.3974 - val_mse: 10.9295\n",
            "Epoch 240/300\n",
            "9/9 [==============================] - 0s 5ms/step - loss: 4.6853 - mae: 1.6220 - mse: 4.6853 - val_loss: 11.2690 - val_mae: 2.4316 - val_mse: 11.2690\n",
            "Epoch 241/300\n",
            "9/9 [==============================] - 0s 6ms/step - loss: 3.9779 - mae: 1.5334 - mse: 3.9779 - val_loss: 10.8324 - val_mae: 2.4015 - val_mse: 10.8324\n",
            "Epoch 242/300\n",
            "9/9 [==============================] - 0s 5ms/step - loss: 4.6411 - mae: 1.6049 - mse: 4.6411 - val_loss: 10.9182 - val_mae: 2.4262 - val_mse: 10.9182\n",
            "Epoch 243/300\n",
            "9/9 [==============================] - 0s 5ms/step - loss: 5.3692 - mae: 1.6469 - mse: 5.3692 - val_loss: 11.1812 - val_mae: 2.4094 - val_mse: 11.1812\n",
            "Epoch 244/300\n",
            "9/9 [==============================] - 0s 6ms/step - loss: 5.5115 - mae: 1.6360 - mse: 5.5115 - val_loss: 10.8516 - val_mae: 2.3936 - val_mse: 10.8516\n",
            "Epoch 245/300\n",
            "9/9 [==============================] - 0s 5ms/step - loss: 4.5466 - mae: 1.5810 - mse: 4.5466 - val_loss: 11.1564 - val_mae: 2.4229 - val_mse: 11.1564\n",
            "Epoch 246/300\n",
            "9/9 [==============================] - 0s 5ms/step - loss: 5.5083 - mae: 1.6872 - mse: 5.5083 - val_loss: 10.8683 - val_mae: 2.4048 - val_mse: 10.8683\n",
            "Epoch 247/300\n",
            "9/9 [==============================] - 0s 5ms/step - loss: 4.9587 - mae: 1.5816 - mse: 4.9587 - val_loss: 11.0636 - val_mae: 2.3928 - val_mse: 11.0636\n",
            "Epoch 248/300\n",
            "9/9 [==============================] - 0s 5ms/step - loss: 4.9687 - mae: 1.5948 - mse: 4.9687 - val_loss: 10.9894 - val_mae: 2.4032 - val_mse: 10.9894\n",
            "Epoch 249/300\n",
            "9/9 [==============================] - 0s 5ms/step - loss: 4.7287 - mae: 1.5865 - mse: 4.7287 - val_loss: 10.8323 - val_mae: 2.3899 - val_mse: 10.8323\n",
            "Epoch 250/300\n",
            "9/9 [==============================] - 0s 5ms/step - loss: 4.0913 - mae: 1.4684 - mse: 4.0913 - val_loss: 10.9507 - val_mae: 2.3864 - val_mse: 10.9507\n",
            "Epoch 251/300\n",
            "9/9 [==============================] - 0s 7ms/step - loss: 4.5869 - mae: 1.5642 - mse: 4.5869 - val_loss: 10.9219 - val_mae: 2.4048 - val_mse: 10.9219\n",
            "Epoch 252/300\n",
            "9/9 [==============================] - 0s 7ms/step - loss: 4.6861 - mae: 1.6107 - mse: 4.6861 - val_loss: 10.5533 - val_mae: 2.3585 - val_mse: 10.5533\n",
            "Epoch 253/300\n",
            "9/9 [==============================] - 0s 5ms/step - loss: 4.4561 - mae: 1.6259 - mse: 4.4561 - val_loss: 10.8461 - val_mae: 2.3875 - val_mse: 10.8461\n",
            "Epoch 254/300\n",
            "9/9 [==============================] - 0s 6ms/step - loss: 4.9491 - mae: 1.6124 - mse: 4.9491 - val_loss: 10.9298 - val_mae: 2.4060 - val_mse: 10.9298\n",
            "Epoch 255/300\n",
            "9/9 [==============================] - 0s 5ms/step - loss: 5.4069 - mae: 1.6740 - mse: 5.4069 - val_loss: 10.6882 - val_mae: 2.3756 - val_mse: 10.6882\n",
            "Epoch 256/300\n",
            "9/9 [==============================] - 0s 5ms/step - loss: 5.3666 - mae: 1.6043 - mse: 5.3666 - val_loss: 10.7726 - val_mae: 2.3728 - val_mse: 10.7726\n",
            "Epoch 257/300\n",
            "9/9 [==============================] - 0s 6ms/step - loss: 4.5777 - mae: 1.5313 - mse: 4.5777 - val_loss: 10.6052 - val_mae: 2.3602 - val_mse: 10.6052\n",
            "Epoch 258/300\n",
            "9/9 [==============================] - 0s 6ms/step - loss: 4.1676 - mae: 1.5185 - mse: 4.1676 - val_loss: 10.5784 - val_mae: 2.3631 - val_mse: 10.5784\n",
            "Epoch 259/300\n",
            "9/9 [==============================] - 0s 6ms/step - loss: 4.5175 - mae: 1.5453 - mse: 4.5175 - val_loss: 10.8375 - val_mae: 2.3867 - val_mse: 10.8375\n",
            "Epoch 260/300\n",
            "9/9 [==============================] - 0s 5ms/step - loss: 4.8393 - mae: 1.5453 - mse: 4.8393 - val_loss: 10.5213 - val_mae: 2.3407 - val_mse: 10.5213\n",
            "Epoch 261/300\n",
            "9/9 [==============================] - 0s 5ms/step - loss: 4.3674 - mae: 1.5428 - mse: 4.3674 - val_loss: 10.8182 - val_mae: 2.3945 - val_mse: 10.8182\n",
            "Epoch 262/300\n",
            "9/9 [==============================] - 0s 8ms/step - loss: 5.6162 - mae: 1.6054 - mse: 5.6162 - val_loss: 10.7518 - val_mae: 2.3749 - val_mse: 10.7518\n",
            "Epoch 263/300\n",
            "9/9 [==============================] - 0s 7ms/step - loss: 4.7617 - mae: 1.5367 - mse: 4.7617 - val_loss: 10.5155 - val_mae: 2.3548 - val_mse: 10.5155\n",
            "Epoch 264/300\n",
            "9/9 [==============================] - 0s 5ms/step - loss: 6.0122 - mae: 1.5869 - mse: 6.0122 - val_loss: 10.9125 - val_mae: 2.3883 - val_mse: 10.9125\n",
            "Epoch 265/300\n",
            "9/9 [==============================] - 0s 5ms/step - loss: 5.5139 - mae: 1.6374 - mse: 5.5139 - val_loss: 10.5100 - val_mae: 2.3512 - val_mse: 10.5100\n",
            "Epoch 266/300\n",
            "9/9 [==============================] - 0s 5ms/step - loss: 4.3786 - mae: 1.5248 - mse: 4.3786 - val_loss: 10.4580 - val_mae: 2.3334 - val_mse: 10.4580\n",
            "Epoch 267/300\n",
            "9/9 [==============================] - 0s 6ms/step - loss: 5.5529 - mae: 1.6219 - mse: 5.5529 - val_loss: 10.4857 - val_mae: 2.3434 - val_mse: 10.4857\n",
            "Epoch 268/300\n",
            "9/9 [==============================] - 0s 5ms/step - loss: 4.3955 - mae: 1.5055 - mse: 4.3955 - val_loss: 10.4517 - val_mae: 2.3521 - val_mse: 10.4517\n",
            "Epoch 269/300\n",
            "9/9 [==============================] - 0s 7ms/step - loss: 4.9527 - mae: 1.5454 - mse: 4.9527 - val_loss: 10.6559 - val_mae: 2.3498 - val_mse: 10.6559\n",
            "Epoch 270/300\n",
            "9/9 [==============================] - 0s 5ms/step - loss: 4.1774 - mae: 1.5354 - mse: 4.1774 - val_loss: 10.4136 - val_mae: 2.3518 - val_mse: 10.4136\n",
            "Epoch 271/300\n",
            "9/9 [==============================] - 0s 5ms/step - loss: 4.7606 - mae: 1.6146 - mse: 4.7606 - val_loss: 10.7307 - val_mae: 2.3878 - val_mse: 10.7307\n",
            "Epoch 272/300\n",
            "9/9 [==============================] - 0s 6ms/step - loss: 5.9007 - mae: 1.6446 - mse: 5.9007 - val_loss: 10.4696 - val_mae: 2.3411 - val_mse: 10.4696\n",
            "Epoch 273/300\n",
            "9/9 [==============================] - 0s 5ms/step - loss: 3.9825 - mae: 1.5330 - mse: 3.9825 - val_loss: 10.7014 - val_mae: 2.3556 - val_mse: 10.7014\n",
            "Epoch 274/300\n",
            "9/9 [==============================] - 0s 6ms/step - loss: 5.5449 - mae: 1.5598 - mse: 5.5449 - val_loss: 10.6503 - val_mae: 2.3824 - val_mse: 10.6503\n",
            "Epoch 275/300\n",
            "9/9 [==============================] - 0s 7ms/step - loss: 3.7869 - mae: 1.4412 - mse: 3.7869 - val_loss: 10.1998 - val_mae: 2.3135 - val_mse: 10.1998\n",
            "Epoch 276/300\n",
            "9/9 [==============================] - 0s 7ms/step - loss: 4.8182 - mae: 1.5974 - mse: 4.8182 - val_loss: 10.8489 - val_mae: 2.3975 - val_mse: 10.8489\n",
            "Epoch 277/300\n",
            "9/9 [==============================] - 0s 5ms/step - loss: 4.5906 - mae: 1.5363 - mse: 4.5906 - val_loss: 10.5671 - val_mae: 2.3366 - val_mse: 10.5671\n",
            "Epoch 278/300\n",
            "9/9 [==============================] - 0s 7ms/step - loss: 3.9332 - mae: 1.4813 - mse: 3.9332 - val_loss: 10.3981 - val_mae: 2.3329 - val_mse: 10.3981\n",
            "Epoch 279/300\n",
            "9/9 [==============================] - 0s 6ms/step - loss: 5.4560 - mae: 1.6159 - mse: 5.4560 - val_loss: 10.6109 - val_mae: 2.3692 - val_mse: 10.6109\n",
            "Epoch 280/300\n",
            "9/9 [==============================] - 0s 5ms/step - loss: 4.7421 - mae: 1.5824 - mse: 4.7421 - val_loss: 10.6889 - val_mae: 2.3504 - val_mse: 10.6889\n",
            "Epoch 281/300\n",
            "9/9 [==============================] - 0s 5ms/step - loss: 4.7094 - mae: 1.5267 - mse: 4.7094 - val_loss: 10.2147 - val_mae: 2.3212 - val_mse: 10.2147\n",
            "Epoch 282/300\n",
            "9/9 [==============================] - 0s 6ms/step - loss: 4.3975 - mae: 1.5318 - mse: 4.3975 - val_loss: 10.5373 - val_mae: 2.3394 - val_mse: 10.5373\n",
            "Epoch 283/300\n",
            "9/9 [==============================] - 0s 5ms/step - loss: 4.6836 - mae: 1.5605 - mse: 4.6836 - val_loss: 10.4690 - val_mae: 2.3267 - val_mse: 10.4690\n",
            "Epoch 284/300\n",
            "9/9 [==============================] - 0s 5ms/step - loss: 4.9729 - mae: 1.5794 - mse: 4.9729 - val_loss: 10.3255 - val_mae: 2.3236 - val_mse: 10.3255\n",
            "Epoch 285/300\n",
            "9/9 [==============================] - 0s 5ms/step - loss: 4.8150 - mae: 1.5789 - mse: 4.8150 - val_loss: 10.2758 - val_mae: 2.3147 - val_mse: 10.2758\n",
            "Epoch 286/300\n",
            "9/9 [==============================] - 0s 5ms/step - loss: 3.7315 - mae: 1.4472 - mse: 3.7315 - val_loss: 10.7546 - val_mae: 2.3777 - val_mse: 10.7546\n",
            "Epoch 287/300\n",
            "9/9 [==============================] - 0s 7ms/step - loss: 3.9171 - mae: 1.4802 - mse: 3.9171 - val_loss: 10.3573 - val_mae: 2.3476 - val_mse: 10.3573\n",
            "Epoch 288/300\n",
            "9/9 [==============================] - 0s 5ms/step - loss: 4.0643 - mae: 1.4775 - mse: 4.0643 - val_loss: 10.8439 - val_mae: 2.3653 - val_mse: 10.8439\n",
            "Epoch 289/300\n",
            "9/9 [==============================] - 0s 6ms/step - loss: 3.7872 - mae: 1.4493 - mse: 3.7872 - val_loss: 10.3993 - val_mae: 2.3134 - val_mse: 10.3993\n",
            "Epoch 290/300\n",
            "9/9 [==============================] - 0s 7ms/step - loss: 3.9570 - mae: 1.4389 - mse: 3.9570 - val_loss: 10.2134 - val_mae: 2.3145 - val_mse: 10.2134\n",
            "Epoch 291/300\n",
            "9/9 [==============================] - 0s 5ms/step - loss: 5.3352 - mae: 1.5439 - mse: 5.3352 - val_loss: 10.4604 - val_mae: 2.3283 - val_mse: 10.4604\n",
            "Epoch 292/300\n",
            "9/9 [==============================] - 0s 7ms/step - loss: 3.4651 - mae: 1.3725 - mse: 3.4651 - val_loss: 10.4445 - val_mae: 2.3159 - val_mse: 10.4445\n",
            "Epoch 293/300\n",
            "9/9 [==============================] - 0s 6ms/step - loss: 4.8071 - mae: 1.5246 - mse: 4.8071 - val_loss: 10.3616 - val_mae: 2.3252 - val_mse: 10.3616\n",
            "Epoch 294/300\n",
            "9/9 [==============================] - 0s 5ms/step - loss: 5.1301 - mae: 1.6229 - mse: 5.1301 - val_loss: 10.6429 - val_mae: 2.3440 - val_mse: 10.6429\n",
            "Epoch 295/300\n",
            "9/9 [==============================] - 0s 6ms/step - loss: 4.0566 - mae: 1.4544 - mse: 4.0566 - val_loss: 10.2808 - val_mae: 2.3055 - val_mse: 10.2808\n",
            "Epoch 296/300\n",
            "9/9 [==============================] - 0s 5ms/step - loss: 4.1458 - mae: 1.4970 - mse: 4.1458 - val_loss: 10.4847 - val_mae: 2.3436 - val_mse: 10.4847\n",
            "Epoch 297/300\n",
            "9/9 [==============================] - 0s 6ms/step - loss: 4.6937 - mae: 1.5382 - mse: 4.6937 - val_loss: 10.4556 - val_mae: 2.3335 - val_mse: 10.4556\n",
            "Epoch 298/300\n",
            "9/9 [==============================] - 0s 5ms/step - loss: 3.7401 - mae: 1.4338 - mse: 3.7401 - val_loss: 10.0520 - val_mae: 2.2662 - val_mse: 10.0520\n",
            "Epoch 299/300\n",
            "9/9 [==============================] - 0s 5ms/step - loss: 4.1603 - mae: 1.4429 - mse: 4.1603 - val_loss: 10.2110 - val_mae: 2.2857 - val_mse: 10.2110\n",
            "Epoch 300/300\n",
            "9/9 [==============================] - 0s 7ms/step - loss: 4.5627 - mae: 1.5465 - mse: 4.5627 - val_loss: 10.3387 - val_mae: 2.3211 - val_mse: 10.3387\n"
          ],
          "name": "stdout"
        }
      ]
    },
    {
      "cell_type": "markdown",
      "metadata": {
        "id": "mZd_PrBCn0US"
      },
      "source": [
        "모델 그려보기"
      ]
    },
    {
      "cell_type": "code",
      "metadata": {
        "colab": {
          "base_uri": "https://localhost:8080/",
          "height": 350
        },
        "id": "y7o1_BiynzYL",
        "outputId": "654789e2-eac5-4f7b-9e88-005677f75b80"
      },
      "source": [
        "import matplotlib.pyplot as plt\n",
        "\n",
        "his_dict = history.history\n",
        "mse = his_dict['mse']\n",
        "val_mse = his_dict['val_mse'] # 검증 데이터가 있는 경우 ‘val_’ 수식어가 붙습니다.\n",
        "\n",
        "epochs = range(1, len(mse) + 1)\n",
        "fig = plt.figure(figsize = (10, 5))\n",
        "\n",
        "# 훈련 및 검증 손실 그리기\n",
        "ax1 = fig.add_subplot(1, 2, 1)\n",
        "ax1.plot(epochs, mse, color = 'blue', label = 'train_mse')\n",
        "ax1.plot(epochs, val_mse, color = 'orange', label = 'val_mse')\n",
        "ax1.set_title('train and val mse')\n",
        "ax1.set_xlabel('epochs')\n",
        "ax1.set_ylabel('mse')\n",
        "ax1.legend()\n",
        "\n",
        "mae = his_dict['mae']\n",
        "val_mae = his_dict['val_mae']\n",
        "\n",
        "# 훈련 및 검증 정확도 그리기\n",
        "ax2 = fig.add_subplot(1, 2, 2)\n",
        "ax2.plot(epochs, mae, color = 'blue', label = 'train_mae')\n",
        "ax2.plot(epochs, val_mae, color = 'orange', label = 'val_mae')\n",
        "ax2.set_title('train and val mae')\n",
        "ax2.set_xlabel('epochs')\n",
        "ax2.set_ylabel('mae')\n",
        "ax2.legend()\n",
        "\n",
        "plt.show()\n"
      ],
      "execution_count": 10,
      "outputs": [
        {
          "output_type": "display_data",
          "data": {
            "image/png": "[encoded data removed]",
            "text/plain": [
              "<Figure size 720x360 with 2 Axes>"
            ]
          },
          "metadata": {
            "tags": [],
            "needs_background": "light"
          }
        }
      ]
    },
    {
      "cell_type": "markdown",
      "metadata": {
        "id": "nXUaNTQ9n-Cr"
      },
      "source": [
        "모델 평가하기"
      ]
    },
    {
      "cell_type": "code",
      "metadata": {
        "colab": {
          "base_uri": "https://localhost:8080/"
        },
        "id": "t6RDLaezn76q",
        "outputId": "5f8d091f-1afe-4b32-c342-9793be1292b0"
      },
      "source": [
        "print(model.evaluate(x_test, y_test)) \n",
        "# mae 2.0 -> 실제 집값과 2,000 달러 정도 차이 남\n"
      ],
      "execution_count": 11,
      "outputs": [
        {
          "output_type": "stream",
          "text": [
            "4/4 [==============================] - 0s 3ms/step - loss: 9.6302 - mae: 2.3132 - mse: 9.6302\n",
            "[9.630223274230957, 2.3132100105285645, 9.630223274230957]\n"
          ],
          "name": "stdout"
        }
      ]
    },
    {
      "cell_type": "markdown",
      "metadata": {
        "id": "FhuvXPDnoMwL"
      },
      "source": [
        "모델 예측하기"
      ]
    },
    {
      "cell_type": "code",
      "metadata": {
        "colab": {
          "base_uri": "https://localhost:8080/",
          "height": 279
        },
        "id": "iwRbCC5noL3S",
        "outputId": "2682cfcf-abc7-48ed-9600-74a83d52e17e"
      },
      "source": [
        "test_predictions = model.predict(x_test).flatten()\n",
        "\n",
        "plt.scatter(y_test, test_predictions)\n",
        "plt.xlabel('True Values [Price]')\n",
        "plt.ylabel('Predictions [Price]')\n",
        "plt.axis('equal')\n",
        "plt.axis('square')\n",
        "plt.xlim([0,plt.xlim()[1]])\n",
        "plt.ylim([0,plt.ylim()[1]])\n",
        "_ = plt.plot([-100, 100], [-100, 100])\n"
      ],
      "execution_count": 12,
      "outputs": [
        {
          "output_type": "display_data",
          "data": {
            "image/png": "[encoded data removed]",
            "text/plain": [
              "<Figure size 432x288 with 1 Axes>"
            ]
          },
          "metadata": {
            "tags": [],
            "needs_background": "light"
          }
        }
      ]
    },
    {
      "cell_type": "code",
      "metadata": {
        "id": "8WGKoOWFpwtb"
      },
      "source": [
        "# 추세선에 딱 맞추면 괜찮고 추세선 밑이면 실제 값보다 낮게 예측한 것\n",
        "# 회귀는 연속적인 값을 예측해야 되기 때문에 오차율을 봐야 한다. 내가 예측한거 - 실제값\n",
        "# 오차율을 따져보면 mae랑 mse를 봐야돼\n",
        "# 10~30 달러는 비슷하게 예측하는데 50달러는 실제 값보다 낮게 예측했다. 50달러 이상을 제대로 이해하지 못한것이다. 좀 더 학습시켜야돼.-> 가장 싼집에 대한 데이터셋과 가장 비싼집에 대한 데이터셋을 더 모아서 학습시켜야 돼\n",
        "# mae와 mse 오차값이 가장 작은 것을 선택해./ 작을수록 좋다\n",
        "# mse가 크다는 것은 최적선이 잘 예측하지 못했다는 것\n",
        "# mae, mse는 회귀를 쓸 때 사용함 (mean absolute error / mean squred error)\n",
        "\n",
        "# lr이 클수록 후딱 공부하고 작을수록 세세하게 공부한다."
      ],
      "execution_count": null,
      "outputs": []
    },
    {
      "cell_type": "code",
      "metadata": {
        "id": "B0LkRwocp51z"
      },
      "source": [
        ""
      ],
      "execution_count": null,
      "outputs": []
    }
  ]
}