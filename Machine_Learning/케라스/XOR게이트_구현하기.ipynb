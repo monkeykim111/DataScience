{
  "nbformat": 4,
  "nbformat_minor": 0,
  "metadata": {
    "colab": {
      "name": "XOR게이트 구현하기.ipynb",
      "provenance": [],
      "collapsed_sections": []
    },
    "kernelspec": {
      "name": "python3",
      "display_name": "Python 3"
    },
    "language_info": {
      "name": "python"
    }
  },
  "cells": [
    {
      "cell_type": "markdown",
      "metadata": {
        "id": "fcYf90IhIanw"
      },
      "source": [
        "케라스 개발 과정\n",
        "학습 데이터 정의 -> 모델 구성 -> 학습 -> 평가"
      ]
    },
    {
      "cell_type": "markdown",
      "metadata": {
        "id": "f6JvhouiIpTQ"
      },
      "source": [
        "# 신경망의 작동 원리\n",
        "X를 보고 y를 예측을 하는데 각 층을 지날 때마다 **가중치**가 붙는다.</br>\n",
        "-> 정답과 가까이 하기 위해 가중치를 조정해야 함!! - 가중치 조정이 관건(학습하면서 자연스럽게 가중치를 조정함)</br>\n",
        "-> 어떻게 알고 가중치를 조정할까? - '**손실함수**'가 체점을 한다. 예측한 값 y와 진짜 타깃 y를 손실함수가 비교를 한다.</br>\n",
        "-> **손실점수**를 도출하고 다음 학습에서 가중치를 조정을 한다. - **역전파** 알고리즘을 구현한 옵티마이저가 담당 / 역전파를 통해 피드백을 하여 가중치를 업데이트를 한다.</br>\n",
        "-> 궁극적으로 손실점수가 줄어드는 방향으로 나아간다.</br>\n",
        "오답노트 = 손실점수</br>\n",
        "피드백 = 옵티마이저</br>\n",
        "\n"
      ]
    },
    {
      "cell_type": "markdown",
      "metadata": {
        "id": "Ms23fQjPKbVq"
      },
      "source": [
        "분류 모델 / 회귀 모델에 가장 좋은 모델이 정해져 있어서 그것을 사용하기만 하면 된다."
      ]
    },
    {
      "cell_type": "markdown",
      "metadata": {
        "id": "OQjBDGmtKkzD"
      },
      "source": [
        "각 층에 신경망(신경망을 사람이라 생각하기)들이 들어 있음</br>\n",
        "퍼셉트론 - X를 입력받아 y를 도출한다.</br>\n",
        "ex) 옷을 사려는데 x1, x2 친구에게 물어봄 / x1에게 가중치(w1)가 더 많이 들어온다면 y를 도출할 때 x1의 영향을 많이 받는다.</br>\n",
        "가중치가 강하게 올수록 강한 값을 도출한다.</br>\n",
        "y 값을 도출하는 것은 '활성화 함수'가 결정을 해준다.</br>\n",
        "\n",
        "**시그모이드 / 탄젠트 / ReLU**가 활성화 함수이다.</br>\n",
        "어떤 활성화 함수를 쓸지는 내가 결정을 해야한다.</br>\n",
        "시그모이드는 출력층(최종 y값)에 가장 많이 사용된다. / 결과를 낼 때</br>\n",
        "ReLU는 중간층에서 가장 많이 사용된다. / '고요속의 외침' 게임과 비슷함 / 정확하게 알려줘야 하므로! </br>\n",
        "\n"
      ]
    },
    {
      "cell_type": "markdown",
      "metadata": {
        "id": "UimQzphlKku_"
      },
      "source": [
        "# XOR 게이트 문제\n",
        "\n",
        "XOR게이트 구현해보기 -> 0,0 -> 0 / 1,0 -> 1 / 0,1 -> 1 / 1,1 -> 0 "
      ]
    },
    {
      "cell_type": "markdown",
      "metadata": {
        "id": "P631pkPbMqBi"
      },
      "source": [
        "데이터 준비하기"
      ]
    },
    {
      "cell_type": "code",
      "metadata": {
        "id": "BbwmOSttMS8Z"
      },
      "source": [
        "import numpy as np\n",
        "import tensorflow as tf\n",
        "\n",
        "tf.random.set_seed(777) # 랜덤시드를 고정시키지 않으면 오래걸릴 수가 있으므로 랜덤 시드를 고정한다.\n",
        "\n",
        "from tensorflow.keras.models import Sequential\n",
        "from tensorflow.keras.layers import Dense\n",
        "from tensorflow.keras.optimizers import SGD\n",
        "from tensorflow.keras.optimizers import RMSprop\n",
        "from tensorflow.keras.losses import mse \n"
      ],
      "execution_count": 1,
      "outputs": []
    },
    {
      "cell_type": "code",
      "metadata": {
        "id": "Z_Z0VKmVMsPH"
      },
      "source": [
        "# 데이터 준비하기\n",
        "# 데이터와 레이블을 만들기(넘파이 배열)\n",
        "\n",
        "data = np.array([[0,0], [1,0], [0,1], [1,1]]) # or 연산 학습 데이터\n",
        "label = np.array([[0], [1], [1], [0]]) # 정답"
      ],
      "execution_count": 2,
      "outputs": []
    },
    {
      "cell_type": "markdown",
      "metadata": {
        "id": "bfVLvKKeN0pI"
      },
      "source": [
        "모델 구성하기"
      ]
    },
    {
      "cell_type": "code",
      "metadata": {
        "id": "B13pPnV9NtO4"
      },
      "source": [
        "model = Sequential() # 순서대로 모델을 쌓아야 한다. (층)\n",
        "\n",
        "model.add(Dense(32, input_shape=(2,), activation='relu')) \n",
        "\n",
        "# 다층 퍼셉트론이라 1로 적고 input_shape에는 \n",
        "# 입력 2개를 넣어서 하나의 신경망을 구성한 것 / 학습모델을 만든 것\n",
        "model.add(Dense(1, activation = 'sigmoid'))"
      ],
      "execution_count": 3,
      "outputs": []
    },
    {
      "cell_type": "markdown",
      "metadata": {
        "id": "jhFq4jH2OdGW"
      },
      "source": [
        "모델 설정하기"
      ]
    },
    {
      "cell_type": "code",
      "metadata": {
        "id": "Od-G-F9fOTyN"
      },
      "source": [
        "# model.compile(optimizer=SGD(), loss=mse, metrics=['acc']) # 가중치 설정할 때 업데이트를 하는 함수들 / 손실함수는 loss= / 학습을 할 때마다 알려줌 acc (학습을 잘 하고 있는지 판단 가능) /\n",
        "# SGD - 잘못된 길로 빠지는 경우가 많아짐 - 오래걸리는 단점이 있음\n",
        "\n",
        "model.compile(optimizer=RMSprop(), loss=mse, metrics=['acc'])"
      ],
      "execution_count": 4,
      "outputs": []
    },
    {
      "cell_type": "code",
      "metadata": {
        "colab": {
          "base_uri": "https://localhost:8080/"
        },
        "id": "oeoW8VNnO35m",
        "outputId": "ca476f6c-2767-4f53-95b9-26e6e1fac797"
      },
      "source": [
        "# 모델 확인하기\n",
        "\n",
        "model.summary()\n"
      ],
      "execution_count": 5,
      "outputs": [
        {
          "output_type": "stream",
          "text": [
            "Model: \"sequential\"\n",
            "_________________________________________________________________\n",
            "Layer (type)                 Output Shape              Param #   \n",
            "=================================================================\n",
            "dense (Dense)                (None, 32)                96        \n",
            "_________________________________________________________________\n",
            "dense_1 (Dense)              (None, 1)                 33        \n",
            "=================================================================\n",
            "Total params: 129\n",
            "Trainable params: 129\n",
            "Non-trainable params: 0\n",
            "_________________________________________________________________\n"
          ],
          "name": "stdout"
        }
      ]
    },
    {
      "cell_type": "code",
      "metadata": {
        "colab": {
          "base_uri": "https://localhost:8080/",
          "height": 312
        },
        "id": "6mZNUlMhO74V",
        "outputId": "65422034-8713-4e2f-ed49-fded9d8b54e4"
      },
      "source": [
        "# 좀 더 명확하게 모델 확인하기\n",
        "tf.keras.utils.plot_model(model, show_shapes=True, show_layer_names=True,rankdir='TB', expand_nested=False, dpi=96)\n"
      ],
      "execution_count": 6,
      "outputs": [
        {
          "output_type": "execute_result",
          "data": {
            "image/png": "[encoded data removed]",
            "text/plain": [
              "<IPython.core.display.Image object>"
            ]
          },
          "metadata": {
            "tags": []
          },
          "execution_count": 6
        }
      ]
    },
    {
      "cell_type": "markdown",
      "metadata": {
        "id": "n1E078IXPKRd"
      },
      "source": [
        "모델 학습시키기"
      ]
    },
    {
      "cell_type": "code",
      "metadata": {
        "colab": {
          "base_uri": "https://localhost:8080/"
        },
        "id": "OBN-boOKPEhd",
        "outputId": "106a9f90-b138-4ef9-c9e5-72ac5a815e9e"
      },
      "source": [
        "history = model.fit(data, label, epochs=200) # 학습 데이터주고, 정답주고, 공부 횟수 준 것 \n",
        "# epochs= 는 몇 번 공부할 지를 정하는 것\n",
        "# loss(손실값)이 떨어지는 것을 봐야함 - 정답과 가까워진다는 것\n",
        "# loss가 떨어지지 않는다면 즉시 중단해야 한다.\n",
        "# acc는 정답 값이라는 것인데 1.0은 다 맞춘다는 것이다.\n"
      ],
      "execution_count": 7,
      "outputs": [
        {
          "output_type": "stream",
          "text": [
            "Epoch 1/200\n",
            "1/1 [==============================] - 0s 376ms/step - loss: 0.2646 - acc: 0.5000\n",
            "Epoch 2/200\n",
            "1/1 [==============================] - 0s 5ms/step - loss: 0.2621 - acc: 0.2500\n",
            "Epoch 3/200\n",
            "1/1 [==============================] - 0s 7ms/step - loss: 0.2603 - acc: 0.2500\n",
            "Epoch 4/200\n",
            "1/1 [==============================] - 0s 5ms/step - loss: 0.2589 - acc: 0.2500\n",
            "Epoch 5/200\n",
            "1/1 [==============================] - 0s 5ms/step - loss: 0.2578 - acc: 0.2500\n",
            "Epoch 6/200\n",
            "1/1 [==============================] - 0s 5ms/step - loss: 0.2568 - acc: 0.2500\n",
            "Epoch 7/200\n",
            "1/1 [==============================] - 0s 6ms/step - loss: 0.2558 - acc: 0.2500\n",
            "Epoch 8/200\n",
            "1/1 [==============================] - 0s 5ms/step - loss: 0.2550 - acc: 0.2500\n",
            "Epoch 9/200\n",
            "1/1 [==============================] - 0s 4ms/step - loss: 0.2541 - acc: 0.2500\n",
            "Epoch 10/200\n",
            "1/1 [==============================] - 0s 5ms/step - loss: 0.2533 - acc: 0.2500\n",
            "Epoch 11/200\n",
            "1/1 [==============================] - 0s 4ms/step - loss: 0.2526 - acc: 0.5000\n",
            "Epoch 12/200\n",
            "1/1 [==============================] - 0s 10ms/step - loss: 0.2518 - acc: 0.5000\n",
            "Epoch 13/200\n",
            "1/1 [==============================] - 0s 4ms/step - loss: 0.2512 - acc: 0.5000\n",
            "Epoch 14/200\n",
            "1/1 [==============================] - 0s 5ms/step - loss: 0.2505 - acc: 0.5000\n",
            "Epoch 15/200\n",
            "1/1 [==============================] - 0s 4ms/step - loss: 0.2499 - acc: 0.5000\n",
            "Epoch 16/200\n",
            "1/1 [==============================] - 0s 4ms/step - loss: 0.2493 - acc: 0.5000\n",
            "Epoch 17/200\n",
            "1/1 [==============================] - 0s 5ms/step - loss: 0.2487 - acc: 0.5000\n",
            "Epoch 18/200\n",
            "1/1 [==============================] - 0s 6ms/step - loss: 0.2481 - acc: 0.5000\n",
            "Epoch 19/200\n",
            "1/1 [==============================] - 0s 5ms/step - loss: 0.2475 - acc: 0.5000\n",
            "Epoch 20/200\n",
            "1/1 [==============================] - 0s 8ms/step - loss: 0.2470 - acc: 0.5000\n",
            "Epoch 21/200\n",
            "1/1 [==============================] - 0s 3ms/step - loss: 0.2464 - acc: 0.5000\n",
            "Epoch 22/200\n",
            "1/1 [==============================] - 0s 3ms/step - loss: 0.2459 - acc: 0.5000\n",
            "Epoch 23/200\n",
            "1/1 [==============================] - 0s 4ms/step - loss: 0.2453 - acc: 0.5000\n",
            "Epoch 24/200\n",
            "1/1 [==============================] - 0s 5ms/step - loss: 0.2448 - acc: 0.5000\n",
            "Epoch 25/200\n",
            "1/1 [==============================] - 0s 6ms/step - loss: 0.2443 - acc: 0.5000\n",
            "Epoch 26/200\n",
            "1/1 [==============================] - 0s 3ms/step - loss: 0.2437 - acc: 0.5000\n",
            "Epoch 27/200\n",
            "1/1 [==============================] - 0s 5ms/step - loss: 0.2432 - acc: 0.5000\n",
            "Epoch 28/200\n",
            "1/1 [==============================] - 0s 4ms/step - loss: 0.2427 - acc: 0.5000\n",
            "Epoch 29/200\n",
            "1/1 [==============================] - 0s 4ms/step - loss: 0.2422 - acc: 0.5000\n",
            "Epoch 30/200\n",
            "1/1 [==============================] - 0s 4ms/step - loss: 0.2416 - acc: 0.5000\n",
            "Epoch 31/200\n",
            "1/1 [==============================] - 0s 4ms/step - loss: 0.2411 - acc: 0.5000\n",
            "Epoch 32/200\n",
            "1/1 [==============================] - 0s 4ms/step - loss: 0.2406 - acc: 0.5000\n",
            "Epoch 33/200\n",
            "1/1 [==============================] - 0s 5ms/step - loss: 0.2401 - acc: 0.5000\n",
            "Epoch 34/200\n",
            "1/1 [==============================] - 0s 5ms/step - loss: 0.2396 - acc: 0.5000\n",
            "Epoch 35/200\n",
            "1/1 [==============================] - 0s 6ms/step - loss: 0.2390 - acc: 0.5000\n",
            "Epoch 36/200\n",
            "1/1 [==============================] - 0s 4ms/step - loss: 0.2385 - acc: 0.5000\n",
            "Epoch 37/200\n",
            "1/1 [==============================] - 0s 6ms/step - loss: 0.2380 - acc: 0.5000\n",
            "Epoch 38/200\n",
            "1/1 [==============================] - 0s 4ms/step - loss: 0.2375 - acc: 0.5000\n",
            "Epoch 39/200\n",
            "1/1 [==============================] - 0s 7ms/step - loss: 0.2369 - acc: 0.5000\n",
            "Epoch 40/200\n",
            "1/1 [==============================] - 0s 5ms/step - loss: 0.2364 - acc: 0.5000\n",
            "Epoch 41/200\n",
            "1/1 [==============================] - 0s 6ms/step - loss: 0.2359 - acc: 0.7500\n",
            "Epoch 42/200\n",
            "1/1 [==============================] - 0s 6ms/step - loss: 0.2354 - acc: 0.7500\n",
            "Epoch 43/200\n",
            "1/1 [==============================] - 0s 6ms/step - loss: 0.2349 - acc: 0.7500\n",
            "Epoch 44/200\n",
            "1/1 [==============================] - 0s 6ms/step - loss: 0.2344 - acc: 0.7500\n",
            "Epoch 45/200\n",
            "1/1 [==============================] - 0s 4ms/step - loss: 0.2339 - acc: 0.7500\n",
            "Epoch 46/200\n",
            "1/1 [==============================] - 0s 6ms/step - loss: 0.2334 - acc: 0.7500\n",
            "Epoch 47/200\n",
            "1/1 [==============================] - 0s 6ms/step - loss: 0.2330 - acc: 0.7500\n",
            "Epoch 48/200\n",
            "1/1 [==============================] - 0s 6ms/step - loss: 0.2325 - acc: 0.7500\n",
            "Epoch 49/200\n",
            "1/1 [==============================] - 0s 4ms/step - loss: 0.2320 - acc: 0.7500\n",
            "Epoch 50/200\n",
            "1/1 [==============================] - 0s 7ms/step - loss: 0.2316 - acc: 0.7500\n",
            "Epoch 51/200\n",
            "1/1 [==============================] - 0s 3ms/step - loss: 0.2311 - acc: 0.7500\n",
            "Epoch 52/200\n",
            "1/1 [==============================] - 0s 5ms/step - loss: 0.2307 - acc: 0.7500\n",
            "Epoch 53/200\n",
            "1/1 [==============================] - 0s 6ms/step - loss: 0.2302 - acc: 0.7500\n",
            "Epoch 54/200\n",
            "1/1 [==============================] - 0s 4ms/step - loss: 0.2298 - acc: 0.7500\n",
            "Epoch 55/200\n",
            "1/1 [==============================] - 0s 6ms/step - loss: 0.2293 - acc: 0.7500\n",
            "Epoch 56/200\n",
            "1/1 [==============================] - 0s 6ms/step - loss: 0.2288 - acc: 0.7500\n",
            "Epoch 57/200\n",
            "1/1 [==============================] - 0s 5ms/step - loss: 0.2283 - acc: 0.7500\n",
            "Epoch 58/200\n",
            "1/1 [==============================] - 0s 8ms/step - loss: 0.2278 - acc: 1.0000\n",
            "Epoch 59/200\n",
            "1/1 [==============================] - 0s 5ms/step - loss: 0.2273 - acc: 1.0000\n",
            "Epoch 60/200\n",
            "1/1 [==============================] - 0s 7ms/step - loss: 0.2269 - acc: 1.0000\n",
            "Epoch 61/200\n",
            "1/1 [==============================] - 0s 17ms/step - loss: 0.2265 - acc: 1.0000\n",
            "Epoch 62/200\n",
            "1/1 [==============================] - 0s 7ms/step - loss: 0.2261 - acc: 1.0000\n",
            "Epoch 63/200\n",
            "1/1 [==============================] - 0s 4ms/step - loss: 0.2258 - acc: 1.0000\n",
            "Epoch 64/200\n",
            "1/1 [==============================] - 0s 6ms/step - loss: 0.2254 - acc: 1.0000\n",
            "Epoch 65/200\n",
            "1/1 [==============================] - 0s 6ms/step - loss: 0.2250 - acc: 1.0000\n",
            "Epoch 66/200\n",
            "1/1 [==============================] - 0s 7ms/step - loss: 0.2246 - acc: 1.0000\n",
            "Epoch 67/200\n",
            "1/1 [==============================] - 0s 6ms/step - loss: 0.2242 - acc: 1.0000\n",
            "Epoch 68/200\n",
            "1/1 [==============================] - 0s 5ms/step - loss: 0.2238 - acc: 1.0000\n",
            "Epoch 69/200\n",
            "1/1 [==============================] - 0s 6ms/step - loss: 0.2234 - acc: 1.0000\n",
            "Epoch 70/200\n",
            "1/1 [==============================] - 0s 4ms/step - loss: 0.2230 - acc: 1.0000\n",
            "Epoch 71/200\n",
            "1/1 [==============================] - 0s 6ms/step - loss: 0.2226 - acc: 1.0000\n",
            "Epoch 72/200\n",
            "1/1 [==============================] - 0s 5ms/step - loss: 0.2222 - acc: 1.0000\n",
            "Epoch 73/200\n",
            "1/1 [==============================] - 0s 6ms/step - loss: 0.2219 - acc: 1.0000\n",
            "Epoch 74/200\n",
            "1/1 [==============================] - 0s 6ms/step - loss: 0.2214 - acc: 1.0000\n",
            "Epoch 75/200\n",
            "1/1 [==============================] - 0s 6ms/step - loss: 0.2210 - acc: 1.0000\n",
            "Epoch 76/200\n",
            "1/1 [==============================] - 0s 7ms/step - loss: 0.2206 - acc: 1.0000\n",
            "Epoch 77/200\n",
            "1/1 [==============================] - 0s 4ms/step - loss: 0.2203 - acc: 1.0000\n",
            "Epoch 78/200\n",
            "1/1 [==============================] - 0s 7ms/step - loss: 0.2198 - acc: 1.0000\n",
            "Epoch 79/200\n",
            "1/1 [==============================] - 0s 3ms/step - loss: 0.2195 - acc: 1.0000\n",
            "Epoch 80/200\n",
            "1/1 [==============================] - 0s 6ms/step - loss: 0.2191 - acc: 1.0000\n",
            "Epoch 81/200\n",
            "1/1 [==============================] - 0s 4ms/step - loss: 0.2187 - acc: 1.0000\n",
            "Epoch 82/200\n",
            "1/1 [==============================] - 0s 3ms/step - loss: 0.2183 - acc: 1.0000\n",
            "Epoch 83/200\n",
            "1/1 [==============================] - 0s 6ms/step - loss: 0.2179 - acc: 1.0000\n",
            "Epoch 84/200\n",
            "1/1 [==============================] - 0s 9ms/step - loss: 0.2175 - acc: 1.0000\n",
            "Epoch 85/200\n",
            "1/1 [==============================] - 0s 5ms/step - loss: 0.2171 - acc: 1.0000\n",
            "Epoch 86/200\n",
            "1/1 [==============================] - 0s 8ms/step - loss: 0.2167 - acc: 1.0000\n",
            "Epoch 87/200\n",
            "1/1 [==============================] - 0s 5ms/step - loss: 0.2163 - acc: 1.0000\n",
            "Epoch 88/200\n",
            "1/1 [==============================] - 0s 7ms/step - loss: 0.2159 - acc: 1.0000\n",
            "Epoch 89/200\n",
            "1/1 [==============================] - 0s 8ms/step - loss: 0.2155 - acc: 1.0000\n",
            "Epoch 90/200\n",
            "1/1 [==============================] - 0s 5ms/step - loss: 0.2151 - acc: 1.0000\n",
            "Epoch 91/200\n",
            "1/1 [==============================] - 0s 5ms/step - loss: 0.2147 - acc: 1.0000\n",
            "Epoch 92/200\n",
            "1/1 [==============================] - 0s 4ms/step - loss: 0.2143 - acc: 1.0000\n",
            "Epoch 93/200\n",
            "1/1 [==============================] - 0s 3ms/step - loss: 0.2138 - acc: 1.0000\n",
            "Epoch 94/200\n",
            "1/1 [==============================] - 0s 4ms/step - loss: 0.2135 - acc: 1.0000\n",
            "Epoch 95/200\n",
            "1/1 [==============================] - 0s 4ms/step - loss: 0.2130 - acc: 1.0000\n",
            "Epoch 96/200\n",
            "1/1 [==============================] - 0s 7ms/step - loss: 0.2126 - acc: 1.0000\n",
            "Epoch 97/200\n",
            "1/1 [==============================] - 0s 6ms/step - loss: 0.2122 - acc: 1.0000\n",
            "Epoch 98/200\n",
            "1/1 [==============================] - 0s 4ms/step - loss: 0.2118 - acc: 1.0000\n",
            "Epoch 99/200\n",
            "1/1 [==============================] - 0s 7ms/step - loss: 0.2114 - acc: 1.0000\n",
            "Epoch 100/200\n",
            "1/1 [==============================] - 0s 5ms/step - loss: 0.2110 - acc: 1.0000\n",
            "Epoch 101/200\n",
            "1/1 [==============================] - 0s 10ms/step - loss: 0.2106 - acc: 1.0000\n",
            "Epoch 102/200\n",
            "1/1 [==============================] - 0s 6ms/step - loss: 0.2102 - acc: 1.0000\n",
            "Epoch 103/200\n",
            "1/1 [==============================] - 0s 4ms/step - loss: 0.2098 - acc: 1.0000\n",
            "Epoch 104/200\n",
            "1/1 [==============================] - 0s 7ms/step - loss: 0.2094 - acc: 1.0000\n",
            "Epoch 105/200\n",
            "1/1 [==============================] - 0s 5ms/step - loss: 0.2091 - acc: 1.0000\n",
            "Epoch 106/200\n",
            "1/1 [==============================] - 0s 20ms/step - loss: 0.2087 - acc: 1.0000\n",
            "Epoch 107/200\n",
            "1/1 [==============================] - 0s 5ms/step - loss: 0.2083 - acc: 1.0000\n",
            "Epoch 108/200\n",
            "1/1 [==============================] - 0s 8ms/step - loss: 0.2079 - acc: 1.0000\n",
            "Epoch 109/200\n",
            "1/1 [==============================] - 0s 4ms/step - loss: 0.2075 - acc: 1.0000\n",
            "Epoch 110/200\n",
            "1/1 [==============================] - 0s 4ms/step - loss: 0.2071 - acc: 1.0000\n",
            "Epoch 111/200\n",
            "1/1 [==============================] - 0s 25ms/step - loss: 0.2067 - acc: 1.0000\n",
            "Epoch 112/200\n",
            "1/1 [==============================] - 0s 4ms/step - loss: 0.2063 - acc: 1.0000\n",
            "Epoch 113/200\n",
            "1/1 [==============================] - 0s 8ms/step - loss: 0.2059 - acc: 1.0000\n",
            "Epoch 114/200\n",
            "1/1 [==============================] - 0s 8ms/step - loss: 0.2056 - acc: 1.0000\n",
            "Epoch 115/200\n",
            "1/1 [==============================] - 0s 11ms/step - loss: 0.2051 - acc: 1.0000\n",
            "Epoch 116/200\n",
            "1/1 [==============================] - 0s 3ms/step - loss: 0.2048 - acc: 1.0000\n",
            "Epoch 117/200\n",
            "1/1 [==============================] - 0s 20ms/step - loss: 0.2043 - acc: 1.0000\n",
            "Epoch 118/200\n",
            "1/1 [==============================] - 0s 16ms/step - loss: 0.2040 - acc: 1.0000\n",
            "Epoch 119/200\n",
            "1/1 [==============================] - 0s 4ms/step - loss: 0.2035 - acc: 1.0000\n",
            "Epoch 120/200\n",
            "1/1 [==============================] - 0s 4ms/step - loss: 0.2032 - acc: 1.0000\n",
            "Epoch 121/200\n",
            "1/1 [==============================] - 0s 13ms/step - loss: 0.2027 - acc: 1.0000\n",
            "Epoch 122/200\n",
            "1/1 [==============================] - 0s 7ms/step - loss: 0.2024 - acc: 1.0000\n",
            "Epoch 123/200\n",
            "1/1 [==============================] - 0s 9ms/step - loss: 0.2020 - acc: 1.0000\n",
            "Epoch 124/200\n",
            "1/1 [==============================] - 0s 5ms/step - loss: 0.2015 - acc: 1.0000\n",
            "Epoch 125/200\n",
            "1/1 [==============================] - 0s 7ms/step - loss: 0.2012 - acc: 1.0000\n",
            "Epoch 126/200\n",
            "1/1 [==============================] - 0s 4ms/step - loss: 0.2008 - acc: 1.0000\n",
            "Epoch 127/200\n",
            "1/1 [==============================] - 0s 6ms/step - loss: 0.2003 - acc: 1.0000\n",
            "Epoch 128/200\n",
            "1/1 [==============================] - 0s 4ms/step - loss: 0.1999 - acc: 1.0000\n",
            "Epoch 129/200\n",
            "1/1 [==============================] - 0s 7ms/step - loss: 0.1995 - acc: 1.0000\n",
            "Epoch 130/200\n",
            "1/1 [==============================] - 0s 4ms/step - loss: 0.1991 - acc: 1.0000\n",
            "Epoch 131/200\n",
            "1/1 [==============================] - 0s 5ms/step - loss: 0.1987 - acc: 1.0000\n",
            "Epoch 132/200\n",
            "1/1 [==============================] - 0s 5ms/step - loss: 0.1983 - acc: 1.0000\n",
            "Epoch 133/200\n",
            "1/1 [==============================] - 0s 6ms/step - loss: 0.1979 - acc: 1.0000\n",
            "Epoch 134/200\n",
            "1/1 [==============================] - 0s 6ms/step - loss: 0.1975 - acc: 1.0000\n",
            "Epoch 135/200\n",
            "1/1 [==============================] - 0s 6ms/step - loss: 0.1971 - acc: 1.0000\n",
            "Epoch 136/200\n",
            "1/1 [==============================] - 0s 7ms/step - loss: 0.1967 - acc: 1.0000\n",
            "Epoch 137/200\n",
            "1/1 [==============================] - 0s 8ms/step - loss: 0.1963 - acc: 1.0000\n",
            "Epoch 138/200\n",
            "1/1 [==============================] - 0s 3ms/step - loss: 0.1958 - acc: 1.0000\n",
            "Epoch 139/200\n",
            "1/1 [==============================] - 0s 4ms/step - loss: 0.1954 - acc: 1.0000\n",
            "Epoch 140/200\n",
            "1/1 [==============================] - 0s 5ms/step - loss: 0.1950 - acc: 1.0000\n",
            "Epoch 141/200\n",
            "1/1 [==============================] - 0s 8ms/step - loss: 0.1946 - acc: 1.0000\n",
            "Epoch 142/200\n",
            "1/1 [==============================] - 0s 3ms/step - loss: 0.1942 - acc: 1.0000\n",
            "Epoch 143/200\n",
            "1/1 [==============================] - 0s 4ms/step - loss: 0.1938 - acc: 1.0000\n",
            "Epoch 144/200\n",
            "1/1 [==============================] - 0s 4ms/step - loss: 0.1934 - acc: 1.0000\n",
            "Epoch 145/200\n",
            "1/1 [==============================] - 0s 4ms/step - loss: 0.1930 - acc: 1.0000\n",
            "Epoch 146/200\n",
            "1/1 [==============================] - 0s 8ms/step - loss: 0.1925 - acc: 1.0000\n",
            "Epoch 147/200\n",
            "1/1 [==============================] - 0s 4ms/step - loss: 0.1921 - acc: 1.0000\n",
            "Epoch 148/200\n",
            "1/1 [==============================] - 0s 4ms/step - loss: 0.1917 - acc: 1.0000\n",
            "Epoch 149/200\n",
            "1/1 [==============================] - 0s 7ms/step - loss: 0.1913 - acc: 1.0000\n",
            "Epoch 150/200\n",
            "1/1 [==============================] - 0s 4ms/step - loss: 0.1909 - acc: 1.0000\n",
            "Epoch 151/200\n",
            "1/1 [==============================] - 0s 8ms/step - loss: 0.1904 - acc: 1.0000\n",
            "Epoch 152/200\n",
            "1/1 [==============================] - 0s 7ms/step - loss: 0.1900 - acc: 1.0000\n",
            "Epoch 153/200\n",
            "1/1 [==============================] - 0s 4ms/step - loss: 0.1896 - acc: 1.0000\n",
            "Epoch 154/200\n",
            "1/1 [==============================] - 0s 4ms/step - loss: 0.1892 - acc: 1.0000\n",
            "Epoch 155/200\n",
            "1/1 [==============================] - 0s 12ms/step - loss: 0.1888 - acc: 1.0000\n",
            "Epoch 156/200\n",
            "1/1 [==============================] - 0s 4ms/step - loss: 0.1883 - acc: 1.0000\n",
            "Epoch 157/200\n",
            "1/1 [==============================] - 0s 4ms/step - loss: 0.1879 - acc: 1.0000\n",
            "Epoch 158/200\n",
            "1/1 [==============================] - 0s 5ms/step - loss: 0.1875 - acc: 1.0000\n",
            "Epoch 159/200\n",
            "1/1 [==============================] - 0s 8ms/step - loss: 0.1871 - acc: 1.0000\n",
            "Epoch 160/200\n",
            "1/1 [==============================] - 0s 4ms/step - loss: 0.1866 - acc: 1.0000\n",
            "Epoch 161/200\n",
            "1/1 [==============================] - 0s 4ms/step - loss: 0.1862 - acc: 1.0000\n",
            "Epoch 162/200\n",
            "1/1 [==============================] - 0s 8ms/step - loss: 0.1858 - acc: 1.0000\n",
            "Epoch 163/200\n",
            "1/1 [==============================] - 0s 3ms/step - loss: 0.1853 - acc: 1.0000\n",
            "Epoch 164/200\n",
            "1/1 [==============================] - 0s 3ms/step - loss: 0.1849 - acc: 1.0000\n",
            "Epoch 165/200\n",
            "1/1 [==============================] - 0s 8ms/step - loss: 0.1845 - acc: 1.0000\n",
            "Epoch 166/200\n",
            "1/1 [==============================] - 0s 3ms/step - loss: 0.1841 - acc: 1.0000\n",
            "Epoch 167/200\n",
            "1/1 [==============================] - 0s 4ms/step - loss: 0.1836 - acc: 1.0000\n",
            "Epoch 168/200\n",
            "1/1 [==============================] - 0s 4ms/step - loss: 0.1832 - acc: 1.0000\n",
            "Epoch 169/200\n",
            "1/1 [==============================] - 0s 3ms/step - loss: 0.1828 - acc: 1.0000\n",
            "Epoch 170/200\n",
            "1/1 [==============================] - 0s 7ms/step - loss: 0.1824 - acc: 1.0000\n",
            "Epoch 171/200\n",
            "1/1 [==============================] - 0s 3ms/step - loss: 0.1819 - acc: 1.0000\n",
            "Epoch 172/200\n",
            "1/1 [==============================] - 0s 4ms/step - loss: 0.1815 - acc: 1.0000\n",
            "Epoch 173/200\n",
            "1/1 [==============================] - 0s 13ms/step - loss: 0.1810 - acc: 1.0000\n",
            "Epoch 174/200\n",
            "1/1 [==============================] - 0s 4ms/step - loss: 0.1806 - acc: 1.0000\n",
            "Epoch 175/200\n",
            "1/1 [==============================] - 0s 6ms/step - loss: 0.1801 - acc: 1.0000\n",
            "Epoch 176/200\n",
            "1/1 [==============================] - 0s 12ms/step - loss: 0.1797 - acc: 1.0000\n",
            "Epoch 177/200\n",
            "1/1 [==============================] - 0s 3ms/step - loss: 0.1793 - acc: 1.0000\n",
            "Epoch 178/200\n",
            "1/1 [==============================] - 0s 3ms/step - loss: 0.1788 - acc: 1.0000\n",
            "Epoch 179/200\n",
            "1/1 [==============================] - 0s 3ms/step - loss: 0.1784 - acc: 1.0000\n",
            "Epoch 180/200\n",
            "1/1 [==============================] - 0s 3ms/step - loss: 0.1780 - acc: 1.0000\n",
            "Epoch 181/200\n",
            "1/1 [==============================] - 0s 5ms/step - loss: 0.1775 - acc: 1.0000\n",
            "Epoch 182/200\n",
            "1/1 [==============================] - 0s 3ms/step - loss: 0.1771 - acc: 1.0000\n",
            "Epoch 183/200\n",
            "1/1 [==============================] - 0s 6ms/step - loss: 0.1766 - acc: 1.0000\n",
            "Epoch 184/200\n",
            "1/1 [==============================] - 0s 4ms/step - loss: 0.1762 - acc: 1.0000\n",
            "Epoch 185/200\n",
            "1/1 [==============================] - 0s 11ms/step - loss: 0.1757 - acc: 1.0000\n",
            "Epoch 186/200\n",
            "1/1 [==============================] - 0s 12ms/step - loss: 0.1753 - acc: 1.0000\n",
            "Epoch 187/200\n",
            "1/1 [==============================] - 0s 4ms/step - loss: 0.1749 - acc: 1.0000\n",
            "Epoch 188/200\n",
            "1/1 [==============================] - 0s 4ms/step - loss: 0.1744 - acc: 1.0000\n",
            "Epoch 189/200\n",
            "1/1 [==============================] - 0s 3ms/step - loss: 0.1740 - acc: 1.0000\n",
            "Epoch 190/200\n",
            "1/1 [==============================] - 0s 7ms/step - loss: 0.1736 - acc: 1.0000\n",
            "Epoch 191/200\n",
            "1/1 [==============================] - 0s 21ms/step - loss: 0.1731 - acc: 1.0000\n",
            "Epoch 192/200\n",
            "1/1 [==============================] - 0s 4ms/step - loss: 0.1726 - acc: 1.0000\n",
            "Epoch 193/200\n",
            "1/1 [==============================] - 0s 4ms/step - loss: 0.1722 - acc: 1.0000\n",
            "Epoch 194/200\n",
            "1/1 [==============================] - 0s 4ms/step - loss: 0.1718 - acc: 1.0000\n",
            "Epoch 195/200\n",
            "1/1 [==============================] - 0s 14ms/step - loss: 0.1713 - acc: 1.0000\n",
            "Epoch 196/200\n",
            "1/1 [==============================] - 0s 15ms/step - loss: 0.1709 - acc: 1.0000\n",
            "Epoch 197/200\n",
            "1/1 [==============================] - 0s 11ms/step - loss: 0.1705 - acc: 1.0000\n",
            "Epoch 198/200\n",
            "1/1 [==============================] - 0s 7ms/step - loss: 0.1700 - acc: 1.0000\n",
            "Epoch 199/200\n",
            "1/1 [==============================] - 0s 20ms/step - loss: 0.1695 - acc: 1.0000\n",
            "Epoch 200/200\n",
            "1/1 [==============================] - 0s 12ms/step - loss: 0.1692 - acc: 1.0000\n"
          ],
          "name": "stdout"
        }
      ]
    },
    {
      "cell_type": "markdown",
      "metadata": {
        "id": "2P1GUY1VPxiT"
      },
      "source": [
        "학습결과 무조건 그려보기"
      ]
    },
    {
      "cell_type": "code",
      "metadata": {
        "colab": {
          "base_uri": "https://localhost:8080/",
          "height": 350
        },
        "id": "zb2bTzqCPZ6Z",
        "outputId": "b728e483-d581-4243-b0ce-203af949b16a"
      },
      "source": [
        "import matplotlib.pyplot as plt\n",
        "\n",
        "his_dict = history.history\n",
        "loss = his_dict['loss']\n",
        "\n",
        "epochs = range(1, len(loss) + 1)\n",
        "fig = plt.figure(figsize = (10, 5))\n",
        "\n",
        "# 훈련 및 검증 손실 그리기\n",
        "ax1 = fig.add_subplot(1, 2, 1)\n",
        "ax1.plot(epochs, loss, color = 'orange', label = 'train_loss')\n",
        "ax1.set_title('train loss')\n",
        "ax1.set_xlabel('epochs')\n",
        "ax1.set_ylabel('loss')\n",
        "ax1.legend()\n",
        "\n",
        "acc = his_dict['acc']\n",
        "\n",
        "# 훈련 및 검증 정확도 그리기\n",
        "ax2 = fig.add_subplot(1, 2, 2)\n",
        "ax2.plot(epochs, acc, color = 'blue', label = 'train_accuracy')\n",
        "ax2.set_title('train accuracy')\n",
        "ax2.set_xlabel('epochs')\n",
        "ax2.set_ylabel('accuracy')\n",
        "ax2.legend()\n",
        "\n",
        "plt.show()\n",
        "\n",
        "###### 손실함수가 떨어지는지 // acc가 올라가는지 확인해야 한다.\n",
        "# 손실이 줄어들어야 정확도가 올라간다.\n",
        "# 약 400번 이상은 돌려야 한다. \n",
        "# 100번만 실행했을 때 손실값이 내려가는 양상이라면 학습을 더 시켜줘야 한다!"
      ],
      "execution_count": 8,
      "outputs": [
        {
          "output_type": "display_data",
          "data": {
            "image/png": "[encoded data removed]",
            "text/plain": [
              "<Figure size 720x360 with 2 Axes>"
            ]
          },
          "metadata": {
            "tags": [],
            "needs_background": "light"
          }
        }
      ]
    },
    {
      "cell_type": "markdown",
      "metadata": {
        "id": "_Xi41WoyQQo3"
      },
      "source": [
        "모델 가중치 확인하기"
      ]
    },
    {
      "cell_type": "code",
      "metadata": {
        "colab": {
          "base_uri": "https://localhost:8080/"
        },
        "id": "fEaHi1jkQSOD",
        "outputId": "83dd0595-3535-462f-939a-2f73c3623f78"
      },
      "source": [
        "model.get_weights() \n",
        "\n",
        "# 어디에 가중치를 더 줘서 학습을 시켰는지 확인할 수 있다."
      ],
      "execution_count": 9,
      "outputs": [
        {
          "output_type": "execute_result",
          "data": {
            "text/plain": [
              "[array([[ 0.25162622, -0.3109216 ,  0.57184696,  0.10854518, -0.22401929,\n",
              "          0.22133295,  0.38230857, -0.07066254, -0.13779789, -0.24241659,\n",
              "          0.12471908, -0.05979349,  0.12588507,  0.15915841,  0.16144453,\n",
              "          0.45627096, -0.03311983, -0.37055987, -0.3493019 ,  0.209023  ,\n",
              "         -0.3055858 , -0.33232692, -0.12625915,  0.16120294, -0.32084438,\n",
              "         -0.4093977 ,  0.43027043, -0.17278033, -0.22683546,  0.38228717,\n",
              "         -0.33862218, -0.00082418],\n",
              "        [-0.32846928,  0.309641  ,  0.21921603, -0.19489145,  0.22294445,\n",
              "          0.18332313, -0.2337497 ,  0.28155303,  0.06527963,  0.24046376,\n",
              "          0.12532483,  0.1300193 ,  0.10382512,  0.39729974,  0.37233323,\n",
              "          0.2772466 , -0.01398495, -0.06497911,  0.04891233,  0.41530502,\n",
              "          0.38950697,  0.33402607, -0.2543157 ,  0.33528423,  0.35920143,\n",
              "         -0.17654489, -0.4310026 , -0.3430747 ,  0.22727506,  0.25065142,\n",
              "          0.05100494, -0.4087645 ]], dtype=float32),\n",
              " array([ 1.87119306e-03, -2.78119813e-04,  1.60599209e-03, -1.10078625e-01,\n",
              "         1.64552359e-04, -1.83767468e-01, -8.71661026e-03,  1.22359827e-01,\n",
              "        -6.69175535e-02,  1.13745197e-03, -1.22502044e-01,  1.28241524e-01,\n",
              "        -1.23236753e-01, -1.58298761e-01, -1.61037639e-01,  1.49113708e-03,\n",
              "         0.00000000e+00,  0.00000000e+00, -4.90777418e-02, -2.09242821e-01,\n",
              "        -1.37320627e-02,  1.11573201e-04,  0.00000000e+00, -1.61830738e-01,\n",
              "        -1.60945933e-02,  0.00000000e+00, -3.34051438e-04,  0.00000000e+00,\n",
              "         8.72705481e-04,  1.75535399e-03, -5.22577539e-02,  0.00000000e+00],\n",
              "       dtype=float32),\n",
              " array([[ 0.14118904],\n",
              "        [ 0.41405162],\n",
              "        [ 0.2958972 ],\n",
              "        [-0.24905556],\n",
              "        [ 0.42854393],\n",
              "        [-0.52412236],\n",
              "        [ 0.09114809],\n",
              "        [-0.08480635],\n",
              "        [-0.33924052],\n",
              "        [ 0.36214954],\n",
              "        [-0.21742718],\n",
              "        [-0.4032545 ],\n",
              "        [-0.42718136],\n",
              "        [-0.35733178],\n",
              "        [-0.5419645 ],\n",
              "        [ 0.2453324 ],\n",
              "        [ 0.32401264],\n",
              "        [-0.16413954],\n",
              "        [-0.23799042],\n",
              "        [-0.27784953],\n",
              "        [ 0.6216125 ],\n",
              "        [ 0.28732765],\n",
              "        [ 0.08726311],\n",
              "        [-0.5329825 ],\n",
              "        [ 0.36554676],\n",
              "        [ 0.28108388],\n",
              "        [ 0.3499737 ],\n",
              "        [-0.16080421],\n",
              "        [ 0.35490778],\n",
              "        [ 0.2961585 ],\n",
              "        [-0.33338794],\n",
              "        [ 0.32357073]], dtype=float32),\n",
              " array([-0.15238628], dtype=float32)]"
            ]
          },
          "metadata": {
            "tags": []
          },
          "execution_count": 9
        }
      ]
    },
    {
      "cell_type": "markdown",
      "metadata": {
        "id": "rLMwx9DGQcNs"
      },
      "source": [
        "모델 예측해보기"
      ]
    },
    {
      "cell_type": "code",
      "metadata": {
        "colab": {
          "base_uri": "https://localhost:8080/"
        },
        "id": "KQZDPvPLQU0_",
        "outputId": "cd789204-98b4-4cac-c09b-1e4c371a7a7f"
      },
      "source": [
        "result = model.predict(data)\n",
        "print(result)"
      ],
      "execution_count": 10,
      "outputs": [
        {
          "output_type": "stream",
          "text": [
            "[[0.44719073]\n",
            " [0.6010475 ]\n",
            " [0.6022009 ]\n",
            " [0.39668152]]\n"
          ],
          "name": "stdout"
        }
      ]
    },
    {
      "cell_type": "code",
      "metadata": {
        "colab": {
          "base_uri": "https://localhost:8080/"
        },
        "id": "VhqNTG1EQjnE",
        "outputId": "84f09a77-8b9e-4e6e-df73-3fbfbb04667e"
      },
      "source": [
        "result = model.predict_classes(data)\n",
        "print(result)\n",
        "# 0과 1로 알려준다.(0.5 이상은 1로 본다.)"
      ],
      "execution_count": 11,
      "outputs": [
        {
          "output_type": "stream",
          "text": [
            "[[0]\n",
            " [1]\n",
            " [1]\n",
            " [0]]\n"
          ],
          "name": "stdout"
        },
        {
          "output_type": "stream",
          "text": [
            "/usr/local/lib/python3.7/dist-packages/tensorflow/python/keras/engine/sequential.py:455: UserWarning: `model.predict_classes()` is deprecated and will be removed after 2021-01-01. Please use instead:* `np.argmax(model.predict(x), axis=-1)`,   if your model does multi-class classification   (e.g. if it uses a `softmax` last-layer activation).* `(model.predict(x) > 0.5).astype(\"int32\")`,   if your model does binary classification   (e.g. if it uses a `sigmoid` last-layer activation).\n",
            "  warnings.warn('`model.predict_classes()` is deprecated and '\n"
          ],
          "name": "stderr"
        }
      ]
    },
    {
      "cell_type": "code",
      "metadata": {
        "id": "8jAxLXuNQsC8"
      },
      "source": [
        "# 기본적으로 100번 정도 실행해보고 양상을 먼저 파악한다.\n",
        "# 틀리면 옵티마이즈 되어서 그제서야 정확도가 올라간다"
      ],
      "execution_count": 12,
      "outputs": []
    }
  ]
}