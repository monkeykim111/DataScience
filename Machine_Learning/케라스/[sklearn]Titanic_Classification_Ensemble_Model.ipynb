{
  "nbformat": 4,
  "nbformat_minor": 0,
  "metadata": {
    "colab": {
      "name": "[sklearn]Titanic Classification - Ensemble Model.ipynb",
      "provenance": [],
      "collapsed_sections": []
    },
    "kernelspec": {
      "name": "python3",
      "display_name": "Python 3"
    },
    "language_info": {
      "name": "python"
    }
  },
  "cells": [
    {
      "cell_type": "markdown",
      "metadata": {
        "id": "MM3BNRNpqSIu"
      },
      "source": [
        "문제 정의: 타이타닉 생존자 예측 데이터 셋을 사용하여 유무를 예측하는 이진분류 문제로 정의</br>\n",
        "사망: 0 / 생존: 1\n"
      ]
    },
    {
      "cell_type": "markdown",
      "metadata": {
        "id": "KNek5gllqflF"
      },
      "source": [
        "라이브러리 임포트"
      ]
    },
    {
      "cell_type": "code",
      "metadata": {
        "id": "4DgGpHEfpyXU"
      },
      "source": [
        "# 데이터 처리\n",
        "import numpy as np\n",
        "import pandas as pd\n",
        "import re\n",
        "\n",
        "# 시각화\n",
        "import matplotlib.pyplot as plt\n",
        "import seaborn as sns\n",
        "import plotly.express as px\n",
        "\n",
        "# 전처리\n",
        "from sklearn.model_selection import train_test_split\n",
        "from sklearn.preprocessing import StandardScaler, OrdinalEncoder, OneHotEncoder\n",
        "from sklearn.compose import ColumnTransformer\n",
        "from sklearn.base import BaseEstimator, TransformerMixin\n",
        "\n",
        "# 머신러닝\n",
        "from sklearn.linear_model import LogisticRegression\n",
        "from sklearn.tree import DecisionTreeClassifier\n",
        "from sklearn.ensemble import GradientBoostingClassifier\n",
        "from sklearn.ensemble import  RandomForestClassifier\n",
        "\n",
        "# 평가\n",
        "from sklearn import metrics"
      ],
      "execution_count": 1,
      "outputs": []
    },
    {
      "cell_type": "markdown",
      "metadata": {
        "id": "qK1ARt02sCek"
      },
      "source": [
        "데이터 준비하기"
      ]
    },
    {
      "cell_type": "code",
      "metadata": {
        "id": "q-HKi-Iqq0bH"
      },
      "source": [
        "train_path = 'train.csv'\n",
        "\n",
        "target = 'Survived'\n",
        "\n",
        "index = 'PassengerId'\n",
        "\n",
        "dtypes = ({\n",
        "    'Survived': bool, \n",
        "    'Pclass':   'category', \n",
        "    'Name':     'category',\n",
        "    'Sex':      'category',\n",
        "    'Age':      float,\n",
        "    'SibSp':    int,\n",
        "    'Parch':    int,\n",
        "    'Ticket':  'category',\n",
        "    'Fare':     float,\n",
        "    'Cabin':   'category',\n",
        "    'Embarked':'category'\n",
        "})\n",
        "\n",
        "titanic = pd.read_csv(train_path, index_col=index, dtype=dtypes)"
      ],
      "execution_count": 2,
      "outputs": []
    },
    {
      "cell_type": "code",
      "metadata": {
        "colab": {
          "base_uri": "https://localhost:8080/",
          "height": 522
        },
        "id": "wFn60idZs77X",
        "outputId": "df14db44-47f6-46a8-f76b-9c5bb2e0833b"
      },
      "source": [
        "titanic.head()"
      ],
      "execution_count": 3,
      "outputs": [
        {
          "output_type": "execute_result",
          "data": {
            "text/html": [
              "<div>\n",
              "<style scoped>\n",
              "    .dataframe tbody tr th:only-of-type {\n",
              "        vertical-align: middle;\n",
              "    }\n",
              "\n",
              "    .dataframe tbody tr th {\n",
              "        vertical-align: top;\n",
              "    }\n",
              "\n",
              "    .dataframe thead th {\n",
              "        text-align: right;\n",
              "    }\n",
              "</style>\n",
              "<table border=\"1\" class=\"dataframe\">\n",
              "  <thead>\n",
              "    <tr style=\"text-align: right;\">\n",
              "      <th></th>\n",
              "      <th>Survived</th>\n",
              "      <th>Pclass</th>\n",
              "      <th>Name</th>\n",
              "      <th>Sex</th>\n",
              "      <th>Age</th>\n",
              "      <th>SibSp</th>\n",
              "      <th>Parch</th>\n",
              "      <th>Ticket</th>\n",
              "      <th>Fare</th>\n",
              "      <th>Cabin</th>\n",
              "      <th>Embarked</th>\n",
              "    </tr>\n",
              "    <tr>\n",
              "      <th>PassengerId</th>\n",
              "      <th></th>\n",
              "      <th></th>\n",
              "      <th></th>\n",
              "      <th></th>\n",
              "      <th></th>\n",
              "      <th></th>\n",
              "      <th></th>\n",
              "      <th></th>\n",
              "      <th></th>\n",
              "      <th></th>\n",
              "      <th></th>\n",
              "    </tr>\n",
              "  </thead>\n",
              "  <tbody>\n",
              "    <tr>\n",
              "      <th>1</th>\n",
              "      <td>False</td>\n",
              "      <td>3</td>\n",
              "      <td>Braund, Mr. Owen Harris</td>\n",
              "      <td>male</td>\n",
              "      <td>22.0</td>\n",
              "      <td>1</td>\n",
              "      <td>0</td>\n",
              "      <td>A/5 21171</td>\n",
              "      <td>7.2500</td>\n",
              "      <td>NaN</td>\n",
              "      <td>S</td>\n",
              "    </tr>\n",
              "    <tr>\n",
              "      <th>2</th>\n",
              "      <td>True</td>\n",
              "      <td>1</td>\n",
              "      <td>Cumings, Mrs. John Bradley (Florence Briggs Th...</td>\n",
              "      <td>female</td>\n",
              "      <td>38.0</td>\n",
              "      <td>1</td>\n",
              "      <td>0</td>\n",
              "      <td>PC 17599</td>\n",
              "      <td>71.2833</td>\n",
              "      <td>C85</td>\n",
              "      <td>C</td>\n",
              "    </tr>\n",
              "    <tr>\n",
              "      <th>3</th>\n",
              "      <td>True</td>\n",
              "      <td>3</td>\n",
              "      <td>Heikkinen, Miss. Laina</td>\n",
              "      <td>female</td>\n",
              "      <td>26.0</td>\n",
              "      <td>0</td>\n",
              "      <td>0</td>\n",
              "      <td>STON/O2. 3101282</td>\n",
              "      <td>7.9250</td>\n",
              "      <td>NaN</td>\n",
              "      <td>S</td>\n",
              "    </tr>\n",
              "    <tr>\n",
              "      <th>4</th>\n",
              "      <td>True</td>\n",
              "      <td>1</td>\n",
              "      <td>Futrelle, Mrs. Jacques Heath (Lily May Peel)</td>\n",
              "      <td>female</td>\n",
              "      <td>35.0</td>\n",
              "      <td>1</td>\n",
              "      <td>0</td>\n",
              "      <td>113803</td>\n",
              "      <td>53.1000</td>\n",
              "      <td>C123</td>\n",
              "      <td>S</td>\n",
              "    </tr>\n",
              "    <tr>\n",
              "      <th>5</th>\n",
              "      <td>False</td>\n",
              "      <td>3</td>\n",
              "      <td>Allen, Mr. William Henry</td>\n",
              "      <td>male</td>\n",
              "      <td>35.0</td>\n",
              "      <td>0</td>\n",
              "      <td>0</td>\n",
              "      <td>373450</td>\n",
              "      <td>8.0500</td>\n",
              "      <td>NaN</td>\n",
              "      <td>S</td>\n",
              "    </tr>\n",
              "  </tbody>\n",
              "</table>\n",
              "</div>"
            ],
            "text/plain": [
              "             Survived Pclass  ... Cabin Embarked\n",
              "PassengerId                   ...               \n",
              "1               False      3  ...   NaN        S\n",
              "2                True      1  ...   C85        C\n",
              "3                True      3  ...   NaN        S\n",
              "4                True      1  ...  C123        S\n",
              "5               False      3  ...   NaN        S\n",
              "\n",
              "[5 rows x 11 columns]"
            ]
          },
          "metadata": {
            "tags": []
          },
          "execution_count": 3
        }
      ]
    },
    {
      "cell_type": "code",
      "metadata": {
        "colab": {
          "base_uri": "https://localhost:8080/"
        },
        "id": "RMcLi31DtHds",
        "outputId": "5c74ab74-c654-491f-e5da-00dadce4c269"
      },
      "source": [
        "titanic.info()"
      ],
      "execution_count": 4,
      "outputs": [
        {
          "output_type": "stream",
          "text": [
            "<class 'pandas.core.frame.DataFrame'>\n",
            "Int64Index: 891 entries, 1 to 891\n",
            "Data columns (total 11 columns):\n",
            " #   Column    Non-Null Count  Dtype   \n",
            "---  ------    --------------  -----   \n",
            " 0   Survived  891 non-null    bool    \n",
            " 1   Pclass    891 non-null    category\n",
            " 2   Name      891 non-null    category\n",
            " 3   Sex       891 non-null    category\n",
            " 4   Age       714 non-null    float64 \n",
            " 5   SibSp     891 non-null    int64   \n",
            " 6   Parch     891 non-null    int64   \n",
            " 7   Ticket    891 non-null    category\n",
            " 8   Fare      891 non-null    float64 \n",
            " 9   Cabin     204 non-null    category\n",
            " 10  Embarked  889 non-null    category\n",
            "dtypes: bool(1), category(6), float64(2), int64(2)\n",
            "memory usage: 122.2 KB\n"
          ],
          "name": "stdout"
        }
      ]
    },
    {
      "cell_type": "markdown",
      "metadata": {
        "id": "wjE_hoWMtOBF"
      },
      "source": [
        "데이터 시각화하기"
      ]
    },
    {
      "cell_type": "code",
      "metadata": {
        "colab": {
          "base_uri": "https://localhost:8080/"
        },
        "id": "VjILuwsvtPFl",
        "outputId": "b707bbfa-b3cc-4d9b-a066-ab340499d3fb"
      },
      "source": [
        "titanic['Survived'].value_counts()"
      ],
      "execution_count": 5,
      "outputs": [
        {
          "output_type": "execute_result",
          "data": {
            "text/plain": [
              "False    549\n",
              "True     342\n",
              "Name: Survived, dtype: int64"
            ]
          },
          "metadata": {
            "tags": []
          },
          "execution_count": 5
        }
      ]
    },
    {
      "cell_type": "code",
      "metadata": {
        "colab": {
          "base_uri": "https://localhost:8080/",
          "height": 401
        },
        "id": "gOtZZFTatgqE",
        "outputId": "9dc57b57-2bf8-4343-829c-c73dba5b8a16"
      },
      "source": [
        "attributes = ['Survived', 'Pclass', 'Sex', 'Embarked', 'SibSp', 'Parch']\n",
        "\n",
        "plt.figure(figsize=(14, 12), dpi= 200)\n",
        "\n",
        "for i, feature in enumerate(attributes):\n",
        "  plt.subplot(3, 3, i+1)\n",
        "  sns.countplot(data=titanic, x = feature, hue='Survived')\n",
        "\n",
        "sns.despine()"
      ],
      "execution_count": 6,
      "outputs": [
        {
          "output_type": "display_data",
          "data": {
            "image/png": "[encoded data removed]",
            "text/plain": [
              "<Figure size 2800x2400 with 6 Axes>"
            ]
          },
          "metadata": {
            "tags": [],
            "needs_background": "light"
          }
        }
      ]
    },
    {
      "cell_type": "markdown",
      "metadata": {
        "id": "mUVM24vrvH6z"
      },
      "source": [
        "데이터 전처리"
      ]
    },
    {
      "cell_type": "code",
      "metadata": {
        "colab": {
          "base_uri": "https://localhost:8080/"
        },
        "id": "5XIA8uYuvJAV",
        "outputId": "aef9b52e-3a69-489e-b4fd-26a43a82ff5d"
      },
      "source": [
        "titanic['Name'].iloc[0:5]\n",
        "\n"
      ],
      "execution_count": 7,
      "outputs": [
        {
          "output_type": "execute_result",
          "data": {
            "text/plain": [
              "PassengerId\n",
              "1                              Braund, Mr. Owen Harris\n",
              "2    Cumings, Mrs. John Bradley (Florence Briggs Th...\n",
              "3                               Heikkinen, Miss. Laina\n",
              "4         Futrelle, Mrs. Jacques Heath (Lily May Peel)\n",
              "5                             Allen, Mr. William Henry\n",
              "Name: Name, dtype: category\n",
              "Categories (891, object): ['Abbing, Mr. Anthony', 'Abbott, Mr. Rossmore Edward',\n",
              "                           'Abbott, Mrs. Stanton (Rosa Hunt)', 'Abelson, Mr. Samuel', ..., 'de Pelsmaeker, Mr. Alfons',\n",
              "                           'del Carlo, Mr. Sebastiano', 'van Billiard, Mr. Austin Blyler',\n",
              "                           'van Melkebeke, Mr. Philemon']"
            ]
          },
          "metadata": {
            "tags": []
          },
          "execution_count": 7
        }
      ]
    },
    {
      "cell_type": "code",
      "metadata": {
        "id": "D9L9fHZLv0k4"
      },
      "source": [
        "def get_title(name):\n",
        "  return re.split(',|\\.', name)[1].strip()"
      ],
      "execution_count": 8,
      "outputs": []
    },
    {
      "cell_type": "code",
      "metadata": {
        "id": "2uVpHDDUwDnE"
      },
      "source": [
        "# 이름에서 성 호칭을 추출함 (Miss, Mr, Mrs)\n",
        "titanic['title'] = titanic['Name'].apply(get_title)"
      ],
      "execution_count": 9,
      "outputs": []
    },
    {
      "cell_type": "code",
      "metadata": {
        "id": "pLm24Q41wi8p"
      },
      "source": [
        "# 호칭이 생존에 과연 영향을 끼치는지 확인을 위해 집계함수를 사용 -> 카운트, 평균\n",
        "titles = titanic.groupby('title').agg({'Survived' : ['count', 'mean']})"
      ],
      "execution_count": 10,
      "outputs": []
    },
    {
      "cell_type": "code",
      "metadata": {
        "id": "B_hKWqf2xRdE"
      },
      "source": [
        "# Survived 컬럼 레이어 정리하기\n",
        "titles.columns = titles.columns.droplevel()"
      ],
      "execution_count": 11,
      "outputs": []
    },
    {
      "cell_type": "code",
      "metadata": {
        "colab": {
          "base_uri": "https://localhost:8080/",
          "height": 603
        },
        "id": "6DBB_ntwyIXE",
        "outputId": "39c5b493-cb11-411a-b236-7ab77ab86377"
      },
      "source": [
        "# 생존 평균이 높은 순으로 정렬하기\n",
        "titles.sort_values('mean', ascending = False)\n"
      ],
      "execution_count": 12,
      "outputs": [
        {
          "output_type": "execute_result",
          "data": {
            "text/html": [
              "<div>\n",
              "<style scoped>\n",
              "    .dataframe tbody tr th:only-of-type {\n",
              "        vertical-align: middle;\n",
              "    }\n",
              "\n",
              "    .dataframe tbody tr th {\n",
              "        vertical-align: top;\n",
              "    }\n",
              "\n",
              "    .dataframe thead th {\n",
              "        text-align: right;\n",
              "    }\n",
              "</style>\n",
              "<table border=\"1\" class=\"dataframe\">\n",
              "  <thead>\n",
              "    <tr style=\"text-align: right;\">\n",
              "      <th></th>\n",
              "      <th>count</th>\n",
              "      <th>mean</th>\n",
              "    </tr>\n",
              "    <tr>\n",
              "      <th>title</th>\n",
              "      <th></th>\n",
              "      <th></th>\n",
              "    </tr>\n",
              "  </thead>\n",
              "  <tbody>\n",
              "    <tr>\n",
              "      <th>the Countess</th>\n",
              "      <td>1</td>\n",
              "      <td>1.000000</td>\n",
              "    </tr>\n",
              "    <tr>\n",
              "      <th>Mlle</th>\n",
              "      <td>2</td>\n",
              "      <td>1.000000</td>\n",
              "    </tr>\n",
              "    <tr>\n",
              "      <th>Sir</th>\n",
              "      <td>1</td>\n",
              "      <td>1.000000</td>\n",
              "    </tr>\n",
              "    <tr>\n",
              "      <th>Ms</th>\n",
              "      <td>1</td>\n",
              "      <td>1.000000</td>\n",
              "    </tr>\n",
              "    <tr>\n",
              "      <th>Lady</th>\n",
              "      <td>1</td>\n",
              "      <td>1.000000</td>\n",
              "    </tr>\n",
              "    <tr>\n",
              "      <th>Mme</th>\n",
              "      <td>1</td>\n",
              "      <td>1.000000</td>\n",
              "    </tr>\n",
              "    <tr>\n",
              "      <th>Mrs</th>\n",
              "      <td>125</td>\n",
              "      <td>0.792000</td>\n",
              "    </tr>\n",
              "    <tr>\n",
              "      <th>Miss</th>\n",
              "      <td>182</td>\n",
              "      <td>0.697802</td>\n",
              "    </tr>\n",
              "    <tr>\n",
              "      <th>Master</th>\n",
              "      <td>40</td>\n",
              "      <td>0.575000</td>\n",
              "    </tr>\n",
              "    <tr>\n",
              "      <th>Col</th>\n",
              "      <td>2</td>\n",
              "      <td>0.500000</td>\n",
              "    </tr>\n",
              "    <tr>\n",
              "      <th>Major</th>\n",
              "      <td>2</td>\n",
              "      <td>0.500000</td>\n",
              "    </tr>\n",
              "    <tr>\n",
              "      <th>Dr</th>\n",
              "      <td>7</td>\n",
              "      <td>0.428571</td>\n",
              "    </tr>\n",
              "    <tr>\n",
              "      <th>Mr</th>\n",
              "      <td>517</td>\n",
              "      <td>0.156673</td>\n",
              "    </tr>\n",
              "    <tr>\n",
              "      <th>Jonkheer</th>\n",
              "      <td>1</td>\n",
              "      <td>0.000000</td>\n",
              "    </tr>\n",
              "    <tr>\n",
              "      <th>Rev</th>\n",
              "      <td>6</td>\n",
              "      <td>0.000000</td>\n",
              "    </tr>\n",
              "    <tr>\n",
              "      <th>Don</th>\n",
              "      <td>1</td>\n",
              "      <td>0.000000</td>\n",
              "    </tr>\n",
              "    <tr>\n",
              "      <th>Capt</th>\n",
              "      <td>1</td>\n",
              "      <td>0.000000</td>\n",
              "    </tr>\n",
              "  </tbody>\n",
              "</table>\n",
              "</div>"
            ],
            "text/plain": [
              "              count      mean\n",
              "title                        \n",
              "the Countess      1  1.000000\n",
              "Mlle              2  1.000000\n",
              "Sir               1  1.000000\n",
              "Ms                1  1.000000\n",
              "Lady              1  1.000000\n",
              "Mme               1  1.000000\n",
              "Mrs             125  0.792000\n",
              "Miss            182  0.697802\n",
              "Master           40  0.575000\n",
              "Col               2  0.500000\n",
              "Major             2  0.500000\n",
              "Dr                7  0.428571\n",
              "Mr              517  0.156673\n",
              "Jonkheer          1  0.000000\n",
              "Rev               6  0.000000\n",
              "Don               1  0.000000\n",
              "Capt              1  0.000000"
            ]
          },
          "metadata": {
            "tags": []
          },
          "execution_count": 12
        }
      ]
    },
    {
      "cell_type": "code",
      "metadata": {
        "id": "DhTapokeyJwi"
      },
      "source": [
        "# 호칭 추출이 되지 않은 title 값을 other로 처리하기\n",
        "uncommon_titles = (['Don', 'Rev', 'Dr', 'Mme', 'Ms', 'Major', \n",
        "                    'Lady', 'Sir', 'Mlle', 'Col', 'Capt', \n",
        "                    'the Countess', 'Jonkheer'])\n",
        "\n",
        "titanic['title'] = titanic['title'].replace(uncommon_titles, 'other')"
      ],
      "execution_count": 13,
      "outputs": []
    },
    {
      "cell_type": "code",
      "metadata": {
        "colab": {
          "base_uri": "https://localhost:8080/"
        },
        "id": "1mqETJZuzLKi",
        "outputId": "f7bfecd0-6794-41c5-ec96-00adf3677f20"
      },
      "source": [
        "titanic['title']"
      ],
      "execution_count": 14,
      "outputs": [
        {
          "output_type": "execute_result",
          "data": {
            "text/plain": [
              "PassengerId\n",
              "1         Mr\n",
              "2        Mrs\n",
              "3       Miss\n",
              "4        Mrs\n",
              "5         Mr\n",
              "       ...  \n",
              "887    other\n",
              "888     Miss\n",
              "889     Miss\n",
              "890       Mr\n",
              "891       Mr\n",
              "Name: title, Length: 891, dtype: object"
            ]
          },
          "metadata": {
            "tags": []
          },
          "execution_count": 14
        }
      ]
    },
    {
      "cell_type": "code",
      "metadata": {
        "colab": {
          "base_uri": "https://localhost:8080/",
          "height": 550
        },
        "id": "EhGid7OAzRPo",
        "outputId": "9cfe3494-e244-4764-e5db-227652bd49fd"
      },
      "source": [
        "sns.catplot(x='title', kind = 'count', hue='Survived', \n",
        "            data=titanic, height=7)\n",
        "\n",
        "plt.tick_params(labelsize=12)\n",
        "plt.ylabel('Count', fontsize=14)\n",
        "plt.xlabel('Title', fontsize=14)\n",
        "plt.title('Survived by Title')\n",
        "plt.show()"
      ],
      "execution_count": 15,
      "outputs": [
        {
          "output_type": "display_data",
          "data": {
            "image/png": "[encoded data removed]",
            "text/plain": [
              "<Figure size 565.25x504 with 1 Axes>"
            ]
          },
          "metadata": {
            "tags": [],
            "needs_background": "light"
          }
        }
      ]
    },
    {
      "cell_type": "code",
      "metadata": {
        "id": "515V8CSO0tLB"
      },
      "source": [
        "# 가족 사이즈 -> SibSp(동승한 자매 or 배우자) + Parch(동승한 부모 or 자식)\n",
        "titanic['fam_size'] = titanic['SibSp'] + titanic['Parch']"
      ],
      "execution_count": 16,
      "outputs": []
    },
    {
      "cell_type": "code",
      "metadata": {
        "colab": {
          "base_uri": "https://localhost:8080/",
          "height": 550
        },
        "id": "z4K8EvcM1aml",
        "outputId": "da8ea37f-c4df-4361-94d3-5f1f98c63ce0"
      },
      "source": [
        "sns.catplot(x='fam_size', kind = 'count', hue='Survived', \n",
        "            data=titanic, height=7)\n",
        "\n",
        "plt.tick_params(labelsize=12)\n",
        "plt.ylabel('Count', fontsize=14)\n",
        "plt.xlabel('famliy_size', fontsize=14)\n",
        "plt.title('Survival by family_size')\n",
        "plt.show()"
      ],
      "execution_count": 17,
      "outputs": [
        {
          "output_type": "display_data",
          "data": {
            "image/png": "[encoded data removed]",
            "text/plain": [
              "<Figure size 565.25x504 with 1 Axes>"
            ]
          },
          "metadata": {
            "tags": [],
            "needs_background": "light"
          }
        }
      ]
    },
    {
      "cell_type": "markdown",
      "metadata": {
        "id": "CePTCSVj2Z43"
      },
      "source": [
        "ML을 위한 전처리"
      ]
    },
    {
      "cell_type": "code",
      "metadata": {
        "id": "P6Op6Tf42Y8R"
      },
      "source": [
        "# 텍스트 데이터 삭제하기\n",
        "titanic = titanic.drop(['Name','Ticket','Cabin', 'Embarked','title'], axis=1)"
      ],
      "execution_count": 18,
      "outputs": []
    },
    {
      "cell_type": "code",
      "metadata": {
        "colab": {
          "base_uri": "https://localhost:8080/",
          "height": 234
        },
        "id": "fFfAWug92pGK",
        "outputId": "9a91a670-9678-4406-b804-04b987b96271"
      },
      "source": [
        "titanic.head()"
      ],
      "execution_count": 19,
      "outputs": [
        {
          "output_type": "execute_result",
          "data": {
            "text/html": [
              "<div>\n",
              "<style scoped>\n",
              "    .dataframe tbody tr th:only-of-type {\n",
              "        vertical-align: middle;\n",
              "    }\n",
              "\n",
              "    .dataframe tbody tr th {\n",
              "        vertical-align: top;\n",
              "    }\n",
              "\n",
              "    .dataframe thead th {\n",
              "        text-align: right;\n",
              "    }\n",
              "</style>\n",
              "<table border=\"1\" class=\"dataframe\">\n",
              "  <thead>\n",
              "    <tr style=\"text-align: right;\">\n",
              "      <th></th>\n",
              "      <th>Survived</th>\n",
              "      <th>Pclass</th>\n",
              "      <th>Sex</th>\n",
              "      <th>Age</th>\n",
              "      <th>SibSp</th>\n",
              "      <th>Parch</th>\n",
              "      <th>Fare</th>\n",
              "      <th>fam_size</th>\n",
              "    </tr>\n",
              "    <tr>\n",
              "      <th>PassengerId</th>\n",
              "      <th></th>\n",
              "      <th></th>\n",
              "      <th></th>\n",
              "      <th></th>\n",
              "      <th></th>\n",
              "      <th></th>\n",
              "      <th></th>\n",
              "      <th></th>\n",
              "    </tr>\n",
              "  </thead>\n",
              "  <tbody>\n",
              "    <tr>\n",
              "      <th>1</th>\n",
              "      <td>False</td>\n",
              "      <td>3</td>\n",
              "      <td>male</td>\n",
              "      <td>22.0</td>\n",
              "      <td>1</td>\n",
              "      <td>0</td>\n",
              "      <td>7.2500</td>\n",
              "      <td>1</td>\n",
              "    </tr>\n",
              "    <tr>\n",
              "      <th>2</th>\n",
              "      <td>True</td>\n",
              "      <td>1</td>\n",
              "      <td>female</td>\n",
              "      <td>38.0</td>\n",
              "      <td>1</td>\n",
              "      <td>0</td>\n",
              "      <td>71.2833</td>\n",
              "      <td>1</td>\n",
              "    </tr>\n",
              "    <tr>\n",
              "      <th>3</th>\n",
              "      <td>True</td>\n",
              "      <td>3</td>\n",
              "      <td>female</td>\n",
              "      <td>26.0</td>\n",
              "      <td>0</td>\n",
              "      <td>0</td>\n",
              "      <td>7.9250</td>\n",
              "      <td>0</td>\n",
              "    </tr>\n",
              "    <tr>\n",
              "      <th>4</th>\n",
              "      <td>True</td>\n",
              "      <td>1</td>\n",
              "      <td>female</td>\n",
              "      <td>35.0</td>\n",
              "      <td>1</td>\n",
              "      <td>0</td>\n",
              "      <td>53.1000</td>\n",
              "      <td>1</td>\n",
              "    </tr>\n",
              "    <tr>\n",
              "      <th>5</th>\n",
              "      <td>False</td>\n",
              "      <td>3</td>\n",
              "      <td>male</td>\n",
              "      <td>35.0</td>\n",
              "      <td>0</td>\n",
              "      <td>0</td>\n",
              "      <td>8.0500</td>\n",
              "      <td>0</td>\n",
              "    </tr>\n",
              "  </tbody>\n",
              "</table>\n",
              "</div>"
            ],
            "text/plain": [
              "             Survived Pclass     Sex   Age  SibSp  Parch     Fare  fam_size\n",
              "PassengerId                                                                \n",
              "1               False      3    male  22.0      1      0   7.2500         1\n",
              "2                True      1  female  38.0      1      0  71.2833         1\n",
              "3                True      3  female  26.0      0      0   7.9250         0\n",
              "4                True      1  female  35.0      1      0  53.1000         1\n",
              "5               False      3    male  35.0      0      0   8.0500         0"
            ]
          },
          "metadata": {
            "tags": []
          },
          "execution_count": 19
        }
      ]
    },
    {
      "cell_type": "code",
      "metadata": {
        "id": "uRy4u_zZ3B85"
      },
      "source": [
        "# 여성을 1로 하고 남성을 0으로 처리하기\n",
        "temp = []\n",
        "\n",
        "for each in titanic['Sex'] :\n",
        "  if each == 'female':\n",
        "    temp.append(1)\n",
        "  elif each == 'male':\n",
        "    temp.append(0)\n",
        "  else: # 데이터 셋이 없는 경우에도 반드시 적기\n",
        "    temp.append(np.nan) # 0도 아닌 nan 값으로 반드시 넣기\n",
        "\n",
        "titanic['Sex'] = temp\n",
        "\n"
      ],
      "execution_count": 20,
      "outputs": []
    },
    {
      "cell_type": "code",
      "metadata": {
        "colab": {
          "base_uri": "https://localhost:8080/",
          "height": 234
        },
        "id": "ClRtVCT737si",
        "outputId": "ee2288f2-3840-4980-9ddd-e7c1252f03ea"
      },
      "source": [
        "titanic.head()"
      ],
      "execution_count": 21,
      "outputs": [
        {
          "output_type": "execute_result",
          "data": {
            "text/html": [
              "<div>\n",
              "<style scoped>\n",
              "    .dataframe tbody tr th:only-of-type {\n",
              "        vertical-align: middle;\n",
              "    }\n",
              "\n",
              "    .dataframe tbody tr th {\n",
              "        vertical-align: top;\n",
              "    }\n",
              "\n",
              "    .dataframe thead th {\n",
              "        text-align: right;\n",
              "    }\n",
              "</style>\n",
              "<table border=\"1\" class=\"dataframe\">\n",
              "  <thead>\n",
              "    <tr style=\"text-align: right;\">\n",
              "      <th></th>\n",
              "      <th>Survived</th>\n",
              "      <th>Pclass</th>\n",
              "      <th>Sex</th>\n",
              "      <th>Age</th>\n",
              "      <th>SibSp</th>\n",
              "      <th>Parch</th>\n",
              "      <th>Fare</th>\n",
              "      <th>fam_size</th>\n",
              "    </tr>\n",
              "    <tr>\n",
              "      <th>PassengerId</th>\n",
              "      <th></th>\n",
              "      <th></th>\n",
              "      <th></th>\n",
              "      <th></th>\n",
              "      <th></th>\n",
              "      <th></th>\n",
              "      <th></th>\n",
              "      <th></th>\n",
              "    </tr>\n",
              "  </thead>\n",
              "  <tbody>\n",
              "    <tr>\n",
              "      <th>1</th>\n",
              "      <td>False</td>\n",
              "      <td>3</td>\n",
              "      <td>0</td>\n",
              "      <td>22.0</td>\n",
              "      <td>1</td>\n",
              "      <td>0</td>\n",
              "      <td>7.2500</td>\n",
              "      <td>1</td>\n",
              "    </tr>\n",
              "    <tr>\n",
              "      <th>2</th>\n",
              "      <td>True</td>\n",
              "      <td>1</td>\n",
              "      <td>1</td>\n",
              "      <td>38.0</td>\n",
              "      <td>1</td>\n",
              "      <td>0</td>\n",
              "      <td>71.2833</td>\n",
              "      <td>1</td>\n",
              "    </tr>\n",
              "    <tr>\n",
              "      <th>3</th>\n",
              "      <td>True</td>\n",
              "      <td>3</td>\n",
              "      <td>1</td>\n",
              "      <td>26.0</td>\n",
              "      <td>0</td>\n",
              "      <td>0</td>\n",
              "      <td>7.9250</td>\n",
              "      <td>0</td>\n",
              "    </tr>\n",
              "    <tr>\n",
              "      <th>4</th>\n",
              "      <td>True</td>\n",
              "      <td>1</td>\n",
              "      <td>1</td>\n",
              "      <td>35.0</td>\n",
              "      <td>1</td>\n",
              "      <td>0</td>\n",
              "      <td>53.1000</td>\n",
              "      <td>1</td>\n",
              "    </tr>\n",
              "    <tr>\n",
              "      <th>5</th>\n",
              "      <td>False</td>\n",
              "      <td>3</td>\n",
              "      <td>0</td>\n",
              "      <td>35.0</td>\n",
              "      <td>0</td>\n",
              "      <td>0</td>\n",
              "      <td>8.0500</td>\n",
              "      <td>0</td>\n",
              "    </tr>\n",
              "  </tbody>\n",
              "</table>\n",
              "</div>"
            ],
            "text/plain": [
              "             Survived Pclass  Sex   Age  SibSp  Parch     Fare  fam_size\n",
              "PassengerId                                                             \n",
              "1               False      3    0  22.0      1      0   7.2500         1\n",
              "2                True      1    1  38.0      1      0  71.2833         1\n",
              "3                True      3    1  26.0      0      0   7.9250         0\n",
              "4                True      1    1  35.0      1      0  53.1000         1\n",
              "5               False      3    0  35.0      0      0   8.0500         0"
            ]
          },
          "metadata": {
            "tags": []
          },
          "execution_count": 21
        }
      ]
    },
    {
      "cell_type": "markdown",
      "metadata": {
        "id": "UHAPW0P77eLW"
      },
      "source": [
        "데이터 형변환 및 결손 데이터 처리"
      ]
    },
    {
      "cell_type": "code",
      "metadata": {
        "id": "gAbz0HRA7gs6"
      },
      "source": [
        "# 데이터 형 변환 (소수점)\n",
        "titanic['Pclass'] = titanic['Pclass'].astype('float')\n",
        "titanic['Sex'] = titanic['Sex'].astype('float')\n",
        "titanic['SibSp'] = titanic['SibSp'].astype('float')\n",
        "titanic['Parch'] = titanic['Parch'].astype('float')\n",
        "titanic['Fare'] = titanic['Fare'].astype('float')\n",
        "\n",
        "#null(결손) 값인 경우 삭제\n",
        "titanic = titanic[titanic['Survived'].notnull()]\n",
        "titanic = titanic[titanic['Age'].notnull()]\n",
        "titanic = titanic[titanic['SibSp'].notnull()]\n",
        "titanic = titanic[titanic['Parch'].notnull()]\n",
        "titanic = titanic[titanic['Fare'].notnull()]"
      ],
      "execution_count": 22,
      "outputs": []
    },
    {
      "cell_type": "code",
      "metadata": {
        "colab": {
          "base_uri": "https://localhost:8080/"
        },
        "id": "JgKfX1Fu7ujX",
        "outputId": "79b9e12f-1d20-453a-90ac-5c5224486d5c"
      },
      "source": [
        "titanic.info()"
      ],
      "execution_count": 23,
      "outputs": [
        {
          "output_type": "stream",
          "text": [
            "<class 'pandas.core.frame.DataFrame'>\n",
            "Int64Index: 714 entries, 1 to 891\n",
            "Data columns (total 8 columns):\n",
            " #   Column    Non-Null Count  Dtype  \n",
            "---  ------    --------------  -----  \n",
            " 0   Survived  714 non-null    bool   \n",
            " 1   Pclass    714 non-null    float64\n",
            " 2   Sex       714 non-null    float64\n",
            " 3   Age       714 non-null    float64\n",
            " 4   SibSp     714 non-null    float64\n",
            " 5   Parch     714 non-null    float64\n",
            " 6   Fare      714 non-null    float64\n",
            " 7   fam_size  714 non-null    int64  \n",
            "dtypes: bool(1), float64(6), int64(1)\n",
            "memory usage: 45.3 KB\n"
          ],
          "name": "stdout"
        }
      ]
    },
    {
      "cell_type": "markdown",
      "metadata": {
        "id": "9JBnD5wq70_x"
      },
      "source": [
        "데이터 분리하기 X(문제집), y(정답)"
      ]
    },
    {
      "cell_type": "code",
      "metadata": {
        "id": "MFMvURoA77Nd"
      },
      "source": [
        "titanic_labels = titanic['Survived'].copy()\n",
        "titanic = titanic.drop('Survived', axis=1)"
      ],
      "execution_count": 24,
      "outputs": []
    },
    {
      "cell_type": "markdown",
      "metadata": {
        "id": "OxLHpRiY8RMt"
      },
      "source": [
        "훈련 데이터, 테스트 데이터 셋 분리하기"
      ]
    },
    {
      "cell_type": "code",
      "metadata": {
        "id": "n_nubU3t8JnN"
      },
      "source": [
        "X_train, X_test, y_train, y_test = train_test_split(titanic,\n",
        "                                                    titanic_labels,\n",
        "                                                    train_size = 0.8)\n",
        "\n"
      ],
      "execution_count": 25,
      "outputs": []
    },
    {
      "cell_type": "markdown",
      "metadata": {
        "id": "i8XOo8zc8kg1"
      },
      "source": [
        "머신러닝 모델 구축 01.LogisticRegression"
      ]
    },
    {
      "cell_type": "code",
      "metadata": {
        "id": "Un8XztMh8kNs"
      },
      "source": [
        "log_reg = LogisticRegression().fit(X_train, y_train)"
      ],
      "execution_count": 26,
      "outputs": []
    },
    {
      "cell_type": "code",
      "metadata": {
        "colab": {
          "base_uri": "https://localhost:8080/"
        },
        "id": "P28uTPEU8tZu",
        "outputId": "94b87a86-163d-4b27-f56c-e533154da6b9"
      },
      "source": [
        "# 정확도 확인하기\n",
        "print('Train data Score: ', log_reg.score(X_train, y_train))\n",
        "print('Test data Score: ', log_reg.score(X_test, y_test))"
      ],
      "execution_count": 27,
      "outputs": [
        {
          "output_type": "stream",
          "text": [
            "Train data Score:  0.8021015761821366\n",
            "Test data Score:  0.8251748251748252\n"
          ],
          "name": "stdout"
        }
      ]
    },
    {
      "cell_type": "markdown",
      "metadata": {
        "id": "DQ7I475z8vR9"
      },
      "source": [
        "머신러닝 모델 구축 - 2. Decision Tree"
      ]
    },
    {
      "cell_type": "code",
      "metadata": {
        "id": "xojIgA8f8uyV"
      },
      "source": [
        "tree = DecisionTreeClassifier(max_depth=5,\n",
        "                              min_samples_leaf = 20,\n",
        "                              min_samples_split=40).fit(X_train, y_train)"
      ],
      "execution_count": 28,
      "outputs": []
    },
    {
      "cell_type": "code",
      "metadata": {
        "colab": {
          "base_uri": "https://localhost:8080/"
        },
        "id": "6RY21G168y9J",
        "outputId": "e4cc1f20-4627-444d-ad3f-1568d122553a"
      },
      "source": [
        "# 정확도 확인\n",
        "print('Train data Score: ', tree.score(X_train, y_train))\n",
        "print('Test data Score: ', tree.score(X_test, y_test))"
      ],
      "execution_count": 29,
      "outputs": [
        {
          "output_type": "stream",
          "text": [
            "Train data Score:  0.8126094570928196\n",
            "Test data Score:  0.8391608391608392\n"
          ],
          "name": "stdout"
        }
      ]
    },
    {
      "cell_type": "markdown",
      "metadata": {
        "id": "lTQ3r5H381m0"
      },
      "source": [
        "머신러닝 모델 구축 - 3.GradientBoostingClassifier"
      ]
    },
    {
      "cell_type": "code",
      "metadata": {
        "id": "46wwXBX980UF"
      },
      "source": [
        "boost = GradientBoostingClassifier(max_depth=3,\n",
        "                                   learning_rate=0.05).fit(X_train, y_train)"
      ],
      "execution_count": 30,
      "outputs": []
    },
    {
      "cell_type": "code",
      "metadata": {
        "colab": {
          "base_uri": "https://localhost:8080/"
        },
        "id": "lYE8j-K583VF",
        "outputId": "7d656e18-0d5d-4de3-c524-3f60c4dc2144"
      },
      "source": [
        "# 정확도 확인\n",
        "print('Train data Score: ', boost.score(X_train, y_train))\n",
        "print('Test data Score: ', boost.score(X_test, y_test))"
      ],
      "execution_count": 31,
      "outputs": [
        {
          "output_type": "stream",
          "text": [
            "Train data Score:  0.8861646234676007\n",
            "Test data Score:  0.8601398601398601\n"
          ],
          "name": "stdout"
        }
      ]
    },
    {
      "cell_type": "markdown",
      "metadata": {
        "id": "VKAaIAoW9Yn4"
      },
      "source": [
        "머신러닝 모델 구축 04. RandomForestClassifier"
      ]
    },
    {
      "cell_type": "code",
      "metadata": {
        "id": "qGXN7rpY84hl"
      },
      "source": [
        "random = RandomForestClassifier(n_estimators=300,\n",
        "                                   random_state=0).fit(X_train, y_train)"
      ],
      "execution_count": 32,
      "outputs": []
    },
    {
      "cell_type": "code",
      "metadata": {
        "colab": {
          "base_uri": "https://localhost:8080/"
        },
        "id": "Bw5LF8un9n3n",
        "outputId": "48ee0029-05d9-441d-c08e-eac34ecc5662"
      },
      "source": [
        "# 정확도 확인\n",
        "print('Train data Score: ', random.score(X_train, y_train))\n",
        "print('Test data Score: ', random.score(X_test, y_test))"
      ],
      "execution_count": 33,
      "outputs": [
        {
          "output_type": "stream",
          "text": [
            "Train data Score:  0.9842381786339754\n",
            "Test data Score:  0.8321678321678322\n"
          ],
          "name": "stdout"
        }
      ]
    },
    {
      "cell_type": "markdown",
      "metadata": {
        "id": "D-te3gOzAt1V"
      },
      "source": [
        "성능평가 - ROC커브"
      ]
    },
    {
      "cell_type": "code",
      "metadata": {
        "id": "gbRgglbrAsHD"
      },
      "source": [
        "def plot_auc_roc(model):\n",
        "    probs = model.predict_proba(X_test)\n",
        "    preds = probs[:,1]\n",
        "    fpr, tpr, threshold = metrics.roc_curve(y_test, preds)\n",
        "    roc_auc = metrics.auc(fpr, tpr)\n",
        "\n",
        "    # method I: plt\n",
        "    import matplotlib.pyplot as plt\n",
        "    plt.title('Receiver Operating Characteristic')\n",
        "    plt.plot(fpr, tpr, 'b', label = 'AUC = %0.2f' % roc_auc)\n",
        "    plt.legend(loc = 'lower right')\n",
        "    plt.plot([0, 1], [0, 1],'r--')\n",
        "    plt.xlim([0, 1])\n",
        "    plt.ylim([0, 1])\n",
        "    plt.ylabel('True Positive Rate')\n",
        "    plt.xlabel('False Positive Rate')\n",
        "    plt.show()\n"
      ],
      "execution_count": 34,
      "outputs": []
    },
    {
      "cell_type": "code",
      "metadata": {
        "colab": {
          "base_uri": "https://localhost:8080/",
          "height": 295
        },
        "id": "fHpOOBwhA3vS",
        "outputId": "20a66a9a-4d36-42fa-a6e3-6ea021577637"
      },
      "source": [
        "# Logistic Regression ROC\n",
        "plot_auc_roc(log_reg)"
      ],
      "execution_count": 35,
      "outputs": [
        {
          "output_type": "display_data",
          "data": {
            "image/png": "[encoded data removed]",
            "text/plain": [
              "<Figure size 432x288 with 1 Axes>"
            ]
          },
          "metadata": {
            "tags": [],
            "needs_background": "light"
          }
        }
      ]
    },
    {
      "cell_type": "code",
      "metadata": {
        "colab": {
          "base_uri": "https://localhost:8080/",
          "height": 295
        },
        "id": "KYAvMHjEA4XK",
        "outputId": "39689f0a-8980-4ef8-8cf2-a948931ceae9"
      },
      "source": [
        "# Logistic Decision Tree\n",
        "plot_auc_roc(tree)"
      ],
      "execution_count": 36,
      "outputs": [
        {
          "output_type": "display_data",
          "data": {
            "image/png": "[encoded data removed]",
            "text/plain": [
              "<Figure size 432x288 with 1 Axes>"
            ]
          },
          "metadata": {
            "tags": [],
            "needs_background": "light"
          }
        }
      ]
    },
    {
      "cell_type": "code",
      "metadata": {
        "colab": {
          "base_uri": "https://localhost:8080/",
          "height": 295
        },
        "id": "toSebOiXBbU0",
        "outputId": "92c8876a-2247-43c5-8956-d0dd49fb16b8"
      },
      "source": [
        "# GradientBoostingClassifier\n",
        "plot_auc_roc(boost)"
      ],
      "execution_count": 37,
      "outputs": [
        {
          "output_type": "display_data",
          "data": {
            "image/png": "[encoded data removed]",
            "text/plain": [
              "<Figure size 432x288 with 1 Axes>"
            ]
          },
          "metadata": {
            "tags": [],
            "needs_background": "light"
          }
        }
      ]
    },
    {
      "cell_type": "code",
      "metadata": {
        "colab": {
          "base_uri": "https://localhost:8080/",
          "height": 295
        },
        "id": "KNvCkEeRBdsM",
        "outputId": "9ec9e39c-5e40-4750-d6c2-93b299c24526"
      },
      "source": [
        "# RandomForestClassifier\n",
        "\n",
        "plot_auc_roc(random)"
      ],
      "execution_count": 38,
      "outputs": [
        {
          "output_type": "display_data",
          "data": {
            "image/png": "[encoded data removed]",
            "text/plain": [
              "<Figure size 432x288 with 1 Axes>"
            ]
          },
          "metadata": {
            "tags": [],
            "needs_background": "light"
          }
        }
      ]
    },
    {
      "cell_type": "code",
      "metadata": {
        "colab": {
          "base_uri": "https://localhost:8080/"
        },
        "id": "QVhYNAdmCNjj",
        "outputId": "27630dfd-f129-4fc0-b445-df0bcf72e17c"
      },
      "source": [
        "# Logistic Regression 평가 지표\n",
        "lg_y_hat = log_reg.predict(X_test)\n",
        "lg_report = metrics.classification_report(y_test, lg_y_hat) \n",
        "\n",
        "print('Logistic Regression 평가지표')\n",
        "print(lg_report)\n",
        "print('accuracy', metrics.accuracy_score(y_test,lg_y_hat) )\n",
        "print('precision', metrics.precision_score(y_test,lg_y_hat) )\n",
        "print('recall', metrics.recall_score(y_test,lg_y_hat) )\n",
        "print('f1', metrics.f1_score(y_test,lg_y_hat) )\n"
      ],
      "execution_count": 39,
      "outputs": [
        {
          "output_type": "stream",
          "text": [
            "Logistic Regression 평가지표\n",
            "              precision    recall  f1-score   support\n",
            "\n",
            "       False       0.83      0.88      0.85        81\n",
            "        True       0.82      0.76      0.79        62\n",
            "\n",
            "    accuracy                           0.83       143\n",
            "   macro avg       0.83      0.82      0.82       143\n",
            "weighted avg       0.83      0.83      0.82       143\n",
            "\n",
            "accuracy 0.8251748251748252\n",
            "precision 0.8245614035087719\n",
            "recall 0.7580645161290323\n",
            "f1 0.7899159663865545\n"
          ],
          "name": "stdout"
        }
      ]
    },
    {
      "cell_type": "code",
      "metadata": {
        "colab": {
          "base_uri": "https://localhost:8080/"
        },
        "id": "rDJNjJwZCN6e",
        "outputId": "1e86ec2c-a526-46d9-d16f-6eb3b175e49a"
      },
      "source": [
        "# tree 평가 지표\n",
        "tree_y_hat = tree.predict(X_test)\n",
        "tree_report = metrics.classification_report(y_test, tree_y_hat) \n",
        "\n",
        "print('tree 평가지표')\n",
        "print(tree_report)\n",
        "print('accuracy', metrics.accuracy_score(y_test,tree_y_hat) )\n",
        "print('precision', metrics.precision_score(y_test,tree_y_hat) )\n",
        "print('recall', metrics.recall_score(y_test,tree_y_hat) )\n",
        "print('f1', metrics.f1_score(y_test,tree_y_hat) )\n"
      ],
      "execution_count": 44,
      "outputs": [
        {
          "output_type": "stream",
          "text": [
            "tree 평가지표\n",
            "              precision    recall  f1-score   support\n",
            "\n",
            "       False       0.82      0.91      0.87        81\n",
            "        True       0.87      0.74      0.80        62\n",
            "\n",
            "    accuracy                           0.84       143\n",
            "   macro avg       0.85      0.83      0.83       143\n",
            "weighted avg       0.84      0.84      0.84       143\n",
            "\n",
            "accuracy 0.8391608391608392\n",
            "precision 0.8679245283018868\n",
            "recall 0.7419354838709677\n",
            "f1 0.8\n"
          ],
          "name": "stdout"
        }
      ]
    },
    {
      "cell_type": "code",
      "metadata": {
        "colab": {
          "base_uri": "https://localhost:8080/"
        },
        "id": "OU3y188pCPvE",
        "outputId": "5d881a96-8ecb-4918-cb68-a75340f8dd51"
      },
      "source": [
        "# GradientBoostingClassifier 평가 지표\n",
        "boost_y_hat = boost.predict(X_test)\n",
        "boost_report = metrics.classification_report(y_test, boost_y_hat) \n",
        "\n",
        "print('boost 평가지표')\n",
        "print(boost_report)\n",
        "print('accuracy', metrics.accuracy_score(y_test,boost_y_hat) )\n",
        "print('precision', metrics.precision_score(y_test,boost_y_hat) )\n",
        "print('recall', metrics.recall_score(y_test,boost_y_hat) )\n",
        "print('f1', metrics.f1_score(y_test,boost_y_hat) )"
      ],
      "execution_count": 43,
      "outputs": [
        {
          "output_type": "stream",
          "text": [
            "boost 평가지표\n",
            "              precision    recall  f1-score   support\n",
            "\n",
            "       False       0.82      0.96      0.89        81\n",
            "        True       0.94      0.73      0.82        62\n",
            "\n",
            "    accuracy                           0.86       143\n",
            "   macro avg       0.88      0.84      0.85       143\n",
            "weighted avg       0.87      0.86      0.86       143\n",
            "\n",
            "accuracy 0.8601398601398601\n",
            "precision 0.9375\n",
            "recall 0.7258064516129032\n",
            "f1 0.8181818181818181\n"
          ],
          "name": "stdout"
        }
      ]
    },
    {
      "cell_type": "code",
      "metadata": {
        "colab": {
          "base_uri": "https://localhost:8080/"
        },
        "id": "DFqP99w5CRYP",
        "outputId": "b277b02f-219b-476d-f039-64f3bcc0cafd"
      },
      "source": [
        "# RandomForestClassifier 평가 지표\n",
        "random_y_hat = random.predict(X_test)\n",
        "random_report = metrics.classification_report(y_test, random_y_hat) \n",
        "\n",
        "print('random 평가지표')\n",
        "print(random_report)\n",
        "print('accuracy', metrics.accuracy_score(y_test,random_y_hat) )\n",
        "print('precision', metrics.precision_score(y_test,random_y_hat) )\n",
        "print('recall', metrics.recall_score(y_test,random_y_hat) )\n",
        "print('f1', metrics.f1_score(y_test,random_y_hat) )"
      ],
      "execution_count": 42,
      "outputs": [
        {
          "output_type": "stream",
          "text": [
            "random 평가지표\n",
            "              precision    recall  f1-score   support\n",
            "\n",
            "       False       0.83      0.89      0.86        81\n",
            "        True       0.84      0.76      0.80        62\n",
            "\n",
            "    accuracy                           0.83       143\n",
            "   macro avg       0.83      0.82      0.83       143\n",
            "weighted avg       0.83      0.83      0.83       143\n",
            "\n",
            "accuracy 0.8321678321678322\n",
            "precision 0.8392857142857143\n",
            "recall 0.7580645161290323\n",
            "f1 0.7966101694915255\n"
          ],
          "name": "stdout"
        }
      ]
    },
    {
      "cell_type": "code",
      "metadata": {
        "id": "v3bF9fO_G95I"
      },
      "source": [
        "precision_list = []\n",
        "recall_list = []\n",
        "precision_list.append(metrics.precision_score(y_test, lg_y_hat))\n",
        "recall_list.append(metrics.recall_score(y_test, lg_y_hat))\n",
        "\n",
        "precision_list.append(metrics.precision_score(y_test, tree_y_hat))\n",
        "recall_list.append(metrics.recall_score(y_test, tree_y_hat))\n",
        "\n",
        "precision_list.append(metrics.precision_score(y_test, boost_y_hat))\n",
        "recall_list.append(metrics.recall_score(y_test, boost_y_hat))\n",
        "\n",
        "precision_list.append(metrics.precision_score(y_test, random_y_hat))\n",
        "recall_list.append(metrics.recall_score(y_test, random_y_hat))"
      ],
      "execution_count": 46,
      "outputs": []
    },
    {
      "cell_type": "code",
      "metadata": {
        "colab": {
          "base_uri": "https://localhost:8080/",
          "height": 265
        },
        "id": "-ncgThbEGmup",
        "outputId": "d9dafb74-d925-469a-931d-9d6581860ffe"
      },
      "source": [
        "plt.plot(['lg', 'tree', 'boost', 'random'], precision_list, label='precision')\n",
        "plt.plot(['lg', 'tree', 'boost', 'random'], recall_list, label='recall')\n",
        "plt.legend()\n",
        "plt.show()\n",
        "# 사망, 진료 등은 racall / 추천 알고리즘은 precision\n"
      ],
      "execution_count": 47,
      "outputs": [
        {
          "output_type": "display_data",
          "data": {
            "image/png": "[encoded data removed]",
            "text/plain": [
              "<Figure size 432x288 with 1 Axes>"
            ]
          },
          "metadata": {
            "tags": [],
            "needs_background": "light"
          }
        }
      ]
    },
    {
      "cell_type": "code",
      "metadata": {
        "id": "NVd5-nNfHDUx"
      },
      "source": [
        ""
      ],
      "execution_count": null,
      "outputs": []
    }
  ]
}