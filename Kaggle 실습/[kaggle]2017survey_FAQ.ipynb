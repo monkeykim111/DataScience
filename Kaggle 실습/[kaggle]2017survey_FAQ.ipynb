{
  "nbformat": 4,
  "nbformat_minor": 0,
  "metadata": {
    "colab": {
      "name": "[kaggle]2017survey_FAQ.ipynb",
      "provenance": [],
      "collapsed_sections": []
    },
    "kernelspec": {
      "name": "python3",
      "display_name": "Python 3"
    },
    "language_info": {
      "name": "python"
    }
  },
  "cells": [
    {
      "cell_type": "markdown",
      "metadata": {
        "id": "tgHwGrzWOZAT"
      },
      "source": [
        "##캐글러를 대상으로 한 설문조사\n",
        "\n",
        "- 설문기간 : 2017년 8월 7일부터 8월 25일까지\n",
        "- 평균 응답 시간은 16.4 분\n",
        "- 171 개 국가 및 지역에서 16,716 명의 응답자\n",
        "- 특정 국가 또는 지역에서 응답자가 50 명 미만인 경우 익명을 위해 그룹을 '기타'그룹으로 그룹화\n",
        "- 설문 조사 시스템에 신고 된 응답자를 스팸으로 분류하거나 취업 상태에 관한 질문에 답변하지 않은 응답자는 제외(이 질문은 첫 번째 필수 질문이기에 응답하지 않으면 응답자가 다섯 번째 질문 이후 진행되지 않음)\n",
        "- 대부분의 응답자는 이메일 목록, 토론 포럼 및 소셜 미디어 Kaggle 채널을 통해 설문을 알게 됨\n",
        "- 급여데이터는 일부 통화에 대해서만 받고 해당 되는 통화에 기준하여 작성하도록 함\n",
        "미국 달러로 급여를 계산할 수 있도록 USD로 환산 한 csv를 제공\n",
        "- 질문은 선택적\n",
        "- 모든 질문이 모든 응답자에게 보여지는 것은 아님\n",
        "- 취업을 한 사람과 학생을 나누어 다른 질문을 함\n",
        "- 응답자의 신원을 보호하기 위해 주관식과 객관식 파일로 분리\n",
        "- 객관식과 자유 형식 응답을 맞추기 위한 키를 제공하지 않음\n",
        "- 주관식 응답은 같은 행에 나타나는 응답이 반드시 동일한 설문 조사자가 제공하지 않도록 열 단위로 무작위 지정\n"
      ]
    },
    {
      "cell_type": "markdown",
      "metadata": {
        "id": "64VrY0oAOmyp"
      },
      "source": [
        "## 데이터 파일\n",
        "\n",
        "5 개의 데이터 파일을 제공\n",
        "\n",
        "- schema.csv : 설문 스키마가있는 CSV 파일입니다. 이 스키마에는 multipleChoiceResponses.csv 및 freeformResponses.csv의 각 열 이름에 해당하는 질문이 포함되어 있습니다.\n",
        "- multipleChoiceResponses.csv : 객관식 및 순위 질문에 대한 응답자의 답변, 각 행이 한 응답자의 응답\n",
        "- freeformResponses.csv : Kaggle의 설문 조사 질문에 대한 응답자의 주관식 답변입니다. 임의로 지정되어 각 행이 같은 응답자를 나타내지 않음\n",
        "- conversionRates.csv : R 패키지 \"quantmod\"에서 2017 년 9 월 14 일에 액세스 한 통화 변환율 (USD)\n",
        "- RespondentTypeREADME.txt : schema.csv 파일의 \"Asked\"열에 응답을 디코딩하는 스키마입니다."
      ]
    },
    {
      "cell_type": "code",
      "metadata": {
        "id": "fGVo__-FOLlf"
      },
      "source": [
        "# 노트북 안에서 그래프를 그리기 위해\n",
        "%matplotlib inline\n",
        "\n",
        "# import the standard python scientific libraries\n",
        "import pandas as pd\n",
        "import numpy as np\n",
        "import matplotlib.pyplot as plt\n",
        "import seaborn as sns\n",
        "from scipy import stats\n",
        "\n",
        "# suppress deprecation and incorrect usage warings / warning 무시\n",
        "import warnings\n",
        "warnings.filterwarnings('ignore')\n",
        "\n"
      ],
      "execution_count": null,
      "outputs": []
    },
    {
      "cell_type": "code",
      "metadata": {
        "colab": {
          "base_uri": "https://localhost:8080/"
        },
        "id": "0fJZqk0F2T4M",
        "outputId": "cdbf593d-88c2-4713-dbdd-7dea426e9a13"
      },
      "source": [
        "question = pd.read_csv('/content/schema.csv')\n",
        "question.info()\n"
      ],
      "execution_count": null,
      "outputs": [
        {
          "output_type": "stream",
          "text": [
            "<class 'pandas.core.frame.DataFrame'>\n",
            "RangeIndex: 290 entries, 0 to 289\n",
            "Data columns (total 3 columns):\n",
            " #   Column    Non-Null Count  Dtype \n",
            "---  ------    --------------  ----- \n",
            " 0   Column    290 non-null    object\n",
            " 1   Question  290 non-null    object\n",
            " 2   Asked     290 non-null    object\n",
            "dtypes: object(3)\n",
            "memory usage: 6.9+ KB\n"
          ],
          "name": "stdout"
        }
      ]
    },
    {
      "cell_type": "code",
      "metadata": {
        "colab": {
          "base_uri": "https://localhost:8080/",
          "height": 203
        },
        "id": "Lt7I2jPi278e",
        "outputId": "6305423a-fb42-414d-f406-c65cad9c6db2"
      },
      "source": [
        "question.head()"
      ],
      "execution_count": null,
      "outputs": [
        {
          "output_type": "execute_result",
          "data": {
            "text/html": [
              "<div>\n",
              "<style scoped>\n",
              "    .dataframe tbody tr th:only-of-type {\n",
              "        vertical-align: middle;\n",
              "    }\n",
              "\n",
              "    .dataframe tbody tr th {\n",
              "        vertical-align: top;\n",
              "    }\n",
              "\n",
              "    .dataframe thead th {\n",
              "        text-align: right;\n",
              "    }\n",
              "</style>\n",
              "<table border=\"1\" class=\"dataframe\">\n",
              "  <thead>\n",
              "    <tr style=\"text-align: right;\">\n",
              "      <th></th>\n",
              "      <th>Column</th>\n",
              "      <th>Question</th>\n",
              "      <th>Asked</th>\n",
              "    </tr>\n",
              "  </thead>\n",
              "  <tbody>\n",
              "    <tr>\n",
              "      <th>0</th>\n",
              "      <td>GenderSelect</td>\n",
              "      <td>Select your gender identity. - Selected Choice</td>\n",
              "      <td>All</td>\n",
              "    </tr>\n",
              "    <tr>\n",
              "      <th>1</th>\n",
              "      <td>GenderFreeForm</td>\n",
              "      <td>Select your gender identity. - A different ide...</td>\n",
              "      <td>All</td>\n",
              "    </tr>\n",
              "    <tr>\n",
              "      <th>2</th>\n",
              "      <td>Country</td>\n",
              "      <td>Select the country you currently live in.</td>\n",
              "      <td>All</td>\n",
              "    </tr>\n",
              "    <tr>\n",
              "      <th>3</th>\n",
              "      <td>Age</td>\n",
              "      <td>What's your age?</td>\n",
              "      <td>All</td>\n",
              "    </tr>\n",
              "    <tr>\n",
              "      <th>4</th>\n",
              "      <td>EmploymentStatus</td>\n",
              "      <td>What's your current employment status?</td>\n",
              "      <td>All</td>\n",
              "    </tr>\n",
              "  </tbody>\n",
              "</table>\n",
              "</div>"
            ],
            "text/plain": [
              "             Column                                           Question Asked\n",
              "0      GenderSelect     Select your gender identity. - Selected Choice   All\n",
              "1    GenderFreeForm  Select your gender identity. - A different ide...   All\n",
              "2           Country          Select the country you currently live in.   All\n",
              "3               Age                                   What's your age?   All\n",
              "4  EmploymentStatus             What's your current employment status?   All"
            ]
          },
          "metadata": {
            "tags": []
          },
          "execution_count": 6
        }
      ]
    },
    {
      "cell_type": "code",
      "metadata": {
        "colab": {
          "base_uri": "https://localhost:8080/",
          "height": 203
        },
        "id": "apfMC9Fv3LLv",
        "outputId": "4339fd02-d5af-468a-a44d-3eb00ddc6415"
      },
      "source": [
        "question.tail()"
      ],
      "execution_count": null,
      "outputs": [
        {
          "output_type": "execute_result",
          "data": {
            "text/html": [
              "<div>\n",
              "<style scoped>\n",
              "    .dataframe tbody tr th:only-of-type {\n",
              "        vertical-align: middle;\n",
              "    }\n",
              "\n",
              "    .dataframe tbody tr th {\n",
              "        vertical-align: top;\n",
              "    }\n",
              "\n",
              "    .dataframe thead th {\n",
              "        text-align: right;\n",
              "    }\n",
              "</style>\n",
              "<table border=\"1\" class=\"dataframe\">\n",
              "  <thead>\n",
              "    <tr style=\"text-align: right;\">\n",
              "      <th></th>\n",
              "      <th>Column</th>\n",
              "      <th>Question</th>\n",
              "      <th>Asked</th>\n",
              "    </tr>\n",
              "  </thead>\n",
              "  <tbody>\n",
              "    <tr>\n",
              "      <th>285</th>\n",
              "      <td>JobFactorRemote</td>\n",
              "      <td>How are you assessing potential job opportunit...</td>\n",
              "      <td>Learners</td>\n",
              "    </tr>\n",
              "    <tr>\n",
              "      <th>286</th>\n",
              "      <td>JobFactorIndustry</td>\n",
              "      <td>How are you assessing potential job opportunit...</td>\n",
              "      <td>Learners</td>\n",
              "    </tr>\n",
              "    <tr>\n",
              "      <th>287</th>\n",
              "      <td>JobFactorLeaderReputation</td>\n",
              "      <td>How are you assessing potential job opportunit...</td>\n",
              "      <td>Learners</td>\n",
              "    </tr>\n",
              "    <tr>\n",
              "      <th>288</th>\n",
              "      <td>JobFactorDiversity</td>\n",
              "      <td>How are you assessing potential job opportunit...</td>\n",
              "      <td>Learners</td>\n",
              "    </tr>\n",
              "    <tr>\n",
              "      <th>289</th>\n",
              "      <td>JobFactorPublishingOpportunity</td>\n",
              "      <td>How are you assessing potential job opportunit...</td>\n",
              "      <td>Learners</td>\n",
              "    </tr>\n",
              "  </tbody>\n",
              "</table>\n",
              "</div>"
            ],
            "text/plain": [
              "                             Column  ...     Asked\n",
              "285                 JobFactorRemote  ...  Learners\n",
              "286               JobFactorIndustry  ...  Learners\n",
              "287       JobFactorLeaderReputation  ...  Learners\n",
              "288              JobFactorDiversity  ...  Learners\n",
              "289  JobFactorPublishingOpportunity  ...  Learners\n",
              "\n",
              "[5 rows x 3 columns]"
            ]
          },
          "metadata": {
            "tags": []
          },
          "execution_count": 7
        }
      ]
    },
    {
      "cell_type": "code",
      "metadata": {
        "colab": {
          "base_uri": "https://localhost:8080/"
        },
        "id": "RK4AE7xH3REG",
        "outputId": "8182ec85-c619-45a9-fbdb-c0c0c04bb368"
      },
      "source": [
        "# 객관식 문제에 대한 응답을 가져옴\n",
        "mcq = pd.read_csv('/content/multipleChoiceResponses.csv', encoding='ISO-8859-1', low_memory=False)\n",
        "mcq.info()"
      ],
      "execution_count": null,
      "outputs": [
        {
          "output_type": "stream",
          "text": [
            "<class 'pandas.core.frame.DataFrame'>\n",
            "RangeIndex: 16716 entries, 0 to 16715\n",
            "Columns: 228 entries, GenderSelect to JobFactorPublishingOpportunity\n",
            "dtypes: float64(13), object(215)\n",
            "memory usage: 29.1+ MB\n"
          ],
          "name": "stdout"
        }
      ]
    },
    {
      "cell_type": "code",
      "metadata": {
        "colab": {
          "base_uri": "https://localhost:8080/"
        },
        "id": "PaoYSxLc3roG",
        "outputId": "2c0da8b0-f848-4e37-c3bf-5bbc7bc53485"
      },
      "source": [
        "mcq.shape"
      ],
      "execution_count": null,
      "outputs": [
        {
          "output_type": "execute_result",
          "data": {
            "text/plain": [
              "(16716, 228)"
            ]
          },
          "metadata": {
            "tags": []
          },
          "execution_count": 14
        }
      ]
    },
    {
      "cell_type": "code",
      "metadata": {
        "colab": {
          "base_uri": "https://localhost:8080/"
        },
        "id": "WPw1z8Xi37PV",
        "outputId": "e96334a7-6ab8-4bfe-8e25-0b0c3d44afcc"
      },
      "source": [
        "mcq.columns"
      ],
      "execution_count": null,
      "outputs": [
        {
          "output_type": "execute_result",
          "data": {
            "text/plain": [
              "Index(['GenderSelect', 'Country', 'Age', 'EmploymentStatus', 'StudentStatus',\n",
              "       'LearningDataScience', 'CodeWriter', 'CareerSwitcher',\n",
              "       'CurrentJobTitleSelect', 'TitleFit',\n",
              "       ...\n",
              "       'JobFactorExperienceLevel', 'JobFactorDepartment', 'JobFactorTitle',\n",
              "       'JobFactorCompanyFunding', 'JobFactorImpact', 'JobFactorRemote',\n",
              "       'JobFactorIndustry', 'JobFactorLeaderReputation', 'JobFactorDiversity',\n",
              "       'JobFactorPublishingOpportunity'],\n",
              "      dtype='object', length=228)"
            ]
          },
          "metadata": {
            "tags": []
          },
          "execution_count": 16
        }
      ]
    },
    {
      "cell_type": "code",
      "metadata": {
        "colab": {
          "base_uri": "https://localhost:8080/",
          "height": 842
        },
        "id": "-A2DASSa39yJ",
        "outputId": "da4c8194-8bf5-4af7-9221-33b0eb55b84d"
      },
      "source": [
        "mcq.head(10)"
      ],
      "execution_count": null,
      "outputs": [
        {
          "output_type": "execute_result",
          "data": {
            "text/html": [
              "<div>\n",
              "<style scoped>\n",
              "    .dataframe tbody tr th:only-of-type {\n",
              "        vertical-align: middle;\n",
              "    }\n",
              "\n",
              "    .dataframe tbody tr th {\n",
              "        vertical-align: top;\n",
              "    }\n",
              "\n",
              "    .dataframe thead th {\n",
              "        text-align: right;\n",
              "    }\n",
              "</style>\n",
              "<table border=\"1\" class=\"dataframe\">\n",
              "  <thead>\n",
              "    <tr style=\"text-align: right;\">\n",
              "      <th></th>\n",
              "      <th>GenderSelect</th>\n",
              "      <th>Country</th>\n",
              "      <th>Age</th>\n",
              "      <th>EmploymentStatus</th>\n",
              "      <th>StudentStatus</th>\n",
              "      <th>LearningDataScience</th>\n",
              "      <th>CodeWriter</th>\n",
              "      <th>CareerSwitcher</th>\n",
              "      <th>CurrentJobTitleSelect</th>\n",
              "      <th>TitleFit</th>\n",
              "      <th>CurrentEmployerType</th>\n",
              "      <th>MLToolNextYearSelect</th>\n",
              "      <th>MLMethodNextYearSelect</th>\n",
              "      <th>LanguageRecommendationSelect</th>\n",
              "      <th>PublicDatasetsSelect</th>\n",
              "      <th>LearningPlatformSelect</th>\n",
              "      <th>LearningPlatformUsefulnessArxiv</th>\n",
              "      <th>LearningPlatformUsefulnessBlogs</th>\n",
              "      <th>LearningPlatformUsefulnessCollege</th>\n",
              "      <th>LearningPlatformUsefulnessCompany</th>\n",
              "      <th>LearningPlatformUsefulnessConferences</th>\n",
              "      <th>LearningPlatformUsefulnessFriends</th>\n",
              "      <th>LearningPlatformUsefulnessKaggle</th>\n",
              "      <th>LearningPlatformUsefulnessNewsletters</th>\n",
              "      <th>LearningPlatformUsefulnessCommunities</th>\n",
              "      <th>LearningPlatformUsefulnessDocumentation</th>\n",
              "      <th>LearningPlatformUsefulnessCourses</th>\n",
              "      <th>LearningPlatformUsefulnessProjects</th>\n",
              "      <th>LearningPlatformUsefulnessPodcasts</th>\n",
              "      <th>LearningPlatformUsefulnessSO</th>\n",
              "      <th>LearningPlatformUsefulnessTextbook</th>\n",
              "      <th>LearningPlatformUsefulnessTradeBook</th>\n",
              "      <th>LearningPlatformUsefulnessTutoring</th>\n",
              "      <th>LearningPlatformUsefulnessYouTube</th>\n",
              "      <th>BlogsPodcastsNewslettersSelect</th>\n",
              "      <th>LearningDataScienceTime</th>\n",
              "      <th>JobSkillImportanceBigData</th>\n",
              "      <th>JobSkillImportanceDegree</th>\n",
              "      <th>JobSkillImportanceStats</th>\n",
              "      <th>JobSkillImportanceEnterpriseTools</th>\n",
              "      <th>...</th>\n",
              "      <th>WorkChallengeFrequencyITCoordination</th>\n",
              "      <th>WorkChallengeFrequencyHiringFunds</th>\n",
              "      <th>WorkChallengeFrequencyPrivacy</th>\n",
              "      <th>WorkChallengeFrequencyScaling</th>\n",
              "      <th>WorkChallengeFrequencyEnvironments</th>\n",
              "      <th>WorkChallengeFrequencyClarity</th>\n",
              "      <th>WorkChallengeFrequencyDataAccess</th>\n",
              "      <th>WorkChallengeFrequencyOtherSelect</th>\n",
              "      <th>WorkDataVisualizations</th>\n",
              "      <th>WorkInternalVsExternalTools</th>\n",
              "      <th>WorkMLTeamSeatSelect</th>\n",
              "      <th>WorkDatasets</th>\n",
              "      <th>WorkDatasetsChallenge</th>\n",
              "      <th>WorkDataStorage</th>\n",
              "      <th>WorkDataSharing</th>\n",
              "      <th>WorkDataSourcing</th>\n",
              "      <th>WorkCodeSharing</th>\n",
              "      <th>RemoteWork</th>\n",
              "      <th>CompensationAmount</th>\n",
              "      <th>CompensationCurrency</th>\n",
              "      <th>SalaryChange</th>\n",
              "      <th>JobSatisfaction</th>\n",
              "      <th>JobSearchResource</th>\n",
              "      <th>JobHuntTime</th>\n",
              "      <th>JobFactorLearning</th>\n",
              "      <th>JobFactorSalary</th>\n",
              "      <th>JobFactorOffice</th>\n",
              "      <th>JobFactorLanguages</th>\n",
              "      <th>JobFactorCommute</th>\n",
              "      <th>JobFactorManagement</th>\n",
              "      <th>JobFactorExperienceLevel</th>\n",
              "      <th>JobFactorDepartment</th>\n",
              "      <th>JobFactorTitle</th>\n",
              "      <th>JobFactorCompanyFunding</th>\n",
              "      <th>JobFactorImpact</th>\n",
              "      <th>JobFactorRemote</th>\n",
              "      <th>JobFactorIndustry</th>\n",
              "      <th>JobFactorLeaderReputation</th>\n",
              "      <th>JobFactorDiversity</th>\n",
              "      <th>JobFactorPublishingOpportunity</th>\n",
              "    </tr>\n",
              "  </thead>\n",
              "  <tbody>\n",
              "    <tr>\n",
              "      <th>0</th>\n",
              "      <td>Non-binary, genderqueer, or gender non-conforming</td>\n",
              "      <td>NaN</td>\n",
              "      <td>NaN</td>\n",
              "      <td>Employed full-time</td>\n",
              "      <td>NaN</td>\n",
              "      <td>NaN</td>\n",
              "      <td>Yes</td>\n",
              "      <td>NaN</td>\n",
              "      <td>DBA/Database Engineer</td>\n",
              "      <td>Fine</td>\n",
              "      <td>Employed by a company that doesn't perform adv...</td>\n",
              "      <td>SAS Base</td>\n",
              "      <td>Random Forests</td>\n",
              "      <td>F#</td>\n",
              "      <td>Dataset aggregator/platform (i.e. Socrata/Kagg...</td>\n",
              "      <td>College/University,Conferences,Podcasts,Trade ...</td>\n",
              "      <td>NaN</td>\n",
              "      <td>NaN</td>\n",
              "      <td>NaN</td>\n",
              "      <td>NaN</td>\n",
              "      <td>Very useful</td>\n",
              "      <td>NaN</td>\n",
              "      <td>NaN</td>\n",
              "      <td>NaN</td>\n",
              "      <td>NaN</td>\n",
              "      <td>NaN</td>\n",
              "      <td>NaN</td>\n",
              "      <td>NaN</td>\n",
              "      <td>Very useful</td>\n",
              "      <td>NaN</td>\n",
              "      <td>NaN</td>\n",
              "      <td>Somewhat useful</td>\n",
              "      <td>NaN</td>\n",
              "      <td>NaN</td>\n",
              "      <td>Becoming a Data Scientist Podcast,Data Machina...</td>\n",
              "      <td>NaN</td>\n",
              "      <td>NaN</td>\n",
              "      <td>NaN</td>\n",
              "      <td>NaN</td>\n",
              "      <td>NaN</td>\n",
              "      <td>...</td>\n",
              "      <td>NaN</td>\n",
              "      <td>NaN</td>\n",
              "      <td>Often</td>\n",
              "      <td>Most of the time</td>\n",
              "      <td>NaN</td>\n",
              "      <td>NaN</td>\n",
              "      <td>NaN</td>\n",
              "      <td>NaN</td>\n",
              "      <td>26-50% of projects</td>\n",
              "      <td>Do not know</td>\n",
              "      <td>Standalone Team</td>\n",
              "      <td>NaN</td>\n",
              "      <td>NaN</td>\n",
              "      <td>Document-oriented (e.g. MongoDB/Elasticsearch)...</td>\n",
              "      <td>Company Developed Platform,I don't typically s...</td>\n",
              "      <td>NaN</td>\n",
              "      <td>Mercurial,Subversion,Other</td>\n",
              "      <td>Always</td>\n",
              "      <td>NaN</td>\n",
              "      <td>NaN</td>\n",
              "      <td>I am not currently employed</td>\n",
              "      <td>5</td>\n",
              "      <td>NaN</td>\n",
              "      <td>NaN</td>\n",
              "      <td>NaN</td>\n",
              "      <td>NaN</td>\n",
              "      <td>NaN</td>\n",
              "      <td>NaN</td>\n",
              "      <td>NaN</td>\n",
              "      <td>NaN</td>\n",
              "      <td>NaN</td>\n",
              "      <td>NaN</td>\n",
              "      <td>NaN</td>\n",
              "      <td>NaN</td>\n",
              "      <td>NaN</td>\n",
              "      <td>NaN</td>\n",
              "      <td>NaN</td>\n",
              "      <td>NaN</td>\n",
              "      <td>NaN</td>\n",
              "      <td>NaN</td>\n",
              "    </tr>\n",
              "    <tr>\n",
              "      <th>1</th>\n",
              "      <td>Female</td>\n",
              "      <td>United States</td>\n",
              "      <td>30.0</td>\n",
              "      <td>Not employed, but looking for work</td>\n",
              "      <td>NaN</td>\n",
              "      <td>NaN</td>\n",
              "      <td>NaN</td>\n",
              "      <td>NaN</td>\n",
              "      <td>NaN</td>\n",
              "      <td>NaN</td>\n",
              "      <td>NaN</td>\n",
              "      <td>Python</td>\n",
              "      <td>Random Forests</td>\n",
              "      <td>Python</td>\n",
              "      <td>Dataset aggregator/platform (i.e. Socrata/Kagg...</td>\n",
              "      <td>Kaggle</td>\n",
              "      <td>NaN</td>\n",
              "      <td>NaN</td>\n",
              "      <td>NaN</td>\n",
              "      <td>NaN</td>\n",
              "      <td>NaN</td>\n",
              "      <td>NaN</td>\n",
              "      <td>Somewhat useful</td>\n",
              "      <td>NaN</td>\n",
              "      <td>NaN</td>\n",
              "      <td>NaN</td>\n",
              "      <td>NaN</td>\n",
              "      <td>NaN</td>\n",
              "      <td>NaN</td>\n",
              "      <td>NaN</td>\n",
              "      <td>NaN</td>\n",
              "      <td>NaN</td>\n",
              "      <td>NaN</td>\n",
              "      <td>NaN</td>\n",
              "      <td>Becoming a Data Scientist Podcast,Siraj Raval ...</td>\n",
              "      <td>1-2 years</td>\n",
              "      <td>NaN</td>\n",
              "      <td>Nice to have</td>\n",
              "      <td>Unnecessary</td>\n",
              "      <td>NaN</td>\n",
              "      <td>...</td>\n",
              "      <td>NaN</td>\n",
              "      <td>NaN</td>\n",
              "      <td>NaN</td>\n",
              "      <td>NaN</td>\n",
              "      <td>NaN</td>\n",
              "      <td>NaN</td>\n",
              "      <td>NaN</td>\n",
              "      <td>NaN</td>\n",
              "      <td>NaN</td>\n",
              "      <td>NaN</td>\n",
              "      <td>NaN</td>\n",
              "      <td>NaN</td>\n",
              "      <td>NaN</td>\n",
              "      <td>NaN</td>\n",
              "      <td>NaN</td>\n",
              "      <td>NaN</td>\n",
              "      <td>NaN</td>\n",
              "      <td>NaN</td>\n",
              "      <td>NaN</td>\n",
              "      <td>NaN</td>\n",
              "      <td>NaN</td>\n",
              "      <td>NaN</td>\n",
              "      <td>NaN</td>\n",
              "      <td>NaN</td>\n",
              "      <td>NaN</td>\n",
              "      <td>NaN</td>\n",
              "      <td>NaN</td>\n",
              "      <td>NaN</td>\n",
              "      <td>NaN</td>\n",
              "      <td>NaN</td>\n",
              "      <td>NaN</td>\n",
              "      <td>NaN</td>\n",
              "      <td>NaN</td>\n",
              "      <td>NaN</td>\n",
              "      <td>NaN</td>\n",
              "      <td>NaN</td>\n",
              "      <td>NaN</td>\n",
              "      <td>Somewhat important</td>\n",
              "      <td>NaN</td>\n",
              "      <td>NaN</td>\n",
              "    </tr>\n",
              "    <tr>\n",
              "      <th>2</th>\n",
              "      <td>Male</td>\n",
              "      <td>Canada</td>\n",
              "      <td>28.0</td>\n",
              "      <td>Not employed, but looking for work</td>\n",
              "      <td>NaN</td>\n",
              "      <td>NaN</td>\n",
              "      <td>NaN</td>\n",
              "      <td>NaN</td>\n",
              "      <td>NaN</td>\n",
              "      <td>NaN</td>\n",
              "      <td>NaN</td>\n",
              "      <td>Amazon Web services</td>\n",
              "      <td>Deep learning</td>\n",
              "      <td>R</td>\n",
              "      <td>Dataset aggregator/platform (i.e. Socrata/Kagg...</td>\n",
              "      <td>Arxiv,College/University,Kaggle,Online courses...</td>\n",
              "      <td>Very useful</td>\n",
              "      <td>NaN</td>\n",
              "      <td>Somewhat useful</td>\n",
              "      <td>NaN</td>\n",
              "      <td>NaN</td>\n",
              "      <td>NaN</td>\n",
              "      <td>Somewhat useful</td>\n",
              "      <td>NaN</td>\n",
              "      <td>NaN</td>\n",
              "      <td>NaN</td>\n",
              "      <td>Very useful</td>\n",
              "      <td>NaN</td>\n",
              "      <td>NaN</td>\n",
              "      <td>NaN</td>\n",
              "      <td>NaN</td>\n",
              "      <td>NaN</td>\n",
              "      <td>NaN</td>\n",
              "      <td>Very useful</td>\n",
              "      <td>FastML Blog,No Free Hunch Blog,Talking Machine...</td>\n",
              "      <td>1-2 years</td>\n",
              "      <td>Necessary</td>\n",
              "      <td>NaN</td>\n",
              "      <td>NaN</td>\n",
              "      <td>NaN</td>\n",
              "      <td>...</td>\n",
              "      <td>NaN</td>\n",
              "      <td>NaN</td>\n",
              "      <td>NaN</td>\n",
              "      <td>NaN</td>\n",
              "      <td>NaN</td>\n",
              "      <td>NaN</td>\n",
              "      <td>NaN</td>\n",
              "      <td>NaN</td>\n",
              "      <td>NaN</td>\n",
              "      <td>NaN</td>\n",
              "      <td>NaN</td>\n",
              "      <td>NaN</td>\n",
              "      <td>NaN</td>\n",
              "      <td>NaN</td>\n",
              "      <td>NaN</td>\n",
              "      <td>NaN</td>\n",
              "      <td>NaN</td>\n",
              "      <td>NaN</td>\n",
              "      <td>NaN</td>\n",
              "      <td>NaN</td>\n",
              "      <td>NaN</td>\n",
              "      <td>NaN</td>\n",
              "      <td>Asking friends, family members, or former coll...</td>\n",
              "      <td>1-2</td>\n",
              "      <td>Very Important</td>\n",
              "      <td>Very Important</td>\n",
              "      <td>Very Important</td>\n",
              "      <td>Very Important</td>\n",
              "      <td>Very Important</td>\n",
              "      <td>Very Important</td>\n",
              "      <td>Very Important</td>\n",
              "      <td>Very Important</td>\n",
              "      <td>Very Important</td>\n",
              "      <td>Very Important</td>\n",
              "      <td>Very Important</td>\n",
              "      <td>Very Important</td>\n",
              "      <td>Very Important</td>\n",
              "      <td>Very Important</td>\n",
              "      <td>Very Important</td>\n",
              "      <td>Very Important</td>\n",
              "    </tr>\n",
              "    <tr>\n",
              "      <th>3</th>\n",
              "      <td>Male</td>\n",
              "      <td>United States</td>\n",
              "      <td>56.0</td>\n",
              "      <td>Independent contractor, freelancer, or self-em...</td>\n",
              "      <td>NaN</td>\n",
              "      <td>NaN</td>\n",
              "      <td>Yes</td>\n",
              "      <td>NaN</td>\n",
              "      <td>Operations Research Practitioner</td>\n",
              "      <td>Poorly</td>\n",
              "      <td>Self-employed</td>\n",
              "      <td>TensorFlow</td>\n",
              "      <td>Neural Nets</td>\n",
              "      <td>Python</td>\n",
              "      <td>I collect my own data (e.g. web-scraping)</td>\n",
              "      <td>Blogs,College/University,Conferences,Friends n...</td>\n",
              "      <td>NaN</td>\n",
              "      <td>Very useful</td>\n",
              "      <td>Very useful</td>\n",
              "      <td>NaN</td>\n",
              "      <td>Very useful</td>\n",
              "      <td>Very useful</td>\n",
              "      <td>NaN</td>\n",
              "      <td>NaN</td>\n",
              "      <td>NaN</td>\n",
              "      <td>Very useful</td>\n",
              "      <td>Very useful</td>\n",
              "      <td>Very useful</td>\n",
              "      <td>NaN</td>\n",
              "      <td>NaN</td>\n",
              "      <td>NaN</td>\n",
              "      <td>NaN</td>\n",
              "      <td>NaN</td>\n",
              "      <td>NaN</td>\n",
              "      <td>KDnuggets Blog</td>\n",
              "      <td>NaN</td>\n",
              "      <td>NaN</td>\n",
              "      <td>NaN</td>\n",
              "      <td>NaN</td>\n",
              "      <td>NaN</td>\n",
              "      <td>...</td>\n",
              "      <td>NaN</td>\n",
              "      <td>Often</td>\n",
              "      <td>Often</td>\n",
              "      <td>Often</td>\n",
              "      <td>Often</td>\n",
              "      <td>Often</td>\n",
              "      <td>Often</td>\n",
              "      <td>NaN</td>\n",
              "      <td>100% of projects</td>\n",
              "      <td>Entirely internal</td>\n",
              "      <td>Standalone Team</td>\n",
              "      <td>Electricity data sets from government and states</td>\n",
              "      <td>Everything is custom, there is never a tool th...</td>\n",
              "      <td>Column-oriented relational (e.g. KDB/MariaDB),...</td>\n",
              "      <td>Company Developed Platform,Email</td>\n",
              "      <td>NaN</td>\n",
              "      <td>Generic cloud file sharing software (Dropbox/B...</td>\n",
              "      <td>NaN</td>\n",
              "      <td>250,000</td>\n",
              "      <td>USD</td>\n",
              "      <td>Has increased 20% or more</td>\n",
              "      <td>10 - Highly Satisfied</td>\n",
              "      <td>NaN</td>\n",
              "      <td>NaN</td>\n",
              "      <td>NaN</td>\n",
              "      <td>NaN</td>\n",
              "      <td>NaN</td>\n",
              "      <td>NaN</td>\n",
              "      <td>NaN</td>\n",
              "      <td>NaN</td>\n",
              "      <td>NaN</td>\n",
              "      <td>NaN</td>\n",
              "      <td>NaN</td>\n",
              "      <td>NaN</td>\n",
              "      <td>NaN</td>\n",
              "      <td>NaN</td>\n",
              "      <td>NaN</td>\n",
              "      <td>NaN</td>\n",
              "      <td>NaN</td>\n",
              "      <td>NaN</td>\n",
              "    </tr>\n",
              "    <tr>\n",
              "      <th>4</th>\n",
              "      <td>Male</td>\n",
              "      <td>Taiwan</td>\n",
              "      <td>38.0</td>\n",
              "      <td>Employed full-time</td>\n",
              "      <td>NaN</td>\n",
              "      <td>NaN</td>\n",
              "      <td>Yes</td>\n",
              "      <td>NaN</td>\n",
              "      <td>Computer Scientist</td>\n",
              "      <td>Fine</td>\n",
              "      <td>Employed by a company that doesn't perform adv...</td>\n",
              "      <td>TensorFlow</td>\n",
              "      <td>Text Mining</td>\n",
              "      <td>Python</td>\n",
              "      <td>GitHub</td>\n",
              "      <td>Arxiv,Conferences,Kaggle,Textbook</td>\n",
              "      <td>Very useful</td>\n",
              "      <td>NaN</td>\n",
              "      <td>NaN</td>\n",
              "      <td>NaN</td>\n",
              "      <td>Somewhat useful</td>\n",
              "      <td>NaN</td>\n",
              "      <td>Somewhat useful</td>\n",
              "      <td>NaN</td>\n",
              "      <td>NaN</td>\n",
              "      <td>NaN</td>\n",
              "      <td>NaN</td>\n",
              "      <td>NaN</td>\n",
              "      <td>NaN</td>\n",
              "      <td>NaN</td>\n",
              "      <td>Somewhat useful</td>\n",
              "      <td>NaN</td>\n",
              "      <td>NaN</td>\n",
              "      <td>NaN</td>\n",
              "      <td>Data Machina Newsletter,Jack's Import AI Newsl...</td>\n",
              "      <td>NaN</td>\n",
              "      <td>NaN</td>\n",
              "      <td>NaN</td>\n",
              "      <td>NaN</td>\n",
              "      <td>NaN</td>\n",
              "      <td>...</td>\n",
              "      <td>Sometimes</td>\n",
              "      <td>NaN</td>\n",
              "      <td>Most of the time</td>\n",
              "      <td>NaN</td>\n",
              "      <td>Sometimes</td>\n",
              "      <td>NaN</td>\n",
              "      <td>NaN</td>\n",
              "      <td>NaN</td>\n",
              "      <td>10-25% of projects</td>\n",
              "      <td>Approximately half internal and half external</td>\n",
              "      <td>Business Department</td>\n",
              "      <td>NaN</td>\n",
              "      <td>NaN</td>\n",
              "      <td>Flat files not in a database or cache (e.g. CS...</td>\n",
              "      <td>Company Developed Platform</td>\n",
              "      <td>NaN</td>\n",
              "      <td>Git</td>\n",
              "      <td>Rarely</td>\n",
              "      <td>NaN</td>\n",
              "      <td>NaN</td>\n",
              "      <td>I do not want to share information about my sa...</td>\n",
              "      <td>2</td>\n",
              "      <td>NaN</td>\n",
              "      <td>NaN</td>\n",
              "      <td>NaN</td>\n",
              "      <td>NaN</td>\n",
              "      <td>NaN</td>\n",
              "      <td>NaN</td>\n",
              "      <td>NaN</td>\n",
              "      <td>NaN</td>\n",
              "      <td>NaN</td>\n",
              "      <td>NaN</td>\n",
              "      <td>NaN</td>\n",
              "      <td>NaN</td>\n",
              "      <td>NaN</td>\n",
              "      <td>NaN</td>\n",
              "      <td>NaN</td>\n",
              "      <td>NaN</td>\n",
              "      <td>NaN</td>\n",
              "      <td>NaN</td>\n",
              "    </tr>\n",
              "    <tr>\n",
              "      <th>5</th>\n",
              "      <td>Male</td>\n",
              "      <td>Brazil</td>\n",
              "      <td>46.0</td>\n",
              "      <td>Employed full-time</td>\n",
              "      <td>NaN</td>\n",
              "      <td>NaN</td>\n",
              "      <td>Yes</td>\n",
              "      <td>NaN</td>\n",
              "      <td>Data Scientist</td>\n",
              "      <td>Fine</td>\n",
              "      <td>Employed by college or university</td>\n",
              "      <td>TensorFlow</td>\n",
              "      <td>Genetic &amp; Evolutionary Algorithms</td>\n",
              "      <td>Python</td>\n",
              "      <td>Dataset aggregator/platform (i.e. Socrata/Kagg...</td>\n",
              "      <td>Kaggle,Online courses,Stack Overflow Q&amp;A,Textbook</td>\n",
              "      <td>NaN</td>\n",
              "      <td>NaN</td>\n",
              "      <td>NaN</td>\n",
              "      <td>NaN</td>\n",
              "      <td>NaN</td>\n",
              "      <td>NaN</td>\n",
              "      <td>Very useful</td>\n",
              "      <td>NaN</td>\n",
              "      <td>NaN</td>\n",
              "      <td>NaN</td>\n",
              "      <td>Very useful</td>\n",
              "      <td>NaN</td>\n",
              "      <td>NaN</td>\n",
              "      <td>Very useful</td>\n",
              "      <td>Very useful</td>\n",
              "      <td>NaN</td>\n",
              "      <td>NaN</td>\n",
              "      <td>NaN</td>\n",
              "      <td>Other (Separate different answers with semicolon)</td>\n",
              "      <td>NaN</td>\n",
              "      <td>NaN</td>\n",
              "      <td>NaN</td>\n",
              "      <td>NaN</td>\n",
              "      <td>NaN</td>\n",
              "      <td>...</td>\n",
              "      <td>NaN</td>\n",
              "      <td>NaN</td>\n",
              "      <td>NaN</td>\n",
              "      <td>NaN</td>\n",
              "      <td>NaN</td>\n",
              "      <td>NaN</td>\n",
              "      <td>NaN</td>\n",
              "      <td>NaN</td>\n",
              "      <td>76-99% of projects</td>\n",
              "      <td>More internal than external</td>\n",
              "      <td>Other</td>\n",
              "      <td>NaN</td>\n",
              "      <td>NaN</td>\n",
              "      <td>Column-oriented relational (e.g. KDB/MariaDB),...</td>\n",
              "      <td>I don't typically share data</td>\n",
              "      <td>NaN</td>\n",
              "      <td>Bitbucket,Git,Other</td>\n",
              "      <td>Sometimes</td>\n",
              "      <td>NaN</td>\n",
              "      <td>NaN</td>\n",
              "      <td>I do not want to share information about my sa...</td>\n",
              "      <td>8</td>\n",
              "      <td>NaN</td>\n",
              "      <td>NaN</td>\n",
              "      <td>NaN</td>\n",
              "      <td>NaN</td>\n",
              "      <td>NaN</td>\n",
              "      <td>NaN</td>\n",
              "      <td>NaN</td>\n",
              "      <td>NaN</td>\n",
              "      <td>NaN</td>\n",
              "      <td>NaN</td>\n",
              "      <td>NaN</td>\n",
              "      <td>NaN</td>\n",
              "      <td>NaN</td>\n",
              "      <td>NaN</td>\n",
              "      <td>NaN</td>\n",
              "      <td>NaN</td>\n",
              "      <td>NaN</td>\n",
              "      <td>NaN</td>\n",
              "    </tr>\n",
              "    <tr>\n",
              "      <th>6</th>\n",
              "      <td>Male</td>\n",
              "      <td>United States</td>\n",
              "      <td>35.0</td>\n",
              "      <td>Employed full-time</td>\n",
              "      <td>NaN</td>\n",
              "      <td>NaN</td>\n",
              "      <td>Yes</td>\n",
              "      <td>NaN</td>\n",
              "      <td>Computer Scientist</td>\n",
              "      <td>Fine</td>\n",
              "      <td>Employed by government</td>\n",
              "      <td>TensorFlow</td>\n",
              "      <td>Text Mining</td>\n",
              "      <td>R</td>\n",
              "      <td>Dataset aggregator/platform (i.e. Socrata/Kagg...</td>\n",
              "      <td>Arxiv,Blogs,Kaggle,Personal Projects,Textbook</td>\n",
              "      <td>Somewhat useful</td>\n",
              "      <td>Somewhat useful</td>\n",
              "      <td>NaN</td>\n",
              "      <td>NaN</td>\n",
              "      <td>NaN</td>\n",
              "      <td>NaN</td>\n",
              "      <td>Somewhat useful</td>\n",
              "      <td>NaN</td>\n",
              "      <td>NaN</td>\n",
              "      <td>NaN</td>\n",
              "      <td>NaN</td>\n",
              "      <td>Somewhat useful</td>\n",
              "      <td>NaN</td>\n",
              "      <td>NaN</td>\n",
              "      <td>Very useful</td>\n",
              "      <td>NaN</td>\n",
              "      <td>NaN</td>\n",
              "      <td>NaN</td>\n",
              "      <td>NaN</td>\n",
              "      <td>NaN</td>\n",
              "      <td>NaN</td>\n",
              "      <td>NaN</td>\n",
              "      <td>NaN</td>\n",
              "      <td>NaN</td>\n",
              "      <td>...</td>\n",
              "      <td>NaN</td>\n",
              "      <td>NaN</td>\n",
              "      <td>NaN</td>\n",
              "      <td>NaN</td>\n",
              "      <td>NaN</td>\n",
              "      <td>NaN</td>\n",
              "      <td>NaN</td>\n",
              "      <td>NaN</td>\n",
              "      <td>26-50% of projects</td>\n",
              "      <td>Entirely internal</td>\n",
              "      <td>IT Department</td>\n",
              "      <td>NaN</td>\n",
              "      <td>NaN</td>\n",
              "      <td>Flat files not in a database or cache (e.g. CS...</td>\n",
              "      <td>Company Developed Platform,Email</td>\n",
              "      <td>NaN</td>\n",
              "      <td>Bitbucket,Git</td>\n",
              "      <td>NaN</td>\n",
              "      <td>NaN</td>\n",
              "      <td>NaN</td>\n",
              "      <td>NaN</td>\n",
              "      <td>8</td>\n",
              "      <td>NaN</td>\n",
              "      <td>NaN</td>\n",
              "      <td>NaN</td>\n",
              "      <td>NaN</td>\n",
              "      <td>NaN</td>\n",
              "      <td>NaN</td>\n",
              "      <td>NaN</td>\n",
              "      <td>NaN</td>\n",
              "      <td>NaN</td>\n",
              "      <td>NaN</td>\n",
              "      <td>NaN</td>\n",
              "      <td>NaN</td>\n",
              "      <td>NaN</td>\n",
              "      <td>NaN</td>\n",
              "      <td>NaN</td>\n",
              "      <td>NaN</td>\n",
              "      <td>NaN</td>\n",
              "      <td>NaN</td>\n",
              "    </tr>\n",
              "    <tr>\n",
              "      <th>7</th>\n",
              "      <td>Female</td>\n",
              "      <td>India</td>\n",
              "      <td>22.0</td>\n",
              "      <td>Employed full-time</td>\n",
              "      <td>NaN</td>\n",
              "      <td>NaN</td>\n",
              "      <td>No</td>\n",
              "      <td>Yes</td>\n",
              "      <td>Software Developer/Software Engineer</td>\n",
              "      <td>Fine</td>\n",
              "      <td>Employed by professional services/consulting firm</td>\n",
              "      <td>Google Cloud Compute</td>\n",
              "      <td>Deep learning</td>\n",
              "      <td>SQL</td>\n",
              "      <td>Dataset aggregator/platform (i.e. Socrata/Kagg...</td>\n",
              "      <td>College/University,Kaggle,Online courses,Stack...</td>\n",
              "      <td>NaN</td>\n",
              "      <td>NaN</td>\n",
              "      <td>Very useful</td>\n",
              "      <td>NaN</td>\n",
              "      <td>NaN</td>\n",
              "      <td>NaN</td>\n",
              "      <td>Very useful</td>\n",
              "      <td>NaN</td>\n",
              "      <td>NaN</td>\n",
              "      <td>NaN</td>\n",
              "      <td>Very useful</td>\n",
              "      <td>NaN</td>\n",
              "      <td>NaN</td>\n",
              "      <td>Very useful</td>\n",
              "      <td>NaN</td>\n",
              "      <td>NaN</td>\n",
              "      <td>NaN</td>\n",
              "      <td>Very useful</td>\n",
              "      <td>Becoming a Data Scientist Podcast,Siraj Raval ...</td>\n",
              "      <td>1-2 years</td>\n",
              "      <td>Necessary</td>\n",
              "      <td>Nice to have</td>\n",
              "      <td>Nice to have</td>\n",
              "      <td>Nice to have</td>\n",
              "      <td>...</td>\n",
              "      <td>NaN</td>\n",
              "      <td>NaN</td>\n",
              "      <td>NaN</td>\n",
              "      <td>NaN</td>\n",
              "      <td>NaN</td>\n",
              "      <td>NaN</td>\n",
              "      <td>NaN</td>\n",
              "      <td>NaN</td>\n",
              "      <td>NaN</td>\n",
              "      <td>NaN</td>\n",
              "      <td>NaN</td>\n",
              "      <td>NaN</td>\n",
              "      <td>NaN</td>\n",
              "      <td>NaN</td>\n",
              "      <td>NaN</td>\n",
              "      <td>NaN</td>\n",
              "      <td>NaN</td>\n",
              "      <td>NaN</td>\n",
              "      <td>NaN</td>\n",
              "      <td>NaN</td>\n",
              "      <td>NaN</td>\n",
              "      <td>NaN</td>\n",
              "      <td>Career fair or on-campus recruiting event</td>\n",
              "      <td>1-2</td>\n",
              "      <td>Very Important</td>\n",
              "      <td>Very Important</td>\n",
              "      <td>Very Important</td>\n",
              "      <td>Very Important</td>\n",
              "      <td>Very Important</td>\n",
              "      <td>Very Important</td>\n",
              "      <td>Very Important</td>\n",
              "      <td>Somewhat important</td>\n",
              "      <td>Very Important</td>\n",
              "      <td>Somewhat important</td>\n",
              "      <td>Somewhat important</td>\n",
              "      <td>Not important</td>\n",
              "      <td>Very Important</td>\n",
              "      <td>Very Important</td>\n",
              "      <td>Somewhat important</td>\n",
              "      <td>Somewhat important</td>\n",
              "    </tr>\n",
              "    <tr>\n",
              "      <th>8</th>\n",
              "      <td>Female</td>\n",
              "      <td>Australia</td>\n",
              "      <td>43.0</td>\n",
              "      <td>Employed full-time</td>\n",
              "      <td>NaN</td>\n",
              "      <td>NaN</td>\n",
              "      <td>Yes</td>\n",
              "      <td>NaN</td>\n",
              "      <td>Business Analyst</td>\n",
              "      <td>Fine</td>\n",
              "      <td>Employed by non-profit or NGO</td>\n",
              "      <td>Microsoft Excel Data Mining</td>\n",
              "      <td>Link Analysis</td>\n",
              "      <td>Python</td>\n",
              "      <td>University/Non-profit research group websites</td>\n",
              "      <td>Blogs,Company internal community,Conferences,F...</td>\n",
              "      <td>NaN</td>\n",
              "      <td>Very useful</td>\n",
              "      <td>NaN</td>\n",
              "      <td>Very useful</td>\n",
              "      <td>Very useful</td>\n",
              "      <td>Very useful</td>\n",
              "      <td>Very useful</td>\n",
              "      <td>Very useful</td>\n",
              "      <td>Very useful</td>\n",
              "      <td>NaN</td>\n",
              "      <td>Very useful</td>\n",
              "      <td>NaN</td>\n",
              "      <td>NaN</td>\n",
              "      <td>NaN</td>\n",
              "      <td>NaN</td>\n",
              "      <td>NaN</td>\n",
              "      <td>NaN</td>\n",
              "      <td>Very useful</td>\n",
              "      <td>Becoming a Data Scientist Podcast,Data Elixir ...</td>\n",
              "      <td>NaN</td>\n",
              "      <td>NaN</td>\n",
              "      <td>NaN</td>\n",
              "      <td>NaN</td>\n",
              "      <td>NaN</td>\n",
              "      <td>...</td>\n",
              "      <td>NaN</td>\n",
              "      <td>NaN</td>\n",
              "      <td>NaN</td>\n",
              "      <td>NaN</td>\n",
              "      <td>NaN</td>\n",
              "      <td>NaN</td>\n",
              "      <td>NaN</td>\n",
              "      <td>NaN</td>\n",
              "      <td>Less than 10% of projects</td>\n",
              "      <td>Entirely internal</td>\n",
              "      <td>IT Department</td>\n",
              "      <td>NaN</td>\n",
              "      <td>NaN</td>\n",
              "      <td>Row-oriented relational (e.g. MySQL/Microsoft ...</td>\n",
              "      <td>I don't typically share data,Share Drive/Share...</td>\n",
              "      <td>NaN</td>\n",
              "      <td>Generic non-cloud file sharing software (Email...</td>\n",
              "      <td>Rarely</td>\n",
              "      <td>80000</td>\n",
              "      <td>AUD</td>\n",
              "      <td>Has stayed about the same (has not increased o...</td>\n",
              "      <td>7</td>\n",
              "      <td>NaN</td>\n",
              "      <td>NaN</td>\n",
              "      <td>NaN</td>\n",
              "      <td>NaN</td>\n",
              "      <td>NaN</td>\n",
              "      <td>NaN</td>\n",
              "      <td>NaN</td>\n",
              "      <td>NaN</td>\n",
              "      <td>NaN</td>\n",
              "      <td>NaN</td>\n",
              "      <td>NaN</td>\n",
              "      <td>NaN</td>\n",
              "      <td>NaN</td>\n",
              "      <td>NaN</td>\n",
              "      <td>NaN</td>\n",
              "      <td>NaN</td>\n",
              "      <td>NaN</td>\n",
              "      <td>NaN</td>\n",
              "    </tr>\n",
              "    <tr>\n",
              "      <th>9</th>\n",
              "      <td>Male</td>\n",
              "      <td>Russia</td>\n",
              "      <td>33.0</td>\n",
              "      <td>Employed full-time</td>\n",
              "      <td>NaN</td>\n",
              "      <td>NaN</td>\n",
              "      <td>Yes</td>\n",
              "      <td>NaN</td>\n",
              "      <td>Software Developer/Software Engineer</td>\n",
              "      <td>Fine</td>\n",
              "      <td>Employed by a company that doesn't perform adv...</td>\n",
              "      <td>C/C++</td>\n",
              "      <td>Deep learning</td>\n",
              "      <td>Python</td>\n",
              "      <td>Dataset aggregator/platform (i.e. Socrata/Kagg...</td>\n",
              "      <td>Arxiv,Blogs,Conferences,Kaggle,Non-Kaggle onli...</td>\n",
              "      <td>Somewhat useful</td>\n",
              "      <td>Somewhat useful</td>\n",
              "      <td>NaN</td>\n",
              "      <td>NaN</td>\n",
              "      <td>Somewhat useful</td>\n",
              "      <td>NaN</td>\n",
              "      <td>Somewhat useful</td>\n",
              "      <td>NaN</td>\n",
              "      <td>Somewhat useful</td>\n",
              "      <td>Very useful</td>\n",
              "      <td>Very useful</td>\n",
              "      <td>Very useful</td>\n",
              "      <td>Somewhat useful</td>\n",
              "      <td>Somewhat useful</td>\n",
              "      <td>Very useful</td>\n",
              "      <td>NaN</td>\n",
              "      <td>NaN</td>\n",
              "      <td>Somewhat useful</td>\n",
              "      <td>DataTau News Aggregator,KDnuggets Blog,No Free...</td>\n",
              "      <td>NaN</td>\n",
              "      <td>NaN</td>\n",
              "      <td>NaN</td>\n",
              "      <td>NaN</td>\n",
              "      <td>NaN</td>\n",
              "      <td>...</td>\n",
              "      <td>NaN</td>\n",
              "      <td>Sometimes</td>\n",
              "      <td>Rarely</td>\n",
              "      <td>Rarely</td>\n",
              "      <td>NaN</td>\n",
              "      <td>NaN</td>\n",
              "      <td>NaN</td>\n",
              "      <td>NaN</td>\n",
              "      <td>Less than 10% of projects</td>\n",
              "      <td>Do not know</td>\n",
              "      <td>IT Department</td>\n",
              "      <td>Address database; geo data</td>\n",
              "      <td>NaN</td>\n",
              "      <td>Document-oriented (e.g. MongoDB/Elasticsearch)...</td>\n",
              "      <td>I don't typically share data</td>\n",
              "      <td>NaN</td>\n",
              "      <td>Bitbucket,Git</td>\n",
              "      <td>Rarely</td>\n",
              "      <td>1200000</td>\n",
              "      <td>RUB</td>\n",
              "      <td>Has increased between 6% and 19%</td>\n",
              "      <td>7</td>\n",
              "      <td>NaN</td>\n",
              "      <td>NaN</td>\n",
              "      <td>NaN</td>\n",
              "      <td>NaN</td>\n",
              "      <td>NaN</td>\n",
              "      <td>NaN</td>\n",
              "      <td>NaN</td>\n",
              "      <td>NaN</td>\n",
              "      <td>NaN</td>\n",
              "      <td>NaN</td>\n",
              "      <td>NaN</td>\n",
              "      <td>NaN</td>\n",
              "      <td>NaN</td>\n",
              "      <td>NaN</td>\n",
              "      <td>NaN</td>\n",
              "      <td>NaN</td>\n",
              "      <td>NaN</td>\n",
              "      <td>NaN</td>\n",
              "    </tr>\n",
              "  </tbody>\n",
              "</table>\n",
              "<p>10 rows × 228 columns</p>\n",
              "</div>"
            ],
            "text/plain": [
              "                                        GenderSelect  ... JobFactorPublishingOpportunity\n",
              "0  Non-binary, genderqueer, or gender non-conforming  ...                            NaN\n",
              "1                                             Female  ...                            NaN\n",
              "2                                               Male  ...                 Very Important\n",
              "3                                               Male  ...                            NaN\n",
              "4                                               Male  ...                            NaN\n",
              "5                                               Male  ...                            NaN\n",
              "6                                               Male  ...                            NaN\n",
              "7                                             Female  ...             Somewhat important\n",
              "8                                             Female  ...                            NaN\n",
              "9                                               Male  ...                            NaN\n",
              "\n",
              "[10 rows x 228 columns]"
            ]
          },
          "metadata": {
            "tags": []
          },
          "execution_count": 17
        }
      ]
    },
    {
      "cell_type": "code",
      "metadata": {
        "colab": {
          "base_uri": "https://localhost:8080/",
          "height": 309
        },
        "id": "Na-f2g-E4Iom",
        "outputId": "19bb2582-2651-4702-8646-cbb4e56f4fb0"
      },
      "source": [
        "# missingno 는 NaN 데이터들에 대해 시각화를 해준다.\n",
        "# NaN 데이터의 컬럼이 많아 아래 그래프 만으로는 내용을 파악하기 힘들다.\n",
        "\n",
        "import missingno as msno\n",
        "\n",
        "msno.matrix(mcq, figsize=(12,5))"
      ],
      "execution_count": null,
      "outputs": [
        {
          "output_type": "execute_result",
          "data": {
            "text/plain": [
              "<matplotlib.axes._subplots.AxesSubplot at 0x7f24888b8c50>"
            ]
          },
          "metadata": {
            "tags": []
          },
          "execution_count": 19
        },
        {
          "output_type": "display_data",
          "data": {
            "image/png": "[encoded data removed]",
            "text/plain": [
              "<Figure size 864x360 with 2 Axes>"
            ]
          },
          "metadata": {
            "tags": [],
            "needs_background": "light"
          }
        }
      ]
    },
    {
      "cell_type": "markdown",
      "metadata": {
        "id": "9Qi-aj_u4h4O"
      },
      "source": [
        "## 설문 통계"
      ]
    },
    {
      "cell_type": "code",
      "metadata": {
        "colab": {
          "base_uri": "https://localhost:8080/",
          "height": 297
        },
        "id": "EYs8WoU74i3M",
        "outputId": "c0ecf665-a2bb-498e-fce4-cb54b3b0dab0"
      },
      "source": [
        "# 성별\n",
        "sns.countplot(y='GenderSelect', data=mcq)\n",
        "# mcq 데이터프레임에서 GenderSelect의 count 별 그래프를 나타냄\n",
        "# 여성보다 남성의 설문 응답의 수가 더 많음"
      ],
      "execution_count": null,
      "outputs": [
        {
          "output_type": "execute_result",
          "data": {
            "text/plain": [
              "<matplotlib.axes._subplots.AxesSubplot at 0x7f247fce8210>"
            ]
          },
          "metadata": {
            "tags": []
          },
          "execution_count": 21
        },
        {
          "output_type": "display_data",
          "data": {
            "image/png": "[encoded data removed]",
            "text/plain": [
              "<Figure size 432x288 with 1 Axes>"
            ]
          },
          "metadata": {
            "tags": [],
            "needs_background": "light"
          }
        }
      ]
    },
    {
      "cell_type": "code",
      "metadata": {
        "colab": {
          "base_uri": "https://localhost:8080/",
          "height": 1000
        },
        "id": "ws8zKoFM4yig",
        "outputId": "489cfe8e-1e84-4897-d854-73594876fff9"
      },
      "source": [
        "# 국가별 응답수\n",
        "con_df = pd.DataFrame(mcq['Country'].value_counts())\n",
        "con_df\n",
        "# mcq의 country 컬럼의 value들의 counts를 세어 데이터프레임을 만들어준다,"
      ],
      "execution_count": null,
      "outputs": [
        {
          "output_type": "execute_result",
          "data": {
            "text/html": [
              "<div>\n",
              "<style scoped>\n",
              "    .dataframe tbody tr th:only-of-type {\n",
              "        vertical-align: middle;\n",
              "    }\n",
              "\n",
              "    .dataframe tbody tr th {\n",
              "        vertical-align: top;\n",
              "    }\n",
              "\n",
              "    .dataframe thead th {\n",
              "        text-align: right;\n",
              "    }\n",
              "</style>\n",
              "<table border=\"1\" class=\"dataframe\">\n",
              "  <thead>\n",
              "    <tr style=\"text-align: right;\">\n",
              "      <th></th>\n",
              "      <th>Country</th>\n",
              "    </tr>\n",
              "  </thead>\n",
              "  <tbody>\n",
              "    <tr>\n",
              "      <th>United States</th>\n",
              "      <td>4197</td>\n",
              "    </tr>\n",
              "    <tr>\n",
              "      <th>India</th>\n",
              "      <td>2704</td>\n",
              "    </tr>\n",
              "    <tr>\n",
              "      <th>Other</th>\n",
              "      <td>1023</td>\n",
              "    </tr>\n",
              "    <tr>\n",
              "      <th>Russia</th>\n",
              "      <td>578</td>\n",
              "    </tr>\n",
              "    <tr>\n",
              "      <th>United Kingdom</th>\n",
              "      <td>535</td>\n",
              "    </tr>\n",
              "    <tr>\n",
              "      <th>People 's Republic of China</th>\n",
              "      <td>471</td>\n",
              "    </tr>\n",
              "    <tr>\n",
              "      <th>Brazil</th>\n",
              "      <td>465</td>\n",
              "    </tr>\n",
              "    <tr>\n",
              "      <th>Germany</th>\n",
              "      <td>460</td>\n",
              "    </tr>\n",
              "    <tr>\n",
              "      <th>France</th>\n",
              "      <td>442</td>\n",
              "    </tr>\n",
              "    <tr>\n",
              "      <th>Canada</th>\n",
              "      <td>440</td>\n",
              "    </tr>\n",
              "    <tr>\n",
              "      <th>Australia</th>\n",
              "      <td>421</td>\n",
              "    </tr>\n",
              "    <tr>\n",
              "      <th>Spain</th>\n",
              "      <td>320</td>\n",
              "    </tr>\n",
              "    <tr>\n",
              "      <th>Japan</th>\n",
              "      <td>277</td>\n",
              "    </tr>\n",
              "    <tr>\n",
              "      <th>Taiwan</th>\n",
              "      <td>254</td>\n",
              "    </tr>\n",
              "    <tr>\n",
              "      <th>Italy</th>\n",
              "      <td>238</td>\n",
              "    </tr>\n",
              "    <tr>\n",
              "      <th>Netherlands</th>\n",
              "      <td>205</td>\n",
              "    </tr>\n",
              "    <tr>\n",
              "      <th>Ukraine</th>\n",
              "      <td>196</td>\n",
              "    </tr>\n",
              "    <tr>\n",
              "      <th>South Korea</th>\n",
              "      <td>194</td>\n",
              "    </tr>\n",
              "    <tr>\n",
              "      <th>Poland</th>\n",
              "      <td>184</td>\n",
              "    </tr>\n",
              "    <tr>\n",
              "      <th>Singapore</th>\n",
              "      <td>184</td>\n",
              "    </tr>\n",
              "    <tr>\n",
              "      <th>Pakistan</th>\n",
              "      <td>161</td>\n",
              "    </tr>\n",
              "    <tr>\n",
              "      <th>Turkey</th>\n",
              "      <td>144</td>\n",
              "    </tr>\n",
              "    <tr>\n",
              "      <th>Indonesia</th>\n",
              "      <td>131</td>\n",
              "    </tr>\n",
              "    <tr>\n",
              "      <th>Switzerland</th>\n",
              "      <td>129</td>\n",
              "    </tr>\n",
              "    <tr>\n",
              "      <th>South Africa</th>\n",
              "      <td>127</td>\n",
              "    </tr>\n",
              "    <tr>\n",
              "      <th>Mexico</th>\n",
              "      <td>126</td>\n",
              "    </tr>\n",
              "    <tr>\n",
              "      <th>Colombia</th>\n",
              "      <td>113</td>\n",
              "    </tr>\n",
              "    <tr>\n",
              "      <th>Iran</th>\n",
              "      <td>112</td>\n",
              "    </tr>\n",
              "    <tr>\n",
              "      <th>Israel</th>\n",
              "      <td>105</td>\n",
              "    </tr>\n",
              "    <tr>\n",
              "      <th>Ireland</th>\n",
              "      <td>94</td>\n",
              "    </tr>\n",
              "    <tr>\n",
              "      <th>Portugal</th>\n",
              "      <td>93</td>\n",
              "    </tr>\n",
              "    <tr>\n",
              "      <th>Argentina</th>\n",
              "      <td>92</td>\n",
              "    </tr>\n",
              "    <tr>\n",
              "      <th>Belgium</th>\n",
              "      <td>91</td>\n",
              "    </tr>\n",
              "    <tr>\n",
              "      <th>Sweden</th>\n",
              "      <td>89</td>\n",
              "    </tr>\n",
              "    <tr>\n",
              "      <th>Philippines</th>\n",
              "      <td>84</td>\n",
              "    </tr>\n",
              "    <tr>\n",
              "      <th>Greece</th>\n",
              "      <td>81</td>\n",
              "    </tr>\n",
              "    <tr>\n",
              "      <th>Malaysia</th>\n",
              "      <td>79</td>\n",
              "    </tr>\n",
              "    <tr>\n",
              "      <th>Denmark</th>\n",
              "      <td>78</td>\n",
              "    </tr>\n",
              "    <tr>\n",
              "      <th>New Zealand</th>\n",
              "      <td>74</td>\n",
              "    </tr>\n",
              "    <tr>\n",
              "      <th>Nigeria</th>\n",
              "      <td>73</td>\n",
              "    </tr>\n",
              "    <tr>\n",
              "      <th>Vietnam</th>\n",
              "      <td>71</td>\n",
              "    </tr>\n",
              "    <tr>\n",
              "      <th>Republic of China</th>\n",
              "      <td>67</td>\n",
              "    </tr>\n",
              "    <tr>\n",
              "      <th>Finland</th>\n",
              "      <td>67</td>\n",
              "    </tr>\n",
              "    <tr>\n",
              "      <th>Egypt</th>\n",
              "      <td>66</td>\n",
              "    </tr>\n",
              "    <tr>\n",
              "      <th>Hungary</th>\n",
              "      <td>66</td>\n",
              "    </tr>\n",
              "    <tr>\n",
              "      <th>Hong Kong</th>\n",
              "      <td>65</td>\n",
              "    </tr>\n",
              "    <tr>\n",
              "      <th>Romania</th>\n",
              "      <td>59</td>\n",
              "    </tr>\n",
              "    <tr>\n",
              "      <th>Kenya</th>\n",
              "      <td>59</td>\n",
              "    </tr>\n",
              "    <tr>\n",
              "      <th>Belarus</th>\n",
              "      <td>54</td>\n",
              "    </tr>\n",
              "    <tr>\n",
              "      <th>Czech Republic</th>\n",
              "      <td>53</td>\n",
              "    </tr>\n",
              "    <tr>\n",
              "      <th>Norway</th>\n",
              "      <td>53</td>\n",
              "    </tr>\n",
              "    <tr>\n",
              "      <th>Chile</th>\n",
              "      <td>51</td>\n",
              "    </tr>\n",
              "  </tbody>\n",
              "</table>\n",
              "</div>"
            ],
            "text/plain": [
              "                             Country\n",
              "United States                   4197\n",
              "India                           2704\n",
              "Other                           1023\n",
              "Russia                           578\n",
              "United Kingdom                   535\n",
              "People 's Republic of China      471\n",
              "Brazil                           465\n",
              "Germany                          460\n",
              "France                           442\n",
              "Canada                           440\n",
              "Australia                        421\n",
              "Spain                            320\n",
              "Japan                            277\n",
              "Taiwan                           254\n",
              "Italy                            238\n",
              "Netherlands                      205\n",
              "Ukraine                          196\n",
              "South Korea                      194\n",
              "Poland                           184\n",
              "Singapore                        184\n",
              "Pakistan                         161\n",
              "Turkey                           144\n",
              "Indonesia                        131\n",
              "Switzerland                      129\n",
              "South Africa                     127\n",
              "Mexico                           126\n",
              "Colombia                         113\n",
              "Iran                             112\n",
              "Israel                           105\n",
              "Ireland                           94\n",
              "Portugal                          93\n",
              "Argentina                         92\n",
              "Belgium                           91\n",
              "Sweden                            89\n",
              "Philippines                       84\n",
              "Greece                            81\n",
              "Malaysia                          79\n",
              "Denmark                           78\n",
              "New Zealand                       74\n",
              "Nigeria                           73\n",
              "Vietnam                           71\n",
              "Republic of China                 67\n",
              "Finland                           67\n",
              "Egypt                             66\n",
              "Hungary                           66\n",
              "Hong Kong                         65\n",
              "Romania                           59\n",
              "Kenya                             59\n",
              "Belarus                           54\n",
              "Czech Republic                    53\n",
              "Norway                            53\n",
              "Chile                             51"
            ]
          },
          "metadata": {
            "tags": []
          },
          "execution_count": 23
        }
      ]
    },
    {
      "cell_type": "code",
      "metadata": {
        "colab": {
          "base_uri": "https://localhost:8080/",
          "height": 634
        },
        "id": "NwYXGlFRKBsX",
        "outputId": "c0235b68-f920-49a6-f8ee-6d77f3361885"
      },
      "source": [
        "plt.figure(figsize=(15,15))\n",
        "sns.countplot(y='Country', data=mcq)"
      ],
      "execution_count": null,
      "outputs": [
        {
          "output_type": "execute_result",
          "data": {
            "text/plain": [
              "<matplotlib.axes._subplots.AxesSubplot at 0x7f2476b6b910>"
            ]
          },
          "metadata": {
            "tags": []
          },
          "execution_count": 57
        },
        {
          "output_type": "display_data",
          "data": {
            "image/png": "[encoded data removed]",
            "text/plain": [
              "<Figure size 1080x1080 with 1 Axes>"
            ]
          },
          "metadata": {
            "tags": [],
            "needs_background": "light"
          }
        }
      ]
    },
    {
      "cell_type": "code",
      "metadata": {
        "colab": {
          "base_uri": "https://localhost:8080/",
          "height": 1000
        },
        "id": "gLCoLxbP5sLn",
        "outputId": "32e19c09-f84d-454f-acd6-571fedecf500"
      },
      "source": [
        "con_df['국가'] = con_df.index\n",
        "\n",
        "con_df\n",
        "# 국가 컬럼을 만들어줌"
      ],
      "execution_count": null,
      "outputs": [
        {
          "output_type": "execute_result",
          "data": {
            "text/html": [
              "<div>\n",
              "<style scoped>\n",
              "    .dataframe tbody tr th:only-of-type {\n",
              "        vertical-align: middle;\n",
              "    }\n",
              "\n",
              "    .dataframe tbody tr th {\n",
              "        vertical-align: top;\n",
              "    }\n",
              "\n",
              "    .dataframe thead th {\n",
              "        text-align: right;\n",
              "    }\n",
              "</style>\n",
              "<table border=\"1\" class=\"dataframe\">\n",
              "  <thead>\n",
              "    <tr style=\"text-align: right;\">\n",
              "      <th></th>\n",
              "      <th>Country</th>\n",
              "      <th>국가</th>\n",
              "    </tr>\n",
              "  </thead>\n",
              "  <tbody>\n",
              "    <tr>\n",
              "      <th>United States</th>\n",
              "      <td>4197</td>\n",
              "      <td>United States</td>\n",
              "    </tr>\n",
              "    <tr>\n",
              "      <th>India</th>\n",
              "      <td>2704</td>\n",
              "      <td>India</td>\n",
              "    </tr>\n",
              "    <tr>\n",
              "      <th>Other</th>\n",
              "      <td>1023</td>\n",
              "      <td>Other</td>\n",
              "    </tr>\n",
              "    <tr>\n",
              "      <th>Russia</th>\n",
              "      <td>578</td>\n",
              "      <td>Russia</td>\n",
              "    </tr>\n",
              "    <tr>\n",
              "      <th>United Kingdom</th>\n",
              "      <td>535</td>\n",
              "      <td>United Kingdom</td>\n",
              "    </tr>\n",
              "    <tr>\n",
              "      <th>People 's Republic of China</th>\n",
              "      <td>471</td>\n",
              "      <td>People 's Republic of China</td>\n",
              "    </tr>\n",
              "    <tr>\n",
              "      <th>Brazil</th>\n",
              "      <td>465</td>\n",
              "      <td>Brazil</td>\n",
              "    </tr>\n",
              "    <tr>\n",
              "      <th>Germany</th>\n",
              "      <td>460</td>\n",
              "      <td>Germany</td>\n",
              "    </tr>\n",
              "    <tr>\n",
              "      <th>France</th>\n",
              "      <td>442</td>\n",
              "      <td>France</td>\n",
              "    </tr>\n",
              "    <tr>\n",
              "      <th>Canada</th>\n",
              "      <td>440</td>\n",
              "      <td>Canada</td>\n",
              "    </tr>\n",
              "    <tr>\n",
              "      <th>Australia</th>\n",
              "      <td>421</td>\n",
              "      <td>Australia</td>\n",
              "    </tr>\n",
              "    <tr>\n",
              "      <th>Spain</th>\n",
              "      <td>320</td>\n",
              "      <td>Spain</td>\n",
              "    </tr>\n",
              "    <tr>\n",
              "      <th>Japan</th>\n",
              "      <td>277</td>\n",
              "      <td>Japan</td>\n",
              "    </tr>\n",
              "    <tr>\n",
              "      <th>Taiwan</th>\n",
              "      <td>254</td>\n",
              "      <td>Taiwan</td>\n",
              "    </tr>\n",
              "    <tr>\n",
              "      <th>Italy</th>\n",
              "      <td>238</td>\n",
              "      <td>Italy</td>\n",
              "    </tr>\n",
              "    <tr>\n",
              "      <th>Netherlands</th>\n",
              "      <td>205</td>\n",
              "      <td>Netherlands</td>\n",
              "    </tr>\n",
              "    <tr>\n",
              "      <th>Ukraine</th>\n",
              "      <td>196</td>\n",
              "      <td>Ukraine</td>\n",
              "    </tr>\n",
              "    <tr>\n",
              "      <th>South Korea</th>\n",
              "      <td>194</td>\n",
              "      <td>South Korea</td>\n",
              "    </tr>\n",
              "    <tr>\n",
              "      <th>Poland</th>\n",
              "      <td>184</td>\n",
              "      <td>Poland</td>\n",
              "    </tr>\n",
              "    <tr>\n",
              "      <th>Singapore</th>\n",
              "      <td>184</td>\n",
              "      <td>Singapore</td>\n",
              "    </tr>\n",
              "    <tr>\n",
              "      <th>Pakistan</th>\n",
              "      <td>161</td>\n",
              "      <td>Pakistan</td>\n",
              "    </tr>\n",
              "    <tr>\n",
              "      <th>Turkey</th>\n",
              "      <td>144</td>\n",
              "      <td>Turkey</td>\n",
              "    </tr>\n",
              "    <tr>\n",
              "      <th>Indonesia</th>\n",
              "      <td>131</td>\n",
              "      <td>Indonesia</td>\n",
              "    </tr>\n",
              "    <tr>\n",
              "      <th>Switzerland</th>\n",
              "      <td>129</td>\n",
              "      <td>Switzerland</td>\n",
              "    </tr>\n",
              "    <tr>\n",
              "      <th>South Africa</th>\n",
              "      <td>127</td>\n",
              "      <td>South Africa</td>\n",
              "    </tr>\n",
              "    <tr>\n",
              "      <th>Mexico</th>\n",
              "      <td>126</td>\n",
              "      <td>Mexico</td>\n",
              "    </tr>\n",
              "    <tr>\n",
              "      <th>Colombia</th>\n",
              "      <td>113</td>\n",
              "      <td>Colombia</td>\n",
              "    </tr>\n",
              "    <tr>\n",
              "      <th>Iran</th>\n",
              "      <td>112</td>\n",
              "      <td>Iran</td>\n",
              "    </tr>\n",
              "    <tr>\n",
              "      <th>Israel</th>\n",
              "      <td>105</td>\n",
              "      <td>Israel</td>\n",
              "    </tr>\n",
              "    <tr>\n",
              "      <th>Ireland</th>\n",
              "      <td>94</td>\n",
              "      <td>Ireland</td>\n",
              "    </tr>\n",
              "    <tr>\n",
              "      <th>Portugal</th>\n",
              "      <td>93</td>\n",
              "      <td>Portugal</td>\n",
              "    </tr>\n",
              "    <tr>\n",
              "      <th>Argentina</th>\n",
              "      <td>92</td>\n",
              "      <td>Argentina</td>\n",
              "    </tr>\n",
              "    <tr>\n",
              "      <th>Belgium</th>\n",
              "      <td>91</td>\n",
              "      <td>Belgium</td>\n",
              "    </tr>\n",
              "    <tr>\n",
              "      <th>Sweden</th>\n",
              "      <td>89</td>\n",
              "      <td>Sweden</td>\n",
              "    </tr>\n",
              "    <tr>\n",
              "      <th>Philippines</th>\n",
              "      <td>84</td>\n",
              "      <td>Philippines</td>\n",
              "    </tr>\n",
              "    <tr>\n",
              "      <th>Greece</th>\n",
              "      <td>81</td>\n",
              "      <td>Greece</td>\n",
              "    </tr>\n",
              "    <tr>\n",
              "      <th>Malaysia</th>\n",
              "      <td>79</td>\n",
              "      <td>Malaysia</td>\n",
              "    </tr>\n",
              "    <tr>\n",
              "      <th>Denmark</th>\n",
              "      <td>78</td>\n",
              "      <td>Denmark</td>\n",
              "    </tr>\n",
              "    <tr>\n",
              "      <th>New Zealand</th>\n",
              "      <td>74</td>\n",
              "      <td>New Zealand</td>\n",
              "    </tr>\n",
              "    <tr>\n",
              "      <th>Nigeria</th>\n",
              "      <td>73</td>\n",
              "      <td>Nigeria</td>\n",
              "    </tr>\n",
              "    <tr>\n",
              "      <th>Vietnam</th>\n",
              "      <td>71</td>\n",
              "      <td>Vietnam</td>\n",
              "    </tr>\n",
              "    <tr>\n",
              "      <th>Republic of China</th>\n",
              "      <td>67</td>\n",
              "      <td>Republic of China</td>\n",
              "    </tr>\n",
              "    <tr>\n",
              "      <th>Finland</th>\n",
              "      <td>67</td>\n",
              "      <td>Finland</td>\n",
              "    </tr>\n",
              "    <tr>\n",
              "      <th>Egypt</th>\n",
              "      <td>66</td>\n",
              "      <td>Egypt</td>\n",
              "    </tr>\n",
              "    <tr>\n",
              "      <th>Hungary</th>\n",
              "      <td>66</td>\n",
              "      <td>Hungary</td>\n",
              "    </tr>\n",
              "    <tr>\n",
              "      <th>Hong Kong</th>\n",
              "      <td>65</td>\n",
              "      <td>Hong Kong</td>\n",
              "    </tr>\n",
              "    <tr>\n",
              "      <th>Romania</th>\n",
              "      <td>59</td>\n",
              "      <td>Romania</td>\n",
              "    </tr>\n",
              "    <tr>\n",
              "      <th>Kenya</th>\n",
              "      <td>59</td>\n",
              "      <td>Kenya</td>\n",
              "    </tr>\n",
              "    <tr>\n",
              "      <th>Belarus</th>\n",
              "      <td>54</td>\n",
              "      <td>Belarus</td>\n",
              "    </tr>\n",
              "    <tr>\n",
              "      <th>Czech Republic</th>\n",
              "      <td>53</td>\n",
              "      <td>Czech Republic</td>\n",
              "    </tr>\n",
              "    <tr>\n",
              "      <th>Norway</th>\n",
              "      <td>53</td>\n",
              "      <td>Norway</td>\n",
              "    </tr>\n",
              "    <tr>\n",
              "      <th>Chile</th>\n",
              "      <td>51</td>\n",
              "      <td>Chile</td>\n",
              "    </tr>\n",
              "  </tbody>\n",
              "</table>\n",
              "</div>"
            ],
            "text/plain": [
              "                             Country                           국가\n",
              "United States                   4197                United States\n",
              "India                           2704                        India\n",
              "Other                           1023                        Other\n",
              "Russia                           578                       Russia\n",
              "United Kingdom                   535               United Kingdom\n",
              "People 's Republic of China      471  People 's Republic of China\n",
              "Brazil                           465                       Brazil\n",
              "Germany                          460                      Germany\n",
              "France                           442                       France\n",
              "Canada                           440                       Canada\n",
              "Australia                        421                    Australia\n",
              "Spain                            320                        Spain\n",
              "Japan                            277                        Japan\n",
              "Taiwan                           254                       Taiwan\n",
              "Italy                            238                        Italy\n",
              "Netherlands                      205                  Netherlands\n",
              "Ukraine                          196                      Ukraine\n",
              "South Korea                      194                  South Korea\n",
              "Poland                           184                       Poland\n",
              "Singapore                        184                    Singapore\n",
              "Pakistan                         161                     Pakistan\n",
              "Turkey                           144                       Turkey\n",
              "Indonesia                        131                    Indonesia\n",
              "Switzerland                      129                  Switzerland\n",
              "South Africa                     127                 South Africa\n",
              "Mexico                           126                       Mexico\n",
              "Colombia                         113                     Colombia\n",
              "Iran                             112                         Iran\n",
              "Israel                           105                       Israel\n",
              "Ireland                           94                      Ireland\n",
              "Portugal                          93                     Portugal\n",
              "Argentina                         92                    Argentina\n",
              "Belgium                           91                      Belgium\n",
              "Sweden                            89                       Sweden\n",
              "Philippines                       84                  Philippines\n",
              "Greece                            81                       Greece\n",
              "Malaysia                          79                     Malaysia\n",
              "Denmark                           78                      Denmark\n",
              "New Zealand                       74                  New Zealand\n",
              "Nigeria                           73                      Nigeria\n",
              "Vietnam                           71                      Vietnam\n",
              "Republic of China                 67            Republic of China\n",
              "Finland                           67                      Finland\n",
              "Egypt                             66                        Egypt\n",
              "Hungary                           66                      Hungary\n",
              "Hong Kong                         65                    Hong Kong\n",
              "Romania                           59                      Romania\n",
              "Kenya                             59                        Kenya\n",
              "Belarus                           54                      Belarus\n",
              "Czech Republic                    53               Czech Republic\n",
              "Norway                            53                       Norway\n",
              "Chile                             51                        Chile"
            ]
          },
          "metadata": {
            "tags": []
          },
          "execution_count": 24
        }
      ]
    },
    {
      "cell_type": "code",
      "metadata": {
        "colab": {
          "base_uri": "https://localhost:8080/",
          "height": 203
        },
        "id": "BojW6HpYAY-5",
        "outputId": "c2cc1e71-7651-42fa-e2ca-26c0f271c6c7"
      },
      "source": [
        "con_df.columns = ['응답 수', '국가']\n",
        "con_df.head()\n",
        "# 컬럼 명을 응답 수와 국가로 변경해줌"
      ],
      "execution_count": null,
      "outputs": [
        {
          "output_type": "execute_result",
          "data": {
            "text/html": [
              "<div>\n",
              "<style scoped>\n",
              "    .dataframe tbody tr th:only-of-type {\n",
              "        vertical-align: middle;\n",
              "    }\n",
              "\n",
              "    .dataframe tbody tr th {\n",
              "        vertical-align: top;\n",
              "    }\n",
              "\n",
              "    .dataframe thead th {\n",
              "        text-align: right;\n",
              "    }\n",
              "</style>\n",
              "<table border=\"1\" class=\"dataframe\">\n",
              "  <thead>\n",
              "    <tr style=\"text-align: right;\">\n",
              "      <th></th>\n",
              "      <th>응답 수</th>\n",
              "      <th>국가</th>\n",
              "    </tr>\n",
              "  </thead>\n",
              "  <tbody>\n",
              "    <tr>\n",
              "      <th>United States</th>\n",
              "      <td>4197</td>\n",
              "      <td>United States</td>\n",
              "    </tr>\n",
              "    <tr>\n",
              "      <th>India</th>\n",
              "      <td>2704</td>\n",
              "      <td>India</td>\n",
              "    </tr>\n",
              "    <tr>\n",
              "      <th>Other</th>\n",
              "      <td>1023</td>\n",
              "      <td>Other</td>\n",
              "    </tr>\n",
              "    <tr>\n",
              "      <th>Russia</th>\n",
              "      <td>578</td>\n",
              "      <td>Russia</td>\n",
              "    </tr>\n",
              "    <tr>\n",
              "      <th>United Kingdom</th>\n",
              "      <td>535</td>\n",
              "      <td>United Kingdom</td>\n",
              "    </tr>\n",
              "  </tbody>\n",
              "</table>\n",
              "</div>"
            ],
            "text/plain": [
              "                응답 수              국가\n",
              "United States   4197   United States\n",
              "India           2704           India\n",
              "Other           1023           Other\n",
              "Russia           578          Russia\n",
              "United Kingdom   535  United Kingdom"
            ]
          },
          "metadata": {
            "tags": []
          },
          "execution_count": 25
        }
      ]
    },
    {
      "cell_type": "code",
      "metadata": {
        "colab": {
          "base_uri": "https://localhost:8080/",
          "height": 665
        },
        "id": "bjaIjHY0Ar4q",
        "outputId": "42a2e3c7-7b1f-43c7-9c2e-949d4c525efc"
      },
      "source": [
        "# index 컬럼을 삭제하고 순위를 알기 위해서 reset_index()를 해준다.\n",
        "# 우리나라는 18위이고 전체 52개국 중에서 20위까지만 확인한다.\n",
        "con_df = con_df.reset_index().drop('index', axis=1)\n",
        "\n",
        "con_df.head(20)"
      ],
      "execution_count": null,
      "outputs": [
        {
          "output_type": "execute_result",
          "data": {
            "text/html": [
              "<div>\n",
              "<style scoped>\n",
              "    .dataframe tbody tr th:only-of-type {\n",
              "        vertical-align: middle;\n",
              "    }\n",
              "\n",
              "    .dataframe tbody tr th {\n",
              "        vertical-align: top;\n",
              "    }\n",
              "\n",
              "    .dataframe thead th {\n",
              "        text-align: right;\n",
              "    }\n",
              "</style>\n",
              "<table border=\"1\" class=\"dataframe\">\n",
              "  <thead>\n",
              "    <tr style=\"text-align: right;\">\n",
              "      <th></th>\n",
              "      <th>응답 수</th>\n",
              "      <th>국가</th>\n",
              "    </tr>\n",
              "  </thead>\n",
              "  <tbody>\n",
              "    <tr>\n",
              "      <th>0</th>\n",
              "      <td>4197</td>\n",
              "      <td>United States</td>\n",
              "    </tr>\n",
              "    <tr>\n",
              "      <th>1</th>\n",
              "      <td>2704</td>\n",
              "      <td>India</td>\n",
              "    </tr>\n",
              "    <tr>\n",
              "      <th>2</th>\n",
              "      <td>1023</td>\n",
              "      <td>Other</td>\n",
              "    </tr>\n",
              "    <tr>\n",
              "      <th>3</th>\n",
              "      <td>578</td>\n",
              "      <td>Russia</td>\n",
              "    </tr>\n",
              "    <tr>\n",
              "      <th>4</th>\n",
              "      <td>535</td>\n",
              "      <td>United Kingdom</td>\n",
              "    </tr>\n",
              "    <tr>\n",
              "      <th>5</th>\n",
              "      <td>471</td>\n",
              "      <td>People 's Republic of China</td>\n",
              "    </tr>\n",
              "    <tr>\n",
              "      <th>6</th>\n",
              "      <td>465</td>\n",
              "      <td>Brazil</td>\n",
              "    </tr>\n",
              "    <tr>\n",
              "      <th>7</th>\n",
              "      <td>460</td>\n",
              "      <td>Germany</td>\n",
              "    </tr>\n",
              "    <tr>\n",
              "      <th>8</th>\n",
              "      <td>442</td>\n",
              "      <td>France</td>\n",
              "    </tr>\n",
              "    <tr>\n",
              "      <th>9</th>\n",
              "      <td>440</td>\n",
              "      <td>Canada</td>\n",
              "    </tr>\n",
              "    <tr>\n",
              "      <th>10</th>\n",
              "      <td>421</td>\n",
              "      <td>Australia</td>\n",
              "    </tr>\n",
              "    <tr>\n",
              "      <th>11</th>\n",
              "      <td>320</td>\n",
              "      <td>Spain</td>\n",
              "    </tr>\n",
              "    <tr>\n",
              "      <th>12</th>\n",
              "      <td>277</td>\n",
              "      <td>Japan</td>\n",
              "    </tr>\n",
              "    <tr>\n",
              "      <th>13</th>\n",
              "      <td>254</td>\n",
              "      <td>Taiwan</td>\n",
              "    </tr>\n",
              "    <tr>\n",
              "      <th>14</th>\n",
              "      <td>238</td>\n",
              "      <td>Italy</td>\n",
              "    </tr>\n",
              "    <tr>\n",
              "      <th>15</th>\n",
              "      <td>205</td>\n",
              "      <td>Netherlands</td>\n",
              "    </tr>\n",
              "    <tr>\n",
              "      <th>16</th>\n",
              "      <td>196</td>\n",
              "      <td>Ukraine</td>\n",
              "    </tr>\n",
              "    <tr>\n",
              "      <th>17</th>\n",
              "      <td>194</td>\n",
              "      <td>South Korea</td>\n",
              "    </tr>\n",
              "    <tr>\n",
              "      <th>18</th>\n",
              "      <td>184</td>\n",
              "      <td>Poland</td>\n",
              "    </tr>\n",
              "    <tr>\n",
              "      <th>19</th>\n",
              "      <td>184</td>\n",
              "      <td>Singapore</td>\n",
              "    </tr>\n",
              "  </tbody>\n",
              "</table>\n",
              "</div>"
            ],
            "text/plain": [
              "    응답 수                           국가\n",
              "0   4197                United States\n",
              "1   2704                        India\n",
              "2   1023                        Other\n",
              "3    578                       Russia\n",
              "4    535               United Kingdom\n",
              "5    471  People 's Republic of China\n",
              "6    465                       Brazil\n",
              "7    460                      Germany\n",
              "8    442                       France\n",
              "9    440                       Canada\n",
              "10   421                    Australia\n",
              "11   320                        Spain\n",
              "12   277                        Japan\n",
              "13   254                       Taiwan\n",
              "14   238                        Italy\n",
              "15   205                  Netherlands\n",
              "16   196                      Ukraine\n",
              "17   194                  South Korea\n",
              "18   184                       Poland\n",
              "19   184                    Singapore"
            ]
          },
          "metadata": {
            "tags": []
          },
          "execution_count": 27
        }
      ]
    },
    {
      "cell_type": "code",
      "metadata": {
        "colab": {
          "base_uri": "https://localhost:8080/"
        },
        "id": "D__NL43dBJ4S",
        "outputId": "afe3af17-8935-40e2-bfc9-56c6b5fd1d44"
      },
      "source": [
        "# Age 컬럼에 대한 정보를 본다. \n",
        "mcq['Age'].describe()\n",
        "\n",
        "# 평균 연령, 최대, 최소 연령"
      ],
      "execution_count": null,
      "outputs": [
        {
          "output_type": "execute_result",
          "data": {
            "text/plain": [
              "count    16385.000000\n",
              "mean        32.372841\n",
              "std         10.473487\n",
              "min          0.000000\n",
              "25%         25.000000\n",
              "50%         30.000000\n",
              "75%         37.000000\n",
              "max        100.000000\n",
              "Name: Age, dtype: float64"
            ]
          },
          "metadata": {
            "tags": []
          },
          "execution_count": 33
        }
      ]
    },
    {
      "cell_type": "code",
      "metadata": {
        "colab": {
          "base_uri": "https://localhost:8080/",
          "height": 301
        },
        "id": "KI-jOBGOECPA",
        "outputId": "8cfe6d0b-7aee-4cbb-9726-eaacbe25c76c"
      },
      "source": [
        "sns.distplot(mcq[mcq['Age'] > 0]['Age'])"
      ],
      "execution_count": null,
      "outputs": [
        {
          "output_type": "execute_result",
          "data": {
            "text/plain": [
              "<matplotlib.axes._subplots.AxesSubplot at 0x7f247ae653d0>"
            ]
          },
          "metadata": {
            "tags": []
          },
          "execution_count": 34
        },
        {
          "output_type": "display_data",
          "data": {
            "image/png": "[encoded data removed]",
            "text/plain": [
              "<Figure size 432x288 with 1 Axes>"
            ]
          },
          "metadata": {
            "tags": [],
            "needs_background": "light"
          }
        }
      ]
    },
    {
      "cell_type": "markdown",
      "metadata": {
        "id": "eX0rmkx1FNSg"
      },
      "source": [
        "응답자의 대부분이 어리고, 20대부터 급격히 늘어나며 30대가 가장 많다.</br>\n",
        "평균 나이는 32세이다."
      ]
    },
    {
      "cell_type": "markdown",
      "metadata": {
        "id": "G7jI1_FrF_Wv"
      },
      "source": [
        "##학력"
      ]
    },
    {
      "cell_type": "code",
      "metadata": {
        "colab": {
          "base_uri": "https://localhost:8080/",
          "height": 295
        },
        "id": "xPZGBYMCFGeB",
        "outputId": "6d5ce8cf-f008-434c-8a91-6ecf69e94a1f"
      },
      "source": [
        "sns.countplot(y='FormalEducation', data=mcq)"
      ],
      "execution_count": null,
      "outputs": [
        {
          "output_type": "execute_result",
          "data": {
            "text/plain": [
              "<matplotlib.axes._subplots.AxesSubplot at 0x7f24772fc690>"
            ]
          },
          "metadata": {
            "tags": []
          },
          "execution_count": 39
        },
        {
          "output_type": "display_data",
          "data": {
            "image/png": "[encoded data removed]",
            "text/plain": [
              "<Figure size 432x288 with 1 Axes>"
            ]
          },
          "metadata": {
            "tags": [],
            "needs_background": "light"
          }
        }
      ]
    },
    {
      "cell_type": "markdown",
      "metadata": {
        "id": "T9O91d3JGqn-"
      },
      "source": [
        "응답자 중 master's degree(석사학위)가 가장 많았고 bachelor's degree(학사학위)가 그 뒤를 잇고 Doctoral degree(박사학위)가 세번째를 이었다."
      ]
    },
    {
      "cell_type": "markdown",
      "metadata": {
        "id": "P-rKiQKmHs5v"
      },
      "source": [
        "##전공"
      ]
    },
    {
      "cell_type": "code",
      "metadata": {
        "colab": {
          "base_uri": "https://localhost:8080/",
          "height": 511
        },
        "id": "-srSUEi7GQ95",
        "outputId": "dd779bfe-eeee-45c4-d2ae-97aca7143138"
      },
      "source": [
        "pd.DataFrame(\n",
        "    mcq['MajorSelect'].value_counts())\n"
      ],
      "execution_count": null,
      "outputs": [
        {
          "output_type": "execute_result",
          "data": {
            "text/html": [
              "<div>\n",
              "<style scoped>\n",
              "    .dataframe tbody tr th:only-of-type {\n",
              "        vertical-align: middle;\n",
              "    }\n",
              "\n",
              "    .dataframe tbody tr th {\n",
              "        vertical-align: top;\n",
              "    }\n",
              "\n",
              "    .dataframe thead th {\n",
              "        text-align: right;\n",
              "    }\n",
              "</style>\n",
              "<table border=\"1\" class=\"dataframe\">\n",
              "  <thead>\n",
              "    <tr style=\"text-align: right;\">\n",
              "      <th></th>\n",
              "      <th>MajorSelect</th>\n",
              "    </tr>\n",
              "  </thead>\n",
              "  <tbody>\n",
              "    <tr>\n",
              "      <th>Computer Science</th>\n",
              "      <td>4397</td>\n",
              "    </tr>\n",
              "    <tr>\n",
              "      <th>Mathematics or statistics</th>\n",
              "      <td>2220</td>\n",
              "    </tr>\n",
              "    <tr>\n",
              "      <th>Engineering (non-computer focused)</th>\n",
              "      <td>1339</td>\n",
              "    </tr>\n",
              "    <tr>\n",
              "      <th>Electrical Engineering</th>\n",
              "      <td>1303</td>\n",
              "    </tr>\n",
              "    <tr>\n",
              "      <th>Other</th>\n",
              "      <td>848</td>\n",
              "    </tr>\n",
              "    <tr>\n",
              "      <th>Physics</th>\n",
              "      <td>830</td>\n",
              "    </tr>\n",
              "    <tr>\n",
              "      <th>Information technology, networking, or system administration</th>\n",
              "      <td>693</td>\n",
              "    </tr>\n",
              "    <tr>\n",
              "      <th>A social science</th>\n",
              "      <td>531</td>\n",
              "    </tr>\n",
              "    <tr>\n",
              "      <th>Biology</th>\n",
              "      <td>274</td>\n",
              "    </tr>\n",
              "    <tr>\n",
              "      <th>Management information systems</th>\n",
              "      <td>237</td>\n",
              "    </tr>\n",
              "    <tr>\n",
              "      <th>A humanities discipline</th>\n",
              "      <td>198</td>\n",
              "    </tr>\n",
              "    <tr>\n",
              "      <th>A health science</th>\n",
              "      <td>152</td>\n",
              "    </tr>\n",
              "    <tr>\n",
              "      <th>Psychology</th>\n",
              "      <td>137</td>\n",
              "    </tr>\n",
              "    <tr>\n",
              "      <th>I never declared a major</th>\n",
              "      <td>65</td>\n",
              "    </tr>\n",
              "    <tr>\n",
              "      <th>Fine arts or performing arts</th>\n",
              "      <td>57</td>\n",
              "    </tr>\n",
              "  </tbody>\n",
              "</table>\n",
              "</div>"
            ],
            "text/plain": [
              "                                                    MajorSelect\n",
              "Computer Science                                           4397\n",
              "Mathematics or statistics                                  2220\n",
              "Engineering (non-computer focused)                         1339\n",
              "Electrical Engineering                                     1303\n",
              "Other                                                       848\n",
              "Physics                                                     830\n",
              "Information technology, networking, or system a...          693\n",
              "A social science                                            531\n",
              "Biology                                                     274\n",
              "Management information systems                              237\n",
              "A humanities discipline                                     198\n",
              "A health science                                            152\n",
              "Psychology                                                  137\n",
              "I never declared a major                                     65\n",
              "Fine arts or performing arts                                 57"
            ]
          },
          "metadata": {
            "tags": []
          },
          "execution_count": 41
        }
      ]
    },
    {
      "cell_type": "markdown",
      "metadata": {
        "id": "B8_pHtZqIAiw"
      },
      "source": [
        "## 전공"
      ]
    },
    {
      "cell_type": "code",
      "metadata": {
        "id": "WetSltrTHgYr"
      },
      "source": [
        "# .value_counts()를 이용하면 그룹화 된 데이터의 count 값을 보여준다.\n",
        "# namalize= True 옵션을 사용하면, 해당 데이터에서 어느정도의 비율을 차지하는지 알 수 있다.\n",
        "\n",
        "mcq_major_count = pd.DataFrame(\n",
        "    mcq['MajorSelect'].value_counts()\n",
        ")\n",
        "\n",
        "mcq_major_percent = pd.DataFrame(\n",
        "    mcq['MajorSelect'].value_counts(normalize=True)\n",
        ")\n",
        "\n",
        "mcq_major_df = mcq_major_count.merge(\n",
        "    mcq_major_percent, left_index= True, right_index= True\n",
        ")\n",
        "mcq_major_df.columns = ['응답 수', '비율']\n"
      ],
      "execution_count": null,
      "outputs": []
    },
    {
      "cell_type": "code",
      "metadata": {
        "colab": {
          "base_uri": "https://localhost:8080/",
          "height": 511
        },
        "id": "Q13TKGOqJAJX",
        "outputId": "dbb0cd49-116d-440c-8f8b-f296c0b29c42"
      },
      "source": [
        "mcq_major_df"
      ],
      "execution_count": null,
      "outputs": [
        {
          "output_type": "execute_result",
          "data": {
            "text/html": [
              "<div>\n",
              "<style scoped>\n",
              "    .dataframe tbody tr th:only-of-type {\n",
              "        vertical-align: middle;\n",
              "    }\n",
              "\n",
              "    .dataframe tbody tr th {\n",
              "        vertical-align: top;\n",
              "    }\n",
              "\n",
              "    .dataframe thead th {\n",
              "        text-align: right;\n",
              "    }\n",
              "</style>\n",
              "<table border=\"1\" class=\"dataframe\">\n",
              "  <thead>\n",
              "    <tr style=\"text-align: right;\">\n",
              "      <th></th>\n",
              "      <th>응답 수</th>\n",
              "      <th>비율</th>\n",
              "    </tr>\n",
              "  </thead>\n",
              "  <tbody>\n",
              "    <tr>\n",
              "      <th>Computer Science</th>\n",
              "      <td>4397</td>\n",
              "      <td>0.331074</td>\n",
              "    </tr>\n",
              "    <tr>\n",
              "      <th>Mathematics or statistics</th>\n",
              "      <td>2220</td>\n",
              "      <td>0.167156</td>\n",
              "    </tr>\n",
              "    <tr>\n",
              "      <th>Engineering (non-computer focused)</th>\n",
              "      <td>1339</td>\n",
              "      <td>0.100821</td>\n",
              "    </tr>\n",
              "    <tr>\n",
              "      <th>Electrical Engineering</th>\n",
              "      <td>1303</td>\n",
              "      <td>0.098110</td>\n",
              "    </tr>\n",
              "    <tr>\n",
              "      <th>Other</th>\n",
              "      <td>848</td>\n",
              "      <td>0.063851</td>\n",
              "    </tr>\n",
              "    <tr>\n",
              "      <th>Physics</th>\n",
              "      <td>830</td>\n",
              "      <td>0.062495</td>\n",
              "    </tr>\n",
              "    <tr>\n",
              "      <th>Information technology, networking, or system administration</th>\n",
              "      <td>693</td>\n",
              "      <td>0.052180</td>\n",
              "    </tr>\n",
              "    <tr>\n",
              "      <th>A social science</th>\n",
              "      <td>531</td>\n",
              "      <td>0.039982</td>\n",
              "    </tr>\n",
              "    <tr>\n",
              "      <th>Biology</th>\n",
              "      <td>274</td>\n",
              "      <td>0.020631</td>\n",
              "    </tr>\n",
              "    <tr>\n",
              "      <th>Management information systems</th>\n",
              "      <td>237</td>\n",
              "      <td>0.017845</td>\n",
              "    </tr>\n",
              "    <tr>\n",
              "      <th>A humanities discipline</th>\n",
              "      <td>198</td>\n",
              "      <td>0.014909</td>\n",
              "    </tr>\n",
              "    <tr>\n",
              "      <th>A health science</th>\n",
              "      <td>152</td>\n",
              "      <td>0.011445</td>\n",
              "    </tr>\n",
              "    <tr>\n",
              "      <th>Psychology</th>\n",
              "      <td>137</td>\n",
              "      <td>0.010315</td>\n",
              "    </tr>\n",
              "    <tr>\n",
              "      <th>I never declared a major</th>\n",
              "      <td>65</td>\n",
              "      <td>0.004894</td>\n",
              "    </tr>\n",
              "    <tr>\n",
              "      <th>Fine arts or performing arts</th>\n",
              "      <td>57</td>\n",
              "      <td>0.004292</td>\n",
              "    </tr>\n",
              "  </tbody>\n",
              "</table>\n",
              "</div>"
            ],
            "text/plain": [
              "                                                    응답 수        비율\n",
              "Computer Science                                    4397  0.331074\n",
              "Mathematics or statistics                           2220  0.167156\n",
              "Engineering (non-computer focused)                  1339  0.100821\n",
              "Electrical Engineering                              1303  0.098110\n",
              "Other                                                848  0.063851\n",
              "Physics                                              830  0.062495\n",
              "Information technology, networking, or system a...   693  0.052180\n",
              "A social science                                     531  0.039982\n",
              "Biology                                              274  0.020631\n",
              "Management information systems                       237  0.017845\n",
              "A humanities discipline                              198  0.014909\n",
              "A health science                                     152  0.011445\n",
              "Psychology                                           137  0.010315\n",
              "I never declared a major                              65  0.004894\n",
              "Fine arts or performing arts                          57  0.004292"
            ]
          },
          "metadata": {
            "tags": []
          },
          "execution_count": 53
        }
      ]
    },
    {
      "cell_type": "markdown",
      "metadata": {
        "id": "5IX4PvG0Ja_n"
      },
      "source": [
        "컴퓨터 과학 전공자들이 33%를 차지할 정도로 많고 수리통계, 공학. 전기 공학자들이 뒤를 이었다."
      ]
    },
    {
      "cell_type": "code",
      "metadata": {
        "colab": {
          "base_uri": "https://localhost:8080/",
          "height": 514
        },
        "id": "ZvQFvehFGR-P",
        "outputId": "8235b3a1-1802-49c4-eee0-b5a8f9bd0b07"
      },
      "source": [
        "plt.figure(figsize=(6, 8))\n",
        "sns.countplot(y='MajorSelect', data=mcq)"
      ],
      "execution_count": null,
      "outputs": [
        {
          "output_type": "execute_result",
          "data": {
            "text/plain": [
              "<matplotlib.axes._subplots.AxesSubplot at 0x7f247b522350>"
            ]
          },
          "metadata": {
            "tags": []
          },
          "execution_count": 54
        },
        {
          "output_type": "display_data",
          "data": {
            "image/png": "[encoded data removed]",
            "text/plain": [
              "<Figure size 432x576 with 1 Axes>"
            ]
          },
          "metadata": {
            "tags": [],
            "needs_background": "light"
          }
        }
      ]
    },
    {
      "cell_type": "markdown",
      "metadata": {
        "id": "uPPTDYVbKc5o"
      },
      "source": [
        "## 취업여부"
      ]
    },
    {
      "cell_type": "code",
      "metadata": {
        "id": "hjAvkySoJEf-"
      },
      "source": [
        "mcq_es_count = pd.DataFrame(\n",
        "    mcq['EmploymentStatus'].value_counts()\n",
        ")\n",
        "mcq_es_percent = pd.DataFrame(\n",
        "    mcq['EmploymentStatus'].value_counts(normalize=True)\n",
        ")\n",
        "mcq_es_df = mcq_es_count.merge(\n",
        "    mcq_es_percent, left_index=True, right_index=True\n",
        ")\n",
        "mcq_es_df.columns = ['응답 수', '비율']"
      ],
      "execution_count": null,
      "outputs": []
    },
    {
      "cell_type": "code",
      "metadata": {
        "colab": {
          "base_uri": "https://localhost:8080/",
          "height": 265
        },
        "id": "Zgc3E9_OKrK6",
        "outputId": "dc6a8b52-ad92-44f1-d5bf-329f1dfaf26a"
      },
      "source": [
        "mcq_es_df"
      ],
      "execution_count": null,
      "outputs": [
        {
          "output_type": "execute_result",
          "data": {
            "text/html": [
              "<div>\n",
              "<style scoped>\n",
              "    .dataframe tbody tr th:only-of-type {\n",
              "        vertical-align: middle;\n",
              "    }\n",
              "\n",
              "    .dataframe tbody tr th {\n",
              "        vertical-align: top;\n",
              "    }\n",
              "\n",
              "    .dataframe thead th {\n",
              "        text-align: right;\n",
              "    }\n",
              "</style>\n",
              "<table border=\"1\" class=\"dataframe\">\n",
              "  <thead>\n",
              "    <tr style=\"text-align: right;\">\n",
              "      <th></th>\n",
              "      <th>응답 수</th>\n",
              "      <th>비율</th>\n",
              "    </tr>\n",
              "  </thead>\n",
              "  <tbody>\n",
              "    <tr>\n",
              "      <th>Employed full-time</th>\n",
              "      <td>10897</td>\n",
              "      <td>0.651890</td>\n",
              "    </tr>\n",
              "    <tr>\n",
              "      <th>Not employed, but looking for work</th>\n",
              "      <td>2110</td>\n",
              "      <td>0.126226</td>\n",
              "    </tr>\n",
              "    <tr>\n",
              "      <th>Independent contractor, freelancer, or self-employed</th>\n",
              "      <td>1330</td>\n",
              "      <td>0.079564</td>\n",
              "    </tr>\n",
              "    <tr>\n",
              "      <th>Not employed, and not looking for work</th>\n",
              "      <td>924</td>\n",
              "      <td>0.055276</td>\n",
              "    </tr>\n",
              "    <tr>\n",
              "      <th>Employed part-time</th>\n",
              "      <td>917</td>\n",
              "      <td>0.054858</td>\n",
              "    </tr>\n",
              "    <tr>\n",
              "      <th>I prefer not to say</th>\n",
              "      <td>420</td>\n",
              "      <td>0.025126</td>\n",
              "    </tr>\n",
              "    <tr>\n",
              "      <th>Retired</th>\n",
              "      <td>118</td>\n",
              "      <td>0.007059</td>\n",
              "    </tr>\n",
              "  </tbody>\n",
              "</table>\n",
              "</div>"
            ],
            "text/plain": [
              "                                                     응답 수        비율\n",
              "Employed full-time                                  10897  0.651890\n",
              "Not employed, but looking for work                   2110  0.126226\n",
              "Independent contractor, freelancer, or self-emp...   1330  0.079564\n",
              "Not employed, and not looking for work                924  0.055276\n",
              "Employed part-time                                    917  0.054858\n",
              "I prefer not to say                                   420  0.025126\n",
              "Retired                                               118  0.007059"
            ]
          },
          "metadata": {
            "tags": []
          },
          "execution_count": 61
        }
      ]
    },
    {
      "cell_type": "code",
      "metadata": {
        "colab": {
          "base_uri": "https://localhost:8080/",
          "height": 516
        },
        "id": "oyaDdzGeKrjN",
        "outputId": "16deb13a-5525-4ad3-e139-cad4a6cc04e1"
      },
      "source": [
        "plt.figure(figsize=(10, 10))\n",
        "sns.countplot(y='EmploymentStatus', data=mcq)"
      ],
      "execution_count": null,
      "outputs": [
        {
          "output_type": "execute_result",
          "data": {
            "text/plain": [
              "<matplotlib.axes._subplots.AxesSubplot at 0x7f247683bf10>"
            ]
          },
          "metadata": {
            "tags": []
          },
          "execution_count": 62
        },
        {
          "output_type": "display_data",
          "data": {
            "image/png": "[encoded data removed]",
            "text/plain": [
              "<Figure size 720x720 with 1 Axes>"
            ]
          },
          "metadata": {
            "tags": [],
            "needs_background": "light"
          }
        }
      ]
    },
    {
      "cell_type": "markdown",
      "metadata": {
        "id": "GcejO3GSLeet"
      },
      "source": [
        "Employed full-time가 65% 를 차지할 정도로 가장 많았고 Not employed, but looking for work가 그 뒤로 가장 많았다."
      ]
    },
    {
      "cell_type": "markdown",
      "metadata": {
        "id": "dy3m0_zlLrZE"
      },
      "source": [
        "## 프로그래밍 경험"
      ]
    },
    {
      "cell_type": "markdown",
      "metadata": {
        "id": "2rQ2htzCL_pl"
      },
      "source": [
        "'Tenure'항목은 데이터사이언스 분야에서 코딩 경험이 얼마나 되는지에 대한 질문이다.</br>\n",
        "\n"
      ]
    },
    {
      "cell_type": "code",
      "metadata": {
        "colab": {
          "base_uri": "https://localhost:8080/",
          "height": 297
        },
        "id": "iGcOjld6LcJu",
        "outputId": "2312214f-2795-4244-80eb-2364f94bf072"
      },
      "source": [
        "sns.countplot(y='Tenure', data=mcq)"
      ],
      "execution_count": null,
      "outputs": [
        {
          "output_type": "execute_result",
          "data": {
            "text/plain": [
              "<matplotlib.axes._subplots.AxesSubplot at 0x7f2476745a90>"
            ]
          },
          "metadata": {
            "tags": []
          },
          "execution_count": 63
        },
        {
          "output_type": "display_data",
          "data": {
            "image/png": "[encoded data removed]",
            "text/plain": [
              "<Figure size 432x288 with 1 Axes>"
            ]
          },
          "metadata": {
            "tags": [],
            "needs_background": "light"
          }
        }
      ]
    },
    {
      "cell_type": "markdown",
      "metadata": {
        "id": "BGW6ACO1MU1d"
      },
      "source": [
        "특히 1 ~ 2년의 경험을 가진 사람들이 많았고 그 뒤로 3 ~ 5년의 경험을 가진 사람들이 많았다."
      ]
    },
    {
      "cell_type": "markdown",
      "metadata": {
        "id": "VTfdeaG2Mcxl"
      },
      "source": [
        "## 한국"
      ]
    },
    {
      "cell_type": "code",
      "metadata": {
        "colab": {
          "base_uri": "https://localhost:8080/",
          "height": 516
        },
        "id": "aly6WtY_MRXg",
        "outputId": "9926d675-0414-4fb8-d22e-221e05220aa0"
      },
      "source": [
        "korea = mcq.loc[mcq['Country'] == 'South Korea']\n",
        "\n",
        "print('The number of interviewees in Korea is', str(korea.shape[0]))\n",
        "\n",
        "\n",
        "f,axes = plt.subplots(2, 2, figsize=(10,10), sharex=True)\n",
        "sns.countplot(y='GenderSelect', data=korea, ax=axes[0,1])\n",
        "sns.countplot(y='EmploymentStatus', data=korea, ax=axes[1,0])\n",
        "sns.countplot(y='CurrentJobTitleSelect', data=korea, ax=axes[0,0])\n",
        "sns.distplot(korea['Age'].dropna(), ax=axes[1,1])\n",
        "plt.title('Korean')\n",
        "plt.show()"
      ],
      "execution_count": null,
      "outputs": [
        {
          "output_type": "stream",
          "text": [
            "The number of interviewees in Korea is 194\n"
          ],
          "name": "stdout"
        },
        {
          "output_type": "display_data",
          "data": {
            "image/png": "[encoded data removed]",
            "text/plain": [
              "<Figure size 720x720 with 4 Axes>"
            ]
          },
          "metadata": {
            "tags": [],
            "needs_background": "light"
          }
        }
      ]
    },
    {
      "cell_type": "markdown",
      "metadata": {
        "id": "QfpykE4HPIz1"
      },
      "source": [
        "![plt.subplots.png](data:image/png;base64,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)"
      ]
    },
    {
      "cell_type": "code",
      "metadata": {
        "colab": {
          "base_uri": "https://localhost:8080/",
          "height": 356
        },
        "id": "xaD8BvUqMoDh",
        "outputId": "e97df5bc-8903-45cb-e52a-07e1688480dc"
      },
      "source": [
        "figure, (ax1, ax2) = plt.subplots(ncols=2)\n",
        "\n",
        "figure.set_size_inches(12, 5)\n",
        "sns.distplot(korea['Age'].loc[korea['GenderSelect']=='Female'].dropna(),\n",
        "             norm_hist=False, color= sns.color_palette('Paired')[4], ax= ax1)\n",
        "plt.title('Korean Female')\n",
        "\n",
        "sns.distplot(korea['Age'].loc[korea['GenderSelect']=='Male'].dropna(),\n",
        "             norm_hist=False, color= sns.color_palette('Paired')[0], ax= ax2)\n",
        "plt.title('Korean male')\n",
        "\n",
        "# korea 데이터 프레임에서 age 컬럼을 뽑고 GenderSelect가 male or female인 행들만 추출한다.\n"
      ],
      "execution_count": null,
      "outputs": [
        {
          "output_type": "execute_result",
          "data": {
            "text/plain": [
              "Text(0.5, 1.0, 'Korean male')"
            ]
          },
          "metadata": {
            "tags": []
          },
          "execution_count": 104
        },
        {
          "output_type": "display_data",
          "data": {
            "image/png": "[encoded data removed]",
            "text/plain": [
              "<Figure size 864x360 with 2 Axes>"
            ]
          },
          "metadata": {
            "tags": [],
            "needs_background": "light"
          }
        }
      ]
    },
    {
      "cell_type": "code",
      "metadata": {
        "colab": {
          "base_uri": "https://localhost:8080/",
          "height": 412
        },
        "id": "YqkvX8jvQobw",
        "outputId": "57fda7ee-4904-4010-8372-c28d0bcd55d7"
      },
      "source": [
        "sns.barplot(x=korea['EmploymentStatus'].unique(), y=korea['EmploymentStatus'].value_counts()/len(korea))\n",
        "plt.xticks(rotation=30, ha='right')\n",
        "plt.title('Employment status of the Korean')\n",
        "plt.ylabel('')\n",
        "plt.show()"
      ],
      "execution_count": null,
      "outputs": [
        {
          "output_type": "display_data",
          "data": {
            "image/png": "[encoded data removed]",
            "text/plain": [
              "<Figure size 432x288 with 1 Axes>"
            ]
          },
          "metadata": {
            "tags": [],
            "needs_background": "light"
          }
        }
      ]
    },
    {
      "cell_type": "code",
      "metadata": {
        "colab": {
          "base_uri": "https://localhost:8080/",
          "height": 295
        },
        "id": "lerPP9JDT0uC",
        "outputId": "9d2ca7af-e8ae-4d1c-a9c3-90b671d779c9"
      },
      "source": [
        "korea['StudentStatus'] = korea['StudentStatus'].fillna('No')\n",
        "sns.countplot(x='StudentStatus', data=korea)\n",
        "plt.title('Are you student?')\n",
        "plt.show()\n"
      ],
      "execution_count": null,
      "outputs": [
        {
          "output_type": "display_data",
          "data": {
            "image/png": "[encoded data removed]",
            "text/plain": [
              "<Figure size 432x288 with 1 Axes>"
            ]
          },
          "metadata": {
            "tags": [],
            "needs_background": "light"
          }
        }
      ]
    },
    {
      "cell_type": "code",
      "metadata": {
        "colab": {
          "base_uri": "https://localhost:8080/"
        },
        "id": "E9_uNy2BUOhA",
        "outputId": "54bbc4d1-3dc3-4c8c-e85e-901093aa4ad9"
      },
      "source": [
        "full_time = mcq.loc[mcq['EmploymentStatus'] == 'Employed full-time']\n",
        "print(full_time.shape)\n",
        "\n",
        "look_for_job = mcq.loc[mcq['EmploymentStatus'] == 'Not employed, but looking for work']\n",
        "print(look_for_job.shape)"
      ],
      "execution_count": null,
      "outputs": [
        {
          "output_type": "stream",
          "text": [
            "(10897, 228)\n",
            "(2110, 228)\n"
          ],
          "name": "stdout"
        }
      ]
    },
    {
      "cell_type": "markdown",
      "metadata": {
        "id": "UvS3zsHBw9XL"
      },
      "source": [
        "자주 묻는 질문 FAQ\n",
        "- 초보자들이 묻는 가장 일반적인 질문에 대한 답을 시각화 해본다."
      ]
    },
    {
      "cell_type": "markdown",
      "metadata": {
        "id": "2BtLq_VsxFG0"
      },
      "source": [
        "# Q1. python과 R 중에서 어떤 언어를 배워야 할까요?"
      ]
    },
    {
      "cell_type": "code",
      "metadata": {
        "id": "02hMMAW3tbuI"
      },
      "source": [
        "%matplotlib inline\n",
        "\n",
        "import pandas as pd\n",
        "import numpy as np\n",
        "import matplotlib.pyplot as plt\n",
        "import seaborn as sns\n",
        "\n",
        "from scipy import stats\n",
        "\n",
        "import warnings\n",
        "warnings.filterwarnings('ignore')"
      ],
      "execution_count": 5,
      "outputs": []
    },
    {
      "cell_type": "code",
      "metadata": {
        "colab": {
          "base_uri": "https://localhost:8080/",
          "height": 203
        },
        "id": "E9BcElazxOd6",
        "outputId": "3221db49-5425-4b82-916f-237c59dfa51c"
      },
      "source": [
        "question = pd.read_csv('/content/schema.csv')\n",
        "question.head()"
      ],
      "execution_count": 6,
      "outputs": [
        {
          "output_type": "execute_result",
          "data": {
            "text/html": [
              "<div>\n",
              "<style scoped>\n",
              "    .dataframe tbody tr th:only-of-type {\n",
              "        vertical-align: middle;\n",
              "    }\n",
              "\n",
              "    .dataframe tbody tr th {\n",
              "        vertical-align: top;\n",
              "    }\n",
              "\n",
              "    .dataframe thead th {\n",
              "        text-align: right;\n",
              "    }\n",
              "</style>\n",
              "<table border=\"1\" class=\"dataframe\">\n",
              "  <thead>\n",
              "    <tr style=\"text-align: right;\">\n",
              "      <th></th>\n",
              "      <th>Column</th>\n",
              "      <th>Question</th>\n",
              "      <th>Asked</th>\n",
              "    </tr>\n",
              "  </thead>\n",
              "  <tbody>\n",
              "    <tr>\n",
              "      <th>0</th>\n",
              "      <td>GenderSelect</td>\n",
              "      <td>Select your gender identity. - Selected Choice</td>\n",
              "      <td>All</td>\n",
              "    </tr>\n",
              "    <tr>\n",
              "      <th>1</th>\n",
              "      <td>GenderFreeForm</td>\n",
              "      <td>Select your gender identity. - A different ide...</td>\n",
              "      <td>All</td>\n",
              "    </tr>\n",
              "    <tr>\n",
              "      <th>2</th>\n",
              "      <td>Country</td>\n",
              "      <td>Select the country you currently live in.</td>\n",
              "      <td>All</td>\n",
              "    </tr>\n",
              "    <tr>\n",
              "      <th>3</th>\n",
              "      <td>Age</td>\n",
              "      <td>What's your age?</td>\n",
              "      <td>All</td>\n",
              "    </tr>\n",
              "    <tr>\n",
              "      <th>4</th>\n",
              "      <td>EmploymentStatus</td>\n",
              "      <td>What's your current employment status?</td>\n",
              "      <td>All</td>\n",
              "    </tr>\n",
              "  </tbody>\n",
              "</table>\n",
              "</div>"
            ],
            "text/plain": [
              "             Column                                           Question Asked\n",
              "0      GenderSelect     Select your gender identity. - Selected Choice   All\n",
              "1    GenderFreeForm  Select your gender identity. - A different ide...   All\n",
              "2           Country          Select the country you currently live in.   All\n",
              "3               Age                                   What's your age?   All\n",
              "4  EmploymentStatus             What's your current employment status?   All"
            ]
          },
          "metadata": {
            "tags": []
          },
          "execution_count": 6
        }
      ]
    },
    {
      "cell_type": "code",
      "metadata": {
        "colab": {
          "base_uri": "https://localhost:8080/"
        },
        "id": "yIF_j2eCyWPM",
        "outputId": "536ac5c6-def3-4a7e-f430-24b45e29f35b"
      },
      "source": [
        "question.info()"
      ],
      "execution_count": 7,
      "outputs": [
        {
          "output_type": "stream",
          "text": [
            "<class 'pandas.core.frame.DataFrame'>\n",
            "RangeIndex: 290 entries, 0 to 289\n",
            "Data columns (total 3 columns):\n",
            " #   Column    Non-Null Count  Dtype \n",
            "---  ------    --------------  ----- \n",
            " 0   Column    290 non-null    object\n",
            " 1   Question  290 non-null    object\n",
            " 2   Asked     290 non-null    object\n",
            "dtypes: object(3)\n",
            "memory usage: 6.9+ KB\n"
          ],
          "name": "stdout"
        }
      ]
    },
    {
      "cell_type": "code",
      "metadata": {
        "colab": {
          "base_uri": "https://localhost:8080/",
          "height": 487
        },
        "id": "x5-K3CIyyY8j",
        "outputId": "dbde462c-255e-4f8f-ba87-be8988d20c56"
      },
      "source": [
        "mcq = pd.read_csv('/content/multipleChoiceResponses.csv', encoding=\"ISO-8859-1\", low_memory=False)\n",
        "mcq.head()"
      ],
      "execution_count": 10,
      "outputs": [
        {
          "output_type": "execute_result",
          "data": {
            "text/html": [
              "<div>\n",
              "<style scoped>\n",
              "    .dataframe tbody tr th:only-of-type {\n",
              "        vertical-align: middle;\n",
              "    }\n",
              "\n",
              "    .dataframe tbody tr th {\n",
              "        vertical-align: top;\n",
              "    }\n",
              "\n",
              "    .dataframe thead th {\n",
              "        text-align: right;\n",
              "    }\n",
              "</style>\n",
              "<table border=\"1\" class=\"dataframe\">\n",
              "  <thead>\n",
              "    <tr style=\"text-align: right;\">\n",
              "      <th></th>\n",
              "      <th>GenderSelect</th>\n",
              "      <th>Country</th>\n",
              "      <th>Age</th>\n",
              "      <th>EmploymentStatus</th>\n",
              "      <th>StudentStatus</th>\n",
              "      <th>LearningDataScience</th>\n",
              "      <th>CodeWriter</th>\n",
              "      <th>CareerSwitcher</th>\n",
              "      <th>CurrentJobTitleSelect</th>\n",
              "      <th>TitleFit</th>\n",
              "      <th>CurrentEmployerType</th>\n",
              "      <th>MLToolNextYearSelect</th>\n",
              "      <th>MLMethodNextYearSelect</th>\n",
              "      <th>LanguageRecommendationSelect</th>\n",
              "      <th>PublicDatasetsSelect</th>\n",
              "      <th>LearningPlatformSelect</th>\n",
              "      <th>LearningPlatformUsefulnessArxiv</th>\n",
              "      <th>LearningPlatformUsefulnessBlogs</th>\n",
              "      <th>LearningPlatformUsefulnessCollege</th>\n",
              "      <th>LearningPlatformUsefulnessCompany</th>\n",
              "      <th>LearningPlatformUsefulnessConferences</th>\n",
              "      <th>LearningPlatformUsefulnessFriends</th>\n",
              "      <th>LearningPlatformUsefulnessKaggle</th>\n",
              "      <th>LearningPlatformUsefulnessNewsletters</th>\n",
              "      <th>LearningPlatformUsefulnessCommunities</th>\n",
              "      <th>LearningPlatformUsefulnessDocumentation</th>\n",
              "      <th>LearningPlatformUsefulnessCourses</th>\n",
              "      <th>LearningPlatformUsefulnessProjects</th>\n",
              "      <th>LearningPlatformUsefulnessPodcasts</th>\n",
              "      <th>LearningPlatformUsefulnessSO</th>\n",
              "      <th>LearningPlatformUsefulnessTextbook</th>\n",
              "      <th>LearningPlatformUsefulnessTradeBook</th>\n",
              "      <th>LearningPlatformUsefulnessTutoring</th>\n",
              "      <th>LearningPlatformUsefulnessYouTube</th>\n",
              "      <th>BlogsPodcastsNewslettersSelect</th>\n",
              "      <th>LearningDataScienceTime</th>\n",
              "      <th>JobSkillImportanceBigData</th>\n",
              "      <th>JobSkillImportanceDegree</th>\n",
              "      <th>JobSkillImportanceStats</th>\n",
              "      <th>JobSkillImportanceEnterpriseTools</th>\n",
              "      <th>...</th>\n",
              "      <th>WorkChallengeFrequencyITCoordination</th>\n",
              "      <th>WorkChallengeFrequencyHiringFunds</th>\n",
              "      <th>WorkChallengeFrequencyPrivacy</th>\n",
              "      <th>WorkChallengeFrequencyScaling</th>\n",
              "      <th>WorkChallengeFrequencyEnvironments</th>\n",
              "      <th>WorkChallengeFrequencyClarity</th>\n",
              "      <th>WorkChallengeFrequencyDataAccess</th>\n",
              "      <th>WorkChallengeFrequencyOtherSelect</th>\n",
              "      <th>WorkDataVisualizations</th>\n",
              "      <th>WorkInternalVsExternalTools</th>\n",
              "      <th>WorkMLTeamSeatSelect</th>\n",
              "      <th>WorkDatasets</th>\n",
              "      <th>WorkDatasetsChallenge</th>\n",
              "      <th>WorkDataStorage</th>\n",
              "      <th>WorkDataSharing</th>\n",
              "      <th>WorkDataSourcing</th>\n",
              "      <th>WorkCodeSharing</th>\n",
              "      <th>RemoteWork</th>\n",
              "      <th>CompensationAmount</th>\n",
              "      <th>CompensationCurrency</th>\n",
              "      <th>SalaryChange</th>\n",
              "      <th>JobSatisfaction</th>\n",
              "      <th>JobSearchResource</th>\n",
              "      <th>JobHuntTime</th>\n",
              "      <th>JobFactorLearning</th>\n",
              "      <th>JobFactorSalary</th>\n",
              "      <th>JobFactorOffice</th>\n",
              "      <th>JobFactorLanguages</th>\n",
              "      <th>JobFactorCommute</th>\n",
              "      <th>JobFactorManagement</th>\n",
              "      <th>JobFactorExperienceLevel</th>\n",
              "      <th>JobFactorDepartment</th>\n",
              "      <th>JobFactorTitle</th>\n",
              "      <th>JobFactorCompanyFunding</th>\n",
              "      <th>JobFactorImpact</th>\n",
              "      <th>JobFactorRemote</th>\n",
              "      <th>JobFactorIndustry</th>\n",
              "      <th>JobFactorLeaderReputation</th>\n",
              "      <th>JobFactorDiversity</th>\n",
              "      <th>JobFactorPublishingOpportunity</th>\n",
              "    </tr>\n",
              "  </thead>\n",
              "  <tbody>\n",
              "    <tr>\n",
              "      <th>0</th>\n",
              "      <td>Non-binary, genderqueer, or gender non-conforming</td>\n",
              "      <td>NaN</td>\n",
              "      <td>NaN</td>\n",
              "      <td>Employed full-time</td>\n",
              "      <td>NaN</td>\n",
              "      <td>NaN</td>\n",
              "      <td>Yes</td>\n",
              "      <td>NaN</td>\n",
              "      <td>DBA/Database Engineer</td>\n",
              "      <td>Fine</td>\n",
              "      <td>Employed by a company that doesn't perform adv...</td>\n",
              "      <td>SAS Base</td>\n",
              "      <td>Random Forests</td>\n",
              "      <td>F#</td>\n",
              "      <td>Dataset aggregator/platform (i.e. Socrata/Kagg...</td>\n",
              "      <td>College/University,Conferences,Podcasts,Trade ...</td>\n",
              "      <td>NaN</td>\n",
              "      <td>NaN</td>\n",
              "      <td>NaN</td>\n",
              "      <td>NaN</td>\n",
              "      <td>Very useful</td>\n",
              "      <td>NaN</td>\n",
              "      <td>NaN</td>\n",
              "      <td>NaN</td>\n",
              "      <td>NaN</td>\n",
              "      <td>NaN</td>\n",
              "      <td>NaN</td>\n",
              "      <td>NaN</td>\n",
              "      <td>Very useful</td>\n",
              "      <td>NaN</td>\n",
              "      <td>NaN</td>\n",
              "      <td>Somewhat useful</td>\n",
              "      <td>NaN</td>\n",
              "      <td>NaN</td>\n",
              "      <td>Becoming a Data Scientist Podcast,Data Machina...</td>\n",
              "      <td>NaN</td>\n",
              "      <td>NaN</td>\n",
              "      <td>NaN</td>\n",
              "      <td>NaN</td>\n",
              "      <td>NaN</td>\n",
              "      <td>...</td>\n",
              "      <td>NaN</td>\n",
              "      <td>NaN</td>\n",
              "      <td>Often</td>\n",
              "      <td>Most of the time</td>\n",
              "      <td>NaN</td>\n",
              "      <td>NaN</td>\n",
              "      <td>NaN</td>\n",
              "      <td>NaN</td>\n",
              "      <td>26-50% of projects</td>\n",
              "      <td>Do not know</td>\n",
              "      <td>Standalone Team</td>\n",
              "      <td>NaN</td>\n",
              "      <td>NaN</td>\n",
              "      <td>Document-oriented (e.g. MongoDB/Elasticsearch)...</td>\n",
              "      <td>Company Developed Platform,I don't typically s...</td>\n",
              "      <td>NaN</td>\n",
              "      <td>Mercurial,Subversion,Other</td>\n",
              "      <td>Always</td>\n",
              "      <td>NaN</td>\n",
              "      <td>NaN</td>\n",
              "      <td>I am not currently employed</td>\n",
              "      <td>5</td>\n",
              "      <td>NaN</td>\n",
              "      <td>NaN</td>\n",
              "      <td>NaN</td>\n",
              "      <td>NaN</td>\n",
              "      <td>NaN</td>\n",
              "      <td>NaN</td>\n",
              "      <td>NaN</td>\n",
              "      <td>NaN</td>\n",
              "      <td>NaN</td>\n",
              "      <td>NaN</td>\n",
              "      <td>NaN</td>\n",
              "      <td>NaN</td>\n",
              "      <td>NaN</td>\n",
              "      <td>NaN</td>\n",
              "      <td>NaN</td>\n",
              "      <td>NaN</td>\n",
              "      <td>NaN</td>\n",
              "      <td>NaN</td>\n",
              "    </tr>\n",
              "    <tr>\n",
              "      <th>1</th>\n",
              "      <td>Female</td>\n",
              "      <td>United States</td>\n",
              "      <td>30.0</td>\n",
              "      <td>Not employed, but looking for work</td>\n",
              "      <td>NaN</td>\n",
              "      <td>NaN</td>\n",
              "      <td>NaN</td>\n",
              "      <td>NaN</td>\n",
              "      <td>NaN</td>\n",
              "      <td>NaN</td>\n",
              "      <td>NaN</td>\n",
              "      <td>Python</td>\n",
              "      <td>Random Forests</td>\n",
              "      <td>Python</td>\n",
              "      <td>Dataset aggregator/platform (i.e. Socrata/Kagg...</td>\n",
              "      <td>Kaggle</td>\n",
              "      <td>NaN</td>\n",
              "      <td>NaN</td>\n",
              "      <td>NaN</td>\n",
              "      <td>NaN</td>\n",
              "      <td>NaN</td>\n",
              "      <td>NaN</td>\n",
              "      <td>Somewhat useful</td>\n",
              "      <td>NaN</td>\n",
              "      <td>NaN</td>\n",
              "      <td>NaN</td>\n",
              "      <td>NaN</td>\n",
              "      <td>NaN</td>\n",
              "      <td>NaN</td>\n",
              "      <td>NaN</td>\n",
              "      <td>NaN</td>\n",
              "      <td>NaN</td>\n",
              "      <td>NaN</td>\n",
              "      <td>NaN</td>\n",
              "      <td>Becoming a Data Scientist Podcast,Siraj Raval ...</td>\n",
              "      <td>1-2 years</td>\n",
              "      <td>NaN</td>\n",
              "      <td>Nice to have</td>\n",
              "      <td>Unnecessary</td>\n",
              "      <td>NaN</td>\n",
              "      <td>...</td>\n",
              "      <td>NaN</td>\n",
              "      <td>NaN</td>\n",
              "      <td>NaN</td>\n",
              "      <td>NaN</td>\n",
              "      <td>NaN</td>\n",
              "      <td>NaN</td>\n",
              "      <td>NaN</td>\n",
              "      <td>NaN</td>\n",
              "      <td>NaN</td>\n",
              "      <td>NaN</td>\n",
              "      <td>NaN</td>\n",
              "      <td>NaN</td>\n",
              "      <td>NaN</td>\n",
              "      <td>NaN</td>\n",
              "      <td>NaN</td>\n",
              "      <td>NaN</td>\n",
              "      <td>NaN</td>\n",
              "      <td>NaN</td>\n",
              "      <td>NaN</td>\n",
              "      <td>NaN</td>\n",
              "      <td>NaN</td>\n",
              "      <td>NaN</td>\n",
              "      <td>NaN</td>\n",
              "      <td>NaN</td>\n",
              "      <td>NaN</td>\n",
              "      <td>NaN</td>\n",
              "      <td>NaN</td>\n",
              "      <td>NaN</td>\n",
              "      <td>NaN</td>\n",
              "      <td>NaN</td>\n",
              "      <td>NaN</td>\n",
              "      <td>NaN</td>\n",
              "      <td>NaN</td>\n",
              "      <td>NaN</td>\n",
              "      <td>NaN</td>\n",
              "      <td>NaN</td>\n",
              "      <td>NaN</td>\n",
              "      <td>Somewhat important</td>\n",
              "      <td>NaN</td>\n",
              "      <td>NaN</td>\n",
              "    </tr>\n",
              "    <tr>\n",
              "      <th>2</th>\n",
              "      <td>Male</td>\n",
              "      <td>Canada</td>\n",
              "      <td>28.0</td>\n",
              "      <td>Not employed, but looking for work</td>\n",
              "      <td>NaN</td>\n",
              "      <td>NaN</td>\n",
              "      <td>NaN</td>\n",
              "      <td>NaN</td>\n",
              "      <td>NaN</td>\n",
              "      <td>NaN</td>\n",
              "      <td>NaN</td>\n",
              "      <td>Amazon Web services</td>\n",
              "      <td>Deep learning</td>\n",
              "      <td>R</td>\n",
              "      <td>Dataset aggregator/platform (i.e. Socrata/Kagg...</td>\n",
              "      <td>Arxiv,College/University,Kaggle,Online courses...</td>\n",
              "      <td>Very useful</td>\n",
              "      <td>NaN</td>\n",
              "      <td>Somewhat useful</td>\n",
              "      <td>NaN</td>\n",
              "      <td>NaN</td>\n",
              "      <td>NaN</td>\n",
              "      <td>Somewhat useful</td>\n",
              "      <td>NaN</td>\n",
              "      <td>NaN</td>\n",
              "      <td>NaN</td>\n",
              "      <td>Very useful</td>\n",
              "      <td>NaN</td>\n",
              "      <td>NaN</td>\n",
              "      <td>NaN</td>\n",
              "      <td>NaN</td>\n",
              "      <td>NaN</td>\n",
              "      <td>NaN</td>\n",
              "      <td>Very useful</td>\n",
              "      <td>FastML Blog,No Free Hunch Blog,Talking Machine...</td>\n",
              "      <td>1-2 years</td>\n",
              "      <td>Necessary</td>\n",
              "      <td>NaN</td>\n",
              "      <td>NaN</td>\n",
              "      <td>NaN</td>\n",
              "      <td>...</td>\n",
              "      <td>NaN</td>\n",
              "      <td>NaN</td>\n",
              "      <td>NaN</td>\n",
              "      <td>NaN</td>\n",
              "      <td>NaN</td>\n",
              "      <td>NaN</td>\n",
              "      <td>NaN</td>\n",
              "      <td>NaN</td>\n",
              "      <td>NaN</td>\n",
              "      <td>NaN</td>\n",
              "      <td>NaN</td>\n",
              "      <td>NaN</td>\n",
              "      <td>NaN</td>\n",
              "      <td>NaN</td>\n",
              "      <td>NaN</td>\n",
              "      <td>NaN</td>\n",
              "      <td>NaN</td>\n",
              "      <td>NaN</td>\n",
              "      <td>NaN</td>\n",
              "      <td>NaN</td>\n",
              "      <td>NaN</td>\n",
              "      <td>NaN</td>\n",
              "      <td>Asking friends, family members, or former coll...</td>\n",
              "      <td>1-2</td>\n",
              "      <td>Very Important</td>\n",
              "      <td>Very Important</td>\n",
              "      <td>Very Important</td>\n",
              "      <td>Very Important</td>\n",
              "      <td>Very Important</td>\n",
              "      <td>Very Important</td>\n",
              "      <td>Very Important</td>\n",
              "      <td>Very Important</td>\n",
              "      <td>Very Important</td>\n",
              "      <td>Very Important</td>\n",
              "      <td>Very Important</td>\n",
              "      <td>Very Important</td>\n",
              "      <td>Very Important</td>\n",
              "      <td>Very Important</td>\n",
              "      <td>Very Important</td>\n",
              "      <td>Very Important</td>\n",
              "    </tr>\n",
              "    <tr>\n",
              "      <th>3</th>\n",
              "      <td>Male</td>\n",
              "      <td>United States</td>\n",
              "      <td>56.0</td>\n",
              "      <td>Independent contractor, freelancer, or self-em...</td>\n",
              "      <td>NaN</td>\n",
              "      <td>NaN</td>\n",
              "      <td>Yes</td>\n",
              "      <td>NaN</td>\n",
              "      <td>Operations Research Practitioner</td>\n",
              "      <td>Poorly</td>\n",
              "      <td>Self-employed</td>\n",
              "      <td>TensorFlow</td>\n",
              "      <td>Neural Nets</td>\n",
              "      <td>Python</td>\n",
              "      <td>I collect my own data (e.g. web-scraping)</td>\n",
              "      <td>Blogs,College/University,Conferences,Friends n...</td>\n",
              "      <td>NaN</td>\n",
              "      <td>Very useful</td>\n",
              "      <td>Very useful</td>\n",
              "      <td>NaN</td>\n",
              "      <td>Very useful</td>\n",
              "      <td>Very useful</td>\n",
              "      <td>NaN</td>\n",
              "      <td>NaN</td>\n",
              "      <td>NaN</td>\n",
              "      <td>Very useful</td>\n",
              "      <td>Very useful</td>\n",
              "      <td>Very useful</td>\n",
              "      <td>NaN</td>\n",
              "      <td>NaN</td>\n",
              "      <td>NaN</td>\n",
              "      <td>NaN</td>\n",
              "      <td>NaN</td>\n",
              "      <td>NaN</td>\n",
              "      <td>KDnuggets Blog</td>\n",
              "      <td>NaN</td>\n",
              "      <td>NaN</td>\n",
              "      <td>NaN</td>\n",
              "      <td>NaN</td>\n",
              "      <td>NaN</td>\n",
              "      <td>...</td>\n",
              "      <td>NaN</td>\n",
              "      <td>Often</td>\n",
              "      <td>Often</td>\n",
              "      <td>Often</td>\n",
              "      <td>Often</td>\n",
              "      <td>Often</td>\n",
              "      <td>Often</td>\n",
              "      <td>NaN</td>\n",
              "      <td>100% of projects</td>\n",
              "      <td>Entirely internal</td>\n",
              "      <td>Standalone Team</td>\n",
              "      <td>Electricity data sets from government and states</td>\n",
              "      <td>Everything is custom, there is never a tool th...</td>\n",
              "      <td>Column-oriented relational (e.g. KDB/MariaDB),...</td>\n",
              "      <td>Company Developed Platform,Email</td>\n",
              "      <td>NaN</td>\n",
              "      <td>Generic cloud file sharing software (Dropbox/B...</td>\n",
              "      <td>NaN</td>\n",
              "      <td>250,000</td>\n",
              "      <td>USD</td>\n",
              "      <td>Has increased 20% or more</td>\n",
              "      <td>10 - Highly Satisfied</td>\n",
              "      <td>NaN</td>\n",
              "      <td>NaN</td>\n",
              "      <td>NaN</td>\n",
              "      <td>NaN</td>\n",
              "      <td>NaN</td>\n",
              "      <td>NaN</td>\n",
              "      <td>NaN</td>\n",
              "      <td>NaN</td>\n",
              "      <td>NaN</td>\n",
              "      <td>NaN</td>\n",
              "      <td>NaN</td>\n",
              "      <td>NaN</td>\n",
              "      <td>NaN</td>\n",
              "      <td>NaN</td>\n",
              "      <td>NaN</td>\n",
              "      <td>NaN</td>\n",
              "      <td>NaN</td>\n",
              "      <td>NaN</td>\n",
              "    </tr>\n",
              "    <tr>\n",
              "      <th>4</th>\n",
              "      <td>Male</td>\n",
              "      <td>Taiwan</td>\n",
              "      <td>38.0</td>\n",
              "      <td>Employed full-time</td>\n",
              "      <td>NaN</td>\n",
              "      <td>NaN</td>\n",
              "      <td>Yes</td>\n",
              "      <td>NaN</td>\n",
              "      <td>Computer Scientist</td>\n",
              "      <td>Fine</td>\n",
              "      <td>Employed by a company that doesn't perform adv...</td>\n",
              "      <td>TensorFlow</td>\n",
              "      <td>Text Mining</td>\n",
              "      <td>Python</td>\n",
              "      <td>GitHub</td>\n",
              "      <td>Arxiv,Conferences,Kaggle,Textbook</td>\n",
              "      <td>Very useful</td>\n",
              "      <td>NaN</td>\n",
              "      <td>NaN</td>\n",
              "      <td>NaN</td>\n",
              "      <td>Somewhat useful</td>\n",
              "      <td>NaN</td>\n",
              "      <td>Somewhat useful</td>\n",
              "      <td>NaN</td>\n",
              "      <td>NaN</td>\n",
              "      <td>NaN</td>\n",
              "      <td>NaN</td>\n",
              "      <td>NaN</td>\n",
              "      <td>NaN</td>\n",
              "      <td>NaN</td>\n",
              "      <td>Somewhat useful</td>\n",
              "      <td>NaN</td>\n",
              "      <td>NaN</td>\n",
              "      <td>NaN</td>\n",
              "      <td>Data Machina Newsletter,Jack's Import AI Newsl...</td>\n",
              "      <td>NaN</td>\n",
              "      <td>NaN</td>\n",
              "      <td>NaN</td>\n",
              "      <td>NaN</td>\n",
              "      <td>NaN</td>\n",
              "      <td>...</td>\n",
              "      <td>Sometimes</td>\n",
              "      <td>NaN</td>\n",
              "      <td>Most of the time</td>\n",
              "      <td>NaN</td>\n",
              "      <td>Sometimes</td>\n",
              "      <td>NaN</td>\n",
              "      <td>NaN</td>\n",
              "      <td>NaN</td>\n",
              "      <td>10-25% of projects</td>\n",
              "      <td>Approximately half internal and half external</td>\n",
              "      <td>Business Department</td>\n",
              "      <td>NaN</td>\n",
              "      <td>NaN</td>\n",
              "      <td>Flat files not in a database or cache (e.g. CS...</td>\n",
              "      <td>Company Developed Platform</td>\n",
              "      <td>NaN</td>\n",
              "      <td>Git</td>\n",
              "      <td>Rarely</td>\n",
              "      <td>NaN</td>\n",
              "      <td>NaN</td>\n",
              "      <td>I do not want to share information about my sa...</td>\n",
              "      <td>2</td>\n",
              "      <td>NaN</td>\n",
              "      <td>NaN</td>\n",
              "      <td>NaN</td>\n",
              "      <td>NaN</td>\n",
              "      <td>NaN</td>\n",
              "      <td>NaN</td>\n",
              "      <td>NaN</td>\n",
              "      <td>NaN</td>\n",
              "      <td>NaN</td>\n",
              "      <td>NaN</td>\n",
              "      <td>NaN</td>\n",
              "      <td>NaN</td>\n",
              "      <td>NaN</td>\n",
              "      <td>NaN</td>\n",
              "      <td>NaN</td>\n",
              "      <td>NaN</td>\n",
              "      <td>NaN</td>\n",
              "      <td>NaN</td>\n",
              "    </tr>\n",
              "  </tbody>\n",
              "</table>\n",
              "<p>5 rows × 228 columns</p>\n",
              "</div>"
            ],
            "text/plain": [
              "                                        GenderSelect  ... JobFactorPublishingOpportunity\n",
              "0  Non-binary, genderqueer, or gender non-conforming  ...                            NaN\n",
              "1                                             Female  ...                            NaN\n",
              "2                                               Male  ...                 Very Important\n",
              "3                                               Male  ...                            NaN\n",
              "4                                               Male  ...                            NaN\n",
              "\n",
              "[5 rows x 228 columns]"
            ]
          },
          "metadata": {
            "tags": []
          },
          "execution_count": 10
        }
      ]
    },
    {
      "cell_type": "code",
      "metadata": {
        "colab": {
          "base_uri": "https://localhost:8080/"
        },
        "id": "V1F03DB_ygHo",
        "outputId": "085e89ca-7a67-4afd-c698-ddac61424950"
      },
      "source": [
        "mcq.shape"
      ],
      "execution_count": 12,
      "outputs": [
        {
          "output_type": "execute_result",
          "data": {
            "text/plain": [
              "(16716, 228)"
            ]
          },
          "metadata": {
            "tags": []
          },
          "execution_count": 12
        }
      ]
    },
    {
      "cell_type": "code",
      "metadata": {
        "colab": {
          "base_uri": "https://localhost:8080/",
          "height": 297
        },
        "id": "1ZmEmDcQyrKA",
        "outputId": "607ba445-8b68-4cde-9f00-6a51be95aff0"
      },
      "source": [
        "sns.countplot(y='LanguageRecommendationSelect', data=mcq)"
      ],
      "execution_count": 13,
      "outputs": [
        {
          "output_type": "execute_result",
          "data": {
            "text/plain": [
              "<matplotlib.axes._subplots.AxesSubplot at 0x7f7869c66950>"
            ]
          },
          "metadata": {
            "tags": []
          },
          "execution_count": 13
        },
        {
          "output_type": "display_data",
          "data": {
            "image/png": "[encoded data removed]",
            "text/plain": [
              "<Figure size 432x288 with 1 Axes>"
            ]
          },
          "metadata": {
            "tags": [],
            "needs_background": "light"
          }
        }
      ]
    },
    {
      "cell_type": "markdown",
      "metadata": {
        "id": "Uyx6e4LWzAa7"
      },
      "source": [
        "파이썬을 명확하게 선호하고 있음을 알 수 있음"
      ]
    },
    {
      "cell_type": "code",
      "metadata": {
        "colab": {
          "base_uri": "https://localhost:8080/",
          "height": 297
        },
        "id": "74XHScwfy-tz",
        "outputId": "60d10f0e-9bf0-4bcc-fa60-8a68b5c4739b"
      },
      "source": [
        "# 현재 하고 있는 일\n",
        "\n",
        "sns.countplot(y='CurrentJobTitleSelect', data=mcq)"
      ],
      "execution_count": 14,
      "outputs": [
        {
          "output_type": "execute_result",
          "data": {
            "text/plain": [
              "<matplotlib.axes._subplots.AxesSubplot at 0x7f7869b4e410>"
            ]
          },
          "metadata": {
            "tags": []
          },
          "execution_count": 14
        },
        {
          "output_type": "display_data",
          "data": {
            "image/png": "[encoded data removed]",
            "text/plain": [
              "<Figure size 432x288 with 1 Axes>"
            ]
          },
          "metadata": {
            "tags": [],
            "needs_background": "light"
          }
        }
      ]
    },
    {
      "cell_type": "markdown",
      "metadata": {
        "id": "6y1qWtuyzTBF"
      },
      "source": [
        "data scientist가 가장 많고 그 뒤로 software developer와 data analyst가 뒤를 잇는다."
      ]
    },
    {
      "cell_type": "code",
      "metadata": {
        "colab": {
          "base_uri": "https://localhost:8080/"
        },
        "id": "cP3lCD4-zR0O",
        "outputId": "8a8e30c2-77dd-495e-fd98-22ac39d361bc"
      },
      "source": [
        "# 현재 하고 있는 일에 대한 전체 응답수\n",
        "\n",
        "mcq[mcq['CurrentJobTitleSelect'].notnull()]['CurrentJobTitleSelect'].shape\n",
        "\n",
        "\n",
        "# mcq[mcq['CurrentJobTitleSelect'].notnull()] 은 CurrentJobTitleSelect에서 null값이 없는 값들만 가져온다.\n",
        "# mcq[mcq['CurrentJobTitleSelect'].notnull()]['CurrentJobTitleSelect'].shape 를 붙여주어 null값이 없는 CurrentJobTitleSelect의 shape을 도출한다."
      ],
      "execution_count": 20,
      "outputs": [
        {
          "output_type": "execute_result",
          "data": {
            "text/plain": [
              "(11830,)"
            ]
          },
          "metadata": {
            "tags": []
          },
          "execution_count": 20
        }
      ]
    },
    {
      "cell_type": "code",
      "metadata": {
        "colab": {
          "base_uri": "https://localhost:8080/",
          "height": 624
        },
        "id": "YsSyQDjQzqw3",
        "outputId": "4feff785-f5e2-4617-a46a-c1a82c170b62"
      },
      "source": [
        "# 현재 하고있는 일에 대한 응답을 해준 사람 중 python과 r을 사용하는 사람 알아보기\n",
        "# 응답자들이 실제 업무에서 어떤 언어를 주로 사용하는 지 알아볼 수 있다.\n",
        "\n",
        "data = mcq[(mcq['CurrentJobTitleSelect'].notnull()) & \n",
        "           ((mcq['LanguageRecommendationSelect'] == 'Python') |\n",
        "           (mcq['LanguageRecommendationSelect'] == 'R'))]\n",
        "\n",
        "# mcq['CurrentJobTitleSelect'].notnull() = CurrentJobTitleSelect에서 널값이 없는 값만 추출하고 그 중에서\n",
        "# (mcq['LanguageRecommendationSelect'] == 'Python') | (mcq['LanguageRecommendationSelect'] == 'R') - LanguageRecommendationSelect에서 파이썬 또는 R 값을 추출\n",
        "\n",
        "data.shape\n",
        "\n",
        "plt.figure(figsize=(8, 10))\n",
        "\n",
        "sns.countplot(y='CurrentJobTitleSelect', hue='LanguageRecommendationSelect', data=data)\n",
        "# hue 옵션을 사용하여 파이썬과 r을 구분지어 보여준다."
      ],
      "execution_count": 30,
      "outputs": [
        {
          "output_type": "execute_result",
          "data": {
            "text/plain": [
              "<matplotlib.axes._subplots.AxesSubplot at 0x7f786520acd0>"
            ]
          },
          "metadata": {
            "tags": []
          },
          "execution_count": 30
        },
        {
          "output_type": "display_data",
          "data": {
            "image/png": "[encoded data removed]",
            "text/plain": [
              "<Figure size 576x720 with 1 Axes>"
            ]
          },
          "metadata": {
            "tags": [],
            "needs_background": "light"
          }
        }
      ]
    },
    {
      "cell_type": "markdown",
      "metadata": {
        "id": "KkNTqWPU4Qfy"
      },
      "source": [
        "현재 하고 있는 일 응답자 중에서 data scientist들은 python을 압도적으로 많이 사용한다. </br>\n",
        "대부분의 직업에서 python이 많이 사용되며 통계학자의 경우 R이 더 많이 사용된다."
      ]
    },
    {
      "cell_type": "markdown",
      "metadata": {
        "id": "52yFPIOz4rah"
      },
      "source": [
        "# Q2 데이터 사이언스 분야에서 앞으로 크게 주목받을 것은 무엇일까요?\n",
        "- 관련 분야 종사자가 아니더라도 빅데이터, 딥러닝, 뉴럴네트워크 같은 용어에 대해 알고있다.\n",
        "- 응답자들이 내년에 가장 흥미로운 기술이 될 것이라고 응답한 것이다."
      ]
    },
    {
      "cell_type": "markdown",
      "metadata": {
        "id": "LySv0wnc4-lq"
      },
      "source": [
        "### 데이터 사이언스 툴"
      ]
    },
    {
      "cell_type": "code",
      "metadata": {
        "colab": {
          "base_uri": "https://localhost:8080/",
          "height": 665
        },
        "id": "NyWT5ojb2ccf",
        "outputId": "835ebdc0-38a0-4541-997f-283579eb9ed8"
      },
      "source": [
        "mcq_ml_tool_count = pd.DataFrame(\n",
        "    mcq['MLToolNextYearSelect'].value_counts())\n",
        "\n",
        "mcq_ml_tool_percent = pd.DataFrame(\n",
        "    mcq['MLToolNextYearSelect'].value_counts(normalize=True))\n",
        "\n",
        "mcq_ml_tool_df = mcq_ml_tool_count.merge(\n",
        "    mcq_ml_tool_percent, left_index=True, right_index=True).head(20)\n",
        "\n",
        "mcq_ml_tool_df.columns = ['응답 수', '비율']\n",
        "\n",
        "mcq_ml_tool_df"
      ],
      "execution_count": 33,
      "outputs": [
        {
          "output_type": "execute_result",
          "data": {
            "text/html": [
              "<div>\n",
              "<style scoped>\n",
              "    .dataframe tbody tr th:only-of-type {\n",
              "        vertical-align: middle;\n",
              "    }\n",
              "\n",
              "    .dataframe tbody tr th {\n",
              "        vertical-align: top;\n",
              "    }\n",
              "\n",
              "    .dataframe thead th {\n",
              "        text-align: right;\n",
              "    }\n",
              "</style>\n",
              "<table border=\"1\" class=\"dataframe\">\n",
              "  <thead>\n",
              "    <tr style=\"text-align: right;\">\n",
              "      <th></th>\n",
              "      <th>응답 수</th>\n",
              "      <th>비율</th>\n",
              "    </tr>\n",
              "  </thead>\n",
              "  <tbody>\n",
              "    <tr>\n",
              "      <th>TensorFlow</th>\n",
              "      <td>2621</td>\n",
              "      <td>0.238316</td>\n",
              "    </tr>\n",
              "    <tr>\n",
              "      <th>Python</th>\n",
              "      <td>1713</td>\n",
              "      <td>0.155756</td>\n",
              "    </tr>\n",
              "    <tr>\n",
              "      <th>R</th>\n",
              "      <td>910</td>\n",
              "      <td>0.082742</td>\n",
              "    </tr>\n",
              "    <tr>\n",
              "      <th>Spark / MLlib</th>\n",
              "      <td>755</td>\n",
              "      <td>0.068649</td>\n",
              "    </tr>\n",
              "    <tr>\n",
              "      <th>Hadoop/Hive/Pig</th>\n",
              "      <td>417</td>\n",
              "      <td>0.037916</td>\n",
              "    </tr>\n",
              "    <tr>\n",
              "      <th>Other</th>\n",
              "      <td>407</td>\n",
              "      <td>0.037007</td>\n",
              "    </tr>\n",
              "    <tr>\n",
              "      <th>Amazon Machine Learning</th>\n",
              "      <td>392</td>\n",
              "      <td>0.035643</td>\n",
              "    </tr>\n",
              "    <tr>\n",
              "      <th>Jupyter notebooks</th>\n",
              "      <td>358</td>\n",
              "      <td>0.032551</td>\n",
              "    </tr>\n",
              "    <tr>\n",
              "      <th>I don't plan on learning a new tool/technology</th>\n",
              "      <td>341</td>\n",
              "      <td>0.031006</td>\n",
              "    </tr>\n",
              "    <tr>\n",
              "      <th>Google Cloud Compute</th>\n",
              "      <td>296</td>\n",
              "      <td>0.026914</td>\n",
              "    </tr>\n",
              "    <tr>\n",
              "      <th>Amazon Web services</th>\n",
              "      <td>273</td>\n",
              "      <td>0.024823</td>\n",
              "    </tr>\n",
              "    <tr>\n",
              "      <th>Julia</th>\n",
              "      <td>222</td>\n",
              "      <td>0.020185</td>\n",
              "    </tr>\n",
              "    <tr>\n",
              "      <th>Microsoft Azure Machine Learning</th>\n",
              "      <td>220</td>\n",
              "      <td>0.020004</td>\n",
              "    </tr>\n",
              "    <tr>\n",
              "      <th>DataRobot</th>\n",
              "      <td>220</td>\n",
              "      <td>0.020004</td>\n",
              "    </tr>\n",
              "    <tr>\n",
              "      <th>IBM Watson / Waton Analytics</th>\n",
              "      <td>194</td>\n",
              "      <td>0.017640</td>\n",
              "    </tr>\n",
              "    <tr>\n",
              "      <th>C/C++</th>\n",
              "      <td>186</td>\n",
              "      <td>0.016912</td>\n",
              "    </tr>\n",
              "    <tr>\n",
              "      <th>Tableau</th>\n",
              "      <td>150</td>\n",
              "      <td>0.013639</td>\n",
              "    </tr>\n",
              "    <tr>\n",
              "      <th>SQL</th>\n",
              "      <td>138</td>\n",
              "      <td>0.012548</td>\n",
              "    </tr>\n",
              "    <tr>\n",
              "      <th>Java</th>\n",
              "      <td>116</td>\n",
              "      <td>0.010547</td>\n",
              "    </tr>\n",
              "    <tr>\n",
              "      <th>MATLAB/Octave</th>\n",
              "      <td>115</td>\n",
              "      <td>0.010456</td>\n",
              "    </tr>\n",
              "  </tbody>\n",
              "</table>\n",
              "</div>"
            ],
            "text/plain": [
              "                                                응답 수        비율\n",
              "TensorFlow                                      2621  0.238316\n",
              "Python                                          1713  0.155756\n",
              "R                                                910  0.082742\n",
              "Spark / MLlib                                    755  0.068649\n",
              "Hadoop/Hive/Pig                                  417  0.037916\n",
              "Other                                            407  0.037007\n",
              "Amazon Machine Learning                          392  0.035643\n",
              "Jupyter notebooks                                358  0.032551\n",
              "I don't plan on learning a new tool/technology   341  0.031006\n",
              "Google Cloud Compute                             296  0.026914\n",
              "Amazon Web services                              273  0.024823\n",
              "Julia                                            222  0.020185\n",
              "Microsoft Azure Machine Learning                 220  0.020004\n",
              "DataRobot                                        220  0.020004\n",
              "IBM Watson / Waton Analytics                     194  0.017640\n",
              "C/C++                                            186  0.016912\n",
              "Tableau                                          150  0.013639\n",
              "SQL                                              138  0.012548\n",
              "Java                                             116  0.010547\n",
              "MATLAB/Octave                                    115  0.010456"
            ]
          },
          "metadata": {
            "tags": []
          },
          "execution_count": 33
        }
      ]
    },
    {
      "cell_type": "code",
      "metadata": {
        "colab": {
          "base_uri": "https://localhost:8080/",
          "height": 297
        },
        "id": "JMO1LFKX5z_Q",
        "outputId": "6517600c-72d9-4977-d095-fd111803e4ca"
      },
      "source": [
        "data = mcq['MLToolNextYearSelect'].value_counts().head(20)\n",
        "\n",
        "sns.barplot(y=data.index, x=data)"
      ],
      "execution_count": 35,
      "outputs": [
        {
          "output_type": "execute_result",
          "data": {
            "text/plain": [
              "<matplotlib.axes._subplots.AxesSubplot at 0x7f7863cb0f10>"
            ]
          },
          "metadata": {
            "tags": []
          },
          "execution_count": 35
        },
        {
          "output_type": "display_data",
          "data": {
            "image/png": "[encoded data removed]",
            "text/plain": [
              "<Figure size 432x288 with 1 Axes>"
            ]
          },
          "metadata": {
            "tags": [],
            "needs_background": "light"
          }
        }
      ]
    },
    {
      "cell_type": "markdown",
      "metadata": {
        "id": "b22lSOPu6lM4"
      },
      "source": [
        "구글의 딥러닝 프레임워크인 Tensorflow가 23%로 가장 많은 관심을 받을 것이라고 예상함 </br>\n",
        "그 뒤로 python과 r이 뒤를 이었다."
      ]
    },
    {
      "cell_type": "markdown",
      "metadata": {
        "id": "PRu_qFFt62yg"
      },
      "source": [
        "## 다음 해에 주목할 만한 Data Science Methods"
      ]
    },
    {
      "cell_type": "code",
      "metadata": {
        "colab": {
          "base_uri": "https://localhost:8080/",
          "height": 297
        },
        "id": "u_Vfx3ky6N0C",
        "outputId": "bad05de8-0150-48b5-e27a-0760846963e7"
      },
      "source": [
        "data = mcq['MLMethodNextYearSelect'].value_counts().head(15)\n",
        "\n",
        "data\n",
        "\n",
        "sns.barplot(y=data.index, x=data)"
      ],
      "execution_count": 37,
      "outputs": [
        {
          "output_type": "execute_result",
          "data": {
            "text/plain": [
              "<matplotlib.axes._subplots.AxesSubplot at 0x7f7863bfe390>"
            ]
          },
          "metadata": {
            "tags": []
          },
          "execution_count": 37
        },
        {
          "output_type": "display_data",
          "data": {
            "image/png": "[encoded data removed]",
            "text/plain": [
              "<Figure size 432x288 with 1 Axes>"
            ]
          },
          "metadata": {
            "tags": [],
            "needs_background": "light"
          }
        }
      ]
    },
    {
      "cell_type": "markdown",
      "metadata": {
        "id": "8Rj4Po5b7fdA"
      },
      "source": [
        "다음 해에 Deep Learning이 가장 주목할 만하고 그 뒤로 신경망, 시계열분석, 베이지안, 텍스트 마이닝 등이 주목할 만하다고 답했다. "
      ]
    },
    {
      "cell_type": "markdown",
      "metadata": {
        "id": "OuCxAkVU7yE4"
      },
      "source": [
        "#Q3 어딩서 데이터 사이언스를 배워야 할까요?"
      ]
    },
    {
      "cell_type": "code",
      "metadata": {
        "id": "JQlvrLXA7TVB"
      },
      "source": [
        "mcq['LearningPlatformSelect'] = mcq['LearningPlatformSelect'].astype('str').apply(lambda x: x.split(','))\n",
        "# mcq['LearningPlatformSelect'] 의 타입을 str로 바꾸고 apply(lambda x: x.split(',')) 를 이용하여 콤마를 기준으로 구분지었다.\n",
        "\n",
        "s = mcq.apply(\n",
        "    lambda x: pd.Series(x['LearningPlatformSelect']),\n",
        "    axis=1).stack().reset_index(level=1, drop=True)\n",
        "\n",
        "s.name = 'platform'\n"
      ],
      "execution_count": 45,
      "outputs": []
    },
    {
      "cell_type": "code",
      "metadata": {
        "colab": {
          "base_uri": "https://localhost:8080/",
          "height": 514
        },
        "id": "uJbepBlZ8w3C",
        "outputId": "ab91af48-4a20-44bf-af2d-52f6263015e5"
      },
      "source": [
        "plt.figure(figsize=(6, 8))\n",
        "data = s[s != 'nan'].value_counts().head(15)\n",
        "sns.barplot(y=data.index, x=data)"
      ],
      "execution_count": 48,
      "outputs": [
        {
          "output_type": "execute_result",
          "data": {
            "text/plain": [
              "<matplotlib.axes._subplots.AxesSubplot at 0x7f7860ba9250>"
            ]
          },
          "metadata": {
            "tags": []
          },
          "execution_count": 48
        },
        {
          "output_type": "display_data",
          "data": {
            "image/png": "[encoded data removed]",
            "text/plain": [
              "<Figure size 432x576 with 1 Axes>"
            ]
          },
          "metadata": {
            "tags": [],
            "needs_background": "light"
          }
        }
      ]
    },
    {
      "cell_type": "code",
      "metadata": {
        "colab": {
          "base_uri": "https://localhost:8080/",
          "height": 282
        },
        "id": "vOIrG-SX-g0m",
        "outputId": "38c5c9c2-259b-41a3-b725-ba1cfe28571d"
      },
      "source": [
        "# 설문내용과 누구에게 물어봤는지 알아보기\n",
        "\n",
        "qc = question.loc[question['Column'].str.contains('LearningCategory')]\n",
        "print(qc.shape)\n",
        "qc"
      ],
      "execution_count": 52,
      "outputs": [
        {
          "output_type": "stream",
          "text": [
            "(7, 3)\n"
          ],
          "name": "stdout"
        },
        {
          "output_type": "execute_result",
          "data": {
            "text/html": [
              "<div>\n",
              "<style scoped>\n",
              "    .dataframe tbody tr th:only-of-type {\n",
              "        vertical-align: middle;\n",
              "    }\n",
              "\n",
              "    .dataframe tbody tr th {\n",
              "        vertical-align: top;\n",
              "    }\n",
              "\n",
              "    .dataframe thead th {\n",
              "        text-align: right;\n",
              "    }\n",
              "</style>\n",
              "<table border=\"1\" class=\"dataframe\">\n",
              "  <thead>\n",
              "    <tr style=\"text-align: right;\">\n",
              "      <th></th>\n",
              "      <th>Column</th>\n",
              "      <th>Question</th>\n",
              "      <th>Asked</th>\n",
              "    </tr>\n",
              "  </thead>\n",
              "  <tbody>\n",
              "    <tr>\n",
              "      <th>91</th>\n",
              "      <td>LearningCategorySelftTaught</td>\n",
              "      <td>What percentage of your current machine learni...</td>\n",
              "      <td>All</td>\n",
              "    </tr>\n",
              "    <tr>\n",
              "      <th>92</th>\n",
              "      <td>LearningCategoryOnlineCourses</td>\n",
              "      <td>What percentage of your current machine learni...</td>\n",
              "      <td>All</td>\n",
              "    </tr>\n",
              "    <tr>\n",
              "      <th>93</th>\n",
              "      <td>LearningCategoryWork</td>\n",
              "      <td>What percentage of your current machine learni...</td>\n",
              "      <td>All</td>\n",
              "    </tr>\n",
              "    <tr>\n",
              "      <th>94</th>\n",
              "      <td>LearningCategoryUniversity</td>\n",
              "      <td>What percentage of your current machine learni...</td>\n",
              "      <td>All</td>\n",
              "    </tr>\n",
              "    <tr>\n",
              "      <th>95</th>\n",
              "      <td>LearningCategoryKaggle</td>\n",
              "      <td>What percentage of your current machine learni...</td>\n",
              "      <td>All</td>\n",
              "    </tr>\n",
              "    <tr>\n",
              "      <th>96</th>\n",
              "      <td>LearningCategoryOther</td>\n",
              "      <td>What percentage of your current machine learni...</td>\n",
              "      <td>All</td>\n",
              "    </tr>\n",
              "    <tr>\n",
              "      <th>97</th>\n",
              "      <td>LearningCategoryOtherFreeForm</td>\n",
              "      <td>What percentage of your current machine learni...</td>\n",
              "      <td>All</td>\n",
              "    </tr>\n",
              "  </tbody>\n",
              "</table>\n",
              "</div>"
            ],
            "text/plain": [
              "                           Column  ... Asked\n",
              "91    LearningCategorySelftTaught  ...   All\n",
              "92  LearningCategoryOnlineCourses  ...   All\n",
              "93           LearningCategoryWork  ...   All\n",
              "94     LearningCategoryUniversity  ...   All\n",
              "95         LearningCategoryKaggle  ...   All\n",
              "96          LearningCategoryOther  ...   All\n",
              "97  LearningCategoryOtherFreeForm  ...   All\n",
              "\n",
              "[7 rows x 3 columns]"
            ]
          },
          "metadata": {
            "tags": []
          },
          "execution_count": 52
        }
      ]
    },
    {
      "cell_type": "code",
      "metadata": {
        "colab": {
          "base_uri": "https://localhost:8080/"
        },
        "id": "mIKvjelM_Eyg",
        "outputId": "43f0c031-7cd1-43ef-c380-607bf57a746a"
      },
      "source": [
        "use_features = [x for x in mcq.columns if x.find('LearningPlatformUsefulness') != -1]\n",
        "\n",
        "use_features"
      ],
      "execution_count": 57,
      "outputs": [
        {
          "output_type": "execute_result",
          "data": {
            "text/plain": [
              "['LearningPlatformUsefulnessArxiv',\n",
              " 'LearningPlatformUsefulnessBlogs',\n",
              " 'LearningPlatformUsefulnessCollege',\n",
              " 'LearningPlatformUsefulnessCompany',\n",
              " 'LearningPlatformUsefulnessConferences',\n",
              " 'LearningPlatformUsefulnessFriends',\n",
              " 'LearningPlatformUsefulnessKaggle',\n",
              " 'LearningPlatformUsefulnessNewsletters',\n",
              " 'LearningPlatformUsefulnessCommunities',\n",
              " 'LearningPlatformUsefulnessDocumentation',\n",
              " 'LearningPlatformUsefulnessCourses',\n",
              " 'LearningPlatformUsefulnessProjects',\n",
              " 'LearningPlatformUsefulnessPodcasts',\n",
              " 'LearningPlatformUsefulnessSO',\n",
              " 'LearningPlatformUsefulnessTextbook',\n",
              " 'LearningPlatformUsefulnessTradeBook',\n",
              " 'LearningPlatformUsefulnessTutoring',\n",
              " 'LearningPlatformUsefulnessYouTube']"
            ]
          },
          "metadata": {
            "tags": []
          },
          "execution_count": 57
        }
      ]
    },
    {
      "cell_type": "code",
      "metadata": {
        "colab": {
          "base_uri": "https://localhost:8080/",
          "height": 610
        },
        "id": "k5B07-Hm_sSh",
        "outputId": "0840b985-9c23-4a22-b8b6-97814123dfbf"
      },
      "source": [
        "# 학습플랫폼과 유용함에 대한 연관성을 살펴보기\n",
        "\n",
        "fdf = {}\n",
        "\n",
        "for feature in use_features:\n",
        "  a = mcq[feature].value_counts()\n",
        "  fdf[feature[len('LearningPlatformUsefulness'): ]] = a\n",
        "\n",
        "fdf = pd.DataFrame(fdf).transpose().sort_values('Very useful', ascending=False)\n",
        "\n",
        "# 학습플랫폼들이 얼마나 유용한지에 대한 상관관계를 그려보기\n",
        "plt.figure(figsize=(10, 10))\n",
        "sns.heatmap(\n",
        "    fdf.sort_values('Very useful', ascending=False), annot=True)\n"
      ],
      "execution_count": 65,
      "outputs": [
        {
          "output_type": "execute_result",
          "data": {
            "text/plain": [
              "<matplotlib.axes._subplots.AxesSubplot at 0x7f7863c3c490>"
            ]
          },
          "metadata": {
            "tags": []
          },
          "execution_count": 65
        },
        {
          "output_type": "display_data",
          "data": {
            "image/png": "[encoded data removed]",
            "text/plain": [
              "<Figure size 720x720 with 2 Axes>"
            ]
          },
          "metadata": {
            "tags": [],
            "needs_background": "light"
          }
        }
      ]
    },
    {
      "cell_type": "code",
      "metadata": {
        "colab": {
          "base_uri": "https://localhost:8080/",
          "height": 386
        },
        "id": "5QfuEFvpBsRy",
        "outputId": "f0a7751f-60b1-4f05-900d-80d32a2d626f"
      },
      "source": [
        "# 유용함의 정도를 각 플랫폼 별로 그룹화해 나타내기\n",
        "\n",
        "fdf.plot(kind='bar', figsize=(20, 8),\n",
        "         title='Usefullness of Learning Platform')\n",
        "plt.xticks(rotation=60, ha='right')"
      ],
      "execution_count": 66,
      "outputs": [
        {
          "output_type": "execute_result",
          "data": {
            "text/plain": [
              "(array([ 0,  1,  2,  3,  4,  5,  6,  7,  8,  9, 10, 11, 12, 13, 14, 15, 16,\n",
              "        17]), <a list of 18 Text major ticklabel objects>)"
            ]
          },
          "metadata": {
            "tags": []
          },
          "execution_count": 66
        },
        {
          "output_type": "display_data",
          "data": {
            "image/png": "[encoded data removed]",
            "text/plain": [
              "<Figure size 1440x576 with 1 Axes>"
            ]
          },
          "metadata": {
            "tags": [],
            "needs_background": "light"
          }
        }
      ]
    },
    {
      "cell_type": "markdown",
      "metadata": {
        "id": "wLmn7jNbDHg1"
      },
      "source": [
        "courses, kaggle, projects, SO, youtube가 도움이 많이 되는 편이라고 응답하였다"
      ]
    },
    {
      "cell_type": "code",
      "metadata": {
        "colab": {
          "base_uri": "https://localhost:8080/"
        },
        "id": "5lquxCO6C3jB",
        "outputId": "39d8e8ef-02a7-435d-fe90-4435d679f299"
      },
      "source": [
        "cat_features = [x for x in mcq.columns if x.find('LearningCategory') != -1]\n",
        "\n",
        "cat_features"
      ],
      "execution_count": 67,
      "outputs": [
        {
          "output_type": "execute_result",
          "data": {
            "text/plain": [
              "['LearningCategorySelftTaught',\n",
              " 'LearningCategoryOnlineCourses',\n",
              " 'LearningCategoryWork',\n",
              " 'LearningCategoryUniversity',\n",
              " 'LearningCategoryKaggle',\n",
              " 'LearningCategoryOther']"
            ]
          },
          "metadata": {
            "tags": []
          },
          "execution_count": 67
        }
      ]
    },
    {
      "cell_type": "code",
      "metadata": {
        "colab": {
          "base_uri": "https://localhost:8080/"
        },
        "id": "vX3aKLNFDp3B",
        "outputId": "08903e6c-5678-46d1-b703-686083dd4bdb"
      },
      "source": [
        "cdf = {}\n",
        "\n",
        "for feature in cat_features:\n",
        "  cdf[feature[len('LearningCategory'):]] = mcq[feature].mean()\n",
        "\n",
        "# 파이차트를 그리기 위한 평균값을 구해서 담아주기\n",
        "\n",
        "cdf = pd.Series(cdf)\n",
        "cdf"
      ],
      "execution_count": 69,
      "outputs": [
        {
          "output_type": "execute_result",
          "data": {
            "text/plain": [
              "SelftTaught      33.366771\n",
              "OnlineCourses    27.375514\n",
              "Work             15.217593\n",
              "University       16.988607\n",
              "Kaggle            5.531434\n",
              "Other             1.795940\n",
              "dtype: float64"
            ]
          },
          "metadata": {
            "tags": []
          },
          "execution_count": 69
        }
      ]
    },
    {
      "cell_type": "code",
      "metadata": {
        "colab": {
          "base_uri": "https://localhost:8080/",
          "height": 264
        },
        "id": "i5WUkb8UEDOv",
        "outputId": "b535e708-40b7-4772-c5ea-4a4cf90334b8"
      },
      "source": [
        "# 학습플랫폼 별 도움이 되는 정도를 그려보기\n",
        "plt.pie(cdf, labels=cdf.index,\n",
        "        autopct='%1.1f%%', shadow=True, startangle=140)\n",
        "\n",
        "plt.axis('equal')\n",
        "plt.title('Contribution of each Platform to Learning')\n",
        "plt.show()"
      ],
      "execution_count": 71,
      "outputs": [
        {
          "output_type": "display_data",
          "data": {
            "image/png": "[encoded data removed]",
            "text/plain": [
              "<Figure size 432x288 with 1 Axes>"
            ]
          },
          "metadata": {
            "tags": []
          }
        }
      ]
    },
    {
      "cell_type": "markdown",
      "metadata": {
        "id": "mfUOmVZvFB3V"
      },
      "source": [
        "개인 프로젝트를 해보는 것이 가장 큰 도움이 되었으며, 온라인 코스와 대학, 업무 그 다음으로 캐글을 통해 배웠다고 응답했다."
      ]
    },
    {
      "cell_type": "markdown",
      "metadata": {
        "id": "iDnBBmO2FNsd"
      },
      "source": [
        "# Q4 데이터 과학을 위해 높은 사양의 컴퓨터가 필요한가요?\n"
      ]
    },
    {
      "cell_type": "code",
      "metadata": {
        "colab": {
          "base_uri": "https://localhost:8080/",
          "height": 98
        },
        "id": "00RZYiOwEuTZ",
        "outputId": "4b9b8802-c290-4a7b-9a26-4e3ff5f9d5cb"
      },
      "source": [
        "# 설문 내용과 누구에게 물어봤는지를 찾아보기\n",
        "qc = question.loc[question['Column'].str.contains('HardwarePersonalProjectsSelect')]\n",
        "print(qc.shape)\n",
        "qc"
      ],
      "execution_count": 72,
      "outputs": [
        {
          "output_type": "stream",
          "text": [
            "(1, 3)\n"
          ],
          "name": "stdout"
        },
        {
          "output_type": "execute_result",
          "data": {
            "text/html": [
              "<div>\n",
              "<style scoped>\n",
              "    .dataframe tbody tr th:only-of-type {\n",
              "        vertical-align: middle;\n",
              "    }\n",
              "\n",
              "    .dataframe tbody tr th {\n",
              "        vertical-align: top;\n",
              "    }\n",
              "\n",
              "    .dataframe thead th {\n",
              "        text-align: right;\n",
              "    }\n",
              "</style>\n",
              "<table border=\"1\" class=\"dataframe\">\n",
              "  <thead>\n",
              "    <tr style=\"text-align: right;\">\n",
              "      <th></th>\n",
              "      <th>Column</th>\n",
              "      <th>Question</th>\n",
              "      <th>Asked</th>\n",
              "    </tr>\n",
              "  </thead>\n",
              "  <tbody>\n",
              "    <tr>\n",
              "      <th>74</th>\n",
              "      <td>HardwarePersonalProjectsSelect</td>\n",
              "      <td>Which computing hardware do you use for your p...</td>\n",
              "      <td>Learners</td>\n",
              "    </tr>\n",
              "  </tbody>\n",
              "</table>\n",
              "</div>"
            ],
            "text/plain": [
              "                            Column  ...     Asked\n",
              "74  HardwarePersonalProjectsSelect  ...  Learners\n",
              "\n",
              "[1 rows x 3 columns]"
            ]
          },
          "metadata": {
            "tags": []
          },
          "execution_count": 72
        }
      ]
    },
    {
      "cell_type": "code",
      "metadata": {
        "colab": {
          "base_uri": "https://localhost:8080/"
        },
        "id": "f5KZOoagHTnm",
        "outputId": "9c6baa18-1481-46f2-f535-382655bad1ef"
      },
      "source": [
        "mcq[mcq['HardwarePersonalProjectsSelect'].notnull()]['HardwarePersonalProjectsSelect'].shape\n",
        "\n",
        "# 널값을 제외한 HardwarePersonalProjectsSelect에 대한 질문의 응답은 4206건이다."
      ],
      "execution_count": 73,
      "outputs": [
        {
          "output_type": "execute_result",
          "data": {
            "text/plain": [
              "(4206,)"
            ]
          },
          "metadata": {
            "tags": []
          },
          "execution_count": 73
        }
      ]
    },
    {
      "cell_type": "code",
      "metadata": {
        "id": "3ckRGctrHkto"
      },
      "source": [
        "mcq['HardwarePersonalProjectsSelect'] = mcq['HardwarePersonalProjectsSelect'].astype('str').apply(lambda x: x.split(','))\n",
        "\n",
        "s = mcq.apply(lambda x: pd.Series(x['HardwarePersonalProjectsSelect']), axis=1).stack().reset_index(level=1, drop=True)\n",
        "\n",
        "s.name = 'hardware'"
      ],
      "execution_count": 74,
      "outputs": []
    },
    {
      "cell_type": "code",
      "metadata": {
        "id": "kCHhrQ7xIXGi"
      },
      "source": [
        "s = s[s != 'nan']"
      ],
      "execution_count": 75,
      "outputs": []
    },
    {
      "cell_type": "code",
      "metadata": {
        "colab": {
          "base_uri": "https://localhost:8080/",
          "height": 357
        },
        "id": "xlovz5N1Id1M",
        "outputId": "07fd87d2-123e-4089-c2d8-8d5bb129ed9b"
      },
      "source": [
        "pd.DataFrame(s.value_counts())"
      ],
      "execution_count": 76,
      "outputs": [
        {
          "output_type": "execute_result",
          "data": {
            "text/html": [
              "<div>\n",
              "<style scoped>\n",
              "    .dataframe tbody tr th:only-of-type {\n",
              "        vertical-align: middle;\n",
              "    }\n",
              "\n",
              "    .dataframe tbody tr th {\n",
              "        vertical-align: top;\n",
              "    }\n",
              "\n",
              "    .dataframe thead th {\n",
              "        text-align: right;\n",
              "    }\n",
              "</style>\n",
              "<table border=\"1\" class=\"dataframe\">\n",
              "  <thead>\n",
              "    <tr style=\"text-align: right;\">\n",
              "      <th></th>\n",
              "      <th>hardware</th>\n",
              "    </tr>\n",
              "  </thead>\n",
              "  <tbody>\n",
              "    <tr>\n",
              "      <th>Basic laptop (Macbook)</th>\n",
              "      <td>2246</td>\n",
              "    </tr>\n",
              "    <tr>\n",
              "      <th>Azure</th>\n",
              "      <td>669</td>\n",
              "    </tr>\n",
              "    <tr>\n",
              "      <th>GCE ...)</th>\n",
              "      <td>669</td>\n",
              "    </tr>\n",
              "    <tr>\n",
              "      <th>Laptop + Cloud service (AWS</th>\n",
              "      <td>669</td>\n",
              "    </tr>\n",
              "    <tr>\n",
              "      <th>Gaming Laptop (Laptop + CUDA capable GPU)</th>\n",
              "      <td>641</td>\n",
              "    </tr>\n",
              "    <tr>\n",
              "      <th>Traditional Workstation</th>\n",
              "      <td>527</td>\n",
              "    </tr>\n",
              "    <tr>\n",
              "      <th>Laptop or Workstation and local IT supported servers</th>\n",
              "      <td>445</td>\n",
              "    </tr>\n",
              "    <tr>\n",
              "      <th>GPU accelerated Workstation</th>\n",
              "      <td>416</td>\n",
              "    </tr>\n",
              "    <tr>\n",
              "      <th>Workstation + Cloud service</th>\n",
              "      <td>174</td>\n",
              "    </tr>\n",
              "    <tr>\n",
              "      <th>Other</th>\n",
              "      <td>147</td>\n",
              "    </tr>\n",
              "  </tbody>\n",
              "</table>\n",
              "</div>"
            ],
            "text/plain": [
              "                                                    hardware\n",
              "Basic laptop (Macbook)                                  2246\n",
              " Azure                                                   669\n",
              " GCE ...)                                                669\n",
              "Laptop + Cloud service (AWS                              669\n",
              "Gaming Laptop (Laptop + CUDA capable GPU)                641\n",
              "Traditional Workstation                                  527\n",
              "Laptop or Workstation and local IT supported se...       445\n",
              "GPU accelerated Workstation                              416\n",
              "Workstation + Cloud service                              174\n",
              "Other                                                    147"
            ]
          },
          "metadata": {
            "tags": []
          },
          "execution_count": 76
        }
      ]
    },
    {
      "cell_type": "markdown",
      "metadata": {
        "id": "yxc5n0RkImy0"
      },
      "source": [
        "맥북을 사용하는 응답자가 가장 많았고 랩탑과 함께 클라우드를 사용하는 사람들이 그 다음을 차지하였음</br>\n",
        "적당한 GPU를 가진 게임용 노트북을 사용하는 사례가 그 다음임"
      ]
    },
    {
      "cell_type": "markdown",
      "metadata": {
        "id": "VqM8woxWIz3L"
      },
      "source": [
        "#Q5 데이터 사이언스 공부에 얼마나 많은 시간을 사용하는지?"
      ]
    },
    {
      "cell_type": "code",
      "metadata": {
        "colab": {
          "base_uri": "https://localhost:8080/",
          "height": 496
        },
        "id": "4FoEjFkNIiBq",
        "outputId": "a3ee6e1b-1649-42f0-cce0-eeff0c2f36dc"
      },
      "source": [
        "plt.figure(figsize=(6, 8))\n",
        "sns.countplot(y= 'TimeSpentStudying',\n",
        "              data=mcq,\n",
        "              hue='EmploymentStatus').legend(loc='center left', bbox_to_anchor=(1, 0.5))\n",
        "\n",
        "# .legend(loc='center left', bbox_to_anchor=(1, 0.5))은 범례를 보여주고 위치를 조정하는 역할을 함"
      ],
      "execution_count": 81,
      "outputs": [
        {
          "output_type": "execute_result",
          "data": {
            "text/plain": [
              "<matplotlib.legend.Legend at 0x7f785bcfdf50>"
            ]
          },
          "metadata": {
            "tags": []
          },
          "execution_count": 81
        },
        {
          "output_type": "display_data",
          "data": {
            "image/png": "[encoded data removed]",
            "text/plain": [
              "<Figure size 432x576 with 1 Axes>"
            ]
          },
          "metadata": {
            "tags": [],
            "needs_background": "light"
          }
        }
      ]
    },
    {
      "cell_type": "markdown",
      "metadata": {
        "id": "iFDRek4rKUnr"
      },
      "source": [
        "모두 2 ~ 10시간 공부하는 사람들이 가장 많고 11 ~ 39시간에서 구직자가 가장 많다.</br>\n",
        "\n",
        "하지만 응답자 중 대부분이 풀타임으로 일하는 사람들이라는 점을 고려해봐야 한다. "
      ]
    },
    {
      "cell_type": "code",
      "metadata": {
        "colab": {
          "base_uri": "https://localhost:8080/"
        },
        "id": "lOEL9MbnKC1k",
        "outputId": "de7da2ee-ebde-4ed0-9238-2e72c2a3670a"
      },
      "source": [
        "full_time = mcq.loc[(mcq['EmploymentStatus'] == 'Employed full-time')]\n",
        "print(full_time.shape)\n",
        "\n",
        "looking_for_job = mcq.loc[(\n",
        "    mcq['EmploymentStatus'] == 'Not employed, but looking for work'\n",
        ")]\n",
        "print(looking_for_job.shape)"
      ],
      "execution_count": 83,
      "outputs": [
        {
          "output_type": "stream",
          "text": [
            "(10897, 228)\n",
            "(2110, 228)\n"
          ],
          "name": "stdout"
        }
      ]
    },
    {
      "cell_type": "code",
      "metadata": {
        "colab": {
          "base_uri": "https://localhost:8080/",
          "height": 350
        },
        "id": "9RgNRp9ELOqH",
        "outputId": "6045e806-e7c1-44be-a770-bec47276d831"
      },
      "source": [
        "figuer, (ax1, ax2) = plt.subplots(ncols=2)\n",
        "\n",
        "figuer.set_size_inches(12, 5)\n",
        "sns.countplot(x = 'TimeSpentStudying',\n",
        "              data=full_time,\n",
        "              hue='EmploymentStatus',\n",
        "              ax=ax1).legend(loc='center right',\n",
        "                              bbox_to_anchor=(1,0.5))\n",
        "              \n",
        "sns.countplot(x = 'TimeSpentStudying',\n",
        "              data=looking_for_job,\n",
        "              hue='EmploymentStatus',\n",
        "              ax=ax2).legend(loc='center right',\n",
        "                              bbox_to_anchor=(1,0.5))"
      ],
      "execution_count": 85,
      "outputs": [
        {
          "output_type": "execute_result",
          "data": {
            "text/plain": [
              "<matplotlib.legend.Legend at 0x7f785bb66f10>"
            ]
          },
          "metadata": {
            "tags": []
          },
          "execution_count": 85
        },
        {
          "output_type": "display_data",
          "data": {
            "image/png": "[encoded data removed]",
            "text/plain": [
              "<Figure size 864x360 with 2 Axes>"
            ]
          },
          "metadata": {
            "tags": [],
            "needs_background": "light"
          }
        }
      ]
    },
    {
      "cell_type": "code",
      "metadata": {
        "id": "J7nTBBFFMNCM"
      },
      "source": [
        ""
      ],
      "execution_count": null,
      "outputs": []
    }
  ]
}